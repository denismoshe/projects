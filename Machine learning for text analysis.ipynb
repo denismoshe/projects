{
 "cells": [
  {
   "cell_type": "markdown",
   "metadata": {},
   "source": [
    "# Goods description for interner store"
   ]
  },
  {
   "cell_type": "markdown",
   "metadata": {},
   "source": [
    "The online store \"WikiShop\" is launching a new service. Now users can edit and add product descriptions, similar to how it works in wiki communities. This means that customers can suggest their edits and comment on changes made by others. The store needs a tool that will identify toxic comments and send them for moderation.\n",
    "\n",
    "The goal of this project is to train a model to classify comments as positive or negative. F1 score of the model must be at least 0.75 for evaluation.\n",
    "\n",
    "The data is located in the toxic_comments.csv file. The \"text\" column contains the comment text, and \"toxic\" is the target variable indicating toxicity."
   ]
  },
  {
   "cell_type": "markdown",
   "metadata": {},
   "source": [
    "## Preliminary Data Analysis "
   ]
  },
  {
   "cell_type": "code",
   "execution_count": 1,
   "metadata": {},
   "outputs": [
    {
     "name": "stderr",
     "output_type": "stream",
     "text": [
      "2023-09-04 20:26:56.050746: I tensorflow/core/platform/cpu_feature_guard.cc:182] This TensorFlow binary is optimized to use available CPU instructions in performance-critical operations.\n",
      "To enable the following instructions: AVX2 FMA, in other operations, rebuild TensorFlow with the appropriate compiler flags.\n"
     ]
    }
   ],
   "source": [
    "import matplotlib.pyplot as plt\n",
    "import numpy as np\n",
    "import pandas as pd\n",
    "import random\n",
    "import seaborn as sn\n",
    "\n",
    "from nltk.corpus import stopwords as nltk_stopwords\n",
    "import re\n",
    "from tqdm import tqdm\n",
    "\n",
    "from imblearn.pipeline import Pipeline as imbPipeline\n",
    "from imblearn.over_sampling import RandomOverSampler\n",
    "from imblearn.under_sampling import RandomUnderSampler\n",
    "\n",
    "from sklearn.ensemble import RandomForestClassifier\n",
    "from sklearn.experimental import enable_halving_search_cv   \n",
    "from sklearn.feature_extraction.text import CountVectorizer\n",
    "from sklearn.linear_model import LogisticRegression\n",
    "from sklearn.metrics import f1_score\n",
    "from sklearn.model_selection import GridSearchCV, HalvingGridSearchCV, RandomizedSearchCV, train_test_split\n",
    "from sklearn.pipeline import Pipeline\n",
    "from sklearn.tree import DecisionTreeClassifier\n",
    "\n",
    "from catboost import CatBoostClassifier\n",
    "\n",
    "from pymystem3 import Mystem\n",
    "import spacy\n",
    "\n",
    "import warnings\n",
    "warnings.filterwarnings('ignore')"
   ]
  },
  {
   "cell_type": "code",
   "execution_count": 2,
   "metadata": {},
   "outputs": [],
   "source": [
    "data = pd.read_csv('/Users/mojseenkodenis/Desktop/toxic_comments.csv')"
   ]
  },
  {
   "cell_type": "code",
   "execution_count": 3,
   "metadata": {},
   "outputs": [
    {
     "name": "stdout",
     "output_type": "stream",
     "text": [
      "<class 'pandas.core.frame.DataFrame'>\n",
      "RangeIndex: 159292 entries, 0 to 159291\n",
      "Data columns (total 3 columns):\n",
      " #   Column      Non-Null Count   Dtype \n",
      "---  ------      --------------   ----- \n",
      " 0   Unnamed: 0  159292 non-null  int64 \n",
      " 1   text        159292 non-null  object\n",
      " 2   toxic       159292 non-null  int64 \n",
      "dtypes: int64(2), object(1)\n",
      "memory usage: 3.6+ MB\n"
     ]
    }
   ],
   "source": [
    "data.info()"
   ]
  },
  {
   "cell_type": "code",
   "execution_count": 4,
   "metadata": {},
   "outputs": [
    {
     "data": {
      "text/html": [
       "<div>\n",
       "<style scoped>\n",
       "    .dataframe tbody tr th:only-of-type {\n",
       "        vertical-align: middle;\n",
       "    }\n",
       "\n",
       "    .dataframe tbody tr th {\n",
       "        vertical-align: top;\n",
       "    }\n",
       "\n",
       "    .dataframe thead th {\n",
       "        text-align: right;\n",
       "    }\n",
       "</style>\n",
       "<table border=\"1\" class=\"dataframe\">\n",
       "  <thead>\n",
       "    <tr style=\"text-align: right;\">\n",
       "      <th></th>\n",
       "      <th>Unnamed: 0</th>\n",
       "      <th>text</th>\n",
       "      <th>toxic</th>\n",
       "    </tr>\n",
       "  </thead>\n",
       "  <tbody>\n",
       "    <tr>\n",
       "      <th>0</th>\n",
       "      <td>0</td>\n",
       "      <td>Explanation\\nWhy the edits made under my usern...</td>\n",
       "      <td>0</td>\n",
       "    </tr>\n",
       "    <tr>\n",
       "      <th>1</th>\n",
       "      <td>1</td>\n",
       "      <td>D'aww! He matches this background colour I'm s...</td>\n",
       "      <td>0</td>\n",
       "    </tr>\n",
       "    <tr>\n",
       "      <th>2</th>\n",
       "      <td>2</td>\n",
       "      <td>Hey man, I'm really not trying to edit war. It...</td>\n",
       "      <td>0</td>\n",
       "    </tr>\n",
       "    <tr>\n",
       "      <th>3</th>\n",
       "      <td>3</td>\n",
       "      <td>\"\\nMore\\nI can't make any real suggestions on ...</td>\n",
       "      <td>0</td>\n",
       "    </tr>\n",
       "    <tr>\n",
       "      <th>4</th>\n",
       "      <td>4</td>\n",
       "      <td>You, sir, are my hero. Any chance you remember...</td>\n",
       "      <td>0</td>\n",
       "    </tr>\n",
       "  </tbody>\n",
       "</table>\n",
       "</div>"
      ],
      "text/plain": [
       "   Unnamed: 0                                               text  toxic\n",
       "0           0  Explanation\\nWhy the edits made under my usern...      0\n",
       "1           1  D'aww! He matches this background colour I'm s...      0\n",
       "2           2  Hey man, I'm really not trying to edit war. It...      0\n",
       "3           3  \"\\nMore\\nI can't make any real suggestions on ...      0\n",
       "4           4  You, sir, are my hero. Any chance you remember...      0"
      ]
     },
     "execution_count": 4,
     "metadata": {},
     "output_type": "execute_result"
    }
   ],
   "source": [
    "data.head()"
   ]
  },
  {
   "cell_type": "code",
   "execution_count": 5,
   "metadata": {},
   "outputs": [
    {
     "data": {
      "text/plain": [
       "0    143106\n",
       "1     16186\n",
       "Name: toxic, dtype: int64"
      ]
     },
     "execution_count": 5,
     "metadata": {},
     "output_type": "execute_result"
    }
   ],
   "source": [
    "data['toxic'].value_counts()"
   ]
  },
  {
   "cell_type": "markdown",
   "metadata": {},
   "source": [
    "It is possible to notice that the features are not balanced: there are more positive comments than negative ones."
   ]
  },
  {
   "cell_type": "code",
   "execution_count": 6,
   "metadata": {},
   "outputs": [],
   "source": [
    "#Converting the entire text to lowercase\n",
    "data['text'] = data['text'].str.lower()"
   ]
  },
  {
   "cell_type": "markdown",
   "metadata": {},
   "source": [
    "There might be a correlation between the length of a comment and its toxicity, so let's check if it's worth adding the length as a feature."
   ]
  },
  {
   "cell_type": "code",
   "execution_count": 7,
   "metadata": {},
   "outputs": [],
   "source": [
    "df = data.copy()\n",
    "df['length'] = df['text'].apply(len)"
   ]
  },
  {
   "cell_type": "code",
   "execution_count": 8,
   "metadata": {},
   "outputs": [
    {
     "data": {
      "text/html": [
       "<div>\n",
       "<style scoped>\n",
       "    .dataframe tbody tr th:only-of-type {\n",
       "        vertical-align: middle;\n",
       "    }\n",
       "\n",
       "    .dataframe tbody tr th {\n",
       "        vertical-align: top;\n",
       "    }\n",
       "\n",
       "    .dataframe thead th {\n",
       "        text-align: right;\n",
       "    }\n",
       "</style>\n",
       "<table border=\"1\" class=\"dataframe\">\n",
       "  <thead>\n",
       "    <tr style=\"text-align: right;\">\n",
       "      <th></th>\n",
       "      <th>Unnamed: 0</th>\n",
       "      <th>text</th>\n",
       "      <th>toxic</th>\n",
       "      <th>length</th>\n",
       "    </tr>\n",
       "  </thead>\n",
       "  <tbody>\n",
       "    <tr>\n",
       "      <th>0</th>\n",
       "      <td>0</td>\n",
       "      <td>explanation\\nwhy the edits made under my usern...</td>\n",
       "      <td>0</td>\n",
       "      <td>264</td>\n",
       "    </tr>\n",
       "    <tr>\n",
       "      <th>1</th>\n",
       "      <td>1</td>\n",
       "      <td>d'aww! he matches this background colour i'm s...</td>\n",
       "      <td>0</td>\n",
       "      <td>112</td>\n",
       "    </tr>\n",
       "    <tr>\n",
       "      <th>2</th>\n",
       "      <td>2</td>\n",
       "      <td>hey man, i'm really not trying to edit war. it...</td>\n",
       "      <td>0</td>\n",
       "      <td>233</td>\n",
       "    </tr>\n",
       "    <tr>\n",
       "      <th>3</th>\n",
       "      <td>3</td>\n",
       "      <td>\"\\nmore\\ni can't make any real suggestions on ...</td>\n",
       "      <td>0</td>\n",
       "      <td>622</td>\n",
       "    </tr>\n",
       "    <tr>\n",
       "      <th>4</th>\n",
       "      <td>4</td>\n",
       "      <td>you, sir, are my hero. any chance you remember...</td>\n",
       "      <td>0</td>\n",
       "      <td>67</td>\n",
       "    </tr>\n",
       "  </tbody>\n",
       "</table>\n",
       "</div>"
      ],
      "text/plain": [
       "   Unnamed: 0                                               text  toxic  \\\n",
       "0           0  explanation\\nwhy the edits made under my usern...      0   \n",
       "1           1  d'aww! he matches this background colour i'm s...      0   \n",
       "2           2  hey man, i'm really not trying to edit war. it...      0   \n",
       "3           3  \"\\nmore\\ni can't make any real suggestions on ...      0   \n",
       "4           4  you, sir, are my hero. any chance you remember...      0   \n",
       "\n",
       "   length  \n",
       "0     264  \n",
       "1     112  \n",
       "2     233  \n",
       "3     622  \n",
       "4      67  "
      ]
     },
     "execution_count": 8,
     "metadata": {},
     "output_type": "execute_result"
    }
   ],
   "source": [
    "df.head()"
   ]
  },
  {
   "cell_type": "code",
   "execution_count": 9,
   "metadata": {},
   "outputs": [],
   "source": [
    "non_toxic = df.query('toxic != 1')\n",
    "toxic = df.query('toxic == 1')"
   ]
  },
  {
   "cell_type": "code",
   "execution_count": 13,
   "metadata": {
    "scrolled": true
   },
   "outputs": [
    {
     "data": {
      "image/png": "[encoded data removed]",
      "text/plain": [
       "<Figure size 1500x800 with 1 Axes>"
      ]
     },
     "metadata": {},
     "output_type": "display_data"
    }
   ],
   "source": [
    "plt.figure(figsize=(15, 8))\n",
    "non_toxic['length'].hist(color='pink', bins=100);\n",
    "plt.title('Length of non-toxic comments')\n",
    "plt.xlabel('Length')\n",
    "plt.ylabel('Number')\n",
    "plt.show()"
   ]
  },
  {
   "cell_type": "code",
   "execution_count": 14,
   "metadata": {
    "scrolled": true
   },
   "outputs": [
    {
     "data": {
      "image/png": "[encoded data removed]",
      "text/plain": [
       "<Figure size 1500x800 with 1 Axes>"
      ]
     },
     "metadata": {},
     "output_type": "display_data"
    }
   ],
   "source": [
    "plt.figure(figsize=(15, 8))\n",
    "toxic['length'].hist(color='pink', bins=100);\n",
    "plt.title('Length of toxic comments')\n",
    "plt.xlabel('Length')\n",
    "plt.ylabel('Number')\n",
    "plt.show()"
   ]
  },
  {
   "cell_type": "code",
   "execution_count": 15,
   "metadata": {},
   "outputs": [
    {
     "name": "stdout",
     "output_type": "stream",
     "text": [
      "The correlation coefficient is equal to -0.12435968326319405\n"
     ]
    }
   ],
   "source": [
    "correlation = df['toxic'].corr(df['length'], method='spearman')\n",
    "print(f'The correlation coefficient is equal to {correlation}')"
   ]
  },
  {
   "cell_type": "markdown",
   "metadata": {},
   "source": [
    "The analysis of the length of positive and negative comments showed that they have a similar distribution, which is left-skewed. This means that most comments are short, regardless of their toxicity. \n",
    "\n",
    "Moreover, the correlation coefficient between the two features is -0.124. Therefore, there is no significant relationship between the length of a comment and its toxicity, and it will not be used as a feature in model training."
   ]
  },
  {
   "cell_type": "code",
   "execution_count": 16,
   "metadata": {},
   "outputs": [],
   "source": [
    "nlp = spacy.load('en_core_web_lg')"
   ]
  },
  {
   "cell_type": "code",
   "execution_count": 17,
   "metadata": {},
   "outputs": [],
   "source": [
    "def clear_text(text):\n",
    "    clear_words = re.sub(r'[^a-zA-Z]', ' ', text.lower()).split()\n",
    "    clear_text = \" \".join(clear_words)\n",
    "    return clear_text"
   ]
  },
  {
   "cell_type": "code",
   "execution_count": 18,
   "metadata": {},
   "outputs": [],
   "source": [
    "def lemmatize(text):\n",
    "    lemm = nlp(text)\n",
    "    return ' '.join([token.lemma_ for token in lemm if token.lemma_.lower() not in nlp.Defaults.stop_words])"
   ]
  },
  {
   "cell_type": "code",
   "execution_count": 19,
   "metadata": {},
   "outputs": [
    {
     "name": "stderr",
     "output_type": "stream",
     "text": [
      "100%|██████████| 159292/159292 [00:07<00:00, 22282.67it/s]\n"
     ]
    }
   ],
   "source": [
    "tqdm.pandas()\n",
    "data['clear_text'] = data['text'].progress_apply(clear_text)"
   ]
  },
  {
   "cell_type": "code",
   "execution_count": 20,
   "metadata": {},
   "outputs": [
    {
     "name": "stderr",
     "output_type": "stream",
     "text": [
      "100%|██████████| 159292/159292 [1:01:09<00:00, 43.41it/s]\n"
     ]
    }
   ],
   "source": [
    "data['lemmatized_text'] = data['clear_text'].progress_apply(lemmatize)"
   ]
  },
  {
   "cell_type": "code",
   "execution_count": 21,
   "metadata": {
    "scrolled": true
   },
   "outputs": [
    {
     "data": {
      "text/html": [
       "<div>\n",
       "<style scoped>\n",
       "    .dataframe tbody tr th:only-of-type {\n",
       "        vertical-align: middle;\n",
       "    }\n",
       "\n",
       "    .dataframe tbody tr th {\n",
       "        vertical-align: top;\n",
       "    }\n",
       "\n",
       "    .dataframe thead th {\n",
       "        text-align: right;\n",
       "    }\n",
       "</style>\n",
       "<table border=\"1\" class=\"dataframe\">\n",
       "  <thead>\n",
       "    <tr style=\"text-align: right;\">\n",
       "      <th></th>\n",
       "      <th>Unnamed: 0</th>\n",
       "      <th>text</th>\n",
       "      <th>toxic</th>\n",
       "      <th>clear_text</th>\n",
       "      <th>lemmatized_text</th>\n",
       "    </tr>\n",
       "  </thead>\n",
       "  <tbody>\n",
       "    <tr>\n",
       "      <th>0</th>\n",
       "      <td>0</td>\n",
       "      <td>explanation\\nwhy the edits made under my usern...</td>\n",
       "      <td>0</td>\n",
       "      <td>explanation why the edits made under my userna...</td>\n",
       "      <td>explanation edit username hardcore metallica f...</td>\n",
       "    </tr>\n",
       "    <tr>\n",
       "      <th>1</th>\n",
       "      <td>1</td>\n",
       "      <td>d'aww! he matches this background colour i'm s...</td>\n",
       "      <td>0</td>\n",
       "      <td>d aww he matches this background colour i m se...</td>\n",
       "      <td>d aww match background colour m seemingly stuc...</td>\n",
       "    </tr>\n",
       "    <tr>\n",
       "      <th>2</th>\n",
       "      <td>2</td>\n",
       "      <td>hey man, i'm really not trying to edit war. it...</td>\n",
       "      <td>0</td>\n",
       "      <td>hey man i m really not trying to edit war it s...</td>\n",
       "      <td>hey man m try edit war s guy constantly remove...</td>\n",
       "    </tr>\n",
       "    <tr>\n",
       "      <th>3</th>\n",
       "      <td>3</td>\n",
       "      <td>\"\\nmore\\ni can't make any real suggestions on ...</td>\n",
       "      <td>0</td>\n",
       "      <td>more i can t make any real suggestions on impr...</td>\n",
       "      <td>t real suggestion improvement wonder section s...</td>\n",
       "    </tr>\n",
       "    <tr>\n",
       "      <th>4</th>\n",
       "      <td>4</td>\n",
       "      <td>you, sir, are my hero. any chance you remember...</td>\n",
       "      <td>0</td>\n",
       "      <td>you sir are my hero any chance you remember wh...</td>\n",
       "      <td>sir hero chance remember page s</td>\n",
       "    </tr>\n",
       "  </tbody>\n",
       "</table>\n",
       "</div>"
      ],
      "text/plain": [
       "   Unnamed: 0                                               text  toxic  \\\n",
       "0           0  explanation\\nwhy the edits made under my usern...      0   \n",
       "1           1  d'aww! he matches this background colour i'm s...      0   \n",
       "2           2  hey man, i'm really not trying to edit war. it...      0   \n",
       "3           3  \"\\nmore\\ni can't make any real suggestions on ...      0   \n",
       "4           4  you, sir, are my hero. any chance you remember...      0   \n",
       "\n",
       "                                          clear_text  \\\n",
       "0  explanation why the edits made under my userna...   \n",
       "1  d aww he matches this background colour i m se...   \n",
       "2  hey man i m really not trying to edit war it s...   \n",
       "3  more i can t make any real suggestions on impr...   \n",
       "4  you sir are my hero any chance you remember wh...   \n",
       "\n",
       "                                     lemmatized_text  \n",
       "0  explanation edit username hardcore metallica f...  \n",
       "1  d aww match background colour m seemingly stuc...  \n",
       "2  hey man m try edit war s guy constantly remove...  \n",
       "3  t real suggestion improvement wonder section s...  \n",
       "4                    sir hero chance remember page s  "
      ]
     },
     "execution_count": 21,
     "metadata": {},
     "output_type": "execute_result"
    }
   ],
   "source": [
    "data.head()"
   ]
  },
  {
   "cell_type": "code",
   "execution_count": 22,
   "metadata": {},
   "outputs": [],
   "source": [
    "stopwords = set(nltk_stopwords.words('english'))"
   ]
  },
  {
   "cell_type": "markdown",
   "metadata": {},
   "source": [
    "In the first stage, the data was explored, and the text was converted to lowercase. It was checked whether the comment's length is related to its toxicity, and in the end, no correlation was found.\n",
    "\n",
    "Also, a class imbalance was detected: there are more positive comments than negative ones.\n",
    "\n",
    "In the end, text data was cleaned and lemmatized."
   ]
  },
  {
   "cell_type": "markdown",
   "metadata": {},
   "source": [
    "## Model trainig"
   ]
  },
  {
   "cell_type": "code",
   "execution_count": 23,
   "metadata": {},
   "outputs": [],
   "source": [
    "target = data['toxic']\n",
    "features = data['lemmatized_text']"
   ]
  },
  {
   "cell_type": "code",
   "execution_count": 25,
   "metadata": {},
   "outputs": [
    {
     "name": "stdout",
     "output_type": "stream",
     "text": [
      "Training set:  59.99987444441655\n",
      "Validation set:  19.999748888833086\n",
      "Test set:  20.00037666675037\n"
     ]
    }
   ],
   "source": [
    "#Splitting the dataset into training, validation, and test sets in a 60%-20%-20% ratio\n",
    "features_train, features_valid_test, target_train, target_valid_test = train_test_split(features, \n",
    "                                                                                        target, \n",
    "                                                                                        test_size=0.4, \n",
    "                                                                                        random_state=12345)\n",
    "features_valid, features_test, target_valid, target_test = train_test_split(features_valid_test,\n",
    "                                                                            target_valid_test,\n",
    "                                                                            test_size=0.5, random_state=12345)\n",
    "print('Training set: ', features_train.shape[0] / features.shape[0] * 100)\n",
    "print('Validation set: ', features_valid.shape[0] / features.shape[0] * 100)\n",
    "print('Test set: ', features_test.shape[0] / features.shape[0] * 100)"
   ]
  },
  {
   "cell_type": "markdown",
   "metadata": {},
   "source": [
    "### Logistic Regression"
   ]
  },
  {
   "cell_type": "code",
   "execution_count": 26,
   "metadata": {},
   "outputs": [
    {
     "name": "stdout",
     "output_type": "stream",
     "text": [
      "Fitting 3 folds for each of 4 candidates, totalling 12 fits\n",
      "F1-score for logistic regression: 0.7617670682730923\n"
     ]
    }
   ],
   "source": [
    "pipeline = Pipeline([\n",
    "    ('count', CountVectorizer(stop_words='english')),\n",
    "    ('logreg', LogisticRegression(random_state=12345)),\n",
    "])\n",
    "parameters = {\n",
    "    'logreg__C': [0.001, 0.1, 1, 10]\n",
    "}\n",
    "\n",
    "grid_search_tune = RandomizedSearchCV(pipeline, parameters, cv=3, n_jobs=-1, scoring='f1', verbose=3)\n",
    "grid_search_tune.fit(features_train, target_train)\n",
    "\n",
    "best_model_reg = grid_search_tune.best_estimator_\n",
    "predictions_reg = best_model_reg.predict(features_valid)\n",
    "f1_score_reg = f1_score(target_valid, predictions_reg)\n",
    "print(f'F1-score for logistic regression: {f1_score_reg}')"
   ]
  },
  {
   "cell_type": "markdown",
   "metadata": {},
   "source": [
    "### Decision Tree"
   ]
  },
  {
   "cell_type": "code",
   "execution_count": 27,
   "metadata": {},
   "outputs": [
    {
     "name": "stdout",
     "output_type": "stream",
     "text": [
      "Fitting 3 folds for each of 9 candidates, totalling 27 fits\n",
      "Pipeline(steps=[('count', CountVectorizer(stop_words='english')),\n",
      "                ('dtree',\n",
      "                 DecisionTreeClassifier(max_depth=18, random_state=12345))])\n",
      "F1-score for decision tree: 0.649016641452345\n"
     ]
    }
   ],
   "source": [
    "pipeline_tree = Pipeline([\n",
    "    ('count', CountVectorizer(stop_words='english')),\n",
    "    ('dtree', DecisionTreeClassifier(random_state=12345)),\n",
    "])\n",
    "parameters = {\n",
    "    'dtree__max_depth': list(range(2, 20, 2))\n",
    "}\n",
    "\n",
    "grid_search_tune_tree = RandomizedSearchCV(pipeline_tree, parameters, cv=3, n_jobs=-1, scoring='f1', verbose=3)\n",
    "grid_search_tune_tree.fit(features_train, target_train)\n",
    "\n",
    "best_model_tree = grid_search_tune_tree.best_estimator_\n",
    "print(best_model_tree)\n",
    "predictions_tree = best_model_tree.predict(features_valid)\n",
    "f1_score_tree = f1_score(target_valid, predictions_tree)\n",
    "print(f'F1-score for decision tree: {f1_score_tree}')"
   ]
  },
  {
   "cell_type": "markdown",
   "metadata": {},
   "source": [
    "### Random Forest"
   ]
  },
  {
   "cell_type": "code",
   "execution_count": 29,
   "metadata": {},
   "outputs": [
    {
     "name": "stdout",
     "output_type": "stream",
     "text": [
      "Fitting 3 folds for each of 10 candidates, totalling 30 fits\n",
      "Pipeline(steps=[('count', CountVectorizer(stop_words='english')),\n",
      "                ('forest',\n",
      "                 RandomForestClassifier(max_depth=18, random_state=12345))])\n",
      "F1-score for random forest: 0.0018088634308109737\n"
     ]
    }
   ],
   "source": [
    "pipeline_forest = Pipeline([\n",
    "    ('count', CountVectorizer(stop_words='english')),\n",
    "    ('forest', RandomForestClassifier(random_state=12345))])\n",
    "parameters = {\n",
    "    'forest__max_depth': list(range(2, 20, 2)),\n",
    "    'forest__n_estimators': [100, 500, 1000]\n",
    "}\n",
    "\n",
    "grid_search_tune_forest = RandomizedSearchCV(pipeline_forest, parameters, cv=3, n_jobs=-1, scoring='f1', verbose=3)\n",
    "grid_search_tune_forest.fit(features_train, target_train)\n",
    "\n",
    "best_model_forest = grid_search_tune_forest.best_estimator_\n",
    "print(best_model_forest)\n",
    "predictions_forest = best_model_forest.predict(features_valid) \n",
    "f1_score_forest = f1_score(target_valid, predictions_forest)\n",
    "print(f'F1-score for random forest: {f1_score(target_valid, predictions_forest)}')"
   ]
  },
  {
   "cell_type": "markdown",
   "metadata": {},
   "source": [
    "### CatBoost"
   ]
  },
  {
   "cell_type": "code",
   "execution_count": 39,
   "metadata": {},
   "outputs": [
    {
     "name": "stdout",
     "output_type": "stream",
     "text": [
      "Fitting 3 folds for each of 1 candidates, totalling 3 fits\n",
      "[CV 1/3] END ..................................., score=0.713 total time=11.5min\n",
      "[CV 2/3] END ..................................., score=0.711 total time=11.5min\n",
      "[CV 3/3] END ..................................., score=0.710 total time=11.5min\n",
      "F1-score for CatBoost: 0.7233351380617218\n"
     ]
    }
   ],
   "source": [
    "pipeline_cat = Pipeline([\n",
    "    ('count', CountVectorizer(stop_words='english')),\n",
    "    ('cat', CatBoostClassifier(random_state=12345, verbose=False)),\n",
    "])\n",
    "\n",
    "grid_search_tune_cat = RandomizedSearchCV(pipeline_cat, {}, cv=3, n_jobs=-1, scoring='f1', verbose=3)\n",
    "grid_search_tune_cat.fit(features_train, target_train)\n",
    "\n",
    "best_model_cat = grid_search_tune_cat.best_estimator_\n",
    "predictions_cat = best_model_cat.predict(features_valid)\n",
    "f1_score_cat = f1_score(target_valid, predictions_cat)\n",
    "print(f'F1-score for CatBoost: {f1_score_cat}')"
   ]
  },
  {
   "cell_type": "code",
   "execution_count": 41,
   "metadata": {},
   "outputs": [
    {
     "data": {
      "text/html": [
       "<div>\n",
       "<style scoped>\n",
       "    .dataframe tbody tr th:only-of-type {\n",
       "        vertical-align: middle;\n",
       "    }\n",
       "\n",
       "    .dataframe tbody tr th {\n",
       "        vertical-align: top;\n",
       "    }\n",
       "\n",
       "    .dataframe thead th {\n",
       "        text-align: right;\n",
       "    }\n",
       "</style>\n",
       "<table border=\"1\" class=\"dataframe\">\n",
       "  <thead>\n",
       "    <tr style=\"text-align: right;\">\n",
       "      <th></th>\n",
       "      <th>F1-score</th>\n",
       "    </tr>\n",
       "    <tr>\n",
       "      <th>Model</th>\n",
       "      <th></th>\n",
       "    </tr>\n",
       "  </thead>\n",
       "  <tbody>\n",
       "    <tr>\n",
       "      <th>Logistical regression</th>\n",
       "      <td>0.761767</td>\n",
       "    </tr>\n",
       "    <tr>\n",
       "      <th>CatBoost</th>\n",
       "      <td>0.723335</td>\n",
       "    </tr>\n",
       "    <tr>\n",
       "      <th>Desicision tree</th>\n",
       "      <td>0.649017</td>\n",
       "    </tr>\n",
       "    <tr>\n",
       "      <th>Random forest</th>\n",
       "      <td>0.001809</td>\n",
       "    </tr>\n",
       "  </tbody>\n",
       "</table>\n",
       "</div>"
      ],
      "text/plain": [
       "                       F1-score\n",
       "Model                          \n",
       "Logistical regression  0.761767\n",
       "CatBoost               0.723335\n",
       "Desicision tree        0.649017\n",
       "Random forest          0.001809"
      ]
     },
     "execution_count": 41,
     "metadata": {},
     "output_type": "execute_result"
    }
   ],
   "source": [
    "scores = [['Logistical regression', f1_score_reg],\n",
    "         ['CatBoost', f1_score_cat],\n",
    "         ['Desicision tree', f1_score_tree],\n",
    "         ['Random forest', f1_score_forest]]\n",
    "\n",
    "scores_show = pd.DataFrame(scores, columns=['Model', 'F1-score'])\n",
    "scores_show = scores_show.set_index('Model')\n",
    "scores_show"
   ]
  },
  {
   "cell_type": "markdown",
   "metadata": {},
   "source": [
    "Now let's try to train models without class imbalance."
   ]
  },
  {
   "cell_type": "markdown",
   "metadata": {},
   "source": [
    "### Logistic regression without imbalance"
   ]
  },
  {
   "cell_type": "code",
   "execution_count": 42,
   "metadata": {},
   "outputs": [
    {
     "name": "stdout",
     "output_type": "stream",
     "text": [
      "n_iterations: 2\n",
      "n_required_iterations: 2\n",
      "n_possible_iterations: 2\n",
      "min_resources_: 31858\n",
      "max_resources_: 95575\n",
      "aggressive_elimination: False\n",
      "factor: 3\n",
      "----------\n",
      "iter: 0\n",
      "n_candidates: 4\n",
      "n_resources: 31858\n",
      "Fitting 3 folds for each of 4 candidates, totalling 12 fits\n",
      "----------\n",
      "iter: 1\n",
      "n_candidates: 2\n",
      "n_resources: 95574\n",
      "Fitting 3 folds for each of 2 candidates, totalling 6 fits\n",
      "Best score: 0.7559577224058218, Best params: {'logreg__C': 1}\n"
     ]
    }
   ],
   "source": [
    "pipeline_oversampling = imbPipeline([\n",
    "    ('count', CountVectorizer(stop_words='english')),\n",
    "    ('oversampling', RandomOverSampler(random_state=12345)),\n",
    "    ('logreg', LogisticRegression(random_state=12345))])\n",
    "\n",
    "\n",
    "parameters = {\n",
    "    'logreg__C': [0.001, 0.1, 1, 10]\n",
    "}\n",
    "\n",
    "grid_search_tune = HalvingGridSearchCV(pipeline_oversampling, parameters, cv=3, n_jobs=-1, scoring='f1', verbose=3)\n",
    "grid_search_tune.fit(features_train, target_train)\n",
    "\n",
    "print(f\"Best score: {abs(grid_search_tune.best_score_)}, Best params: {grid_search_tune.best_params_}\")"
   ]
  },
  {
   "cell_type": "markdown",
   "metadata": {},
   "source": [
    "### Decision tree without imbalance"
   ]
  },
  {
   "cell_type": "code",
   "execution_count": 43,
   "metadata": {},
   "outputs": [
    {
     "name": "stdout",
     "output_type": "stream",
     "text": [
      "n_iterations: 3\n",
      "n_required_iterations: 3\n",
      "n_possible_iterations: 3\n",
      "min_resources_: 10619\n",
      "max_resources_: 95575\n",
      "aggressive_elimination: False\n",
      "factor: 3\n",
      "----------\n",
      "iter: 0\n",
      "n_candidates: 9\n",
      "n_resources: 10619\n",
      "Fitting 3 folds for each of 9 candidates, totalling 27 fits\n",
      "----------\n",
      "iter: 1\n",
      "n_candidates: 3\n",
      "n_resources: 31857\n",
      "Fitting 3 folds for each of 3 candidates, totalling 9 fits\n",
      "----------\n",
      "iter: 2\n",
      "n_candidates: 1\n",
      "n_resources: 95571\n",
      "Fitting 3 folds for each of 1 candidates, totalling 3 fits\n",
      "Best score: 0.6325629974544879, Best params: {'dtree__max_depth': 18}\n"
     ]
    }
   ],
   "source": [
    "pipeline_oversampling_tree = imbPipeline([\n",
    "    ('count', CountVectorizer(stop_words='english')),\n",
    "    ('oversampling', RandomOverSampler(random_state=12345)),\n",
    "    ('dtree', DecisionTreeClassifier(random_state=12345))])\n",
    "\n",
    "\n",
    "parameters = {\n",
    "    'dtree__max_depth': list(range(2, 20, 2))\n",
    "}\n",
    "\n",
    "grid_search_tree = HalvingGridSearchCV(pipeline_oversampling_tree, parameters, cv=3, n_jobs=-1, scoring='f1', verbose=3)\n",
    "grid_search_tree.fit(features_train, target_train)\n",
    "\n",
    "print(f\"Best score: {abs(grid_search_tree.best_score_)}, Best params: {grid_search_tree.best_params_}\")"
   ]
  },
  {
   "cell_type": "markdown",
   "metadata": {},
   "source": [
    "### Random forest without imbalance"
   ]
  },
  {
   "cell_type": "code",
   "execution_count": 44,
   "metadata": {},
   "outputs": [
    {
     "name": "stdout",
     "output_type": "stream",
     "text": [
      "n_iterations: 4\n",
      "n_required_iterations: 4\n",
      "n_possible_iterations: 4\n",
      "min_resources_: 3539\n",
      "max_resources_: 95575\n",
      "aggressive_elimination: False\n",
      "factor: 3\n",
      "----------\n",
      "iter: 0\n",
      "n_candidates: 27\n",
      "n_resources: 3539\n",
      "Fitting 3 folds for each of 27 candidates, totalling 81 fits\n",
      "----------\n",
      "iter: 1\n",
      "n_candidates: 9\n",
      "n_resources: 10617\n",
      "Fitting 3 folds for each of 9 candidates, totalling 27 fits\n",
      "----------\n",
      "iter: 2\n",
      "n_candidates: 3\n",
      "n_resources: 31851\n",
      "Fitting 3 folds for each of 3 candidates, totalling 9 fits\n",
      "----------\n",
      "iter: 3\n",
      "n_candidates: 1\n",
      "n_resources: 95553\n",
      "Fitting 3 folds for each of 1 candidates, totalling 3 fits\n",
      "[CV 1/3] END .logreg__C=0.1;, score=(train=0.887, test=0.724) total time=   4.7s\n",
      "[CV 2/3] END ...logreg__C=1;, score=(train=0.969, test=0.733) total time=   5.2s\n",
      "[CV 3/3] END ..logreg__C=10;, score=(train=0.996, test=0.729) total time=   5.3s\n",
      "[CV 2/3] END .logreg__C=0.1;, score=(train=0.862, test=0.747) total time=  16.6s\n",
      "[CV 1/3] END dtree__max_depth=2;, score=(train=0.343, test=0.327) total time=   1.1s\n",
      "[CV 2/3] END dtree__max_depth=4;, score=(train=0.236, test=0.252) total time=   1.2s\n",
      "[CV 3/3] END dtree__max_depth=6;, score=(train=0.513, test=0.441) total time=   1.1s\n",
      "[CV 1/3] END dtree__max_depth=10;, score=(train=0.653, test=0.515) total time=   1.3s\n",
      "[CV 2/3] END dtree__max_depth=12;, score=(train=0.611, test=0.557) total time=   1.4s\n",
      "[CV 3/3] END dtree__max_depth=14;, score=(train=0.712, test=0.607) total time=   2.1s\n",
      "[CV 1/3] END dtree__max_depth=18;, score=(train=0.766, test=0.583) total time=   1.5s\n",
      "[CV 3/3] END dtree__max_depth=14;, score=(train=0.655, test=0.561) total time=   5.0s\n",
      "[CV 1/3] END dtree__max_depth=18;, score=(train=0.711, test=0.588) total time=   5.6s\n",
      "[CV 2/3] END dtree__max_depth=18;, score=(train=0.687, test=0.633) total time=  18.5s\n",
      "[CV 3/3] END forest__max_depth=2, forest__n_estimators=100;, score=(train=0.364, test=0.291) total time=   1.0s\n",
      "[CV 1/3] END forest__max_depth=2, forest__n_estimators=1000;, score=(train=0.383, test=0.360) total time=   7.1s\n",
      "[CV 1/3] END forest__max_depth=4, forest__n_estimators=500;, score=(train=0.407, test=0.378) total time=   3.8s\n",
      "[CV 2/3] END forest__max_depth=4, forest__n_estimators=1000;, score=(train=0.452, test=0.353) total time=   7.1s\n",
      "[CV 3/3] END forest__max_depth=6, forest__n_estimators=500;, score=(train=0.499, test=0.368) total time=   4.0s\n",
      "[CV 1/3] END forest__max_depth=8, forest__n_estimators=100;, score=(train=0.497, test=0.414) total time=   1.0s\n",
      "[CV 2/3] END forest__max_depth=8, forest__n_estimators=100;, score=(train=0.521, test=0.410) total time=   0.9s\n",
      "[CV 3/3] END forest__max_depth=8, forest__n_estimators=100;, score=(train=0.466, test=0.337) total time=   1.0s\n",
      "[CV 2/3] END forest__max_depth=8, forest__n_estimators=500;, score=(train=0.528, test=0.415) total time=   4.2s\n",
      "[CV 3/3] END forest__max_depth=8, forest__n_estimators=1000;, score=(train=0.525, test=0.380) total time=   8.7s\n",
      "[CV 1/3] END forest__max_depth=10, forest__n_estimators=1000;, score=(train=0.533, test=0.455) total time=   8.7s\n",
      "[CV 1/3] END forest__max_depth=12, forest__n_estimators=500;, score=(train=0.541, test=0.447) total time=   5.7s\n",
      "[CV 2/3] END forest__max_depth=12, forest__n_estimators=1000;, score=(train=0.558, test=0.409) total time=  10.9s\n",
      "[CV 3/3] END forest__max_depth=14, forest__n_estimators=500;, score=(train=0.565, test=0.395) total time=   5.6s\n",
      "[CV 1/3] END forest__max_depth=16, forest__n_estimators=100;, score=(train=0.606, test=0.473) total time=   1.2s\n",
      "[CV 2/3] END forest__max_depth=16, forest__n_estimators=100;, score=(train=0.591, test=0.436) total time=   1.2s\n",
      "[CV 3/3] END forest__max_depth=16, forest__n_estimators=100;, score=(train=0.560, test=0.368) total time=   1.1s\n",
      "[CV 2/3] END forest__max_depth=16, forest__n_estimators=500;, score=(train=0.592, test=0.434) total time=   6.2s\n",
      "[CV 3/3] END forest__max_depth=16, forest__n_estimators=1000;, score=(train=0.586, test=0.380) total time=  11.3s\n",
      "[CV 3/3] END forest__max_depth=18, forest__n_estimators=500;, score=(train=0.599, test=0.402) total time=   4.7s\n",
      "[CV 1/3] END forest__max_depth=12, forest__n_estimators=500;, score=(train=0.514, test=0.439) total time=   8.3s\n",
      "[CV 2/3] END forest__max_depth=14, forest__n_estimators=1000;, score=(train=0.569, test=0.472) total time=  16.6s\n",
      "[CV 3/3] END forest__max_depth=16, forest__n_estimators=1000;, score=(train=0.566, test=0.456) total time=  19.1s\n",
      "[CV 1/3] END forest__max_depth=16, forest__n_estimators=500;, score=(train=0.546, test=0.450) total time=   9.5s\n",
      "[CV 2/3] END forest__max_depth=18, forest__n_estimators=1000;, score=(train=0.593, test=0.481) total time=  31.7s\n",
      "[CV 2/3] END forest__max_depth=18, forest__n_estimators=100;, score=(train=0.491, test=0.435) total time=  10.1s\n",
      "[CV 3/3] END forest__max_depth=18, forest__n_estimators=1000;, score=(train=0.492, test=0.414) total time= 1.6min\n"
     ]
    },
    {
     "name": "stderr",
     "output_type": "stream",
     "text": [
      "/Users/mojseenkodenis/Library/jupyterlab-desktop/jlab_server/lib/python3.8/site-packages/sklearn/linear_model/_logistic.py:458: ConvergenceWarning: lbfgs failed to converge (status=1):\n",
      "STOP: TOTAL NO. of ITERATIONS REACHED LIMIT.\n",
      "\n",
      "Increase the number of iterations (max_iter) or scale the data as shown in:\n",
      "    https://scikit-learn.org/stable/modules/preprocessing.html\n",
      "Please also refer to the documentation for alternative solver options:\n",
      "    https://scikit-learn.org/stable/modules/linear_model.html#logistic-regression\n",
      "  n_iter_i = _check_optimize_result(\n",
      "/Users/mojseenkodenis/Library/jupyterlab-desktop/jlab_server/lib/python3.8/site-packages/sklearn/linear_model/_logistic.py:458: ConvergenceWarning: lbfgs failed to converge (status=1):\n",
      "STOP: TOTAL NO. of ITERATIONS REACHED LIMIT.\n",
      "\n",
      "Increase the number of iterations (max_iter) or scale the data as shown in:\n",
      "    https://scikit-learn.org/stable/modules/preprocessing.html\n",
      "Please also refer to the documentation for alternative solver options:\n",
      "    https://scikit-learn.org/stable/modules/linear_model.html#logistic-regression\n",
      "  n_iter_i = _check_optimize_result(\n",
      "/Users/mojseenkodenis/Library/jupyterlab-desktop/jlab_server/lib/python3.8/site-packages/sklearn/linear_model/_logistic.py:458: ConvergenceWarning: lbfgs failed to converge (status=1):\n",
      "STOP: TOTAL NO. of ITERATIONS REACHED LIMIT.\n",
      "\n",
      "Increase the number of iterations (max_iter) or scale the data as shown in:\n",
      "    https://scikit-learn.org/stable/modules/preprocessing.html\n",
      "Please also refer to the documentation for alternative solver options:\n",
      "    https://scikit-learn.org/stable/modules/linear_model.html#logistic-regression\n",
      "  n_iter_i = _check_optimize_result(\n"
     ]
    },
    {
     "name": "stdout",
     "output_type": "stream",
     "text": [
      "Best score: 0.4124523621775585, Best params: {'forest__max_depth': 18, 'forest__n_estimators': 1000}\n"
     ]
    }
   ],
   "source": [
    "pipeline_oversampling_forest = imbPipeline([\n",
    "    ('count', CountVectorizer(stop_words='english')),\n",
    "    ('oversampling', RandomOverSampler(random_state=12345)),\n",
    "    ('forest', RandomForestClassifier(random_state=12345))])\n",
    "\n",
    "\n",
    "parameters = {\n",
    "    'forest__max_depth': list(range(2, 20, 2)),\n",
    "    'forest__n_estimators': [100, 500, 1000]\n",
    "}\n",
    "\n",
    "grid_search_forest = HalvingGridSearchCV(pipeline_oversampling_forest, parameters, cv=3, n_jobs=-1, scoring='f1', verbose=3)\n",
    "grid_search_forest.fit(features_train, target_train)\n",
    "\n",
    "print(f\"Best score: {abs(grid_search_forest.best_score_)}, Best params: {grid_search_forest.best_params_}\")"
   ]
  },
  {
   "cell_type": "markdown",
   "metadata": {},
   "source": [
    "Fighting class imbalance did not lead to an increase in the F1 metric, so we will use the logistic regression model with class imbalance for testing, which showed the best result at 0.761."
   ]
  },
  {
   "cell_type": "markdown",
   "metadata": {},
   "source": [
    "## Testing the model"
   ]
  },
  {
   "cell_type": "code",
   "execution_count": 46,
   "metadata": {},
   "outputs": [
    {
     "name": "stdout",
     "output_type": "stream",
     "text": [
      "F1-score on the test set: 0.7543713572023313\n"
     ]
    }
   ],
   "source": [
    "pipeline_test = Pipeline([\n",
    "    ('count', CountVectorizer(stop_words='english')),\n",
    "    ('logreg', LogisticRegression(random_state=12345, C=10)),\n",
    "])\n",
    "\n",
    "pipeline_test.fit(features_train, target_train)\n",
    "predictions_test = pipeline_test.predict(features_test)\n",
    "f1_score_reg = f1_score(target_test, predictions_test)\n",
    "print(f'F1-score on the test set: {f1_score_reg}')"
   ]
  },
  {
   "cell_type": "markdown",
   "metadata": {},
   "source": [
    "The logistic regression model on the test set achieved an F1-score of 0.754, which is in line with the specified threshold (0.75). Therefore, this model is recommended for implementation in the internet store."
   ]
  },
  {
   "cell_type": "markdown",
   "metadata": {},
   "source": [
    "## Conclusion"
   ]
  },
  {
   "cell_type": "markdown",
   "metadata": {},
   "source": [
    "The goal of this project was to create a model that can classify comments as positive or negative based on their toxicity. The model is supposed to be implemented in the internet store. \n",
    "\n",
    "The following steps were taken:\n",
    " - Data exploration: The data was initially explored, and a class imbalance issue was identified\n",
    " - Data preprocessing: Text data was cleaned and lemmatized to prepare it for modeling\n",
    " - Model training: Four models were trained - logistic regression, decision tree, random forest, and CatBoost. These models were trained both with and without addressing class imbalance.\n",
    " - Model evaluation: The logistic regression model with class imbalance achieved the best result with an F1-score of 0.761 on the training set and 0.754 on the test set.\n",
    "\n",
    "In conclusion, the logistic regression model with class imbalance is recommended for implementation as it performed well in classifying comments as positive or negative. The model is well equiped to recognize the stop words and send the comments deemed as toxic for the further moderation."
   ]
  }
 ],
 "metadata": {
  "ExecuteTimeLog": [
   {
    "duration": 110,
    "start_time": "2023-04-20T03:49:29.156Z"
   },
   {
    "duration": 1934,
    "start_time": "2023-04-20T03:49:33.415Z"
   },
   {
    "duration": 98,
    "start_time": "2023-04-20T03:50:31.355Z"
   },
   {
    "duration": 2277,
    "start_time": "2023-04-20T03:50:59.520Z"
   },
   {
    "duration": 30,
    "start_time": "2023-04-20T03:51:19.669Z"
   },
   {
    "duration": 10,
    "start_time": "2023-04-20T03:51:29.127Z"
   },
   {
    "duration": 488,
    "start_time": "2023-04-20T03:51:47.769Z"
   },
   {
    "duration": 5,
    "start_time": "2023-04-20T03:52:02.878Z"
   },
   {
    "duration": 12,
    "start_time": "2023-04-20T03:54:47.060Z"
   },
   {
    "duration": 252,
    "start_time": "2023-04-20T03:54:56.429Z"
   },
   {
    "duration": 4,
    "start_time": "2023-04-20T03:59:16.889Z"
   },
   {
    "duration": 7,
    "start_time": "2023-04-20T03:59:21.944Z"
   },
   {
    "duration": 59,
    "start_time": "2023-04-20T03:59:40.272Z"
   },
   {
    "duration": 8,
    "start_time": "2023-04-20T03:59:41.228Z"
   },
   {
    "duration": 28,
    "start_time": "2023-04-20T04:00:33.881Z"
   },
   {
    "duration": 9,
    "start_time": "2023-04-20T04:00:47.470Z"
   },
   {
    "duration": 10,
    "start_time": "2023-04-20T04:00:53.396Z"
   },
   {
    "duration": 11,
    "start_time": "2023-04-20T04:00:56.027Z"
   },
   {
    "duration": 24,
    "start_time": "2023-04-20T04:01:23.230Z"
   },
   {
    "duration": 25,
    "start_time": "2023-04-20T04:01:24.015Z"
   },
   {
    "duration": 530,
    "start_time": "2023-04-20T04:01:43.096Z"
   },
   {
    "duration": 262,
    "start_time": "2023-04-20T04:01:50.202Z"
   },
   {
    "duration": 1280,
    "start_time": "2023-04-20T04:02:00.011Z"
   },
   {
    "duration": 121,
    "start_time": "2023-04-20T04:02:07.492Z"
   },
   {
    "duration": 120,
    "start_time": "2023-04-20T04:03:11.700Z"
   },
   {
    "duration": 119,
    "start_time": "2023-04-20T04:03:25.024Z"
   },
   {
    "duration": 119,
    "start_time": "2023-04-20T04:03:35.810Z"
   },
   {
    "duration": 120,
    "start_time": "2023-04-20T04:03:57.778Z"
   },
   {
    "duration": 268,
    "start_time": "2023-04-20T04:04:43.380Z"
   },
   {
    "duration": 145,
    "start_time": "2023-04-20T04:04:55.091Z"
   },
   {
    "duration": 248,
    "start_time": "2023-04-20T04:05:02.535Z"
   },
   {
    "duration": 266,
    "start_time": "2023-04-20T04:05:15.407Z"
   },
   {
    "duration": 256,
    "start_time": "2023-04-20T04:05:31.547Z"
   },
   {
    "duration": 1204,
    "start_time": "2023-04-20T04:08:10.945Z"
   },
   {
    "duration": 11,
    "start_time": "2023-04-20T04:08:17.455Z"
   },
   {
    "duration": 33,
    "start_time": "2023-04-20T04:08:22.101Z"
   },
   {
    "duration": 37,
    "start_time": "2023-04-20T04:08:28.689Z"
   },
   {
    "duration": 4,
    "start_time": "2023-04-20T04:20:37.561Z"
   },
   {
    "duration": 789,
    "start_time": "2023-04-20T04:20:38.572Z"
   },
   {
    "duration": 30,
    "start_time": "2023-04-20T04:20:40.779Z"
   },
   {
    "duration": 8,
    "start_time": "2023-04-20T04:20:41.923Z"
   },
   {
    "duration": 6,
    "start_time": "2023-04-20T04:20:43.568Z"
   },
   {
    "duration": 277,
    "start_time": "2023-04-20T04:20:46.045Z"
   },
   {
    "duration": 65,
    "start_time": "2023-04-20T04:20:48.924Z"
   },
   {
    "duration": 8,
    "start_time": "2023-04-20T04:20:50.093Z"
   },
   {
    "duration": 22,
    "start_time": "2023-04-20T04:20:51.965Z"
   },
   {
    "duration": 285,
    "start_time": "2023-04-20T04:20:53.259Z"
   },
   {
    "duration": 254,
    "start_time": "2023-04-20T04:20:56.700Z"
   },
   {
    "duration": 29,
    "start_time": "2023-04-20T04:21:01.059Z"
   },
   {
    "duration": 3,
    "start_time": "2023-04-20T04:23:54.178Z"
   },
   {
    "duration": 3,
    "start_time": "2023-04-20T04:25:02.575Z"
   },
   {
    "duration": 3,
    "start_time": "2023-04-20T04:29:56.545Z"
   },
   {
    "duration": 320,
    "start_time": "2023-04-20T04:31:26.199Z"
   },
   {
    "duration": 5,
    "start_time": "2023-04-20T04:33:07.160Z"
   },
   {
    "duration": 2,
    "start_time": "2023-04-20T04:33:11.434Z"
   },
   {
    "duration": 4,
    "start_time": "2023-04-20T04:33:12.202Z"
   },
   {
    "duration": 1779,
    "start_time": "2023-04-25T06:00:55.237Z"
   },
   {
    "duration": 1140,
    "start_time": "2023-04-25T06:00:58.292Z"
   },
   {
    "duration": 26,
    "start_time": "2023-04-25T06:01:00.674Z"
   },
   {
    "duration": 10,
    "start_time": "2023-04-25T06:01:02.231Z"
   },
   {
    "duration": 6,
    "start_time": "2023-04-25T06:01:04.005Z"
   },
   {
    "duration": 273,
    "start_time": "2023-04-25T06:01:17.786Z"
   },
   {
    "duration": 47,
    "start_time": "2023-04-25T06:01:20.383Z"
   },
   {
    "duration": 7,
    "start_time": "2023-04-25T06:01:22.079Z"
   },
   {
    "duration": 19,
    "start_time": "2023-04-25T06:01:24.062Z"
   },
   {
    "duration": 294,
    "start_time": "2023-04-25T06:01:24.902Z"
   },
   {
    "duration": 257,
    "start_time": "2023-04-25T06:01:26.661Z"
   },
   {
    "duration": 33,
    "start_time": "2023-04-25T06:01:30.083Z"
   },
   {
    "duration": 4,
    "start_time": "2023-04-25T06:14:21.289Z"
   },
   {
    "duration": 166,
    "start_time": "2023-04-25T06:15:12.995Z"
   },
   {
    "duration": 393,
    "start_time": "2023-04-25T06:19:12.409Z"
   },
   {
    "duration": 2794,
    "start_time": "2023-04-25T06:21:30.743Z"
   },
   {
    "duration": 972,
    "start_time": "2023-04-25T06:21:53.321Z"
   },
   {
    "duration": 32,
    "start_time": "2023-04-25T06:29:06.979Z"
   },
   {
    "duration": 415,
    "start_time": "2023-04-25T06:29:37.764Z"
   },
   {
    "duration": 404,
    "start_time": "2023-04-25T06:29:57.061Z"
   },
   {
    "duration": 51,
    "start_time": "2023-04-25T06:30:25.848Z"
   },
   {
    "duration": 26,
    "start_time": "2023-04-25T06:30:51.047Z"
   },
   {
    "duration": 8,
    "start_time": "2023-04-25T06:31:01.276Z"
   },
   {
    "duration": 5,
    "start_time": "2023-04-25T06:31:36.902Z"
   },
   {
    "duration": 886,
    "start_time": "2023-04-25T06:31:36.908Z"
   },
   {
    "duration": 22,
    "start_time": "2023-04-25T06:31:37.795Z"
   },
   {
    "duration": 9,
    "start_time": "2023-04-25T06:31:37.819Z"
   },
   {
    "duration": 22,
    "start_time": "2023-04-25T06:31:37.831Z"
   },
   {
    "duration": 265,
    "start_time": "2023-04-25T06:31:37.856Z"
   },
   {
    "duration": 65,
    "start_time": "2023-04-25T06:31:38.123Z"
   },
   {
    "duration": 8,
    "start_time": "2023-04-25T06:31:38.190Z"
   },
   {
    "duration": 24,
    "start_time": "2023-04-25T06:31:38.200Z"
   },
   {
    "duration": 287,
    "start_time": "2023-04-25T06:31:38.225Z"
   },
   {
    "duration": 266,
    "start_time": "2023-04-25T06:31:38.514Z"
   },
   {
    "duration": 29,
    "start_time": "2023-04-25T06:31:38.782Z"
   },
   {
    "duration": 1708,
    "start_time": "2023-04-25T06:33:24.072Z"
   },
   {
    "duration": 445,
    "start_time": "2023-04-25T06:33:55.424Z"
   },
   {
    "duration": 3,
    "start_time": "2023-04-25T06:34:31.707Z"
   },
   {
    "duration": 181641,
    "start_time": "2023-04-25T06:34:35.420Z"
   },
   {
    "duration": 132,
    "start_time": "2023-04-25T06:37:44.586Z"
   },
   {
    "duration": 19,
    "start_time": "2023-04-25T06:42:19.834Z"
   },
   {
    "duration": 218,
    "start_time": "2023-04-25T06:42:27.516Z"
   },
   {
    "duration": 686163,
    "start_time": "2023-04-25T06:43:51.626Z"
   },
   {
    "duration": 21,
    "start_time": "2023-04-25T06:55:31.912Z"
   },
   {
    "duration": 8,
    "start_time": "2023-04-25T06:55:40.972Z"
   },
   {
    "duration": 17,
    "start_time": "2023-04-25T06:55:50.291Z"
   },
   {
    "duration": 5,
    "start_time": "2023-04-25T06:56:08.532Z"
   },
   {
    "duration": 3,
    "start_time": "2023-04-25T06:57:06.740Z"
   },
   {
    "duration": 2093,
    "start_time": "2023-04-25T06:57:40.476Z"
   },
   {
    "duration": 4,
    "start_time": "2023-04-25T06:58:10.117Z"
   },
   {
    "duration": 878,
    "start_time": "2023-04-25T06:58:10.122Z"
   },
   {
    "duration": 24,
    "start_time": "2023-04-25T06:58:11.002Z"
   },
   {
    "duration": 28,
    "start_time": "2023-04-25T06:58:11.028Z"
   },
   {
    "duration": 44,
    "start_time": "2023-04-25T06:58:11.061Z"
   },
   {
    "duration": 285,
    "start_time": "2023-04-25T06:58:11.108Z"
   },
   {
    "duration": 57,
    "start_time": "2023-04-25T06:58:11.394Z"
   },
   {
    "duration": 9,
    "start_time": "2023-04-25T06:58:11.453Z"
   },
   {
    "duration": 23,
    "start_time": "2023-04-25T06:58:11.464Z"
   },
   {
    "duration": 290,
    "start_time": "2023-04-25T06:58:11.488Z"
   },
   {
    "duration": 264,
    "start_time": "2023-04-25T06:58:11.780Z"
   },
   {
    "duration": 32,
    "start_time": "2023-04-25T06:58:12.045Z"
   },
   {
    "duration": 33,
    "start_time": "2023-04-25T06:58:12.079Z"
   },
   {
    "duration": 6,
    "start_time": "2023-04-25T06:58:12.115Z"
   },
   {
    "duration": 24,
    "start_time": "2023-04-25T06:58:12.122Z"
   },
   {
    "duration": 22,
    "start_time": "2023-04-25T06:58:12.148Z"
   },
   {
    "duration": 3,
    "start_time": "2023-04-25T06:58:14.670Z"
   },
   {
    "duration": 2000,
    "start_time": "2023-04-25T06:58:16.519Z"
   },
   {
    "duration": 457,
    "start_time": "2023-04-25T06:59:32.401Z"
   },
   {
    "duration": 6,
    "start_time": "2023-04-25T06:59:41.861Z"
   },
   {
    "duration": 115188,
    "start_time": "2023-04-25T06:59:45.541Z"
   },
   {
    "duration": 19,
    "start_time": "2023-04-25T09:30:37.634Z"
   },
   {
    "duration": 4,
    "start_time": "2023-04-25T10:03:25.490Z"
   },
   {
    "duration": 811,
    "start_time": "2023-04-25T10:03:25.499Z"
   },
   {
    "duration": 21,
    "start_time": "2023-04-25T10:03:26.312Z"
   },
   {
    "duration": 16,
    "start_time": "2023-04-25T10:03:26.334Z"
   },
   {
    "duration": 19,
    "start_time": "2023-04-25T10:03:26.351Z"
   },
   {
    "duration": 231,
    "start_time": "2023-04-25T10:03:26.373Z"
   },
   {
    "duration": 50,
    "start_time": "2023-04-25T10:03:26.606Z"
   },
   {
    "duration": 9,
    "start_time": "2023-04-25T10:03:26.658Z"
   },
   {
    "duration": 33,
    "start_time": "2023-04-25T10:03:26.668Z"
   },
   {
    "duration": 465,
    "start_time": "2023-04-25T10:03:26.702Z"
   },
   {
    "duration": 269,
    "start_time": "2023-04-25T10:03:27.169Z"
   },
   {
    "duration": 35,
    "start_time": "2023-04-25T10:03:27.440Z"
   },
   {
    "duration": 21,
    "start_time": "2023-04-25T10:03:27.478Z"
   },
   {
    "duration": 7,
    "start_time": "2023-04-25T10:03:27.501Z"
   },
   {
    "duration": 17,
    "start_time": "2023-04-25T10:03:27.510Z"
   },
   {
    "duration": 10,
    "start_time": "2023-04-25T10:03:27.548Z"
   },
   {
    "duration": 4,
    "start_time": "2023-04-25T10:03:27.564Z"
   },
   {
    "duration": 520,
    "start_time": "2023-04-25T10:03:27.569Z"
   },
   {
    "duration": 10,
    "start_time": "2023-04-25T10:03:36.945Z"
   },
   {
    "duration": 4392,
    "start_time": "2023-04-25T14:11:52.914Z"
   },
   {
    "duration": 8,
    "start_time": "2023-04-25T14:12:05.831Z"
   },
   {
    "duration": 3816,
    "start_time": "2023-04-25T14:12:05.841Z"
   },
   {
    "duration": 31,
    "start_time": "2023-04-25T14:12:09.659Z"
   },
   {
    "duration": 15,
    "start_time": "2023-04-25T14:12:09.692Z"
   },
   {
    "duration": 15,
    "start_time": "2023-04-25T14:12:09.708Z"
   },
   {
    "duration": 283,
    "start_time": "2023-04-25T14:12:09.725Z"
   },
   {
    "duration": 59,
    "start_time": "2023-04-25T14:12:10.011Z"
   },
   {
    "duration": 7,
    "start_time": "2023-04-25T14:12:10.072Z"
   },
   {
    "duration": 38,
    "start_time": "2023-04-25T14:12:10.080Z"
   },
   {
    "duration": 306,
    "start_time": "2023-04-25T14:12:10.121Z"
   },
   {
    "duration": 294,
    "start_time": "2023-04-25T14:12:10.428Z"
   },
   {
    "duration": 29,
    "start_time": "2023-04-25T14:12:10.723Z"
   },
   {
    "duration": 24,
    "start_time": "2023-04-25T14:12:10.753Z"
   },
   {
    "duration": 7,
    "start_time": "2023-04-25T14:12:10.779Z"
   },
   {
    "duration": 16,
    "start_time": "2023-04-25T14:12:10.813Z"
   },
   {
    "duration": 6,
    "start_time": "2023-04-25T14:12:10.830Z"
   },
   {
    "duration": 4,
    "start_time": "2023-04-25T14:12:10.837Z"
   },
   {
    "duration": 652,
    "start_time": "2023-04-25T14:12:10.843Z"
   },
   {
    "duration": 3,
    "start_time": "2023-04-25T14:12:11.496Z"
   },
   {
    "duration": 4323,
    "start_time": "2023-04-28T09:45:47.560Z"
   },
   {
    "duration": 3443,
    "start_time": "2023-04-28T09:45:51.885Z"
   },
   {
    "duration": 31,
    "start_time": "2023-04-28T09:45:55.329Z"
   },
   {
    "duration": 10,
    "start_time": "2023-04-28T09:45:55.362Z"
   },
   {
    "duration": 11,
    "start_time": "2023-04-28T09:45:55.374Z"
   },
   {
    "duration": 267,
    "start_time": "2023-04-28T09:45:55.386Z"
   },
   {
    "duration": 59,
    "start_time": "2023-04-28T09:45:55.654Z"
   },
   {
    "duration": 7,
    "start_time": "2023-04-28T09:45:55.714Z"
   },
   {
    "duration": 24,
    "start_time": "2023-04-28T09:45:55.723Z"
   },
   {
    "duration": 304,
    "start_time": "2023-04-28T09:45:55.749Z"
   },
   {
    "duration": 285,
    "start_time": "2023-04-28T09:45:56.055Z"
   },
   {
    "duration": 28,
    "start_time": "2023-04-28T09:45:56.341Z"
   },
   {
    "duration": 36,
    "start_time": "2023-04-28T09:45:56.370Z"
   },
   {
    "duration": 7,
    "start_time": "2023-04-28T09:45:56.408Z"
   },
   {
    "duration": 19,
    "start_time": "2023-04-28T09:45:56.416Z"
   },
   {
    "duration": 9,
    "start_time": "2023-04-28T09:45:56.437Z"
   },
   {
    "duration": 636,
    "start_time": "2023-04-28T09:47:49.176Z"
   },
   {
    "duration": 3,
    "start_time": "2023-04-28T09:47:51.936Z"
   },
   {
    "duration": 3,
    "start_time": "2023-04-28T09:47:53.613Z"
   },
   {
    "duration": 845,
    "start_time": "2023-04-28T09:47:56.534Z"
   },
   {
    "duration": 424253,
    "start_time": "2023-04-28T09:48:00.928Z"
   },
   {
    "duration": 9,
    "start_time": "2023-04-28T10:49:11.250Z"
   },
   {
    "duration": 5,
    "start_time": "2023-04-28T10:58:04.460Z"
   },
   {
    "duration": 373,
    "start_time": "2023-04-28T11:00:34.133Z"
   },
   {
    "duration": 5,
    "start_time": "2023-04-28T11:01:10.735Z"
   },
   {
    "duration": 4,
    "start_time": "2023-04-28T11:13:41.399Z"
   },
   {
    "duration": 13,
    "start_time": "2023-04-28T11:22:08.760Z"
   },
   {
    "duration": 885,
    "start_time": "2023-04-28T11:25:45.010Z"
   },
   {
    "duration": 4,
    "start_time": "2023-04-28T11:27:16.875Z"
   },
   {
    "duration": 5,
    "start_time": "2023-04-28T11:28:17.358Z"
   },
   {
    "duration": 377361,
    "start_time": "2023-04-28T11:36:31.749Z"
   },
   {
    "duration": 53106,
    "start_time": "2023-04-28T11:45:33.787Z"
   },
   {
    "duration": 30,
    "start_time": "2023-04-28T11:53:36.514Z"
   },
   {
    "duration": 6,
    "start_time": "2023-04-28T11:53:49.920Z"
   },
   {
    "duration": 3205,
    "start_time": "2023-04-28T11:53:54.277Z"
   },
   {
    "duration": 3344,
    "start_time": "2023-04-28T11:54:11.637Z"
   },
   {
    "duration": 2729,
    "start_time": "2023-04-28T11:55:35.136Z"
   },
   {
    "duration": 56,
    "start_time": "2023-04-28T11:55:41.805Z"
   },
   {
    "duration": 2962,
    "start_time": "2023-04-28T11:55:49.583Z"
   },
   {
    "duration": 22,
    "start_time": "2023-04-28T11:58:36.422Z"
   },
   {
    "duration": 4,
    "start_time": "2023-04-28T11:58:53.273Z"
   },
   {
    "duration": 236,
    "start_time": "2023-04-28T11:58:57.327Z"
   },
   {
    "duration": 93069,
    "start_time": "2023-04-28T11:59:04.505Z"
   },
   {
    "duration": 88603,
    "start_time": "2023-04-28T12:00:51.066Z"
   },
   {
    "duration": 81092,
    "start_time": "2023-04-28T12:05:05.691Z"
   },
   {
    "duration": 23,
    "start_time": "2023-04-28T12:10:03.642Z"
   },
   {
    "duration": 47947,
    "start_time": "2023-04-28T12:10:42.574Z"
   },
   {
    "duration": 155073,
    "start_time": "2023-04-28T12:11:39.995Z"
   },
   {
    "duration": 2090813,
    "start_time": "2023-04-28T12:17:19.051Z"
   },
   {
    "duration": 1283202,
    "start_time": "2023-04-28T12:57:10.733Z"
   },
   {
    "duration": 5850,
    "start_time": "2023-04-29T12:08:10.014Z"
   },
   {
    "duration": 3508,
    "start_time": "2023-04-29T12:08:15.866Z"
   },
   {
    "duration": 49,
    "start_time": "2023-04-29T12:08:19.376Z"
   },
   {
    "duration": 37,
    "start_time": "2023-04-29T12:08:19.431Z"
   },
   {
    "duration": 6,
    "start_time": "2023-04-29T12:08:19.470Z"
   },
   {
    "duration": 383,
    "start_time": "2023-04-29T12:08:19.478Z"
   },
   {
    "duration": 90,
    "start_time": "2023-04-29T12:08:19.864Z"
   },
   {
    "duration": 9,
    "start_time": "2023-04-29T12:08:19.956Z"
   },
   {
    "duration": 34,
    "start_time": "2023-04-29T12:08:19.967Z"
   },
   {
    "duration": 414,
    "start_time": "2023-04-29T12:08:20.003Z"
   },
   {
    "duration": 382,
    "start_time": "2023-04-29T12:08:20.418Z"
   },
   {
    "duration": 53,
    "start_time": "2023-04-29T12:08:20.804Z"
   },
   {
    "duration": 34,
    "start_time": "2023-04-29T12:08:20.859Z"
   },
   {
    "duration": 14,
    "start_time": "2023-04-29T12:08:20.898Z"
   },
   {
    "duration": 64,
    "start_time": "2023-04-29T12:08:20.914Z"
   },
   {
    "duration": 10,
    "start_time": "2023-04-29T12:08:20.981Z"
   },
   {
    "duration": 852,
    "start_time": "2023-04-29T12:08:20.993Z"
   },
   {
    "duration": 3,
    "start_time": "2023-04-29T12:08:21.847Z"
   },
   {
    "duration": 7,
    "start_time": "2023-04-29T12:08:21.852Z"
   },
   {
    "duration": 1055,
    "start_time": "2023-04-29T12:08:21.860Z"
   },
   {
    "duration": 467869,
    "start_time": "2023-04-29T12:08:22.921Z"
   },
   {
    "duration": 14,
    "start_time": "2023-04-29T12:16:10.798Z"
   },
   {
    "duration": 12,
    "start_time": "2023-04-29T12:16:10.814Z"
   },
   {
    "duration": 2,
    "start_time": "2023-04-29T12:16:10.828Z"
   },
   {
    "duration": 4,
    "start_time": "2023-04-29T12:28:25.121Z"
   },
   {
    "duration": 369,
    "start_time": "2023-04-29T12:28:27.104Z"
   },
   {
    "duration": 16,
    "start_time": "2023-04-29T12:28:33.361Z"
   },
   {
    "duration": 865,
    "start_time": "2023-04-29T12:28:35.255Z"
   },
   {
    "duration": 18,
    "start_time": "2023-04-29T12:32:24.850Z"
   },
   {
    "duration": 23237,
    "start_time": "2023-04-29T12:32:37.253Z"
   },
   {
    "duration": 27,
    "start_time": "2023-04-29T12:44:51.382Z"
   },
   {
    "duration": 18,
    "start_time": "2023-04-29T12:45:48.623Z"
   },
   {
    "duration": 10,
    "start_time": "2023-04-29T12:46:05.590Z"
   },
   {
    "duration": 26,
    "start_time": "2023-04-29T12:46:28.395Z"
   },
   {
    "duration": 26,
    "start_time": "2023-04-29T12:46:35.141Z"
   },
   {
    "duration": 13,
    "start_time": "2023-04-29T12:46:41.615Z"
   },
   {
    "duration": 4535,
    "start_time": "2023-04-29T13:10:25.725Z"
   },
   {
    "duration": 935,
    "start_time": "2023-04-29T13:10:30.263Z"
   },
   {
    "duration": 36,
    "start_time": "2023-04-29T13:10:31.201Z"
   },
   {
    "duration": 62,
    "start_time": "2023-04-29T13:10:31.239Z"
   },
   {
    "duration": 38,
    "start_time": "2023-04-29T13:10:31.305Z"
   },
   {
    "duration": 315,
    "start_time": "2023-04-29T13:10:31.345Z"
   },
   {
    "duration": 70,
    "start_time": "2023-04-29T13:10:31.662Z"
   },
   {
    "duration": 85,
    "start_time": "2023-04-29T13:10:31.734Z"
   },
   {
    "duration": 41,
    "start_time": "2023-04-29T13:10:31.821Z"
   },
   {
    "duration": 351,
    "start_time": "2023-04-29T13:10:31.864Z"
   },
   {
    "duration": 339,
    "start_time": "2023-04-29T13:10:32.217Z"
   },
   {
    "duration": 44,
    "start_time": "2023-04-29T13:10:32.559Z"
   },
   {
    "duration": 38,
    "start_time": "2023-04-29T13:10:32.605Z"
   },
   {
    "duration": 10,
    "start_time": "2023-04-29T13:10:32.647Z"
   },
   {
    "duration": 43,
    "start_time": "2023-04-29T13:10:32.658Z"
   },
   {
    "duration": 8,
    "start_time": "2023-04-29T13:10:32.703Z"
   },
   {
    "duration": 908,
    "start_time": "2023-04-29T13:10:32.713Z"
   },
   {
    "duration": 3,
    "start_time": "2023-04-29T13:10:33.623Z"
   },
   {
    "duration": 19,
    "start_time": "2023-04-29T13:10:33.629Z"
   },
   {
    "duration": 868,
    "start_time": "2023-04-29T13:10:33.651Z"
   },
   {
    "duration": 458079,
    "start_time": "2023-04-29T13:10:34.521Z"
   },
   {
    "duration": 11,
    "start_time": "2023-04-29T13:18:12.602Z"
   },
   {
    "duration": 7,
    "start_time": "2023-04-29T13:18:12.615Z"
   },
   {
    "duration": 13,
    "start_time": "2023-04-29T13:18:12.623Z"
   },
   {
    "duration": 64,
    "start_time": "2023-04-29T13:18:12.638Z"
   },
   {
    "duration": 14,
    "start_time": "2023-04-29T13:18:12.704Z"
   },
   {
    "duration": 928,
    "start_time": "2023-04-29T13:18:12.720Z"
   },
   {
    "duration": 82953,
    "start_time": "2023-04-29T13:18:13.650Z"
   },
   {
    "duration": 3131,
    "start_time": "2023-04-29T13:19:36.606Z"
   },
   {
    "duration": 88167,
    "start_time": "2023-04-29T13:19:39.740Z"
   },
   {
    "duration": 199602,
    "start_time": "2023-04-29T13:21:07.909Z"
   },
   {
    "duration": 14,
    "start_time": "2023-04-29T13:24:27.514Z"
   },
   {
    "duration": 28990,
    "start_time": "2023-04-29T13:24:27.530Z"
   },
   {
    "duration": 17,
    "start_time": "2023-04-29T13:26:17.176Z"
   },
   {
    "duration": 4401,
    "start_time": "2023-05-01T04:34:31.881Z"
   },
   {
    "duration": 3318,
    "start_time": "2023-05-01T04:34:39.983Z"
   },
   {
    "duration": 37,
    "start_time": "2023-05-01T04:34:45.986Z"
   },
   {
    "duration": 12,
    "start_time": "2023-05-01T04:34:47.270Z"
   },
   {
    "duration": 8,
    "start_time": "2023-05-01T04:34:48.747Z"
   },
   {
    "duration": 259,
    "start_time": "2023-05-01T04:34:50.740Z"
   },
   {
    "duration": 64,
    "start_time": "2023-05-01T04:34:52.634Z"
   },
   {
    "duration": 8,
    "start_time": "2023-05-01T04:34:53.518Z"
   },
   {
    "duration": 22,
    "start_time": "2023-05-01T04:34:56.008Z"
   },
   {
    "duration": 306,
    "start_time": "2023-05-01T04:34:57.333Z"
   },
   {
    "duration": 316,
    "start_time": "2023-05-01T04:34:59.070Z"
   },
   {
    "duration": 35,
    "start_time": "2023-05-01T04:35:01.922Z"
   },
   {
    "duration": 633,
    "start_time": "2023-05-01T04:37:54.578Z"
   },
   {
    "duration": 3,
    "start_time": "2023-05-01T04:37:57.488Z"
   },
   {
    "duration": 348,
    "start_time": "2023-05-01T04:42:38.038Z"
   },
   {
    "duration": 4,
    "start_time": "2023-05-01T04:42:57.538Z"
   },
   {
    "duration": 18,
    "start_time": "2023-05-01T04:43:02.474Z"
   },
   {
    "duration": 19,
    "start_time": "2023-05-01T04:45:32.098Z"
   },
   {
    "duration": 434,
    "start_time": "2023-05-01T04:45:35.109Z"
   },
   {
    "duration": 17,
    "start_time": "2023-05-01T04:45:36.732Z"
   },
   {
    "duration": 3,
    "start_time": "2023-05-01T04:45:50.779Z"
   },
   {
    "duration": 20,
    "start_time": "2023-05-01T04:46:21.477Z"
   },
   {
    "duration": 4,
    "start_time": "2023-05-01T04:46:47.234Z"
   },
   {
    "duration": 4243,
    "start_time": "2023-05-01T04:47:06.612Z"
   },
   {
    "duration": 2291544,
    "start_time": "2023-05-01T04:47:28.623Z"
   },
   {
    "duration": 9,
    "start_time": "2023-05-01T07:10:49.410Z"
   },
   {
    "duration": 4,
    "start_time": "2023-05-01T07:10:56.482Z"
   },
   {
    "duration": 2,
    "start_time": "2023-05-01T07:10:57.602Z"
   },
   {
    "duration": 19,
    "start_time": "2023-05-01T07:27:18.188Z"
   },
   {
    "duration": 4,
    "start_time": "2023-05-01T07:27:25.846Z"
   },
   {
    "duration": 46,
    "start_time": "2023-05-01T07:27:30.833Z"
   },
   {
    "duration": 5,
    "start_time": "2023-05-01T07:36:33.354Z"
   },
   {
    "duration": 21,
    "start_time": "2023-05-01T07:36:38.158Z"
   },
   {
    "duration": 5,
    "start_time": "2023-05-01T07:38:17.812Z"
   },
   {
    "duration": 400888,
    "start_time": "2023-05-01T07:38:22.125Z"
   },
   {
    "duration": 431085,
    "start_time": "2023-05-01T07:46:18.393Z"
   },
   {
    "duration": 9,
    "start_time": "2023-05-01T07:58:13.381Z"
   },
   {
    "duration": 76218,
    "start_time": "2023-05-01T08:01:00.610Z"
   },
   {
    "duration": 108814,
    "start_time": "2023-05-01T08:02:28.477Z"
   },
   {
    "duration": 113150,
    "start_time": "2023-05-01T08:10:26.809Z"
   },
   {
    "duration": 68,
    "start_time": "2023-05-01T08:14:41.698Z"
   },
   {
    "duration": 7,
    "start_time": "2023-05-01T08:15:54.002Z"
   },
   {
    "duration": 336393,
    "start_time": "2023-05-01T08:16:01.501Z"
   },
   {
    "duration": 329535,
    "start_time": "2023-05-01T08:23:52.598Z"
   },
   {
    "duration": 373639,
    "start_time": "2023-05-01T08:31:11.906Z"
   },
   {
    "duration": 70718,
    "start_time": "2023-05-01T08:42:42.287Z"
   },
   {
    "duration": 532923,
    "start_time": "2023-05-01T08:44:26.096Z"
   },
   {
    "duration": 44,
    "start_time": "2023-05-01T08:54:16.213Z"
   },
   {
    "duration": 195939,
    "start_time": "2023-05-01T08:57:40.740Z"
   },
   {
    "duration": 61509,
    "start_time": "2023-05-01T09:01:10.673Z"
   },
   {
    "duration": 51,
    "start_time": "2023-05-01T09:02:29.003Z"
   },
   {
    "duration": 58,
    "start_time": "2023-05-01T09:02:38.243Z"
   },
   {
    "duration": 6,
    "start_time": "2023-05-01T09:02:49.133Z"
   },
   {
    "duration": 4406,
    "start_time": "2023-05-01T09:03:53.650Z"
   },
   {
    "duration": 26534,
    "start_time": "2023-05-01T09:06:09.197Z"
   },
   {
    "duration": 2537851,
    "start_time": "2023-05-01T09:06:41.974Z"
   },
   {
    "duration": 3037,
    "start_time": "2023-05-01T11:52:17.906Z"
   },
   {
    "duration": 13829,
    "start_time": "2023-05-01T11:52:46.524Z"
   },
   {
    "duration": 37,
    "start_time": "2023-05-01T11:53:14.106Z"
   },
   {
    "duration": 23,
    "start_time": "2023-05-01T11:54:11.314Z"
   },
   {
    "duration": 3298,
    "start_time": "2023-05-01T11:55:08.720Z"
   },
   {
    "duration": 26,
    "start_time": "2023-05-01T11:55:16.820Z"
   },
   {
    "duration": 34,
    "start_time": "2023-05-01T11:55:32.946Z"
   }
  ],
  "kernelspec": {
   "display_name": "Python 3 (ipykernel)",
   "language": "python",
   "name": "python3"
  },
  "language_info": {
   "codemirror_mode": {
    "name": "ipython",
    "version": 3
   },
   "file_extension": ".py",
   "mimetype": "text/x-python",
   "name": "python",
   "nbconvert_exporter": "python",
   "pygments_lexer": "ipython3",
   "version": "3.8.13"
  },
  "toc": {
   "base_numbering": 1,
   "nav_menu": {},
   "number_sections": true,
   "sideBar": true,
   "skip_h1_title": true,
   "title_cell": "Содержание",
   "title_sidebar": "Contents",
   "toc_cell": true,
   "toc_position": {
    "height": "calc(100% - 180px)",
    "left": "10px",
    "top": "150px",
    "width": "302.391px"
   },
   "toc_section_display": true,
   "toc_window_display": false
  }
 },
 "nbformat": 4,
 "nbformat_minor": 4
}
