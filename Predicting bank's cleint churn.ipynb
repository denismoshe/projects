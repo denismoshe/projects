{
 "cells": [
  {
   "cell_type": "markdown",
   "metadata": {},
   "source": [
    "# Predicting bank's client churn"
   ]
  },
  {
   "cell_type": "markdown",
   "metadata": {},
   "source": [
    "Customers have been leaving \"Beta Bank,\" albeit slowly but noticeably, every month. Bank marketers have determined that retaining existing customers is more cost-effective than attracting new ones.\n",
    "\n",
    "The task at hand is to predict whether a customer will leave the bank in the near future. Historical data regarding customer behavior and contract terminations with the bank have been provided. \n",
    "\n",
    "The project's goal is to build a model with a significantly high F1 score. The model is considered successful if the F1 score exceeds 0.59. Additionally, it is necessary to measure the AUC-ROC and compare its value with the F1 score.\n",
    "\n",
    "Data source: https://www.kaggle.com/barelydedicated/bank-customer-churn-modeling"
   ]
  },
  {
   "cell_type": "markdown",
   "metadata": {},
   "source": [
    "## Preliminary Data Analysis"
   ]
  },
  {
   "cell_type": "code",
   "execution_count": 1,
   "metadata": {},
   "outputs": [],
   "source": [
    "import matplotlib.pyplot as plt\n",
    "import pandas as pd\n",
    "import numpy as np\n",
    "\n",
    "from sklearn.model_selection import train_test_split\n",
    "from sklearn.tree import DecisionTreeClassifier\n",
    "from sklearn.ensemble import RandomForestClassifier\n",
    "from sklearn.linear_model import LogisticRegression \n",
    "from sklearn.metrics import (accuracy_score, \n",
    "                             recall_score, \n",
    "                             precision_score, \n",
    "                             confusion_matrix, \n",
    "                             f1_score, \n",
    "                             roc_curve, \n",
    "                             roc_auc_score\n",
    ")                             \n",
    "from sklearn.preprocessing import StandardScaler\n",
    "from sklearn.utils import shuffle"
   ]
  },
  {
   "cell_type": "markdown",
   "metadata": {},
   "source": [
    "<div class=\"alert alert-block alert-success\">\n",
    "<b>✔️ Успех:</b>\n",
    "\n",
    "Импорт выглядит отлично 👍\n",
    "</div>"
   ]
  },
  {
   "cell_type": "code",
   "execution_count": 2,
   "metadata": {},
   "outputs": [],
   "source": [
    "data = pd.read_csv('/Users/mojseenkodenis/Desktop/Churn.csv')"
   ]
  },
  {
   "cell_type": "code",
   "execution_count": 3,
   "metadata": {},
   "outputs": [
    {
     "name": "stdout",
     "output_type": "stream",
     "text": [
      "<class 'pandas.core.frame.DataFrame'>\n",
      "RangeIndex: 10000 entries, 0 to 9999\n",
      "Data columns (total 14 columns):\n",
      " #   Column           Non-Null Count  Dtype  \n",
      "---  ------           --------------  -----  \n",
      " 0   RowNumber        10000 non-null  int64  \n",
      " 1   CustomerId       10000 non-null  int64  \n",
      " 2   Surname          10000 non-null  object \n",
      " 3   CreditScore      10000 non-null  int64  \n",
      " 4   Geography        10000 non-null  object \n",
      " 5   Gender           10000 non-null  object \n",
      " 6   Age              10000 non-null  int64  \n",
      " 7   Tenure           9091 non-null   float64\n",
      " 8   Balance          10000 non-null  float64\n",
      " 9   NumOfProducts    10000 non-null  int64  \n",
      " 10  HasCrCard        10000 non-null  int64  \n",
      " 11  IsActiveMember   10000 non-null  int64  \n",
      " 12  EstimatedSalary  10000 non-null  float64\n",
      " 13  Exited           10000 non-null  int64  \n",
      "dtypes: float64(3), int64(8), object(3)\n",
      "memory usage: 1.1+ MB\n"
     ]
    }
   ],
   "source": [
    "data.info()"
   ]
  },
  {
   "cell_type": "code",
   "execution_count": 4,
   "metadata": {},
   "outputs": [
    {
     "data": {
      "text/html": [
       "<div>\n",
       "<style scoped>\n",
       "    .dataframe tbody tr th:only-of-type {\n",
       "        vertical-align: middle;\n",
       "    }\n",
       "\n",
       "    .dataframe tbody tr th {\n",
       "        vertical-align: top;\n",
       "    }\n",
       "\n",
       "    .dataframe thead th {\n",
       "        text-align: right;\n",
       "    }\n",
       "</style>\n",
       "<table border=\"1\" class=\"dataframe\">\n",
       "  <thead>\n",
       "    <tr style=\"text-align: right;\">\n",
       "      <th></th>\n",
       "      <th>RowNumber</th>\n",
       "      <th>CustomerId</th>\n",
       "      <th>Surname</th>\n",
       "      <th>CreditScore</th>\n",
       "      <th>Geography</th>\n",
       "      <th>Gender</th>\n",
       "      <th>Age</th>\n",
       "      <th>Tenure</th>\n",
       "      <th>Balance</th>\n",
       "      <th>NumOfProducts</th>\n",
       "      <th>HasCrCard</th>\n",
       "      <th>IsActiveMember</th>\n",
       "      <th>EstimatedSalary</th>\n",
       "      <th>Exited</th>\n",
       "    </tr>\n",
       "  </thead>\n",
       "  <tbody>\n",
       "    <tr>\n",
       "      <th>0</th>\n",
       "      <td>1</td>\n",
       "      <td>15634602</td>\n",
       "      <td>Hargrave</td>\n",
       "      <td>619</td>\n",
       "      <td>France</td>\n",
       "      <td>Female</td>\n",
       "      <td>42</td>\n",
       "      <td>2.0</td>\n",
       "      <td>0.00</td>\n",
       "      <td>1</td>\n",
       "      <td>1</td>\n",
       "      <td>1</td>\n",
       "      <td>101348.88</td>\n",
       "      <td>1</td>\n",
       "    </tr>\n",
       "    <tr>\n",
       "      <th>1</th>\n",
       "      <td>2</td>\n",
       "      <td>15647311</td>\n",
       "      <td>Hill</td>\n",
       "      <td>608</td>\n",
       "      <td>Spain</td>\n",
       "      <td>Female</td>\n",
       "      <td>41</td>\n",
       "      <td>1.0</td>\n",
       "      <td>83807.86</td>\n",
       "      <td>1</td>\n",
       "      <td>0</td>\n",
       "      <td>1</td>\n",
       "      <td>112542.58</td>\n",
       "      <td>0</td>\n",
       "    </tr>\n",
       "    <tr>\n",
       "      <th>2</th>\n",
       "      <td>3</td>\n",
       "      <td>15619304</td>\n",
       "      <td>Onio</td>\n",
       "      <td>502</td>\n",
       "      <td>France</td>\n",
       "      <td>Female</td>\n",
       "      <td>42</td>\n",
       "      <td>8.0</td>\n",
       "      <td>159660.80</td>\n",
       "      <td>3</td>\n",
       "      <td>1</td>\n",
       "      <td>0</td>\n",
       "      <td>113931.57</td>\n",
       "      <td>1</td>\n",
       "    </tr>\n",
       "    <tr>\n",
       "      <th>3</th>\n",
       "      <td>4</td>\n",
       "      <td>15701354</td>\n",
       "      <td>Boni</td>\n",
       "      <td>699</td>\n",
       "      <td>France</td>\n",
       "      <td>Female</td>\n",
       "      <td>39</td>\n",
       "      <td>1.0</td>\n",
       "      <td>0.00</td>\n",
       "      <td>2</td>\n",
       "      <td>0</td>\n",
       "      <td>0</td>\n",
       "      <td>93826.63</td>\n",
       "      <td>0</td>\n",
       "    </tr>\n",
       "    <tr>\n",
       "      <th>4</th>\n",
       "      <td>5</td>\n",
       "      <td>15737888</td>\n",
       "      <td>Mitchell</td>\n",
       "      <td>850</td>\n",
       "      <td>Spain</td>\n",
       "      <td>Female</td>\n",
       "      <td>43</td>\n",
       "      <td>2.0</td>\n",
       "      <td>125510.82</td>\n",
       "      <td>1</td>\n",
       "      <td>1</td>\n",
       "      <td>1</td>\n",
       "      <td>79084.10</td>\n",
       "      <td>0</td>\n",
       "    </tr>\n",
       "  </tbody>\n",
       "</table>\n",
       "</div>"
      ],
      "text/plain": [
       "   RowNumber  CustomerId   Surname  CreditScore Geography  Gender  Age  \\\n",
       "0          1    15634602  Hargrave          619    France  Female   42   \n",
       "1          2    15647311      Hill          608     Spain  Female   41   \n",
       "2          3    15619304      Onio          502    France  Female   42   \n",
       "3          4    15701354      Boni          699    France  Female   39   \n",
       "4          5    15737888  Mitchell          850     Spain  Female   43   \n",
       "\n",
       "   Tenure    Balance  NumOfProducts  HasCrCard  IsActiveMember  \\\n",
       "0     2.0       0.00              1          1               1   \n",
       "1     1.0   83807.86              1          0               1   \n",
       "2     8.0  159660.80              3          1               0   \n",
       "3     1.0       0.00              2          0               0   \n",
       "4     2.0  125510.82              1          1               1   \n",
       "\n",
       "   EstimatedSalary  Exited  \n",
       "0        101348.88       1  \n",
       "1        112542.58       0  \n",
       "2        113931.57       1  \n",
       "3         93826.63       0  \n",
       "4         79084.10       0  "
      ]
     },
     "execution_count": 4,
     "metadata": {},
     "output_type": "execute_result"
    }
   ],
   "source": [
    "data.head()"
   ]
  },
  {
   "cell_type": "code",
   "execution_count": 5,
   "metadata": {},
   "outputs": [
    {
     "data": {
      "text/plain": [
       "909"
      ]
     },
     "execution_count": 5,
     "metadata": {},
     "output_type": "execute_result"
    }
   ],
   "source": [
    "data['Tenure'].isna().sum()"
   ]
  },
  {
   "cell_type": "code",
   "execution_count": 6,
   "metadata": {},
   "outputs": [
    {
     "data": {
      "text/plain": [
       "9.09"
      ]
     },
     "execution_count": 6,
     "metadata": {},
     "output_type": "execute_result"
    }
   ],
   "source": [
    "data['Tenure'].isna().sum()/len(data['Tenure']) * 100"
   ]
  },
  {
   "cell_type": "markdown",
   "metadata": {},
   "source": [
    "9% of the data contains missing values; however, their quantity is not very large, so they can be removed without harming the data analysis."
   ]
  },
  {
   "cell_type": "code",
   "execution_count": 7,
   "metadata": {},
   "outputs": [],
   "source": [
    "data = data.dropna()"
   ]
  },
  {
   "cell_type": "code",
   "execution_count": 8,
   "metadata": {},
   "outputs": [
    {
     "name": "stdout",
     "output_type": "stream",
     "text": [
      "<class 'pandas.core.frame.DataFrame'>\n",
      "Int64Index: 9091 entries, 0 to 9998\n",
      "Data columns (total 14 columns):\n",
      " #   Column           Non-Null Count  Dtype  \n",
      "---  ------           --------------  -----  \n",
      " 0   RowNumber        9091 non-null   int64  \n",
      " 1   CustomerId       9091 non-null   int64  \n",
      " 2   Surname          9091 non-null   object \n",
      " 3   CreditScore      9091 non-null   int64  \n",
      " 4   Geography        9091 non-null   object \n",
      " 5   Gender           9091 non-null   object \n",
      " 6   Age              9091 non-null   int64  \n",
      " 7   Tenure           9091 non-null   float64\n",
      " 8   Balance          9091 non-null   float64\n",
      " 9   NumOfProducts    9091 non-null   int64  \n",
      " 10  HasCrCard        9091 non-null   int64  \n",
      " 11  IsActiveMember   9091 non-null   int64  \n",
      " 12  EstimatedSalary  9091 non-null   float64\n",
      " 13  Exited           9091 non-null   int64  \n",
      "dtypes: float64(3), int64(8), object(3)\n",
      "memory usage: 1.0+ MB\n"
     ]
    }
   ],
   "source": [
    "data.info()"
   ]
  },
  {
   "cell_type": "code",
   "execution_count": 9,
   "metadata": {},
   "outputs": [
    {
     "data": {
      "text/plain": [
       "RowNumber          0\n",
       "CustomerId         0\n",
       "Surname            0\n",
       "CreditScore        0\n",
       "Geography          0\n",
       "Gender             0\n",
       "Age                0\n",
       "Tenure             0\n",
       "Balance            0\n",
       "NumOfProducts      0\n",
       "HasCrCard          0\n",
       "IsActiveMember     0\n",
       "EstimatedSalary    0\n",
       "Exited             0\n",
       "dtype: int64"
      ]
     },
     "execution_count": 9,
     "metadata": {},
     "output_type": "execute_result"
    }
   ],
   "source": [
    "data.isna().sum()"
   ]
  },
  {
   "cell_type": "code",
   "execution_count": 10,
   "metadata": {},
   "outputs": [
    {
     "data": {
      "text/plain": [
       "0"
      ]
     },
     "execution_count": 10,
     "metadata": {},
     "output_type": "execute_result"
    }
   ],
   "source": [
    "data.duplicated().sum()"
   ]
  },
  {
   "cell_type": "markdown",
   "metadata": {},
   "source": [
    "There were no duplicates in the data, so the data is ready for training models.\n",
    "\n",
    "Since the goal is to predict customer churn, the target feature in the study will be the \"Exited\" column, and the other columns will be used as features.\n",
    "\n",
    "At the same time, the first three columns (RowNumber, CustomerId, Surname) will not be useful for prediction, so they will be removed from the final dataset."
   ]
  },
  {
   "cell_type": "code",
   "execution_count": 11,
   "metadata": {},
   "outputs": [],
   "source": [
    "data = data.drop(['RowNumber', 'CustomerId', 'Surname'], axis=1)"
   ]
  },
  {
   "cell_type": "code",
   "execution_count": 12,
   "metadata": {},
   "outputs": [
    {
     "data": {
      "text/html": [
       "<div>\n",
       "<style scoped>\n",
       "    .dataframe tbody tr th:only-of-type {\n",
       "        vertical-align: middle;\n",
       "    }\n",
       "\n",
       "    .dataframe tbody tr th {\n",
       "        vertical-align: top;\n",
       "    }\n",
       "\n",
       "    .dataframe thead th {\n",
       "        text-align: right;\n",
       "    }\n",
       "</style>\n",
       "<table border=\"1\" class=\"dataframe\">\n",
       "  <thead>\n",
       "    <tr style=\"text-align: right;\">\n",
       "      <th></th>\n",
       "      <th>CreditScore</th>\n",
       "      <th>Geography</th>\n",
       "      <th>Gender</th>\n",
       "      <th>Age</th>\n",
       "      <th>Tenure</th>\n",
       "      <th>Balance</th>\n",
       "      <th>NumOfProducts</th>\n",
       "      <th>HasCrCard</th>\n",
       "      <th>IsActiveMember</th>\n",
       "      <th>EstimatedSalary</th>\n",
       "      <th>Exited</th>\n",
       "    </tr>\n",
       "  </thead>\n",
       "  <tbody>\n",
       "    <tr>\n",
       "      <th>0</th>\n",
       "      <td>619</td>\n",
       "      <td>France</td>\n",
       "      <td>Female</td>\n",
       "      <td>42</td>\n",
       "      <td>2.0</td>\n",
       "      <td>0.00</td>\n",
       "      <td>1</td>\n",
       "      <td>1</td>\n",
       "      <td>1</td>\n",
       "      <td>101348.88</td>\n",
       "      <td>1</td>\n",
       "    </tr>\n",
       "    <tr>\n",
       "      <th>1</th>\n",
       "      <td>608</td>\n",
       "      <td>Spain</td>\n",
       "      <td>Female</td>\n",
       "      <td>41</td>\n",
       "      <td>1.0</td>\n",
       "      <td>83807.86</td>\n",
       "      <td>1</td>\n",
       "      <td>0</td>\n",
       "      <td>1</td>\n",
       "      <td>112542.58</td>\n",
       "      <td>0</td>\n",
       "    </tr>\n",
       "    <tr>\n",
       "      <th>2</th>\n",
       "      <td>502</td>\n",
       "      <td>France</td>\n",
       "      <td>Female</td>\n",
       "      <td>42</td>\n",
       "      <td>8.0</td>\n",
       "      <td>159660.80</td>\n",
       "      <td>3</td>\n",
       "      <td>1</td>\n",
       "      <td>0</td>\n",
       "      <td>113931.57</td>\n",
       "      <td>1</td>\n",
       "    </tr>\n",
       "    <tr>\n",
       "      <th>3</th>\n",
       "      <td>699</td>\n",
       "      <td>France</td>\n",
       "      <td>Female</td>\n",
       "      <td>39</td>\n",
       "      <td>1.0</td>\n",
       "      <td>0.00</td>\n",
       "      <td>2</td>\n",
       "      <td>0</td>\n",
       "      <td>0</td>\n",
       "      <td>93826.63</td>\n",
       "      <td>0</td>\n",
       "    </tr>\n",
       "    <tr>\n",
       "      <th>4</th>\n",
       "      <td>850</td>\n",
       "      <td>Spain</td>\n",
       "      <td>Female</td>\n",
       "      <td>43</td>\n",
       "      <td>2.0</td>\n",
       "      <td>125510.82</td>\n",
       "      <td>1</td>\n",
       "      <td>1</td>\n",
       "      <td>1</td>\n",
       "      <td>79084.10</td>\n",
       "      <td>0</td>\n",
       "    </tr>\n",
       "  </tbody>\n",
       "</table>\n",
       "</div>"
      ],
      "text/plain": [
       "   CreditScore Geography  Gender  Age  Tenure    Balance  NumOfProducts  \\\n",
       "0          619    France  Female   42     2.0       0.00              1   \n",
       "1          608     Spain  Female   41     1.0   83807.86              1   \n",
       "2          502    France  Female   42     8.0  159660.80              3   \n",
       "3          699    France  Female   39     1.0       0.00              2   \n",
       "4          850     Spain  Female   43     2.0  125510.82              1   \n",
       "\n",
       "   HasCrCard  IsActiveMember  EstimatedSalary  Exited  \n",
       "0          1               1        101348.88       1  \n",
       "1          0               1        112542.58       0  \n",
       "2          1               0        113931.57       1  \n",
       "3          0               0         93826.63       0  \n",
       "4          1               1         79084.10       0  "
      ]
     },
     "execution_count": 12,
     "metadata": {},
     "output_type": "execute_result"
    }
   ],
   "source": [
    "data.head()"
   ]
  },
  {
   "cell_type": "code",
   "execution_count": 13,
   "metadata": {},
   "outputs": [],
   "source": [
    "target = data['Exited']\n",
    "features = data.drop('Exited', axis=1)"
   ]
  },
  {
   "cell_type": "code",
   "execution_count": 14,
   "metadata": {},
   "outputs": [
    {
     "name": "stdout",
     "output_type": "stream",
     "text": [
      "Train set: 0.5999340006599934\n",
      "Validation set: 0.1999780002199978\n",
      "Testing set: 0.2000879991200088\n"
     ]
    }
   ],
   "source": [
    "#Splitting data into train, validation and testing sets in 60%-20%-20% proportion\n",
    "features_train, features_valid_test, target_train, target_valid_test = train_test_split(features, \n",
    "                                                                                        target, \n",
    "                                                                                        test_size=0.4, \n",
    "                                                                                        random_state=12345)\n",
    "features_valid, features_test, target_valid, target_test = train_test_split(features_valid_test,\n",
    "                                                                            target_valid_test,\n",
    "                                                                            test_size=0.5, random_state=12345)\n",
    "print('Train set:', features_train.shape[0]/features.shape[0])\n",
    "print('Validation set:', features_valid.shape[0]/features.shape[0])\n",
    "print('Testing set:', features_test.shape[0]/features.shape[0])"
   ]
  },
  {
   "cell_type": "code",
   "execution_count": 15,
   "metadata": {},
   "outputs": [],
   "source": [
    "features_train = pd.get_dummies(features_train, drop_first=True)\n",
    "features_valid = pd.get_dummies(features_valid, drop_first=True)\n",
    "features_test = pd.get_dummies(features_test, drop_first=True)"
   ]
  },
  {
   "cell_type": "markdown",
   "metadata": {},
   "source": [
    "Now let's scale the quantitative features: CreditScore, Age, Tenure, Balance, and EstimatedSalary."
   ]
  },
  {
   "cell_type": "code",
   "execution_count": 16,
   "metadata": {},
   "outputs": [
    {
     "data": {
      "text/html": [
       "<style>#sk-container-id-1 {color: black;background-color: white;}#sk-container-id-1 pre{padding: 0;}#sk-container-id-1 div.sk-toggleable {background-color: white;}#sk-container-id-1 label.sk-toggleable__label {cursor: pointer;display: block;width: 100%;margin-bottom: 0;padding: 0.3em;box-sizing: border-box;text-align: center;}#sk-container-id-1 label.sk-toggleable__label-arrow:before {content: \"▸\";float: left;margin-right: 0.25em;color: #696969;}#sk-container-id-1 label.sk-toggleable__label-arrow:hover:before {color: black;}#sk-container-id-1 div.sk-estimator:hover label.sk-toggleable__label-arrow:before {color: black;}#sk-container-id-1 div.sk-toggleable__content {max-height: 0;max-width: 0;overflow: hidden;text-align: left;background-color: #f0f8ff;}#sk-container-id-1 div.sk-toggleable__content pre {margin: 0.2em;color: black;border-radius: 0.25em;background-color: #f0f8ff;}#sk-container-id-1 input.sk-toggleable__control:checked~div.sk-toggleable__content {max-height: 200px;max-width: 100%;overflow: auto;}#sk-container-id-1 input.sk-toggleable__control:checked~label.sk-toggleable__label-arrow:before {content: \"▾\";}#sk-container-id-1 div.sk-estimator input.sk-toggleable__control:checked~label.sk-toggleable__label {background-color: #d4ebff;}#sk-container-id-1 div.sk-label input.sk-toggleable__control:checked~label.sk-toggleable__label {background-color: #d4ebff;}#sk-container-id-1 input.sk-hidden--visually {border: 0;clip: rect(1px 1px 1px 1px);clip: rect(1px, 1px, 1px, 1px);height: 1px;margin: -1px;overflow: hidden;padding: 0;position: absolute;width: 1px;}#sk-container-id-1 div.sk-estimator {font-family: monospace;background-color: #f0f8ff;border: 1px dotted black;border-radius: 0.25em;box-sizing: border-box;margin-bottom: 0.5em;}#sk-container-id-1 div.sk-estimator:hover {background-color: #d4ebff;}#sk-container-id-1 div.sk-parallel-item::after {content: \"\";width: 100%;border-bottom: 1px solid gray;flex-grow: 1;}#sk-container-id-1 div.sk-label:hover label.sk-toggleable__label {background-color: #d4ebff;}#sk-container-id-1 div.sk-serial::before {content: \"\";position: absolute;border-left: 1px solid gray;box-sizing: border-box;top: 0;bottom: 0;left: 50%;z-index: 0;}#sk-container-id-1 div.sk-serial {display: flex;flex-direction: column;align-items: center;background-color: white;padding-right: 0.2em;padding-left: 0.2em;position: relative;}#sk-container-id-1 div.sk-item {position: relative;z-index: 1;}#sk-container-id-1 div.sk-parallel {display: flex;align-items: stretch;justify-content: center;background-color: white;position: relative;}#sk-container-id-1 div.sk-item::before, #sk-container-id-1 div.sk-parallel-item::before {content: \"\";position: absolute;border-left: 1px solid gray;box-sizing: border-box;top: 0;bottom: 0;left: 50%;z-index: -1;}#sk-container-id-1 div.sk-parallel-item {display: flex;flex-direction: column;z-index: 1;position: relative;background-color: white;}#sk-container-id-1 div.sk-parallel-item:first-child::after {align-self: flex-end;width: 50%;}#sk-container-id-1 div.sk-parallel-item:last-child::after {align-self: flex-start;width: 50%;}#sk-container-id-1 div.sk-parallel-item:only-child::after {width: 0;}#sk-container-id-1 div.sk-dashed-wrapped {border: 1px dashed gray;margin: 0 0.4em 0.5em 0.4em;box-sizing: border-box;padding-bottom: 0.4em;background-color: white;}#sk-container-id-1 div.sk-label label {font-family: monospace;font-weight: bold;display: inline-block;line-height: 1.2em;}#sk-container-id-1 div.sk-label-container {text-align: center;}#sk-container-id-1 div.sk-container {/* jupyter's `normalize.less` sets `[hidden] { display: none; }` but bootstrap.min.css set `[hidden] { display: none !important; }` so we also need the `!important` here to be able to override the default hidden behavior on the sphinx rendered scikit-learn.org. See: https://github.com/scikit-learn/scikit-learn/issues/21755 */display: inline-block !important;position: relative;}#sk-container-id-1 div.sk-text-repr-fallback {display: none;}</style><div id=\"sk-container-id-1\" class=\"sk-top-container\"><div class=\"sk-text-repr-fallback\"><pre>StandardScaler()</pre><b>In a Jupyter environment, please rerun this cell to show the HTML representation or trust the notebook. <br />On GitHub, the HTML representation is unable to render, please try loading this page with nbviewer.org.</b></div><div class=\"sk-container\" hidden><div class=\"sk-item\"><div class=\"sk-estimator sk-toggleable\"><input class=\"sk-toggleable__control sk-hidden--visually\" id=\"sk-estimator-id-1\" type=\"checkbox\" checked><label for=\"sk-estimator-id-1\" class=\"sk-toggleable__label sk-toggleable__label-arrow\">StandardScaler</label><div class=\"sk-toggleable__content\"><pre>StandardScaler()</pre></div></div></div></div></div>"
      ],
      "text/plain": [
       "StandardScaler()"
      ]
     },
     "execution_count": 16,
     "metadata": {},
     "output_type": "execute_result"
    }
   ],
   "source": [
    "numeric = ['CreditScore', 'Age', 'Tenure', 'Balance', 'EstimatedSalary']\n",
    "scaler = StandardScaler()\n",
    "scaler.fit(features_train[numeric])"
   ]
  },
  {
   "cell_type": "code",
   "execution_count": 17,
   "metadata": {},
   "outputs": [
    {
     "data": {
      "text/html": [
       "<div>\n",
       "<style scoped>\n",
       "    .dataframe tbody tr th:only-of-type {\n",
       "        vertical-align: middle;\n",
       "    }\n",
       "\n",
       "    .dataframe tbody tr th {\n",
       "        vertical-align: top;\n",
       "    }\n",
       "\n",
       "    .dataframe thead th {\n",
       "        text-align: right;\n",
       "    }\n",
       "</style>\n",
       "<table border=\"1\" class=\"dataframe\">\n",
       "  <thead>\n",
       "    <tr style=\"text-align: right;\">\n",
       "      <th></th>\n",
       "      <th>CreditScore</th>\n",
       "      <th>Age</th>\n",
       "      <th>Tenure</th>\n",
       "      <th>Balance</th>\n",
       "      <th>NumOfProducts</th>\n",
       "      <th>HasCrCard</th>\n",
       "      <th>IsActiveMember</th>\n",
       "      <th>EstimatedSalary</th>\n",
       "      <th>Geography_Germany</th>\n",
       "      <th>Geography_Spain</th>\n",
       "      <th>Gender_Male</th>\n",
       "    </tr>\n",
       "  </thead>\n",
       "  <tbody>\n",
       "    <tr>\n",
       "      <th>9344</th>\n",
       "      <td>0.809075</td>\n",
       "      <td>-1.039327</td>\n",
       "      <td>-1.025995</td>\n",
       "      <td>0.554904</td>\n",
       "      <td>1</td>\n",
       "      <td>1</td>\n",
       "      <td>0</td>\n",
       "      <td>0.019508</td>\n",
       "      <td>0</td>\n",
       "      <td>0</td>\n",
       "      <td>0</td>\n",
       "    </tr>\n",
       "    <tr>\n",
       "      <th>3796</th>\n",
       "      <td>-1.152518</td>\n",
       "      <td>-1.227561</td>\n",
       "      <td>0.696524</td>\n",
       "      <td>0.480609</td>\n",
       "      <td>1</td>\n",
       "      <td>0</td>\n",
       "      <td>0</td>\n",
       "      <td>0.056167</td>\n",
       "      <td>0</td>\n",
       "      <td>0</td>\n",
       "      <td>1</td>\n",
       "    </tr>\n",
       "    <tr>\n",
       "      <th>7462</th>\n",
       "      <td>-0.398853</td>\n",
       "      <td>0.090079</td>\n",
       "      <td>1.385532</td>\n",
       "      <td>-1.237830</td>\n",
       "      <td>1</td>\n",
       "      <td>1</td>\n",
       "      <td>1</td>\n",
       "      <td>0.848738</td>\n",
       "      <td>0</td>\n",
       "      <td>0</td>\n",
       "      <td>1</td>\n",
       "    </tr>\n",
       "    <tr>\n",
       "      <th>1508</th>\n",
       "      <td>-0.749875</td>\n",
       "      <td>-0.286389</td>\n",
       "      <td>0.352020</td>\n",
       "      <td>-1.237830</td>\n",
       "      <td>2</td>\n",
       "      <td>1</td>\n",
       "      <td>1</td>\n",
       "      <td>-0.894953</td>\n",
       "      <td>0</td>\n",
       "      <td>0</td>\n",
       "      <td>1</td>\n",
       "    </tr>\n",
       "    <tr>\n",
       "      <th>4478</th>\n",
       "      <td>-1.028628</td>\n",
       "      <td>-0.756975</td>\n",
       "      <td>-0.336987</td>\n",
       "      <td>-1.237830</td>\n",
       "      <td>2</td>\n",
       "      <td>0</td>\n",
       "      <td>1</td>\n",
       "      <td>-1.284516</td>\n",
       "      <td>0</td>\n",
       "      <td>0</td>\n",
       "      <td>1</td>\n",
       "    </tr>\n",
       "  </tbody>\n",
       "</table>\n",
       "</div>"
      ],
      "text/plain": [
       "      CreditScore       Age    Tenure   Balance  NumOfProducts  HasCrCard  \\\n",
       "9344     0.809075 -1.039327 -1.025995  0.554904              1          1   \n",
       "3796    -1.152518 -1.227561  0.696524  0.480609              1          0   \n",
       "7462    -0.398853  0.090079  1.385532 -1.237830              1          1   \n",
       "1508    -0.749875 -0.286389  0.352020 -1.237830              2          1   \n",
       "4478    -1.028628 -0.756975 -0.336987 -1.237830              2          0   \n",
       "\n",
       "      IsActiveMember  EstimatedSalary  Geography_Germany  Geography_Spain  \\\n",
       "9344               0         0.019508                  0                0   \n",
       "3796               0         0.056167                  0                0   \n",
       "7462               1         0.848738                  0                0   \n",
       "1508               1        -0.894953                  0                0   \n",
       "4478               1        -1.284516                  0                0   \n",
       "\n",
       "      Gender_Male  \n",
       "9344            0  \n",
       "3796            1  \n",
       "7462            1  \n",
       "1508            1  \n",
       "4478            1  "
      ]
     },
     "execution_count": 17,
     "metadata": {},
     "output_type": "execute_result"
    }
   ],
   "source": [
    "#Scaling the features of the training dataset\n",
    "features_train[numeric] = scaler.transform(features_train[numeric])\n",
    "features_train.head()"
   ]
  },
  {
   "cell_type": "code",
   "execution_count": 18,
   "metadata": {},
   "outputs": [
    {
     "data": {
      "text/html": [
       "<div>\n",
       "<style scoped>\n",
       "    .dataframe tbody tr th:only-of-type {\n",
       "        vertical-align: middle;\n",
       "    }\n",
       "\n",
       "    .dataframe tbody tr th {\n",
       "        vertical-align: top;\n",
       "    }\n",
       "\n",
       "    .dataframe thead th {\n",
       "        text-align: right;\n",
       "    }\n",
       "</style>\n",
       "<table border=\"1\" class=\"dataframe\">\n",
       "  <thead>\n",
       "    <tr style=\"text-align: right;\">\n",
       "      <th></th>\n",
       "      <th>CreditScore</th>\n",
       "      <th>Age</th>\n",
       "      <th>Tenure</th>\n",
       "      <th>Balance</th>\n",
       "      <th>NumOfProducts</th>\n",
       "      <th>HasCrCard</th>\n",
       "      <th>IsActiveMember</th>\n",
       "      <th>EstimatedSalary</th>\n",
       "      <th>Geography_Germany</th>\n",
       "      <th>Geography_Spain</th>\n",
       "      <th>Gender_Male</th>\n",
       "    </tr>\n",
       "  </thead>\n",
       "  <tbody>\n",
       "    <tr>\n",
       "      <th>7445</th>\n",
       "      <td>-1.369326</td>\n",
       "      <td>0.560665</td>\n",
       "      <td>-0.336987</td>\n",
       "      <td>-1.237830</td>\n",
       "      <td>1</td>\n",
       "      <td>1</td>\n",
       "      <td>0</td>\n",
       "      <td>-0.086537</td>\n",
       "      <td>0</td>\n",
       "      <td>0</td>\n",
       "      <td>0</td>\n",
       "    </tr>\n",
       "    <tr>\n",
       "      <th>8620</th>\n",
       "      <td>1.232367</td>\n",
       "      <td>0.090079</td>\n",
       "      <td>1.041028</td>\n",
       "      <td>-1.237830</td>\n",
       "      <td>2</td>\n",
       "      <td>0</td>\n",
       "      <td>1</td>\n",
       "      <td>-0.537457</td>\n",
       "      <td>0</td>\n",
       "      <td>0</td>\n",
       "      <td>0</td>\n",
       "    </tr>\n",
       "    <tr>\n",
       "      <th>1714</th>\n",
       "      <td>0.840048</td>\n",
       "      <td>0.560665</td>\n",
       "      <td>0.352020</td>\n",
       "      <td>1.231363</td>\n",
       "      <td>1</td>\n",
       "      <td>0</td>\n",
       "      <td>0</td>\n",
       "      <td>1.070393</td>\n",
       "      <td>1</td>\n",
       "      <td>0</td>\n",
       "      <td>1</td>\n",
       "    </tr>\n",
       "    <tr>\n",
       "      <th>5441</th>\n",
       "      <td>1.056856</td>\n",
       "      <td>-0.945210</td>\n",
       "      <td>-1.370498</td>\n",
       "      <td>0.951231</td>\n",
       "      <td>1</td>\n",
       "      <td>1</td>\n",
       "      <td>0</td>\n",
       "      <td>-0.576279</td>\n",
       "      <td>0</td>\n",
       "      <td>0</td>\n",
       "      <td>1</td>\n",
       "    </tr>\n",
       "    <tr>\n",
       "      <th>9001</th>\n",
       "      <td>0.406433</td>\n",
       "      <td>-0.662858</td>\n",
       "      <td>0.352020</td>\n",
       "      <td>0.767800</td>\n",
       "      <td>1</td>\n",
       "      <td>1</td>\n",
       "      <td>1</td>\n",
       "      <td>0.662068</td>\n",
       "      <td>0</td>\n",
       "      <td>1</td>\n",
       "      <td>1</td>\n",
       "    </tr>\n",
       "  </tbody>\n",
       "</table>\n",
       "</div>"
      ],
      "text/plain": [
       "      CreditScore       Age    Tenure   Balance  NumOfProducts  HasCrCard  \\\n",
       "7445    -1.369326  0.560665 -0.336987 -1.237830              1          1   \n",
       "8620     1.232367  0.090079  1.041028 -1.237830              2          0   \n",
       "1714     0.840048  0.560665  0.352020  1.231363              1          0   \n",
       "5441     1.056856 -0.945210 -1.370498  0.951231              1          1   \n",
       "9001     0.406433 -0.662858  0.352020  0.767800              1          1   \n",
       "\n",
       "      IsActiveMember  EstimatedSalary  Geography_Germany  Geography_Spain  \\\n",
       "7445               0        -0.086537                  0                0   \n",
       "8620               1        -0.537457                  0                0   \n",
       "1714               0         1.070393                  1                0   \n",
       "5441               0        -0.576279                  0                0   \n",
       "9001               1         0.662068                  0                1   \n",
       "\n",
       "      Gender_Male  \n",
       "7445            0  \n",
       "8620            0  \n",
       "1714            1  \n",
       "5441            1  \n",
       "9001            1  "
      ]
     },
     "execution_count": 18,
     "metadata": {},
     "output_type": "execute_result"
    }
   ],
   "source": [
    "#Scaling the features of the validation dataset\n",
    "features_valid[numeric] = scaler.transform(features_valid[numeric])\n",
    "features_valid.head()"
   ]
  },
  {
   "cell_type": "code",
   "execution_count": 19,
   "metadata": {
    "scrolled": true
   },
   "outputs": [
    {
     "data": {
      "text/html": [
       "<div>\n",
       "<style scoped>\n",
       "    .dataframe tbody tr th:only-of-type {\n",
       "        vertical-align: middle;\n",
       "    }\n",
       "\n",
       "    .dataframe tbody tr th {\n",
       "        vertical-align: top;\n",
       "    }\n",
       "\n",
       "    .dataframe thead th {\n",
       "        text-align: right;\n",
       "    }\n",
       "</style>\n",
       "<table border=\"1\" class=\"dataframe\">\n",
       "  <thead>\n",
       "    <tr style=\"text-align: right;\">\n",
       "      <th></th>\n",
       "      <th>CreditScore</th>\n",
       "      <th>Age</th>\n",
       "      <th>Tenure</th>\n",
       "      <th>Balance</th>\n",
       "      <th>NumOfProducts</th>\n",
       "      <th>HasCrCard</th>\n",
       "      <th>IsActiveMember</th>\n",
       "      <th>EstimatedSalary</th>\n",
       "      <th>Geography_Germany</th>\n",
       "      <th>Geography_Spain</th>\n",
       "      <th>Gender_Male</th>\n",
       "    </tr>\n",
       "  </thead>\n",
       "  <tbody>\n",
       "    <tr>\n",
       "      <th>5170</th>\n",
       "      <td>1.707279</td>\n",
       "      <td>-0.756975</td>\n",
       "      <td>-0.336987</td>\n",
       "      <td>-1.237830</td>\n",
       "      <td>2</td>\n",
       "      <td>1</td>\n",
       "      <td>1</td>\n",
       "      <td>0.718362</td>\n",
       "      <td>0</td>\n",
       "      <td>0</td>\n",
       "      <td>0</td>\n",
       "    </tr>\n",
       "    <tr>\n",
       "      <th>4180</th>\n",
       "      <td>-0.429826</td>\n",
       "      <td>-0.286389</td>\n",
       "      <td>1.730036</td>\n",
       "      <td>0.485538</td>\n",
       "      <td>2</td>\n",
       "      <td>0</td>\n",
       "      <td>0</td>\n",
       "      <td>1.687305</td>\n",
       "      <td>1</td>\n",
       "      <td>0</td>\n",
       "      <td>1</td>\n",
       "    </tr>\n",
       "    <tr>\n",
       "      <th>7349</th>\n",
       "      <td>-0.171721</td>\n",
       "      <td>0.278313</td>\n",
       "      <td>0.352020</td>\n",
       "      <td>-0.269213</td>\n",
       "      <td>2</td>\n",
       "      <td>0</td>\n",
       "      <td>1</td>\n",
       "      <td>0.824128</td>\n",
       "      <td>1</td>\n",
       "      <td>0</td>\n",
       "      <td>1</td>\n",
       "    </tr>\n",
       "    <tr>\n",
       "      <th>7469</th>\n",
       "      <td>0.385784</td>\n",
       "      <td>-0.380507</td>\n",
       "      <td>1.041028</td>\n",
       "      <td>0.464813</td>\n",
       "      <td>1</td>\n",
       "      <td>1</td>\n",
       "      <td>0</td>\n",
       "      <td>-1.118018</td>\n",
       "      <td>0</td>\n",
       "      <td>0</td>\n",
       "      <td>0</td>\n",
       "    </tr>\n",
       "    <tr>\n",
       "      <th>3467</th>\n",
       "      <td>-1.142194</td>\n",
       "      <td>0.278313</td>\n",
       "      <td>-1.370498</td>\n",
       "      <td>0.353837</td>\n",
       "      <td>2</td>\n",
       "      <td>0</td>\n",
       "      <td>1</td>\n",
       "      <td>-0.107642</td>\n",
       "      <td>1</td>\n",
       "      <td>0</td>\n",
       "      <td>0</td>\n",
       "    </tr>\n",
       "  </tbody>\n",
       "</table>\n",
       "</div>"
      ],
      "text/plain": [
       "      CreditScore       Age    Tenure   Balance  NumOfProducts  HasCrCard  \\\n",
       "5170     1.707279 -0.756975 -0.336987 -1.237830              2          1   \n",
       "4180    -0.429826 -0.286389  1.730036  0.485538              2          0   \n",
       "7349    -0.171721  0.278313  0.352020 -0.269213              2          0   \n",
       "7469     0.385784 -0.380507  1.041028  0.464813              1          1   \n",
       "3467    -1.142194  0.278313 -1.370498  0.353837              2          0   \n",
       "\n",
       "      IsActiveMember  EstimatedSalary  Geography_Germany  Geography_Spain  \\\n",
       "5170               1         0.718362                  0                0   \n",
       "4180               0         1.687305                  1                0   \n",
       "7349               1         0.824128                  1                0   \n",
       "7469               0        -1.118018                  0                0   \n",
       "3467               1        -0.107642                  1                0   \n",
       "\n",
       "      Gender_Male  \n",
       "5170            0  \n",
       "4180            1  \n",
       "7349            1  \n",
       "7469            0  \n",
       "3467            0  "
      ]
     },
     "execution_count": 19,
     "metadata": {},
     "output_type": "execute_result"
    }
   ],
   "source": [
    "#Scaling the features of the testing dataset\n",
    "features_test[numeric] = scaler.transform(features_test[numeric])\n",
    "features_test.head()"
   ]
  },
  {
   "cell_type": "markdown",
   "metadata": {},
   "source": [
    "On the first stage of the project:\n",
    "\n",
    " 1. Data was cleaned.\n",
    " 2. Unnecessary columns were removed.\n",
    " 3. Categorical variables were converted into quantitative ones.\n",
    " 4. The data was split into training, validation, and test sets.\n",
    " 5. Quantitative variables were scaled."
   ]
  },
  {
   "cell_type": "code",
   "execution_count": 20,
   "metadata": {},
   "outputs": [
    {
     "data": {
      "text/plain": [
       "0    0.796062\n",
       "1    0.203938\n",
       "Name: Exited, dtype: float64"
      ]
     },
     "execution_count": 20,
     "metadata": {},
     "output_type": "execute_result"
    }
   ],
   "source": [
    "data['Exited'].value_counts(normalize=True)"
   ]
  },
  {
   "cell_type": "markdown",
   "metadata": {},
   "source": [
    "In the dataset, there are almost four times more negative instances than positive ones, so it's likely that models will predict negative values much more frequently."
   ]
  },
  {
   "cell_type": "markdown",
   "metadata": {},
   "source": [
    "First, let's look at the precision of the three models."
   ]
  },
  {
   "cell_type": "code",
   "execution_count": 21,
   "metadata": {},
   "outputs": [
    {
     "name": "stdout",
     "output_type": "stream",
     "text": [
      "Accuracy of the most model 0.8575357535753575\n",
      "Depth of the best result 5\n"
     ]
    }
   ],
   "source": [
    "#Decision tree\n",
    "best_dfc_model = None\n",
    "best_dfc_result = 0\n",
    "best_dfc_depth = 0\n",
    "\n",
    "for depth in range(1, 6):\n",
    "    dfc_model = DecisionTreeClassifier(random_state=12345, max_depth = depth)\n",
    "    dfc_model.fit(features_train, target_train)\n",
    "    dfc_predictions = dfc_model.predict(features_valid)\n",
    "    dfc_result = accuracy_score(target_valid, dfc_predictions)\n",
    "    if dfc_result > best_dfc_result:\n",
    "        best_dfc_model = dfc_model\n",
    "        best_dfc_result = dfc_result\n",
    "        best_dfc_depth = depth\n",
    "print('Accuracy of the most model', best_dfc_result)    \n",
    "print('Depth of the best result', best_dfc_depth)"
   ]
  },
  {
   "cell_type": "code",
   "execution_count": 22,
   "metadata": {},
   "outputs": [
    {
     "name": "stdout",
     "output_type": "stream",
     "text": [
      "Accuracy of the most model 0.8641364136413642\n",
      "n estimators of the best result 50\n",
      "Depth of the best result 10\n"
     ]
    }
   ],
   "source": [
    "#Random forest\n",
    "best_model_forest = None\n",
    "best_result_forest = 0\n",
    "best_n_estimators = 0\n",
    "best_depth = 0\n",
    "\n",
    "for est in range(50, 200, 10):\n",
    "    for depth in range(1, 11): \n",
    "        model_forest = RandomForestClassifier(random_state = 12345, n_estimators = est, max_depth=depth)\n",
    "        model_forest.fit(features_train, target_train)\n",
    "        result = model_forest.score(features_valid, target_valid)\n",
    "        if result > best_result_forest:\n",
    "            best_model_forest = model_forest\n",
    "            best_result_forest = result\n",
    "            best_n_estimators = est\n",
    "            best_depth = depth\n",
    "print('Accuracy of the most model', best_result_forest)    \n",
    "print('n estimators of the best result', best_n_estimators)        \n",
    "print('Depth of the best result', best_depth)   "
   ]
  },
  {
   "cell_type": "code",
   "execution_count": 23,
   "metadata": {},
   "outputs": [
    {
     "name": "stdout",
     "output_type": "stream",
     "text": [
      "Accuracy of the regression: 0.8085808580858086\n",
      "Best max_iter: 100\n",
      "Best c_value: 0.1\n"
     ]
    }
   ],
   "source": [
    "#Linear regression\n",
    "best_model_reg = None\n",
    "best_result_reg = 0\n",
    "best_max_iter = 0\n",
    "best_c_value = 0\n",
    "\n",
    "for c_value in [0.0001, 0.001, 0.01, 0.1, 1, 10, 100]: \n",
    "    for iter in range(100, 1000, 100):\n",
    "        model_regression = LogisticRegression(random_state=12345, C = c_value, solver='liblinear', max_iter=iter)\n",
    "        model_regression.fit(features_train, target_train)\n",
    "        model_regression.predict(features_valid)\n",
    "        result_regression = model_regression.score(features_valid, target_valid)\n",
    "        if result_regression > best_result_reg:\n",
    "            best_model_reg = model_regression\n",
    "            best_result_reg = result_regression\n",
    "            best_max_iter = iter\n",
    "            best_c_value = c_value\n",
    "        \n",
    "print('Accuracy of the regression:', best_result_reg)\n",
    "print('Best max_iter:', best_max_iter)\n",
    "print('Best c_value:', best_c_value)"
   ]
  },
  {
   "cell_type": "markdown",
   "metadata": {},
   "source": [
    "Random forest showed the best result wiht the precision rate of 0.864."
   ]
  },
  {
   "cell_type": "code",
   "execution_count": 24,
   "metadata": {},
   "outputs": [
    {
     "name": "stdout",
     "output_type": "stream",
     "text": [
      "0    0.914191\n",
      "1    0.085809\n",
      "dtype: float64\n",
      "0    0.887789\n",
      "1    0.112211\n",
      "dtype: float64\n",
      "0    0.931793\n",
      "1    0.068207\n",
      "dtype: float64\n"
     ]
    }
   ],
   "source": [
    "dfc_share = pd.Series(dfc_model.predict(features_valid)).value_counts(normalize = 1)\n",
    "forest_share = pd.Series(model_forest.predict(features_valid)).value_counts(normalize = 1)\n",
    "regression_share = pd.Series(model_regression.predict(features_valid)).value_counts(normalize = 1)\n",
    "print(dfc_share)\n",
    "print(forest_share)\n",
    "print(regression_share)"
   ]
  },
  {
   "cell_type": "markdown",
   "metadata": {},
   "source": [
    "All models ultimately predict negative values more often.\n",
    "\n",
    "Let's take a closer look at the parameters of each model individually."
   ]
  },
  {
   "cell_type": "code",
   "execution_count": 25,
   "metadata": {},
   "outputs": [
    {
     "data": {
      "text/plain": [
       "array([[1422,   19],\n",
       "       [ 240,  137]])"
      ]
     },
     "execution_count": 25,
     "metadata": {},
     "output_type": "execute_result"
    }
   ],
   "source": [
    "#Confusion matrix for the Decision Tree model\n",
    "dfc_model = DecisionTreeClassifier(random_state=12345, max_depth = 5)\n",
    "dfc_model.fit(features_train, target_train)\n",
    "dfc_predictions = dfc_model.predict(features_valid)\n",
    "confusion_matrix(target_valid, dfc_predictions)"
   ]
  },
  {
   "cell_type": "code",
   "execution_count": 26,
   "metadata": {},
   "outputs": [],
   "source": [
    "#Creating function for the metrics\n",
    "def metrics(target_valid, prediction):\n",
    "    print(\"Recall\" , recall_score(target_valid, prediction))\n",
    "    print(\"Precision\", precision_score(target_valid, prediction))\n",
    "    print(\"F1-score\", f1_score(target_valid, prediction))\n",
    "    print(\"AUC-ROC\", roc_auc_score(target_valid, prediction))"
   ]
  },
  {
   "cell_type": "code",
   "execution_count": 27,
   "metadata": {},
   "outputs": [
    {
     "name": "stdout",
     "output_type": "stream",
     "text": [
      "Recall 0.363395225464191\n",
      "Precision 0.8782051282051282\n",
      "F1-score 0.5140712945590994\n",
      "AUC-ROC 0.6751049687348714\n"
     ]
    }
   ],
   "source": [
    "metrics(target_valid, dfc_predictions)"
   ]
  },
  {
   "cell_type": "code",
   "execution_count": 28,
   "metadata": {},
   "outputs": [
    {
     "data": {
      "text/plain": [
       "array([[1402,   39],\n",
       "       [ 208,  169]])"
      ]
     },
     "execution_count": 28,
     "metadata": {},
     "output_type": "execute_result"
    }
   ],
   "source": [
    "#Confusion matrix for the Random Forest model\n",
    "model_forest = RandomForestClassifier(random_state = 12345, n_estimators = 50, max_depth=10)\n",
    "model_forest.fit(features_train, target_train)\n",
    "forest_predictions = model_forest.predict(features_valid)\n",
    "confusion_matrix(target_valid, forest_predictions)"
   ]
  },
  {
   "cell_type": "code",
   "execution_count": 29,
   "metadata": {},
   "outputs": [
    {
     "name": "stdout",
     "output_type": "stream",
     "text": [
      "Recall 0.4482758620689655\n",
      "Precision 0.8125\n",
      "F1-score 0.5777777777777777\n",
      "AUC-ROC 0.7106056617770227\n"
     ]
    }
   ],
   "source": [
    "metrics(target_valid, forest_predictions)"
   ]
  },
  {
   "cell_type": "code",
   "execution_count": 30,
   "metadata": {},
   "outputs": [
    {
     "data": {
      "text/plain": [
       "array([[1393,   48],\n",
       "       [ 301,   76]])"
      ]
     },
     "execution_count": 30,
     "metadata": {},
     "output_type": "execute_result"
    }
   ],
   "source": [
    "#Confusion matrix for the Linear Regression model\n",
    "model_regression = LogisticRegression(random_state=12345, C = 100, solver='liblinear', max_iter=900)\n",
    "model_regression.fit(features_train, target_train)\n",
    "regression_predictions = model_regression.predict(features_valid)\n",
    "confusion_matrix(target_valid, regression_predictions)"
   ]
  },
  {
   "cell_type": "code",
   "execution_count": 31,
   "metadata": {},
   "outputs": [
    {
     "name": "stdout",
     "output_type": "stream",
     "text": [
      "Recall 0.20159151193633953\n",
      "Precision 0.6129032258064516\n",
      "F1-score 0.3033932135728543\n",
      "AUC-ROC 0.5841406553436035\n"
     ]
    }
   ],
   "source": [
    "metrics(target_valid, regression_predictions)"
   ]
  },
  {
   "cell_type": "markdown",
   "metadata": {},
   "source": [
    "The F1 scores for all models are relatively low due to low recall values, and all models predict negative values much more frequently than positive ones."
   ]
  },
  {
   "cell_type": "code",
   "execution_count": 32,
   "metadata": {},
   "outputs": [
    {
     "data": {
      "image/png": "[encoded data removed]",
      "text/plain": [
       "<Figure size 640x480 with 1 Axes>"
      ]
     },
     "metadata": {},
     "output_type": "display_data"
    }
   ],
   "source": [
    "#ROC-curve for Linear Regression\n",
    "probabilities_valid = model_regression.predict_proba(features_valid)\n",
    "probabilities_one_valid = probabilities_valid[:, 1]\n",
    "\n",
    "frp, trp, threshold = roc_curve(target_valid, probabilities_one_valid)\n",
    "plt.figure()\n",
    "plt.plot(frp, trp)\n",
    "plt.plot([0, 1], [0, 1], ls='--')\n",
    "plt.xlim([0.0, 1.0])\n",
    "plt.ylim([0.0, 1.0])\n",
    "plt.xlabel('FPR')\n",
    "plt.ylabel('TPR')\n",
    "plt.title('ROC-curve')\n",
    "plt.show()"
   ]
  },
  {
   "cell_type": "code",
   "execution_count": 33,
   "metadata": {},
   "outputs": [
    {
     "data": {
      "text/plain": [
       "0.7735859823251243"
      ]
     },
     "execution_count": 33,
     "metadata": {},
     "output_type": "execute_result"
    }
   ],
   "source": [
    "roc_auc_score(target_valid, probabilities_one_valid)"
   ]
  },
  {
   "cell_type": "markdown",
   "metadata": {},
   "source": [
    "The metric is better than that of a random model but doesn't quite reach the ideal of 1."
   ]
  },
  {
   "cell_type": "markdown",
   "metadata": {},
   "source": [
    "In the end, three models were investigated with the following results:\n",
    "\n",
    " - Decision Tree: Precision 0.857\n",
    " - Random Forest: Precision 0.864\n",
    " - Logistic Regression: Precision 0.808\n",
    "\n",
    "However, the high results are associated with the fact that the models predict negative results more often because there are four times more negative objects in the original dataset.\n",
    "\n",
    "Furthermore, the metric calculations showed that all models have F1 scores (0.514, 0.577, 0.303) that do not reach the target of 0.59 due to low recall values."
   ]
  },
  {
   "cell_type": "markdown",
   "metadata": {},
   "source": [
    "## Eliminating data imbalance"
   ]
  },
  {
   "cell_type": "markdown",
   "metadata": {},
   "source": [
    "**Oversampling**\n",
    "\n",
    "Let's correct the imbalance of objects, first by increasing the proportion of positive objects in the new training sample."
   ]
  },
  {
   "cell_type": "code",
   "execution_count": 34,
   "metadata": {},
   "outputs": [],
   "source": [
    "def upsample(features, target, repeat):\n",
    "    features_zeros = features[target == 0]\n",
    "    features_ones = features[target == 1]\n",
    "    target_zeros = target[target == 0]\n",
    "    target_ones = target[target == 1]\n",
    "    \n",
    "    features_upsampled = pd.concat([features_zeros] + [features_ones] * repeat)\n",
    "    target_upsampled = pd.concat([target_zeros] + [target_ones] * repeat)\n",
    "    features_upsampled, target_upsampled = shuffle(features_upsampled, target_upsampled, random_state=12345)\n",
    "    return features_upsampled, target_upsampled"
   ]
  },
  {
   "cell_type": "code",
   "execution_count": 35,
   "metadata": {},
   "outputs": [
    {
     "name": "stdout",
     "output_type": "stream",
     "text": [
      "1    0.509964\n",
      "0    0.490036\n",
      "Name: Exited, dtype: float64\n",
      "(8832, 11)\n",
      "(8832,)\n"
     ]
    }
   ],
   "source": [
    "features_upsampled, target_upsampled = upsample(features_train, target_train, 4)\n",
    "print(target_upsampled.value_counts(normalize = 1))\n",
    "print(features_upsampled.shape)\n",
    "print(target_upsampled.shape)"
   ]
  },
  {
   "cell_type": "code",
   "execution_count": 36,
   "metadata": {},
   "outputs": [
    {
     "data": {
      "image/png": "[encoded data removed]",
      "text/plain": [
       "<Figure size 100x100 with 1 Axes>"
      ]
     },
     "metadata": {},
     "output_type": "display_data"
    }
   ],
   "source": [
    "target_upsampled.plot(kind ='hist', bins=2, figsize=(1,1));"
   ]
  },
  {
   "cell_type": "markdown",
   "metadata": {},
   "source": [
    "Now, positive and negative objects are roughly in the same proportions. Let's train the models on the new data."
   ]
  },
  {
   "cell_type": "code",
   "execution_count": 37,
   "metadata": {},
   "outputs": [
    {
     "name": "stdout",
     "output_type": "stream",
     "text": [
      "Accuracy of the best model 0.7783278327832783\n",
      "Depth of the best result 5\n"
     ]
    }
   ],
   "source": [
    "#Decision tree\n",
    "best_dfc_model_up = None\n",
    "best_dfc_result_up = 0\n",
    "best_dfc_depth_up = 0\n",
    "\n",
    "for depth in range(1, 6):\n",
    "    dfc_model_up = DecisionTreeClassifier(random_state=12345, max_depth = depth)\n",
    "    dfc_model_up.fit(features_upsampled, target_upsampled)\n",
    "    dfc_predictions_up = dfc_model_up.predict(features_valid)\n",
    "    dfc_result_up = accuracy_score(target_valid, dfc_predictions_up)\n",
    "    if dfc_result_up > best_dfc_result_up:\n",
    "        best_dfc_model_up = dfc_model_up\n",
    "        best_dfc_result_up = dfc_result_up\n",
    "        best_dfc_depth_up = depth\n",
    "print('Accuracy of the best model', best_dfc_result_up)    \n",
    "print('Depth of the best result', best_dfc_depth_up)"
   ]
  },
  {
   "cell_type": "code",
   "execution_count": 38,
   "metadata": {},
   "outputs": [
    {
     "name": "stdout",
     "output_type": "stream",
     "text": [
      "Accuracy of the best model 0.8322332233223322\n",
      "n estimators of the best result 190\n",
      "Depth of the best result 10\n"
     ]
    }
   ],
   "source": [
    "#Random forest\n",
    "best_model_forest_up = None\n",
    "best_result_forest_up = 0\n",
    "best_n_estimators_up = 0\n",
    "best_depth = 0\n",
    "\n",
    "for est in range(50, 200, 10):\n",
    "    for depth in range(1, 11): \n",
    "        model_forest_up = RandomForestClassifier(random_state = 12345, n_estimators = est, max_depth=depth)\n",
    "        model_forest_up.fit(features_upsampled, target_upsampled)\n",
    "        result_up = model_forest_up.score(features_valid, target_valid)\n",
    "        if result_up > best_result_forest_up:\n",
    "            best_model_forest_up = model_forest_up\n",
    "            best_result_forest_up = result_up\n",
    "            best_n_estimators_up = est\n",
    "            best_depth_up = depth\n",
    "print('Accuracy of the best model', best_result_forest_up)    \n",
    "print('n estimators of the best result', best_n_estimators_up)        \n",
    "print('Depth of the best result', best_depth_up)   "
   ]
  },
  {
   "cell_type": "code",
   "execution_count": 39,
   "metadata": {},
   "outputs": [
    {
     "name": "stdout",
     "output_type": "stream",
     "text": [
      "Accuracy: 0.7145214521452146\n",
      "Best max_iter: 100\n",
      "Best c_value: 0.001\n"
     ]
    }
   ],
   "source": [
    "#Linear regression\n",
    "best_model_reg_up = None\n",
    "best_result_reg_up = 0\n",
    "best_max_iter_up = 0\n",
    "best_c_value_up = 0\n",
    "\n",
    "for c_value in [0.0001, 0.001, 0.01, 0.1, 1, 10, 100]: \n",
    "    for iter in range(100, 1000, 100):\n",
    "        model_regression_up = LogisticRegression(random_state=12345, C = c_value, solver='liblinear', max_iter=iter)\n",
    "        model_regression_up.fit(features_upsampled, target_upsampled)\n",
    "        model_regression_up.predict(features_valid)\n",
    "        result_regression_up = model_regression_up.score(features_valid, target_valid)\n",
    "        if result_regression_up > best_result_reg_up:\n",
    "            best_model_reg_up = model_regression_up\n",
    "            best_result_reg_up = result_regression_up\n",
    "            best_max_iter_up = iter\n",
    "            best_c_value_up = c_value\n",
    "        \n",
    "print('Accuracy:', best_result_reg_up)\n",
    "print('Best max_iter:', best_max_iter_up)\n",
    "print('Best c_value:', best_c_value_up)"
   ]
  },
  {
   "cell_type": "markdown",
   "metadata": {},
   "source": [
    "Here are the new results compared to the previous ones:\n",
    "\n",
    " - Decision Tree: 0.857 vs 0.778\n",
    " - Random Forest: 0.864 vs 0.832\n",
    " - Linear Regression: 0.808 vs 0.714\n",
    "\n",
    "The accuracy of the models decreased after addressing the imbalance issue. Let's now take a closer look at the metrics."
   ]
  },
  {
   "cell_type": "code",
   "execution_count": 40,
   "metadata": {},
   "outputs": [
    {
     "name": "stdout",
     "output_type": "stream",
     "text": [
      "Recall 0.7188328912466844\n",
      "Precision 0.477112676056338\n",
      "F1-score 0.5735449735449736\n",
      "AUC-ROC 0.7563630105088384\n"
     ]
    }
   ],
   "source": [
    "#Decision tree\n",
    "dfc_model_up = DecisionTreeClassifier(random_state=12345, max_depth = 5)\n",
    "dfc_model_up.fit(features_upsampled, target_upsampled)\n",
    "dfc_predictions_up = dfc_model_up.predict(features_valid)\n",
    "metrics(target_valid, dfc_predictions_up)"
   ]
  },
  {
   "cell_type": "code",
   "execution_count": 41,
   "metadata": {},
   "outputs": [
    {
     "name": "stdout",
     "output_type": "stream",
     "text": [
      "Recall 0.7055702917771883\n",
      "Precision 0.5782608695652174\n",
      "F1-score 0.6356033452807646\n",
      "AUC-ROC 0.7854707808643056\n"
     ]
    }
   ],
   "source": [
    "#Random forest\n",
    "model_forest_up = RandomForestClassifier(random_state = 12345, n_estimators = 190, max_depth=10)\n",
    "model_forest_up.fit(features_upsampled, target_upsampled)\n",
    "forest_predictions_up = model_forest_up.predict(features_valid)\n",
    "metrics(target_valid, forest_predictions_up)"
   ]
  },
  {
   "cell_type": "code",
   "execution_count": 42,
   "metadata": {},
   "outputs": [
    {
     "name": "stdout",
     "output_type": "stream",
     "text": [
      "Recall 0.6843501326259946\n",
      "Precision 0.4050235478806907\n",
      "F1-score 0.5088757396449703\n",
      "AUC-ROC 0.7106691676315261\n"
     ]
    }
   ],
   "source": [
    "#Linear regression\n",
    "model_regression_up = LogisticRegression(random_state=12345, \n",
    "                                         C = 0.001, \n",
    "                                         solver='liblinear', \n",
    "                                         max_iter=100, \n",
    "                                         class_weight='balanced')\n",
    "model_regression_up.fit(features_upsampled, target_upsampled)\n",
    "regression_predictions_up = model_regression_up.predict(features_valid)\n",
    "metrics(target_valid, regression_predictions_up)"
   ]
  },
  {
   "cell_type": "markdown",
   "metadata": {},
   "source": [
    "All three models showed an increase in their f1-score due to improved recall:\n",
    "\n",
    " - Decision Tree: 0.514 vs. 0.573\n",
    " - Random Forest: 0.577 vs. 0.635\n",
    " - Linear Regression: 0.303 vs. 0.508\n",
    "\n",
    "In the end, the Random Forest model with 190 estimators and a depth of 10 performed the best, achieving an f1-score of 0.63."
   ]
  },
  {
   "cell_type": "markdown",
   "metadata": {},
   "source": [
    "**Undersampling**\n",
    "\n",
    "Now, let's try to correct the imbalance by reducing the proportion of negative objects in the training dataset."
   ]
  },
  {
   "cell_type": "code",
   "execution_count": 43,
   "metadata": {},
   "outputs": [],
   "source": [
    "def downsample(features, target, fraction):\n",
    "    features_zeros = features[target == 0]\n",
    "    features_ones = features[target == 1]\n",
    "    target_zeros = target[target == 0]\n",
    "    target_ones = target[target == 1]\n",
    "    \n",
    "    features_downsampled = pd.concat([features_zeros.sample(frac=fraction, random_state=12345)] + [features_ones])\n",
    "    target_downsampled = pd.concat([target_zeros.sample(frac=fraction, random_state=12345)] + [target_ones])\n",
    "    features_downsampled, target_downsampled = shuffle(features_downsampled, target_downsampled, random_state=12345)\n",
    "    \n",
    "    return features_downsampled, target_downsampled"
   ]
  },
  {
   "cell_type": "code",
   "execution_count": 44,
   "metadata": {},
   "outputs": [],
   "source": [
    "features_downsampled, target_downsampled = downsample(features_train, target_train, 0.25)"
   ]
  },
  {
   "cell_type": "code",
   "execution_count": 45,
   "metadata": {},
   "outputs": [
    {
     "data": {
      "image/png": "[encoded data removed]",
      "text/plain": [
       "<Figure size 100x100 with 1 Axes>"
      ]
     },
     "metadata": {},
     "output_type": "display_data"
    }
   ],
   "source": [
    "target_downsampled.plot(kind ='hist', bins=2, figsize=(1,1));"
   ]
  },
  {
   "cell_type": "code",
   "execution_count": 46,
   "metadata": {},
   "outputs": [
    {
     "data": {
      "text/plain": [
       "1    0.509964\n",
       "0    0.490036\n",
       "Name: Exited, dtype: float64"
      ]
     },
     "execution_count": 46,
     "metadata": {},
     "output_type": "execute_result"
    }
   ],
   "source": [
    "target_upsampled.value_counts(normalize=True)"
   ]
  },
  {
   "cell_type": "markdown",
   "metadata": {},
   "source": [
    "Now that positive and negative objects are roughly balanced, let's try training the models using the new reduced dataset."
   ]
  },
  {
   "cell_type": "code",
   "execution_count": 47,
   "metadata": {},
   "outputs": [
    {
     "name": "stdout",
     "output_type": "stream",
     "text": [
      "Accuracy of the best model 0.7508250825082509\n",
      "Depth of the best result 4\n"
     ]
    }
   ],
   "source": [
    "#Decision tree\n",
    "best_dfc_model_down = None\n",
    "best_dfc_result_down = 0\n",
    "best_dfc_depth_down = 0\n",
    "\n",
    "for depth in range(1, 6):\n",
    "    dfc_model_down = DecisionTreeClassifier(random_state=12345, max_depth = depth)\n",
    "    dfc_model_down.fit(features_downsampled, target_downsampled)\n",
    "    dfc_predictions_down = dfc_model_down.predict(features_valid)\n",
    "    dfc_result_down = accuracy_score(target_valid, dfc_predictions_down)\n",
    "    if dfc_result_down > best_dfc_result_down:\n",
    "        best_dfc_model_down = dfc_model_down\n",
    "        best_dfc_result_down = dfc_result_down\n",
    "        best_dfc_depth_down = depth\n",
    "print('Accuracy of the best model', best_dfc_result_down)    \n",
    "print('Depth of the best result', best_dfc_depth_down)"
   ]
  },
  {
   "cell_type": "code",
   "execution_count": 48,
   "metadata": {},
   "outputs": [
    {
     "name": "stdout",
     "output_type": "stream",
     "text": [
      "Accuracy of the best model 0.7849284928492849\n",
      "n estimators of the best result 190\n",
      "Depth of the best result 10\n"
     ]
    }
   ],
   "source": [
    "#Random forest\n",
    "best_model_forest_down = None\n",
    "best_result_forest_down = 0\n",
    "best_n_estimators_down = 0\n",
    "best_depth_down = 0\n",
    "\n",
    "for est in range(50, 200, 10):\n",
    "    for depth in range(1, 11): \n",
    "        model_forest_down = RandomForestClassifier(random_state = 12345, n_estimators = est, max_depth=depth)\n",
    "        model_forest_down.fit(features_downsampled, target_downsampled)\n",
    "        result_down = model_forest_down.score(features_valid, target_valid)\n",
    "        if result_down > best_result_forest_down:\n",
    "            best_model_forest_down = model_forest_down\n",
    "            best_result_forest_down = result_down\n",
    "            best_n_estimators_down = est\n",
    "            best_depth_down = depth\n",
    "print('Accuracy of the best model', best_result_forest_down)    \n",
    "print('n estimators of the best result', best_n_estimators_down)        \n",
    "print('Depth of the best result', best_depth_down)   "
   ]
  },
  {
   "cell_type": "code",
   "execution_count": 49,
   "metadata": {},
   "outputs": [
    {
     "name": "stdout",
     "output_type": "stream",
     "text": [
      "Accuracy: 0.7057205720572057\n",
      "Best max_iter: 100\n",
      "Best c_value: 0.01\n"
     ]
    }
   ],
   "source": [
    "#Linear regression\n",
    "best_model_reg_down = None\n",
    "best_result_reg_down = 0\n",
    "best_max_iter_down = 0\n",
    "best_c_value_down = 0\n",
    "\n",
    "for c_value in [0.0001, 0.001, 0.01, 0.1, 1, 10, 100]: \n",
    "    for iter in range(100, 1000, 100):\n",
    "        model_regression_down = LogisticRegression(random_state=12345, C = c_value, solver='liblinear', max_iter=iter)\n",
    "        model_regression_down.fit(features_downsampled, target_downsampled)\n",
    "        model_regression_down.predict(features_valid)\n",
    "        result_regression_down = model_regression_down.score(features_valid, target_valid)\n",
    "        if result_regression_down > best_result_reg_down:\n",
    "            best_model_reg_down = model_regression_down\n",
    "            best_result_reg_down = result_regression_down\n",
    "            best_max_iter_down = iter\n",
    "            best_c_value_down = c_value\n",
    "        \n",
    "print('Accuracy:', best_result_reg_down)\n",
    "print('Best max_iter:', best_max_iter_down)\n",
    "print('Best c_value:', best_c_value_down)"
   ]
  },
  {
   "cell_type": "markdown",
   "metadata": {},
   "source": [
    "Let's compare the new results (3rd number) with the results before correcting the imbalance (1st) and with the increased dataset (2nd):\n",
    "\n",
    " - Decision Tree: 0.857 vs 0.778 vs 0.75\n",
    " - Random Forest: 0.864 vs 0.832 vs 0.784\n",
    " - Linear Regression: 0.808 vs 0.714 vs 0.705\n",
    "\n",
    "All models showed lower accuracy compared to the previous ones. Let's then look at the metrics for the new models."
   ]
  },
  {
   "cell_type": "code",
   "execution_count": 50,
   "metadata": {},
   "outputs": [
    {
     "name": "stdout",
     "output_type": "stream",
     "text": [
      "Recall 0.753315649867374\n",
      "Precision 0.4409937888198758\n",
      "F1-score 0.5563173359451519\n",
      "AUC-ROC 0.7517445702494399\n"
     ]
    }
   ],
   "source": [
    "#Decision tree\n",
    "dfc_model_down = DecisionTreeClassifier(random_state=12345, max_depth = 4)\n",
    "dfc_model_down.fit(features_downsampled, target_downsampled)\n",
    "dfc_predictions_down = dfc_model_down.predict(features_valid)\n",
    "metrics(target_valid, dfc_predictions_down)"
   ]
  },
  {
   "cell_type": "code",
   "execution_count": 51,
   "metadata": {},
   "outputs": [
    {
     "name": "stdout",
     "output_type": "stream",
     "text": [
      "Recall 0.8090185676392573\n",
      "Precision 0.48878205128205127\n",
      "F1-score 0.6093906093906094\n",
      "AUC-ROC 0.7938222609188653\n"
     ]
    }
   ],
   "source": [
    "#Random forest\n",
    "model_forest_down = RandomForestClassifier(random_state = 12345, n_estimators = 190, max_depth=10)\n",
    "model_forest_down.fit(features_downsampled, target_downsampled)\n",
    "forest_predictions_down = model_forest_down.predict(features_valid)\n",
    "metrics(target_valid, forest_predictions_down)"
   ]
  },
  {
   "cell_type": "code",
   "execution_count": 52,
   "metadata": {},
   "outputs": [
    {
     "name": "stdout",
     "output_type": "stream",
     "text": [
      "Recall 0.6976127320954907\n",
      "Precision 0.3984848484848485\n",
      "F1-score 0.5072324011571842\n",
      "AUC-ROC 0.7110548046320618\n"
     ]
    }
   ],
   "source": [
    "#Linear regression\n",
    "model_regression_down = LogisticRegression(random_state=12345, \n",
    "                                         C = 0.01, \n",
    "                                         solver='liblinear', \n",
    "                                         max_iter=100, \n",
    "                                         class_weight='balanced')\n",
    "model_regression_down.fit(features_downsampled, target_downsampled)\n",
    "regression_predictions_down = model_regression_down.predict(features_valid)\n",
    "metrics(target_valid, regression_predictions_down)"
   ]
  },
  {
   "cell_type": "markdown",
   "metadata": {},
   "source": [
    "F1-score metrics:\n",
    "\n",
    " - Decision Tree: 0.514 (before imbalance correction) vs 0.573 (increased dataset) vs 0.556 (decreased dataset)\n",
    " - Random Forest: 0.577 vs 0.635 vs 0.609\n",
    " - Linear Regression: 0.303 vs 0.508 vs 0.507\n",
    "\n",
    "In total, reducing the dataset size as a way to combat imbalance did not lead to an increase in model accuracy. Therefore, for training and testing the final model, we will use the Random Forest model with 190 estimators and a depth of 10, which showed the best result."
   ]
  },
  {
   "cell_type": "markdown",
   "metadata": {},
   "source": [
    "## Model testing"
   ]
  },
  {
   "cell_type": "markdown",
   "metadata": {},
   "source": [
    "Let's test the final model"
   ]
  },
  {
   "cell_type": "code",
   "execution_count": 53,
   "metadata": {},
   "outputs": [
    {
     "name": "stdout",
     "output_type": "stream",
     "text": [
      "Accuracy: 0.817482133040132\n",
      "Recall 0.6723646723646723\n",
      "Precision 0.5209713024282561\n",
      "F1-score 0.5870646766169154\n",
      "AUC-ROC 0.762272254438467\n"
     ]
    }
   ],
   "source": [
    "model_test = RandomForestClassifier(random_state = 12345, n_estimators = 190, max_depth=10)\n",
    "model_test.fit(features_upsampled, target_upsampled)\n",
    "predictions_test = model_test.predict(features_test)\n",
    "result_test = accuracy_score(target_test, predictions_test)\n",
    "print('Accuracy:', result_test)\n",
    "metrics(target_test, predictions_test)"
   ]
  },
  {
   "cell_type": "code",
   "execution_count": 54,
   "metadata": {},
   "outputs": [
    {
     "data": {
      "text/plain": [
       "0    1.0\n",
       "dtype: float64"
      ]
     },
     "execution_count": 54,
     "metadata": {},
     "output_type": "execute_result"
    }
   ],
   "source": [
    "#Let's create a constant model.\n",
    "target_predict_constant = pd.Series([0]*len(target_test))\n",
    "target_predict_constant.value_counts(normalize=True)"
   ]
  },
  {
   "cell_type": "code",
   "execution_count": 55,
   "metadata": {},
   "outputs": [
    {
     "name": "stdout",
     "output_type": "stream",
     "text": [
      "Accuracy - 0.8070368334249588\n",
      "AUC-ROC - 0.5\n"
     ]
    }
   ],
   "source": [
    "print(f'Accuracy - {accuracy_score(target_test, target_predict_constant)}')\n",
    "print(f'AUC-ROC - {roc_auc_score(target_test, target_predict_constant)}')"
   ]
  },
  {
   "cell_type": "markdown",
   "metadata": {},
   "source": [
    "Результаты итоговой модели выше, чем у константной и по точности (0.817 vs 0.807), и по AUC-ROC (0.762 vs 0.5), так что можно утверждать, что модель работает адекватно."
   ]
  },
  {
   "cell_type": "markdown",
   "metadata": {},
   "source": [
    "## Conclusion"
   ]
  },
  {
   "cell_type": "markdown",
   "metadata": {},
   "source": [
    "In this study, various models were explored for predicting customer churn in \"Beta Bank.\"\n",
    "\n",
    "Initially, models were trained on data with a large number of negative cases (80% negative vs. 20% positive). All models (decision tree, random forest, linear regression) showed good accuracy (0.857, 0.864, 0.808) but had low F1-score (0.514, 0.577, 0.303) due to low precision, as the models mostly predicted negative cases.\n",
    "\n",
    "Two methods were attempted to address the class imbalance: oversampling and undersampling. In both cases, the random forest model performed the best with the highest F1-score (0.635 and 0.609). Oversampling showed higher accuracy compared to undersampling (0.832 vs. 0.784 for random forest).\n",
    "\n",
    "The test model provided the following results:\n",
    "\n",
    " - Accuracy: 0.817\n",
    " - Recall: 0.672\n",
    " - Precision: 0.52\n",
    " - F1-score: 0.587\n",
    " - AUC-ROC: 0.762\n",
    "\n",
    "The test model also outperformed the constant model, indicating its adequacy. However, precision and recall are low, suggesting that the model will correctly predict only about half of the customer churn cases."
   ]
  }
 ],
 "metadata": {
  "ExecuteTimeLog": [
   {
    "duration": 1013,
    "start_time": "2023-01-26T07:10:07.142Z"
   },
   {
    "duration": 93,
    "start_time": "2023-01-26T07:10:43.491Z"
   },
   {
    "duration": 12,
    "start_time": "2023-01-26T07:10:54.919Z"
   },
   {
    "duration": 17,
    "start_time": "2023-01-26T07:11:08.629Z"
   },
   {
    "duration": 6,
    "start_time": "2023-01-26T07:12:06.852Z"
   },
   {
    "duration": 6,
    "start_time": "2023-01-26T07:13:00.360Z"
   },
   {
    "duration": 6,
    "start_time": "2023-01-26T07:13:54.448Z"
   },
   {
    "duration": 12,
    "start_time": "2023-01-26T07:15:53.500Z"
   },
   {
    "duration": 16,
    "start_time": "2023-01-26T07:16:00.446Z"
   },
   {
    "duration": 3,
    "start_time": "2023-01-26T07:17:10.465Z"
   },
   {
    "duration": 45,
    "start_time": "2023-01-26T07:17:10.470Z"
   },
   {
    "duration": 11,
    "start_time": "2023-01-26T07:17:10.517Z"
   },
   {
    "duration": 19,
    "start_time": "2023-01-26T07:17:10.530Z"
   },
   {
    "duration": 16,
    "start_time": "2023-01-26T07:17:10.551Z"
   },
   {
    "duration": 7,
    "start_time": "2023-01-26T07:17:18.510Z"
   },
   {
    "duration": 12,
    "start_time": "2023-01-26T07:17:20.245Z"
   },
   {
    "duration": 11,
    "start_time": "2023-01-26T07:18:05.128Z"
   },
   {
    "duration": 53,
    "start_time": "2023-02-01T05:15:58.353Z"
   },
   {
    "duration": 1184,
    "start_time": "2023-02-01T05:16:03.655Z"
   },
   {
    "duration": 190,
    "start_time": "2023-02-01T05:16:06.428Z"
   },
   {
    "duration": 15,
    "start_time": "2023-02-01T05:16:07.444Z"
   },
   {
    "duration": 18,
    "start_time": "2023-02-01T05:16:09.042Z"
   },
   {
    "duration": 4,
    "start_time": "2023-02-01T05:16:10.495Z"
   },
   {
    "duration": 5,
    "start_time": "2023-02-01T05:16:11.505Z"
   },
   {
    "duration": 8,
    "start_time": "2023-02-01T05:16:13.295Z"
   },
   {
    "duration": 11,
    "start_time": "2023-02-01T05:16:15.080Z"
   },
   {
    "duration": 10,
    "start_time": "2023-02-01T05:16:17.221Z"
   },
   {
    "duration": 4,
    "start_time": "2023-02-01T05:16:19.423Z"
   },
   {
    "duration": 70,
    "start_time": "2023-02-01T05:16:30.963Z"
   },
   {
    "duration": 18,
    "start_time": "2023-02-01T05:16:46.262Z"
   },
   {
    "duration": 41,
    "start_time": "2023-02-01T05:17:00.432Z"
   },
   {
    "duration": 4,
    "start_time": "2023-02-01T05:17:18.818Z"
   },
   {
    "duration": 11,
    "start_time": "2023-02-01T05:17:20.116Z"
   },
   {
    "duration": 11,
    "start_time": "2023-02-01T05:17:25.629Z"
   },
   {
    "duration": 7,
    "start_time": "2023-02-01T05:18:22.245Z"
   },
   {
    "duration": 6,
    "start_time": "2023-02-01T05:18:50.336Z"
   },
   {
    "duration": 8,
    "start_time": "2023-02-01T05:31:52.557Z"
   },
   {
    "duration": 17,
    "start_time": "2023-02-01T05:32:00.081Z"
   },
   {
    "duration": 612,
    "start_time": "2023-02-01T05:33:42.129Z"
   },
   {
    "duration": 142,
    "start_time": "2023-02-01T05:33:49.862Z"
   },
   {
    "duration": 158,
    "start_time": "2023-02-01T05:34:13.285Z"
   },
   {
    "duration": 130,
    "start_time": "2023-02-01T05:34:51.465Z"
   },
   {
    "duration": 136,
    "start_time": "2023-02-01T05:34:54.149Z"
   },
   {
    "duration": 24,
    "start_time": "2023-02-01T05:36:36.538Z"
   },
   {
    "duration": 6,
    "start_time": "2023-02-01T05:36:55.568Z"
   },
   {
    "duration": 46,
    "start_time": "2023-02-01T05:42:23.441Z"
   },
   {
    "duration": 5,
    "start_time": "2023-02-01T05:42:34.691Z"
   },
   {
    "duration": 100,
    "start_time": "2023-02-01T05:43:02.481Z"
   },
   {
    "duration": 10,
    "start_time": "2023-02-01T05:43:03.485Z"
   },
   {
    "duration": 4,
    "start_time": "2023-02-01T05:47:26.135Z"
   },
   {
    "duration": 13,
    "start_time": "2023-02-01T05:54:32.732Z"
   },
   {
    "duration": 21,
    "start_time": "2023-02-01T05:54:48.766Z"
   },
   {
    "duration": 9,
    "start_time": "2023-02-01T05:57:28.508Z"
   },
   {
    "duration": 7,
    "start_time": "2023-02-01T06:00:12.277Z"
   },
   {
    "duration": 9,
    "start_time": "2023-02-01T06:00:14.110Z"
   },
   {
    "duration": 10,
    "start_time": "2023-02-01T06:03:43.536Z"
   },
   {
    "duration": 21,
    "start_time": "2023-02-01T06:05:55.264Z"
   },
   {
    "duration": 21,
    "start_time": "2023-02-01T06:06:16.554Z"
   },
   {
    "duration": 10,
    "start_time": "2023-02-01T06:06:56.376Z"
   },
   {
    "duration": 19,
    "start_time": "2023-02-01T06:07:18.801Z"
   },
   {
    "duration": 16,
    "start_time": "2023-02-01T06:07:51.319Z"
   },
   {
    "duration": 16,
    "start_time": "2023-02-01T06:08:41.327Z"
   },
   {
    "duration": 27,
    "start_time": "2023-02-01T06:08:45.551Z"
   },
   {
    "duration": 17,
    "start_time": "2023-02-01T06:15:20.710Z"
   },
   {
    "duration": 6,
    "start_time": "2023-02-01T06:16:10.188Z"
   },
   {
    "duration": 8,
    "start_time": "2023-02-01T06:16:49.035Z"
   },
   {
    "duration": 3,
    "start_time": "2023-02-01T06:17:08.561Z"
   },
   {
    "duration": 61,
    "start_time": "2023-02-01T06:17:08.566Z"
   },
   {
    "duration": 12,
    "start_time": "2023-02-01T06:17:08.628Z"
   },
   {
    "duration": 11,
    "start_time": "2023-02-01T06:17:08.642Z"
   },
   {
    "duration": 5,
    "start_time": "2023-02-01T06:17:08.655Z"
   },
   {
    "duration": 5,
    "start_time": "2023-02-01T06:17:08.661Z"
   },
   {
    "duration": 8,
    "start_time": "2023-02-01T06:17:08.679Z"
   },
   {
    "duration": 12,
    "start_time": "2023-02-01T06:17:08.689Z"
   },
   {
    "duration": 7,
    "start_time": "2023-02-01T06:17:08.703Z"
   },
   {
    "duration": 5,
    "start_time": "2023-02-01T06:17:08.711Z"
   },
   {
    "duration": 17,
    "start_time": "2023-02-01T06:17:08.718Z"
   },
   {
    "duration": 11,
    "start_time": "2023-02-01T06:17:08.736Z"
   },
   {
    "duration": 12,
    "start_time": "2023-02-01T06:17:08.748Z"
   },
   {
    "duration": 22,
    "start_time": "2023-02-01T06:17:08.762Z"
   },
   {
    "duration": 10,
    "start_time": "2023-02-01T06:17:08.785Z"
   },
   {
    "duration": 9,
    "start_time": "2023-02-01T06:17:08.797Z"
   },
   {
    "duration": 7,
    "start_time": "2023-02-01T06:17:08.808Z"
   },
   {
    "duration": 20,
    "start_time": "2023-02-01T06:17:08.818Z"
   },
   {
    "duration": 47,
    "start_time": "2023-02-01T06:17:08.840Z"
   },
   {
    "duration": 17,
    "start_time": "2023-02-01T06:17:08.889Z"
   },
   {
    "duration": 5,
    "start_time": "2023-02-01T06:17:12.231Z"
   },
   {
    "duration": 15,
    "start_time": "2023-02-01T06:17:15.512Z"
   },
   {
    "duration": 27,
    "start_time": "2023-02-01T06:17:28.553Z"
   },
   {
    "duration": 17,
    "start_time": "2023-02-01T06:17:46.386Z"
   },
   {
    "duration": 15,
    "start_time": "2023-02-01T06:18:36.046Z"
   },
   {
    "duration": 18,
    "start_time": "2023-02-01T06:19:11.185Z"
   },
   {
    "duration": 56,
    "start_time": "2023-02-01T06:19:35.384Z"
   },
   {
    "duration": 66512,
    "start_time": "2023-02-01T06:20:53.292Z"
   },
   {
    "duration": 35179,
    "start_time": "2023-02-01T06:28:20.503Z"
   },
   {
    "duration": 8253,
    "start_time": "2023-02-01T06:30:35.734Z"
   },
   {
    "duration": 126,
    "start_time": "2023-02-01T06:35:13.658Z"
   },
   {
    "duration": 3,
    "start_time": "2023-02-01T06:49:50.653Z"
   },
   {
    "duration": 90,
    "start_time": "2023-02-01T06:49:50.658Z"
   },
   {
    "duration": 13,
    "start_time": "2023-02-01T06:49:50.750Z"
   },
   {
    "duration": 58,
    "start_time": "2023-02-01T06:49:50.765Z"
   },
   {
    "duration": 59,
    "start_time": "2023-02-01T06:49:50.824Z"
   },
   {
    "duration": 34,
    "start_time": "2023-02-01T06:49:50.884Z"
   },
   {
    "duration": 70,
    "start_time": "2023-02-01T06:49:50.920Z"
   },
   {
    "duration": 67,
    "start_time": "2023-02-01T06:49:50.992Z"
   },
   {
    "duration": 44,
    "start_time": "2023-02-01T06:49:51.061Z"
   },
   {
    "duration": 42,
    "start_time": "2023-02-01T06:49:51.107Z"
   },
   {
    "duration": 62,
    "start_time": "2023-02-01T06:49:51.150Z"
   },
   {
    "duration": 32,
    "start_time": "2023-02-01T06:49:51.213Z"
   },
   {
    "duration": 72,
    "start_time": "2023-02-01T06:49:51.246Z"
   },
   {
    "duration": 94,
    "start_time": "2023-02-01T06:49:51.320Z"
   },
   {
    "duration": 77,
    "start_time": "2023-02-01T06:49:51.416Z"
   },
   {
    "duration": 43,
    "start_time": "2023-02-01T06:49:51.494Z"
   },
   {
    "duration": 64,
    "start_time": "2023-02-01T06:49:51.538Z"
   },
   {
    "duration": 74,
    "start_time": "2023-02-01T06:49:51.603Z"
   },
   {
    "duration": 45,
    "start_time": "2023-02-01T06:49:51.679Z"
   },
   {
    "duration": 38,
    "start_time": "2023-02-01T06:49:51.726Z"
   },
   {
    "duration": 117,
    "start_time": "2023-02-01T06:49:51.766Z"
   },
   {
    "duration": 69635,
    "start_time": "2023-02-01T06:49:51.885Z"
   },
   {
    "duration": 6957,
    "start_time": "2023-02-01T06:51:01.521Z"
   },
   {
    "duration": 185,
    "start_time": "2023-02-01T06:51:08.488Z"
   },
   {
    "duration": 130,
    "start_time": "2023-02-01T06:51:29.157Z"
   },
   {
    "duration": 105,
    "start_time": "2023-02-01T06:51:40.685Z"
   },
   {
    "duration": 12,
    "start_time": "2023-02-01T06:56:34.945Z"
   },
   {
    "duration": 6,
    "start_time": "2023-02-01T07:02:46.887Z"
   },
   {
    "duration": 24,
    "start_time": "2023-02-01T07:08:27.788Z"
   },
   {
    "duration": 3,
    "start_time": "2023-02-01T07:08:55.427Z"
   },
   {
    "duration": 20,
    "start_time": "2023-02-01T07:08:59.678Z"
   },
   {
    "duration": 3,
    "start_time": "2023-02-01T07:11:33.135Z"
   },
   {
    "duration": 3,
    "start_time": "2023-02-01T07:11:54.735Z"
   },
   {
    "duration": 3,
    "start_time": "2023-02-01T07:12:14.240Z"
   },
   {
    "duration": 11,
    "start_time": "2023-02-01T07:12:36.906Z"
   },
   {
    "duration": 123,
    "start_time": "2023-02-01T07:18:01.231Z"
   },
   {
    "duration": 66681,
    "start_time": "2023-02-01T07:20:04.743Z"
   },
   {
    "duration": 283,
    "start_time": "2023-02-01T07:24:17.570Z"
   },
   {
    "duration": 11,
    "start_time": "2023-02-01T07:24:43.097Z"
   },
   {
    "duration": 25,
    "start_time": "2023-02-01T07:26:43.511Z"
   },
   {
    "duration": 10,
    "start_time": "2023-02-01T07:27:02.517Z"
   },
   {
    "duration": 7,
    "start_time": "2023-02-01T07:36:14.544Z"
   },
   {
    "duration": 27,
    "start_time": "2023-02-01T07:39:09.242Z"
   },
   {
    "duration": 5,
    "start_time": "2023-02-01T07:39:38.981Z"
   },
   {
    "duration": 306,
    "start_time": "2023-02-01T07:39:43.066Z"
   },
   {
    "duration": 305,
    "start_time": "2023-02-01T07:40:02.162Z"
   },
   {
    "duration": 284,
    "start_time": "2023-02-01T07:40:10.959Z"
   },
   {
    "duration": 5,
    "start_time": "2023-02-01T07:42:30.412Z"
   },
   {
    "duration": 6,
    "start_time": "2023-02-01T07:42:39.135Z"
   },
   {
    "duration": 1598,
    "start_time": "2023-02-02T05:33:50.955Z"
   },
   {
    "duration": 81,
    "start_time": "2023-02-02T05:33:52.555Z"
   },
   {
    "duration": 15,
    "start_time": "2023-02-02T05:33:52.638Z"
   },
   {
    "duration": 28,
    "start_time": "2023-02-02T05:33:52.656Z"
   },
   {
    "duration": 5,
    "start_time": "2023-02-02T05:33:52.686Z"
   },
   {
    "duration": 9,
    "start_time": "2023-02-02T05:33:52.693Z"
   },
   {
    "duration": 19,
    "start_time": "2023-02-02T05:33:52.704Z"
   },
   {
    "duration": 25,
    "start_time": "2023-02-02T05:33:52.725Z"
   },
   {
    "duration": 13,
    "start_time": "2023-02-02T05:33:52.752Z"
   },
   {
    "duration": 5,
    "start_time": "2023-02-02T05:33:52.768Z"
   },
   {
    "duration": 39,
    "start_time": "2023-02-02T05:33:52.774Z"
   },
   {
    "duration": 14,
    "start_time": "2023-02-02T05:33:52.815Z"
   },
   {
    "duration": 14,
    "start_time": "2023-02-02T05:33:52.830Z"
   },
   {
    "duration": 14,
    "start_time": "2023-02-02T05:33:52.846Z"
   },
   {
    "duration": 43,
    "start_time": "2023-02-02T05:33:52.862Z"
   },
   {
    "duration": 13,
    "start_time": "2023-02-02T05:33:52.907Z"
   },
   {
    "duration": 28,
    "start_time": "2023-02-02T05:33:52.921Z"
   },
   {
    "duration": 23,
    "start_time": "2023-02-02T05:33:52.951Z"
   },
   {
    "duration": 20,
    "start_time": "2023-02-02T05:33:52.976Z"
   },
   {
    "duration": 6,
    "start_time": "2023-02-02T05:33:52.997Z"
   },
   {
    "duration": 93,
    "start_time": "2023-02-02T05:33:53.005Z"
   },
   {
    "duration": 71770,
    "start_time": "2023-02-02T05:33:53.100Z"
   },
   {
    "duration": 9170,
    "start_time": "2023-02-02T05:35:04.873Z"
   },
   {
    "duration": 299,
    "start_time": "2023-02-02T05:35:14.045Z"
   },
   {
    "duration": 107,
    "start_time": "2023-02-02T05:35:14.351Z"
   },
   {
    "duration": 4,
    "start_time": "2023-02-02T05:35:14.460Z"
   },
   {
    "duration": 15,
    "start_time": "2023-02-02T05:35:14.465Z"
   },
   {
    "duration": 318,
    "start_time": "2023-02-02T05:35:14.482Z"
   },
   {
    "duration": 11,
    "start_time": "2023-02-02T05:35:14.802Z"
   },
   {
    "duration": 41,
    "start_time": "2023-02-02T05:35:14.814Z"
   },
   {
    "duration": 101,
    "start_time": "2023-02-02T05:35:14.942Z"
   },
   {
    "duration": 301,
    "start_time": "2023-02-02T05:35:15.045Z"
   },
   {
    "duration": 7,
    "start_time": "2023-02-02T05:35:15.348Z"
   },
   {
    "duration": 4,
    "start_time": "2023-02-02T05:37:01.160Z"
   },
   {
    "duration": 133,
    "start_time": "2023-02-02T05:48:11.951Z"
   },
   {
    "duration": 24,
    "start_time": "2023-02-02T05:48:54.020Z"
   },
   {
    "duration": 23,
    "start_time": "2023-02-02T05:50:20.781Z"
   },
   {
    "duration": 5,
    "start_time": "2023-02-02T05:52:34.125Z"
   },
   {
    "duration": 20,
    "start_time": "2023-02-02T05:52:36.750Z"
   },
   {
    "duration": 49,
    "start_time": "2023-02-02T05:52:50.150Z"
   },
   {
    "duration": 46,
    "start_time": "2023-02-02T05:52:57.535Z"
   },
   {
    "duration": 27,
    "start_time": "2023-02-02T05:53:01.920Z"
   },
   {
    "duration": 29,
    "start_time": "2023-02-02T05:53:15.014Z"
   },
   {
    "duration": 13,
    "start_time": "2023-02-02T05:53:37.494Z"
   },
   {
    "duration": 14,
    "start_time": "2023-02-02T05:53:56.189Z"
   },
   {
    "duration": 13,
    "start_time": "2023-02-02T05:55:22.655Z"
   },
   {
    "duration": 4,
    "start_time": "2023-02-02T05:55:24.955Z"
   },
   {
    "duration": 14,
    "start_time": "2023-02-02T05:55:26.010Z"
   },
   {
    "duration": 4,
    "start_time": "2023-02-02T05:59:56.037Z"
   },
   {
    "duration": 45,
    "start_time": "2023-02-02T05:59:56.043Z"
   },
   {
    "duration": 13,
    "start_time": "2023-02-02T05:59:56.090Z"
   },
   {
    "duration": 20,
    "start_time": "2023-02-02T05:59:56.104Z"
   },
   {
    "duration": 6,
    "start_time": "2023-02-02T05:59:56.126Z"
   },
   {
    "duration": 6,
    "start_time": "2023-02-02T05:59:56.141Z"
   },
   {
    "duration": 11,
    "start_time": "2023-02-02T05:59:56.148Z"
   },
   {
    "duration": 17,
    "start_time": "2023-02-02T05:59:56.161Z"
   },
   {
    "duration": 8,
    "start_time": "2023-02-02T05:59:56.180Z"
   },
   {
    "duration": 8,
    "start_time": "2023-02-02T05:59:56.189Z"
   },
   {
    "duration": 41,
    "start_time": "2023-02-02T05:59:56.200Z"
   },
   {
    "duration": 19,
    "start_time": "2023-02-02T05:59:56.243Z"
   },
   {
    "duration": 20,
    "start_time": "2023-02-02T05:59:56.264Z"
   },
   {
    "duration": 7,
    "start_time": "2023-02-02T05:59:56.286Z"
   },
   {
    "duration": 12,
    "start_time": "2023-02-02T05:59:56.294Z"
   },
   {
    "duration": 9,
    "start_time": "2023-02-02T05:59:56.307Z"
   },
   {
    "duration": 43,
    "start_time": "2023-02-02T05:59:56.318Z"
   },
   {
    "duration": 18,
    "start_time": "2023-02-02T05:59:56.363Z"
   },
   {
    "duration": 18,
    "start_time": "2023-02-02T05:59:56.382Z"
   },
   {
    "duration": 6,
    "start_time": "2023-02-02T05:59:56.402Z"
   },
   {
    "duration": 68,
    "start_time": "2023-02-02T05:59:56.440Z"
   },
   {
    "duration": 71810,
    "start_time": "2023-02-02T05:59:56.509Z"
   },
   {
    "duration": 9921,
    "start_time": "2023-02-02T06:01:08.320Z"
   },
   {
    "duration": 200,
    "start_time": "2023-02-02T06:01:18.243Z"
   },
   {
    "duration": 121,
    "start_time": "2023-02-02T06:01:18.445Z"
   },
   {
    "duration": 5,
    "start_time": "2023-02-02T06:01:18.569Z"
   },
   {
    "duration": 22,
    "start_time": "2023-02-02T06:01:18.575Z"
   },
   {
    "duration": 371,
    "start_time": "2023-02-02T06:01:18.598Z"
   },
   {
    "duration": 15,
    "start_time": "2023-02-02T06:01:18.971Z"
   },
   {
    "duration": 32,
    "start_time": "2023-02-02T06:01:18.988Z"
   },
   {
    "duration": 118,
    "start_time": "2023-02-02T06:01:19.041Z"
   },
   {
    "duration": 293,
    "start_time": "2023-02-02T06:01:19.161Z"
   },
   {
    "duration": 7,
    "start_time": "2023-02-02T06:01:19.456Z"
   },
   {
    "duration": 4,
    "start_time": "2023-02-02T06:01:19.464Z"
   },
   {
    "duration": 14,
    "start_time": "2023-02-02T06:02:42.527Z"
   },
   {
    "duration": 90,
    "start_time": "2023-02-02T06:04:37.617Z"
   },
   {
    "duration": 14,
    "start_time": "2023-02-02T06:05:14.057Z"
   },
   {
    "duration": 13,
    "start_time": "2023-02-02T06:06:11.253Z"
   },
   {
    "duration": 86,
    "start_time": "2023-02-02T06:06:15.071Z"
   },
   {
    "duration": 13,
    "start_time": "2023-02-02T06:13:40.097Z"
   },
   {
    "duration": 78,
    "start_time": "2023-02-02T06:13:47.757Z"
   },
   {
    "duration": 95491,
    "start_time": "2023-02-02T06:15:46.082Z"
   },
   {
    "duration": 7795,
    "start_time": "2023-02-02T06:21:52.058Z"
   },
   {
    "duration": 7835,
    "start_time": "2023-02-02T06:23:27.728Z"
   },
   {
    "duration": 9050,
    "start_time": "2023-02-02T06:23:42.107Z"
   },
   {
    "duration": 11,
    "start_time": "2023-02-02T06:27:46.453Z"
   },
   {
    "duration": 37,
    "start_time": "2023-02-02T06:31:08.883Z"
   },
   {
    "duration": 26,
    "start_time": "2023-02-02T06:31:40.008Z"
   },
   {
    "duration": 31,
    "start_time": "2023-02-02T06:32:17.212Z"
   },
   {
    "duration": 399,
    "start_time": "2023-02-02T06:33:34.923Z"
   },
   {
    "duration": 1478,
    "start_time": "2023-02-02T06:34:16.157Z"
   },
   {
    "duration": 58,
    "start_time": "2023-02-02T06:35:20.586Z"
   },
   {
    "duration": 63,
    "start_time": "2023-02-02T06:43:20.481Z"
   },
   {
    "duration": 228,
    "start_time": "2023-02-02T06:50:16.938Z"
   },
   {
    "duration": 258,
    "start_time": "2023-02-02T06:53:12.842Z"
   },
   {
    "duration": 73,
    "start_time": "2023-02-02T06:55:56.372Z"
   },
   {
    "duration": 1546,
    "start_time": "2023-02-04T06:13:12.582Z"
   },
   {
    "duration": 74,
    "start_time": "2023-02-04T06:13:14.130Z"
   },
   {
    "duration": 14,
    "start_time": "2023-02-04T06:13:14.205Z"
   },
   {
    "duration": 16,
    "start_time": "2023-02-04T06:13:14.222Z"
   },
   {
    "duration": 5,
    "start_time": "2023-02-04T06:13:14.239Z"
   },
   {
    "duration": 6,
    "start_time": "2023-02-04T06:13:14.246Z"
   },
   {
    "duration": 9,
    "start_time": "2023-02-04T06:13:14.253Z"
   },
   {
    "duration": 10,
    "start_time": "2023-02-04T06:13:14.263Z"
   },
   {
    "duration": 42,
    "start_time": "2023-02-04T06:13:14.274Z"
   },
   {
    "duration": 5,
    "start_time": "2023-02-04T06:13:14.318Z"
   },
   {
    "duration": 14,
    "start_time": "2023-02-04T06:13:14.324Z"
   },
   {
    "duration": 11,
    "start_time": "2023-02-04T06:13:14.339Z"
   },
   {
    "duration": 10,
    "start_time": "2023-02-04T06:13:14.352Z"
   },
   {
    "duration": 4,
    "start_time": "2023-02-04T06:13:14.364Z"
   },
   {
    "duration": 44,
    "start_time": "2023-02-04T06:13:14.370Z"
   },
   {
    "duration": 9,
    "start_time": "2023-02-04T06:13:14.416Z"
   },
   {
    "duration": 19,
    "start_time": "2023-02-04T06:13:14.426Z"
   },
   {
    "duration": 19,
    "start_time": "2023-02-04T06:13:14.447Z"
   },
   {
    "duration": 48,
    "start_time": "2023-02-04T06:13:14.468Z"
   },
   {
    "duration": 6,
    "start_time": "2023-02-04T06:13:14.517Z"
   },
   {
    "duration": 61,
    "start_time": "2023-02-04T06:13:14.525Z"
   },
   {
    "duration": 72156,
    "start_time": "2023-02-04T06:13:14.609Z"
   },
   {
    "duration": 6847,
    "start_time": "2023-02-04T06:14:26.767Z"
   },
   {
    "duration": 252,
    "start_time": "2023-02-04T06:14:33.616Z"
   },
   {
    "duration": 153,
    "start_time": "2023-02-04T06:14:33.870Z"
   },
   {
    "duration": 4,
    "start_time": "2023-02-04T06:14:34.024Z"
   },
   {
    "duration": 11,
    "start_time": "2023-02-04T06:14:34.029Z"
   },
   {
    "duration": 310,
    "start_time": "2023-02-04T06:14:34.043Z"
   },
   {
    "duration": 10,
    "start_time": "2023-02-04T06:14:34.355Z"
   },
   {
    "duration": 143,
    "start_time": "2023-02-04T06:14:34.367Z"
   },
   {
    "duration": 13,
    "start_time": "2023-02-04T06:14:34.513Z"
   },
   {
    "duration": 324,
    "start_time": "2023-02-04T06:14:34.528Z"
   },
   {
    "duration": 7,
    "start_time": "2023-02-04T06:14:34.853Z"
   },
   {
    "duration": 4,
    "start_time": "2023-02-04T06:14:34.861Z"
   },
   {
    "duration": 13,
    "start_time": "2023-02-04T06:14:34.867Z"
   },
   {
    "duration": 99,
    "start_time": "2023-02-04T06:14:34.881Z"
   },
   {
    "duration": 92,
    "start_time": "2023-02-04T06:14:34.982Z"
   },
   {
    "duration": 98610,
    "start_time": "2023-02-04T06:14:35.076Z"
   },
   {
    "duration": 8840,
    "start_time": "2023-02-04T06:16:13.688Z"
   },
   {
    "duration": 123,
    "start_time": "2023-02-04T06:16:22.611Z"
   },
   {
    "duration": 1577,
    "start_time": "2023-02-04T06:16:22.736Z"
   },
   {
    "duration": 97,
    "start_time": "2023-02-04T06:16:24.314Z"
   },
   {
    "duration": 4,
    "start_time": "2023-02-04T06:22:12.634Z"
   },
   {
    "duration": 9,
    "start_time": "2023-02-04T06:23:42.280Z"
   },
   {
    "duration": 78,
    "start_time": "2023-02-04T06:24:24.580Z"
   },
   {
    "duration": 6,
    "start_time": "2023-02-04T06:24:42.056Z"
   },
   {
    "duration": 50,
    "start_time": "2023-02-04T06:27:34.612Z"
   },
   {
    "duration": 44852,
    "start_time": "2023-02-04T06:38:07.651Z"
   },
   {
    "duration": 4853,
    "start_time": "2023-02-04T06:41:10.874Z"
   },
   {
    "duration": 25,
    "start_time": "2023-02-04T06:52:39.204Z"
   },
   {
    "duration": 654,
    "start_time": "2023-02-04T06:53:27.538Z"
   },
   {
    "duration": 25,
    "start_time": "2023-02-04T06:54:26.872Z"
   },
   {
    "duration": 1733,
    "start_time": "2023-02-04T07:00:58.058Z"
   },
   {
    "duration": 18,
    "start_time": "2023-02-04T07:01:36.398Z"
   },
   {
    "duration": 1548,
    "start_time": "2023-02-04T07:01:50.595Z"
   },
   {
    "duration": 1563,
    "start_time": "2023-02-04T07:02:45.040Z"
   },
   {
    "duration": 1527,
    "start_time": "2023-02-04T07:03:47.857Z"
   },
   {
    "duration": 1596,
    "start_time": "2023-02-04T07:04:05.231Z"
   },
   {
    "duration": 30,
    "start_time": "2023-02-04T07:04:11.056Z"
   },
   {
    "duration": 4,
    "start_time": "2023-02-04T07:04:23.446Z"
   },
   {
    "duration": 39,
    "start_time": "2023-02-04T07:04:23.478Z"
   },
   {
    "duration": 21,
    "start_time": "2023-02-04T07:04:23.524Z"
   },
   {
    "duration": 12,
    "start_time": "2023-02-04T07:04:23.547Z"
   },
   {
    "duration": 8,
    "start_time": "2023-02-04T07:04:23.560Z"
   },
   {
    "duration": 5,
    "start_time": "2023-02-04T07:04:23.699Z"
   },
   {
    "duration": 20,
    "start_time": "2023-02-04T07:04:23.707Z"
   },
   {
    "duration": 15,
    "start_time": "2023-02-04T07:04:23.732Z"
   },
   {
    "duration": 8,
    "start_time": "2023-02-04T07:04:23.750Z"
   },
   {
    "duration": 5,
    "start_time": "2023-02-04T07:04:23.760Z"
   },
   {
    "duration": 15,
    "start_time": "2023-02-04T07:04:23.780Z"
   },
   {
    "duration": 13,
    "start_time": "2023-02-04T07:04:23.939Z"
   },
   {
    "duration": 12,
    "start_time": "2023-02-04T07:04:23.954Z"
   },
   {
    "duration": 15,
    "start_time": "2023-02-04T07:04:23.968Z"
   },
   {
    "duration": 13,
    "start_time": "2023-02-04T07:04:24.029Z"
   },
   {
    "duration": 10,
    "start_time": "2023-02-04T07:04:24.189Z"
   },
   {
    "duration": 27,
    "start_time": "2023-02-04T07:04:24.201Z"
   },
   {
    "duration": 25,
    "start_time": "2023-02-04T07:04:24.231Z"
   },
   {
    "duration": 18,
    "start_time": "2023-02-04T07:04:24.257Z"
   },
   {
    "duration": 39,
    "start_time": "2023-02-04T07:04:24.278Z"
   },
   {
    "duration": 62,
    "start_time": "2023-02-04T07:04:24.445Z"
   },
   {
    "duration": 73639,
    "start_time": "2023-02-04T07:04:24.509Z"
   },
   {
    "duration": 6866,
    "start_time": "2023-02-04T07:05:38.150Z"
   },
   {
    "duration": 206,
    "start_time": "2023-02-04T07:05:45.017Z"
   },
   {
    "duration": 103,
    "start_time": "2023-02-04T07:05:45.225Z"
   },
   {
    "duration": 4,
    "start_time": "2023-02-04T07:05:45.330Z"
   },
   {
    "duration": 18,
    "start_time": "2023-02-04T07:05:45.335Z"
   },
   {
    "duration": 322,
    "start_time": "2023-02-04T07:05:45.354Z"
   },
   {
    "duration": 8,
    "start_time": "2023-02-04T07:05:45.678Z"
   },
   {
    "duration": 39,
    "start_time": "2023-02-04T07:05:45.688Z"
   },
   {
    "duration": 94,
    "start_time": "2023-02-04T07:05:45.733Z"
   },
   {
    "duration": 280,
    "start_time": "2023-02-04T07:05:45.911Z"
   },
   {
    "duration": 22,
    "start_time": "2023-02-04T07:05:46.193Z"
   },
   {
    "duration": 6,
    "start_time": "2023-02-04T07:05:46.216Z"
   },
   {
    "duration": 26,
    "start_time": "2023-02-04T07:05:46.224Z"
   },
   {
    "duration": 73,
    "start_time": "2023-02-04T07:05:46.252Z"
   },
   {
    "duration": 92,
    "start_time": "2023-02-04T07:05:46.327Z"
   },
   {
    "duration": 101504,
    "start_time": "2023-02-04T07:05:46.420Z"
   },
   {
    "duration": 8802,
    "start_time": "2023-02-04T07:07:27.925Z"
   },
   {
    "duration": 197,
    "start_time": "2023-02-04T07:07:36.729Z"
   },
   {
    "duration": 1551,
    "start_time": "2023-02-04T07:07:36.928Z"
   },
   {
    "duration": 41,
    "start_time": "2023-02-04T07:07:38.480Z"
   },
   {
    "duration": 87,
    "start_time": "2023-02-04T07:07:38.528Z"
   },
   {
    "duration": 25,
    "start_time": "2023-02-04T07:07:38.618Z"
   },
   {
    "duration": 135,
    "start_time": "2023-02-04T07:07:38.645Z"
   },
   {
    "duration": 6,
    "start_time": "2023-02-04T07:07:38.781Z"
   },
   {
    "duration": 51,
    "start_time": "2023-02-04T07:07:38.788Z"
   },
   {
    "duration": 44782,
    "start_time": "2023-02-04T07:07:38.840Z"
   },
   {
    "duration": 5597,
    "start_time": "2023-02-04T07:08:23.626Z"
   },
   {
    "duration": 98,
    "start_time": "2023-02-04T07:08:29.231Z"
   },
   {
    "duration": 645,
    "start_time": "2023-02-04T07:08:29.331Z"
   },
   {
    "duration": 46,
    "start_time": "2023-02-04T07:08:29.978Z"
   },
   {
    "duration": 1574,
    "start_time": "2023-02-04T07:10:21.988Z"
   },
   {
    "duration": 18,
    "start_time": "2023-02-04T07:17:37.066Z"
   },
   {
    "duration": 8,
    "start_time": "2023-02-04T07:18:22.955Z"
   },
   {
    "duration": 7,
    "start_time": "2023-02-04T07:20:07.077Z"
   },
   {
    "duration": 13,
    "start_time": "2023-02-04T07:23:18.952Z"
   },
   {
    "duration": 9,
    "start_time": "2023-02-04T07:23:43.567Z"
   },
   {
    "duration": 8,
    "start_time": "2023-02-04T07:23:46.519Z"
   },
   {
    "duration": 8,
    "start_time": "2023-02-04T07:24:43.434Z"
   },
   {
    "duration": 4,
    "start_time": "2023-02-04T07:24:47.888Z"
   },
   {
    "duration": 6,
    "start_time": "2023-02-04T07:27:27.860Z"
   },
   {
    "duration": 1735,
    "start_time": "2023-02-05T09:18:34.726Z"
   },
   {
    "duration": 164,
    "start_time": "2023-02-05T09:18:36.463Z"
   },
   {
    "duration": 14,
    "start_time": "2023-02-05T09:18:36.629Z"
   },
   {
    "duration": 15,
    "start_time": "2023-02-05T09:18:36.645Z"
   },
   {
    "duration": 4,
    "start_time": "2023-02-05T09:18:36.662Z"
   },
   {
    "duration": 27,
    "start_time": "2023-02-05T09:18:36.668Z"
   },
   {
    "duration": 10,
    "start_time": "2023-02-05T09:18:36.697Z"
   },
   {
    "duration": 11,
    "start_time": "2023-02-05T09:18:36.708Z"
   },
   {
    "duration": 6,
    "start_time": "2023-02-05T09:18:36.721Z"
   },
   {
    "duration": 12,
    "start_time": "2023-02-05T09:18:40.030Z"
   },
   {
    "duration": 9,
    "start_time": "2023-02-05T09:18:43.934Z"
   },
   {
    "duration": 4,
    "start_time": "2023-02-05T10:32:44.336Z"
   },
   {
    "duration": 42,
    "start_time": "2023-02-05T10:32:44.344Z"
   },
   {
    "duration": 12,
    "start_time": "2023-02-05T10:32:44.388Z"
   },
   {
    "duration": 14,
    "start_time": "2023-02-05T10:32:44.401Z"
   },
   {
    "duration": 6,
    "start_time": "2023-02-05T10:32:44.417Z"
   },
   {
    "duration": 4,
    "start_time": "2023-02-05T10:32:44.779Z"
   },
   {
    "duration": 9,
    "start_time": "2023-02-05T10:32:44.785Z"
   },
   {
    "duration": 11,
    "start_time": "2023-02-05T10:32:44.795Z"
   },
   {
    "duration": 6,
    "start_time": "2023-02-05T10:32:44.808Z"
   },
   {
    "duration": 10,
    "start_time": "2023-02-05T10:32:44.815Z"
   },
   {
    "duration": 4,
    "start_time": "2023-02-05T10:32:44.826Z"
   },
   {
    "duration": 12,
    "start_time": "2023-02-05T10:32:45.390Z"
   },
   {
    "duration": 12,
    "start_time": "2023-02-05T10:32:45.403Z"
   },
   {
    "duration": 11,
    "start_time": "2023-02-05T10:32:45.417Z"
   },
   {
    "duration": 5,
    "start_time": "2023-02-05T10:32:45.430Z"
   },
   {
    "duration": 10,
    "start_time": "2023-02-05T10:32:47.663Z"
   },
   {
    "duration": 8,
    "start_time": "2023-02-05T10:32:47.675Z"
   },
   {
    "duration": 19,
    "start_time": "2023-02-05T10:32:48.197Z"
   },
   {
    "duration": 17,
    "start_time": "2023-02-05T10:32:48.218Z"
   },
   {
    "duration": 17,
    "start_time": "2023-02-05T10:32:48.237Z"
   },
   {
    "duration": 5,
    "start_time": "2023-02-05T10:32:48.256Z"
   },
   {
    "duration": 77,
    "start_time": "2023-02-05T10:32:48.263Z"
   },
   {
    "duration": 64435,
    "start_time": "2023-02-05T10:32:48.342Z"
   },
   {
    "duration": 7820,
    "start_time": "2023-02-05T10:33:52.780Z"
   },
   {
    "duration": 257,
    "start_time": "2023-02-05T10:34:00.602Z"
   },
   {
    "duration": 108,
    "start_time": "2023-02-05T10:34:00.893Z"
   },
   {
    "duration": 4,
    "start_time": "2023-02-05T10:34:01.002Z"
   },
   {
    "duration": 25,
    "start_time": "2023-02-05T10:34:01.008Z"
   },
   {
    "duration": 286,
    "start_time": "2023-02-05T10:34:01.035Z"
   },
   {
    "duration": 10,
    "start_time": "2023-02-05T10:34:01.322Z"
   },
   {
    "duration": 59,
    "start_time": "2023-02-05T10:34:01.334Z"
   },
   {
    "duration": 99,
    "start_time": "2023-02-05T10:34:01.395Z"
   },
   {
    "duration": 313,
    "start_time": "2023-02-05T10:34:01.496Z"
   },
   {
    "duration": 6,
    "start_time": "2023-02-05T10:34:01.811Z"
   },
   {
    "duration": 17,
    "start_time": "2023-02-05T10:34:01.819Z"
   },
   {
    "duration": 23,
    "start_time": "2023-02-05T10:34:01.837Z"
   },
   {
    "duration": 89,
    "start_time": "2023-02-05T10:34:01.861Z"
   },
   {
    "duration": 74,
    "start_time": "2023-02-05T10:34:01.952Z"
   },
   {
    "duration": 86614,
    "start_time": "2023-02-05T10:34:02.029Z"
   },
   {
    "duration": 9957,
    "start_time": "2023-02-05T10:35:28.646Z"
   },
   {
    "duration": 119,
    "start_time": "2023-02-05T10:35:38.695Z"
   },
   {
    "duration": 1301,
    "start_time": "2023-02-05T10:35:38.816Z"
   },
   {
    "duration": 83,
    "start_time": "2023-02-05T10:35:40.119Z"
   },
   {
    "duration": 89,
    "start_time": "2023-02-05T10:35:40.204Z"
   },
   {
    "duration": 13,
    "start_time": "2023-02-05T10:35:40.295Z"
   },
   {
    "duration": 112,
    "start_time": "2023-02-05T10:35:40.310Z"
   },
   {
    "duration": 6,
    "start_time": "2023-02-05T10:35:40.424Z"
   },
   {
    "duration": 37,
    "start_time": "2023-02-05T10:35:40.432Z"
   },
   {
    "duration": 40825,
    "start_time": "2023-02-05T10:35:40.470Z"
   },
   {
    "duration": 5501,
    "start_time": "2023-02-05T10:36:21.296Z"
   },
   {
    "duration": 194,
    "start_time": "2023-02-05T10:36:26.799Z"
   },
   {
    "duration": 567,
    "start_time": "2023-02-05T10:36:26.995Z"
   },
   {
    "duration": 30,
    "start_time": "2023-02-05T10:36:27.564Z"
   },
   {
    "duration": 1427,
    "start_time": "2023-02-05T10:36:27.597Z"
   },
   {
    "duration": 7,
    "start_time": "2023-02-05T10:36:29.025Z"
   },
   {
    "duration": 16,
    "start_time": "2023-02-05T10:36:29.033Z"
   },
   {
    "duration": 1539,
    "start_time": "2023-02-06T16:40:22.369Z"
   },
   {
    "duration": 185,
    "start_time": "2023-02-06T16:40:23.911Z"
   },
   {
    "duration": 14,
    "start_time": "2023-02-06T16:40:24.098Z"
   },
   {
    "duration": 19,
    "start_time": "2023-02-06T16:40:24.115Z"
   },
   {
    "duration": 6,
    "start_time": "2023-02-06T16:40:24.136Z"
   },
   {
    "duration": 8,
    "start_time": "2023-02-06T16:40:24.143Z"
   },
   {
    "duration": 12,
    "start_time": "2023-02-06T16:40:24.153Z"
   },
   {
    "duration": 34,
    "start_time": "2023-02-06T16:40:24.167Z"
   },
   {
    "duration": 7,
    "start_time": "2023-02-06T16:40:24.203Z"
   },
   {
    "duration": 10,
    "start_time": "2023-02-06T16:40:24.212Z"
   },
   {
    "duration": 4,
    "start_time": "2023-02-06T16:40:24.223Z"
   },
   {
    "duration": 11,
    "start_time": "2023-02-06T16:40:31.518Z"
   },
   {
    "duration": 106,
    "start_time": "2023-02-06T16:44:23.227Z"
   },
   {
    "duration": 5,
    "start_time": "2023-02-06T16:44:38.346Z"
   },
   {
    "duration": 9,
    "start_time": "2023-02-06T16:44:40.136Z"
   },
   {
    "duration": 20,
    "start_time": "2023-02-06T16:44:42.925Z"
   },
   {
    "duration": 9,
    "start_time": "2023-02-06T16:44:45.409Z"
   },
   {
    "duration": 19,
    "start_time": "2023-02-06T16:44:47.658Z"
   },
   {
    "duration": 18,
    "start_time": "2023-02-06T16:44:51.036Z"
   },
   {
    "duration": 3,
    "start_time": "2023-02-06T16:46:21.419Z"
   },
   {
    "duration": 46,
    "start_time": "2023-02-06T16:46:21.428Z"
   },
   {
    "duration": 10,
    "start_time": "2023-02-06T16:46:21.476Z"
   },
   {
    "duration": 12,
    "start_time": "2023-02-06T16:46:21.488Z"
   },
   {
    "duration": 6,
    "start_time": "2023-02-06T16:46:21.501Z"
   },
   {
    "duration": 5,
    "start_time": "2023-02-06T16:46:21.509Z"
   },
   {
    "duration": 8,
    "start_time": "2023-02-06T16:46:21.515Z"
   },
   {
    "duration": 14,
    "start_time": "2023-02-06T16:46:21.524Z"
   },
   {
    "duration": 7,
    "start_time": "2023-02-06T16:46:21.539Z"
   },
   {
    "duration": 12,
    "start_time": "2023-02-06T16:46:21.547Z"
   },
   {
    "duration": 5,
    "start_time": "2023-02-06T16:46:21.592Z"
   },
   {
    "duration": 13,
    "start_time": "2023-02-06T16:46:21.598Z"
   },
   {
    "duration": 6,
    "start_time": "2023-02-06T16:46:21.613Z"
   },
   {
    "duration": 8,
    "start_time": "2023-02-06T16:46:21.621Z"
   },
   {
    "duration": 18,
    "start_time": "2023-02-06T16:46:21.632Z"
   },
   {
    "duration": 10,
    "start_time": "2023-02-06T16:46:21.652Z"
   },
   {
    "duration": 46,
    "start_time": "2023-02-06T16:46:21.663Z"
   },
   {
    "duration": 16,
    "start_time": "2023-02-06T16:46:21.711Z"
   },
   {
    "duration": 15,
    "start_time": "2023-02-06T16:46:21.729Z"
   },
   {
    "duration": 5,
    "start_time": "2023-02-06T16:46:21.746Z"
   },
   {
    "duration": 84,
    "start_time": "2023-02-06T16:46:21.753Z"
   },
   {
    "duration": 65630,
    "start_time": "2023-02-06T16:46:21.839Z"
   },
   {
    "duration": 7226,
    "start_time": "2023-02-06T16:47:27.471Z"
   },
   {
    "duration": 294,
    "start_time": "2023-02-06T16:47:34.699Z"
   },
   {
    "duration": 106,
    "start_time": "2023-02-06T16:47:34.995Z"
   },
   {
    "duration": 3,
    "start_time": "2023-02-06T16:47:35.104Z"
   },
   {
    "duration": 11,
    "start_time": "2023-02-06T16:47:35.109Z"
   },
   {
    "duration": 301,
    "start_time": "2023-02-06T16:47:35.121Z"
   },
   {
    "duration": 9,
    "start_time": "2023-02-06T16:47:35.424Z"
   },
   {
    "duration": 60,
    "start_time": "2023-02-06T16:47:35.435Z"
   },
   {
    "duration": 100,
    "start_time": "2023-02-06T16:47:35.497Z"
   },
   {
    "duration": 301,
    "start_time": "2023-02-06T16:47:35.600Z"
   },
   {
    "duration": 10,
    "start_time": "2023-02-06T16:47:35.903Z"
   },
   {
    "duration": 13,
    "start_time": "2023-02-06T16:47:35.915Z"
   },
   {
    "duration": 22,
    "start_time": "2023-02-06T16:47:35.930Z"
   },
   {
    "duration": 113,
    "start_time": "2023-02-06T16:47:35.954Z"
   },
   {
    "duration": 94,
    "start_time": "2023-02-06T16:47:36.069Z"
   },
   {
    "duration": 88664,
    "start_time": "2023-02-06T16:47:36.165Z"
   },
   {
    "duration": 9666,
    "start_time": "2023-02-06T16:49:04.831Z"
   },
   {
    "duration": 210,
    "start_time": "2023-02-06T16:49:14.499Z"
   },
   {
    "duration": 1351,
    "start_time": "2023-02-06T16:49:14.710Z"
   },
   {
    "duration": 129,
    "start_time": "2023-02-06T16:49:16.063Z"
   },
   {
    "duration": 4,
    "start_time": "2023-02-06T16:49:16.194Z"
   },
   {
    "duration": 112,
    "start_time": "2023-02-06T16:49:16.200Z"
   },
   {
    "duration": 82,
    "start_time": "2023-02-06T16:49:16.314Z"
   },
   {
    "duration": 5,
    "start_time": "2023-02-06T16:49:16.398Z"
   },
   {
    "duration": 49,
    "start_time": "2023-02-06T16:49:16.405Z"
   },
   {
    "duration": 41469,
    "start_time": "2023-02-06T16:49:16.456Z"
   },
   {
    "duration": 5972,
    "start_time": "2023-02-06T16:49:57.927Z"
   },
   {
    "duration": 191,
    "start_time": "2023-02-06T16:50:03.902Z"
   },
   {
    "duration": 580,
    "start_time": "2023-02-06T16:50:04.094Z"
   },
   {
    "duration": 25,
    "start_time": "2023-02-06T16:50:04.677Z"
   },
   {
    "duration": 1637,
    "start_time": "2023-02-06T16:50:04.704Z"
   },
   {
    "duration": 7,
    "start_time": "2023-02-06T16:50:06.342Z"
   },
   {
    "duration": 8,
    "start_time": "2023-02-06T16:50:06.351Z"
   }
  ],
  "kernelspec": {
   "display_name": "Python 3 (ipykernel)",
   "language": "python",
   "name": "python3"
  },
  "language_info": {
   "codemirror_mode": {
    "name": "ipython",
    "version": 3
   },
   "file_extension": ".py",
   "mimetype": "text/x-python",
   "name": "python",
   "nbconvert_exporter": "python",
   "pygments_lexer": "ipython3",
   "version": "3.8.13"
  },
  "toc": {
   "base_numbering": 1,
   "nav_menu": {},
   "number_sections": true,
   "sideBar": true,
   "skip_h1_title": true,
   "title_cell": "Содержание",
   "title_sidebar": "Contents",
   "toc_cell": true,
   "toc_position": {
    "height": "calc(100% - 180px)",
    "left": "10px",
    "top": "150px",
    "width": "165px"
   },
   "toc_section_display": true,
   "toc_window_display": true
  }
 },
 "nbformat": 4,
 "nbformat_minor": 4
}
