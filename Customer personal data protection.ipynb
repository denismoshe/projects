{
 "cells": [
  {
   "cell_type": "markdown",
   "metadata": {},
   "source": [
    "# Customer personal data protection"
   ]
  },
  {
   "cell_type": "markdown",
   "metadata": {},
   "source": [
    "The goal of a project is to protect the data of the \"Hot Flood\" insurance company's clients by developing a data transformation method that makes it difficult to recover personal information from it. The correctness of its operation needs to be justified.\n",
    "\n",
    "The goal is to protect the data in such a way that the quality of machine learning models does not deteriorate during the transformation. There is no need to select the best model.\n",
    "\n",
    "The project consists of a few parts:\n",
    "\n",
    " 1) Preliminary checking the data\n",
    " 2) Checking mathematically, if the data can be transformed through the reversible martix\n",
    " 3) Checking the quality of the linear regression with trasformed data (R2 metric should be evaluated)"
   ]
  },
  {
   "cell_type": "markdown",
   "metadata": {},
   "source": [
    "## Preliminary data analysis"
   ]
  },
  {
   "cell_type": "code",
   "execution_count": 1,
   "metadata": {},
   "outputs": [],
   "source": [
    "import matplotlib.pyplot as plt\n",
    "import numpy as np\n",
    "import pandas as pd\n",
    "import seaborn as sns\n",
    "\n",
    "import phik\n",
    "from phik import resources, report\n",
    "from phik.report import plot_correlation_matrix\n",
    "\n",
    "from sklearn.linear_model import LinearRegression\n",
    "\n",
    "import warnings\n",
    "warnings.filterwarnings('ignore')"
   ]
  },
  {
   "cell_type": "code",
   "execution_count": 2,
   "metadata": {},
   "outputs": [],
   "source": [
    "data = pd.read_csv('/Users/mojseenkodenis/Desktop/insurance.csv')"
   ]
  },
  {
   "cell_type": "code",
   "execution_count": 3,
   "metadata": {},
   "outputs": [
    {
     "name": "stdout",
     "output_type": "stream",
     "text": [
      "<class 'pandas.core.frame.DataFrame'>\n",
      "RangeIndex: 5000 entries, 0 to 4999\n",
      "Data columns (total 5 columns):\n",
      " #   Column             Non-Null Count  Dtype  \n",
      "---  ------             --------------  -----  \n",
      " 0   Пол                5000 non-null   int64  \n",
      " 1   Возраст            5000 non-null   float64\n",
      " 2   Зарплата           5000 non-null   float64\n",
      " 3   Члены семьи        5000 non-null   int64  \n",
      " 4   Страховые выплаты  5000 non-null   int64  \n",
      "dtypes: float64(2), int64(3)\n",
      "memory usage: 195.4 KB\n"
     ]
    }
   ],
   "source": [
    "data.info()"
   ]
  },
  {
   "cell_type": "code",
   "execution_count": 4,
   "metadata": {},
   "outputs": [],
   "source": [
    "#The data is in Russian, so let's change the column names to English\n",
    "data = data.rename(columns={'Пол': 'Gender', \n",
    "                     'Возраст': 'Age', \n",
    "                     'Зарплата': 'Salary', \n",
    "                     'Члены семьи': 'Family members', \n",
    "                     'Страховые выплаты': 'Insurance payments'})"
   ]
  },
  {
   "cell_type": "code",
   "execution_count": 5,
   "metadata": {},
   "outputs": [
    {
     "data": {
      "text/html": [
       "<div>\n",
       "<style scoped>\n",
       "    .dataframe tbody tr th:only-of-type {\n",
       "        vertical-align: middle;\n",
       "    }\n",
       "\n",
       "    .dataframe tbody tr th {\n",
       "        vertical-align: top;\n",
       "    }\n",
       "\n",
       "    .dataframe thead th {\n",
       "        text-align: right;\n",
       "    }\n",
       "</style>\n",
       "<table border=\"1\" class=\"dataframe\">\n",
       "  <thead>\n",
       "    <tr style=\"text-align: right;\">\n",
       "      <th></th>\n",
       "      <th>Gender</th>\n",
       "      <th>Age</th>\n",
       "      <th>Salary</th>\n",
       "      <th>Family members</th>\n",
       "      <th>Insurance payments</th>\n",
       "    </tr>\n",
       "  </thead>\n",
       "  <tbody>\n",
       "    <tr>\n",
       "      <th>0</th>\n",
       "      <td>1</td>\n",
       "      <td>41.0</td>\n",
       "      <td>49600.0</td>\n",
       "      <td>1</td>\n",
       "      <td>0</td>\n",
       "    </tr>\n",
       "    <tr>\n",
       "      <th>1</th>\n",
       "      <td>0</td>\n",
       "      <td>46.0</td>\n",
       "      <td>38000.0</td>\n",
       "      <td>1</td>\n",
       "      <td>1</td>\n",
       "    </tr>\n",
       "    <tr>\n",
       "      <th>2</th>\n",
       "      <td>0</td>\n",
       "      <td>29.0</td>\n",
       "      <td>21000.0</td>\n",
       "      <td>0</td>\n",
       "      <td>0</td>\n",
       "    </tr>\n",
       "    <tr>\n",
       "      <th>3</th>\n",
       "      <td>0</td>\n",
       "      <td>21.0</td>\n",
       "      <td>41700.0</td>\n",
       "      <td>2</td>\n",
       "      <td>0</td>\n",
       "    </tr>\n",
       "    <tr>\n",
       "      <th>4</th>\n",
       "      <td>1</td>\n",
       "      <td>28.0</td>\n",
       "      <td>26100.0</td>\n",
       "      <td>0</td>\n",
       "      <td>0</td>\n",
       "    </tr>\n",
       "  </tbody>\n",
       "</table>\n",
       "</div>"
      ],
      "text/plain": [
       "   Gender   Age   Salary  Family members  Insurance payments\n",
       "0       1  41.0  49600.0               1                   0\n",
       "1       0  46.0  38000.0               1                   1\n",
       "2       0  29.0  21000.0               0                   0\n",
       "3       0  21.0  41700.0               2                   0\n",
       "4       1  28.0  26100.0               0                   0"
      ]
     },
     "execution_count": 5,
     "metadata": {},
     "output_type": "execute_result"
    }
   ],
   "source": [
    "data.head()"
   ]
  },
  {
   "cell_type": "code",
   "execution_count": 6,
   "metadata": {},
   "outputs": [
    {
     "data": {
      "text/html": [
       "<div>\n",
       "<style scoped>\n",
       "    .dataframe tbody tr th:only-of-type {\n",
       "        vertical-align: middle;\n",
       "    }\n",
       "\n",
       "    .dataframe tbody tr th {\n",
       "        vertical-align: top;\n",
       "    }\n",
       "\n",
       "    .dataframe thead th {\n",
       "        text-align: right;\n",
       "    }\n",
       "</style>\n",
       "<table border=\"1\" class=\"dataframe\">\n",
       "  <thead>\n",
       "    <tr style=\"text-align: right;\">\n",
       "      <th></th>\n",
       "      <th>Gender</th>\n",
       "      <th>Age</th>\n",
       "      <th>Salary</th>\n",
       "      <th>Family members</th>\n",
       "      <th>Insurance payments</th>\n",
       "    </tr>\n",
       "  </thead>\n",
       "  <tbody>\n",
       "    <tr>\n",
       "      <th>count</th>\n",
       "      <td>5000.000000</td>\n",
       "      <td>5000.000000</td>\n",
       "      <td>5000.000000</td>\n",
       "      <td>5000.000000</td>\n",
       "      <td>5000.000000</td>\n",
       "    </tr>\n",
       "    <tr>\n",
       "      <th>mean</th>\n",
       "      <td>0.499000</td>\n",
       "      <td>30.952800</td>\n",
       "      <td>39916.360000</td>\n",
       "      <td>1.194200</td>\n",
       "      <td>0.148000</td>\n",
       "    </tr>\n",
       "    <tr>\n",
       "      <th>std</th>\n",
       "      <td>0.500049</td>\n",
       "      <td>8.440807</td>\n",
       "      <td>9900.083569</td>\n",
       "      <td>1.091387</td>\n",
       "      <td>0.463183</td>\n",
       "    </tr>\n",
       "    <tr>\n",
       "      <th>min</th>\n",
       "      <td>0.000000</td>\n",
       "      <td>18.000000</td>\n",
       "      <td>5300.000000</td>\n",
       "      <td>0.000000</td>\n",
       "      <td>0.000000</td>\n",
       "    </tr>\n",
       "    <tr>\n",
       "      <th>25%</th>\n",
       "      <td>0.000000</td>\n",
       "      <td>24.000000</td>\n",
       "      <td>33300.000000</td>\n",
       "      <td>0.000000</td>\n",
       "      <td>0.000000</td>\n",
       "    </tr>\n",
       "    <tr>\n",
       "      <th>50%</th>\n",
       "      <td>0.000000</td>\n",
       "      <td>30.000000</td>\n",
       "      <td>40200.000000</td>\n",
       "      <td>1.000000</td>\n",
       "      <td>0.000000</td>\n",
       "    </tr>\n",
       "    <tr>\n",
       "      <th>75%</th>\n",
       "      <td>1.000000</td>\n",
       "      <td>37.000000</td>\n",
       "      <td>46600.000000</td>\n",
       "      <td>2.000000</td>\n",
       "      <td>0.000000</td>\n",
       "    </tr>\n",
       "    <tr>\n",
       "      <th>max</th>\n",
       "      <td>1.000000</td>\n",
       "      <td>65.000000</td>\n",
       "      <td>79000.000000</td>\n",
       "      <td>6.000000</td>\n",
       "      <td>5.000000</td>\n",
       "    </tr>\n",
       "  </tbody>\n",
       "</table>\n",
       "</div>"
      ],
      "text/plain": [
       "            Gender          Age        Salary  Family members  \\\n",
       "count  5000.000000  5000.000000   5000.000000     5000.000000   \n",
       "mean      0.499000    30.952800  39916.360000        1.194200   \n",
       "std       0.500049     8.440807   9900.083569        1.091387   \n",
       "min       0.000000    18.000000   5300.000000        0.000000   \n",
       "25%       0.000000    24.000000  33300.000000        0.000000   \n",
       "50%       0.000000    30.000000  40200.000000        1.000000   \n",
       "75%       1.000000    37.000000  46600.000000        2.000000   \n",
       "max       1.000000    65.000000  79000.000000        6.000000   \n",
       "\n",
       "       Insurance payments  \n",
       "count         5000.000000  \n",
       "mean             0.148000  \n",
       "std              0.463183  \n",
       "min              0.000000  \n",
       "25%              0.000000  \n",
       "50%              0.000000  \n",
       "75%              0.000000  \n",
       "max              5.000000  "
      ]
     },
     "execution_count": 6,
     "metadata": {},
     "output_type": "execute_result"
    }
   ],
   "source": [
    "data.describe()"
   ]
  },
  {
   "cell_type": "code",
   "execution_count": 7,
   "metadata": {
    "scrolled": true
   },
   "outputs": [
    {
     "data": {
      "image/png": "[encoded data removed]",
      "text/plain": [
       "<Figure size 640x480 with 1 Axes>"
      ]
     },
     "metadata": {},
     "output_type": "display_data"
    },
    {
     "data": {
      "image/png": "[encoded data removed]",
      "text/plain": [
       "<Figure size 640x480 with 1 Axes>"
      ]
     },
     "metadata": {},
     "output_type": "display_data"
    },
    {
     "data": {
      "image/png": "[encoded data removed]",
      "text/plain": [
       "<Figure size 640x480 with 1 Axes>"
      ]
     },
     "metadata": {},
     "output_type": "display_data"
    },
    {
     "data": {
      "image/png": "[encoded data removed]",
      "text/plain": [
       "<Figure size 640x480 with 1 Axes>"
      ]
     },
     "metadata": {},
     "output_type": "display_data"
    },
    {
     "data": {
      "image/png": "[encoded data removed]",
      "text/plain": [
       "<Figure size 640x480 with 1 Axes>"
      ]
     },
     "metadata": {},
     "output_type": "display_data"
    }
   ],
   "source": [
    "#Cheching the distribution of the features\n",
    "for i, col in enumerate(data.columns):\n",
    "    sns.distplot(data[col], kde=True)\n",
    "    plt.show()"
   ]
  },
  {
   "cell_type": "code",
   "execution_count": 8,
   "metadata": {},
   "outputs": [
    {
     "data": {
      "image/png": "[encoded data removed]",
      "text/plain": [
       "<Figure size 1500x500 with 3 Axes>"
      ]
     },
     "metadata": {},
     "output_type": "display_data"
    }
   ],
   "source": [
    "fig, axes = plt.subplots(nrows=1, ncols=3, figsize=(15, 5))\n",
    "\n",
    "columns_to_plot = ['Age', 'Salary', 'Family members']\n",
    "\n",
    "for i, col in enumerate(columns_to_plot):\n",
    "    axes[i].boxplot(data[col])\n",
    "    axes[i].set_title(col)\n",
    "\n",
    "plt.show()"
   ]
  },
  {
   "cell_type": "code",
   "execution_count": 9,
   "metadata": {},
   "outputs": [
    {
     "name": "stdout",
     "output_type": "stream",
     "text": [
      "interval columns not set, guessing: ['Gender', 'Age', 'Salary', 'Family members', 'Insurance payments']\n"
     ]
    },
    {
     "data": {
      "image/png": "[encoded data removed]",
      "text/plain": [
       "<Figure size 700x700 with 2 Axes>"
      ]
     },
     "metadata": {},
     "output_type": "display_data"
    }
   ],
   "source": [
    "#Checking the correlation between the features\n",
    "phik_correlation = data.phik_matrix()\n",
    "plot_correlation_matrix(phik_correlation.values,\n",
    "                        x_labels=phik_correlation.columns,\n",
    "                        y_labels=phik_correlation.index,\n",
    "                        title='$\\phi_K$ correlation',\n",
    "                        figsize=(7, 7),\n",
    "                        color_map='RdPu')"
   ]
  },
  {
   "cell_type": "markdown",
   "metadata": {},
   "source": [
    "In the data provided, there are 5 columns: insurance payments will be the target feature, and the remaining columns will be the features. There are 5000 rows in the data, and there are no missing values.\n",
    "\n",
    "Exploratory data analysis showed that the quantitative features have a normal distribution with outliers, and there is only a correlation between insurance payouts and age (0.88)."
   ]
  },
  {
   "cell_type": "markdown",
   "metadata": {},
   "source": [
    "## Multiplying matrixes"
   ]
  },
  {
   "cell_type": "markdown",
   "metadata": {},
   "source": [
    "Notation:\n",
    "\n",
    "$X$ — feature matrix (the zeroth column consists of ones)\n",
    "\n",
    "$y$ — target feature vector\n",
    "\n",
    "$P$ — matrix by which the features are multiplied\n",
    "\n",
    "$w$ — linear regression weights vector (the zeroth element is the bias)"
   ]
  },
  {
   "cell_type": "markdown",
   "metadata": {},
   "source": [
    "Predictions:\n",
    "\n",
    "$$\n",
    "a = Xw\n",
    "$$\n",
    "\n",
    "Learning goal:\n",
    "\n",
    "$$\n",
    "w = \\arg\\min_w MSE(Xw, y)\n",
    "$$\n",
    "\n",
    "Learning formula:\n",
    "\n",
    "$$\n",
    "w = (X^T X)^{-1} X^T y\n",
    "$$\n",
    "\n",
    "Proof:\n",
    "\n",
    "$$\n",
    "a' = (XP)w'\n",
    "$$\n",
    "\n",
    "$$\n",
    "a' = XP((XP)^T XP)^{-1} (XP)^T y = XP(P^TX^TXP)^{-1}P^TX^Ty = XPP^{-1}(X^TX)^{-1}(P^T)^{-1}P^TX^Ty = X(X^TX)^{-1}X^Ty = Xw = a\n",
    "$$"
   ]
  },
  {
   "cell_type": "markdown",
   "metadata": {},
   "source": [
    "**Answer**: R2 won't change.\n",
    "\n",
    "**Justification**: A linear function has a constant scale of return, so changing the features will not lead to a significant change in prediction accuracy."
   ]
  },
  {
   "cell_type": "markdown",
   "metadata": {},
   "source": [
    "## Data transformation algorithm"
   ]
  },
  {
   "cell_type": "markdown",
   "metadata": {},
   "source": [
    "**Algorithm**:\n",
    "\n",
    " 1) Create a matrix with random numbers\n",
    "\n",
    " 2) Verify that it is invertible\n",
    "\n",
    " 3) Multiply the features by 200\n",
    "\n",
    " 4) Then subtract 50\n",
    "\n",
    " 5) Finally, multiply the features by a random matrix\n",
    "\n",
    " 6) Train linear regression on the original and encrypted data\n",
    "\n",
    " 7) Compare the R2 metrics obtained"
   ]
  },
  {
   "cell_type": "markdown",
   "metadata": {},
   "source": [
    "**Justification**\n",
    "\n",
    "All operations with matrices will alter the original information in a way that will make it difficult to reconstruct without knowing all the steps of the algorithm."
   ]
  },
  {
   "cell_type": "markdown",
   "metadata": {},
   "source": [
    "## Algotithm testing"
   ]
  },
  {
   "cell_type": "code",
   "execution_count": 10,
   "metadata": {},
   "outputs": [],
   "source": [
    "#Checking the accuracy of the model on the original data\n",
    "target = data['Insurance payments']\n",
    "features = data.drop('Insurance payments', axis=1)"
   ]
  },
  {
   "cell_type": "code",
   "execution_count": 11,
   "metadata": {},
   "outputs": [
    {
     "data": {
      "text/plain": [
       "(5000,)"
      ]
     },
     "metadata": {},
     "output_type": "display_data"
    },
    {
     "data": {
      "text/plain": [
       "(5000, 4)"
      ]
     },
     "execution_count": 11,
     "metadata": {},
     "output_type": "execute_result"
    }
   ],
   "source": [
    "display(target.shape)\n",
    "features.shape"
   ]
  },
  {
   "cell_type": "code",
   "execution_count": 12,
   "metadata": {},
   "outputs": [
    {
     "name": "stdout",
     "output_type": "stream",
     "text": [
      "0.42494550286668\n"
     ]
    }
   ],
   "source": [
    "model = LinearRegression()\n",
    "model.fit(features, target)\n",
    "r2 = model.score(features, target)\n",
    "print(r2)"
   ]
  },
  {
   "cell_type": "markdown",
   "metadata": {},
   "source": [
    "After training the linear regression model on the original data before transformations, the accuracy is 0.424."
   ]
  },
  {
   "cell_type": "markdown",
   "metadata": {},
   "source": [
    "Now let's look at the accuracy of the model when we change the features by multiplying them by a matrix."
   ]
  },
  {
   "cell_type": "code",
   "execution_count": 13,
   "metadata": {
    "scrolled": true
   },
   "outputs": [
    {
     "data": {
      "text/plain": [
       "array([[ 2.40514678, -0.68610635, -2.84249617, -0.05385905],\n",
       "       [ 0.61493912, -2.35822276,  0.23265238,  1.16171512],\n",
       "       [-2.06090736,  3.7642606 ,  4.17296661, -1.90024494],\n",
       "       [-1.25889595,  1.46813848, -0.21447954,  0.95782731]])"
      ]
     },
     "execution_count": 13,
     "metadata": {},
     "output_type": "execute_result"
    }
   ],
   "source": [
    "#Creating 4х4 matrix\n",
    "MATRIX = np.random.rand(4,4)\n",
    "\n",
    "#Let's check if it is invertible\n",
    "np.linalg.inv(MATRIX)"
   ]
  },
  {
   "cell_type": "code",
   "execution_count": 14,
   "metadata": {},
   "outputs": [],
   "source": [
    "new_features = features.dot(MATRIX)"
   ]
  },
  {
   "cell_type": "code",
   "execution_count": 15,
   "metadata": {},
   "outputs": [
    {
     "name": "stdout",
     "output_type": "stream",
     "text": [
      "0.4249455028666709\n"
     ]
    }
   ],
   "source": [
    "model = LinearRegression()\n",
    "model.fit(new_features, target)\n",
    "r2 = model.score(new_features, target)\n",
    "print(r2)"
   ]
  },
  {
   "cell_type": "markdown",
   "metadata": {},
   "source": [
    "As expected, when multiplying the features by the inverse matrix, the accuracy of the model did not change significantly.\n",
    "\n",
    "In the end, let's encode the data using the algorithm and check the accuracy of the model with this encoded data."
   ]
  },
  {
   "cell_type": "code",
   "execution_count": 16,
   "metadata": {},
   "outputs": [
    {
     "data": {
      "text/plain": [
       "array([[ 0.03804153, -1.81242054, -1.0250245 ,  1.50060968],\n",
       "       [ 2.58555999, -1.03660667,  1.00802644, -1.49775709],\n",
       "       [ 0.61228743, -1.61296011,  1.54768572, -0.32653915],\n",
       "       [-3.56939688,  5.89048613, -1.7554568 ,  1.81662469]])"
      ]
     },
     "execution_count": 16,
     "metadata": {},
     "output_type": "execute_result"
    }
   ],
   "source": [
    "NEW_MATRIX = np.random.rand(4,4)\n",
    "\n",
    "np.linalg.inv(NEW_MATRIX)"
   ]
  },
  {
   "cell_type": "code",
   "execution_count": 17,
   "metadata": {},
   "outputs": [],
   "source": [
    "algorith_features = (features * 200 - 50) @ NEW_MATRIX"
   ]
  },
  {
   "cell_type": "code",
   "execution_count": 18,
   "metadata": {},
   "outputs": [
    {
     "data": {
      "text/html": [
       "<div>\n",
       "<style scoped>\n",
       "    .dataframe tbody tr th:only-of-type {\n",
       "        vertical-align: middle;\n",
       "    }\n",
       "\n",
       "    .dataframe tbody tr th {\n",
       "        vertical-align: top;\n",
       "    }\n",
       "\n",
       "    .dataframe thead th {\n",
       "        text-align: right;\n",
       "    }\n",
       "</style>\n",
       "<table border=\"1\" class=\"dataframe\">\n",
       "  <thead>\n",
       "    <tr style=\"text-align: right;\">\n",
       "      <th></th>\n",
       "      <th>0</th>\n",
       "      <th>1</th>\n",
       "      <th>2</th>\n",
       "      <th>3</th>\n",
       "    </tr>\n",
       "  </thead>\n",
       "  <tbody>\n",
       "    <tr>\n",
       "      <th>0</th>\n",
       "      <td>295195.785471</td>\n",
       "      <td>1.762403e+06</td>\n",
       "      <td>8.577620e+06</td>\n",
       "      <td>2.751122e+06</td>\n",
       "    </tr>\n",
       "    <tr>\n",
       "      <th>1</th>\n",
       "      <td>226238.915429</td>\n",
       "      <td>1.351146e+06</td>\n",
       "      <td>6.571882e+06</td>\n",
       "      <td>2.108481e+06</td>\n",
       "    </tr>\n",
       "    <tr>\n",
       "      <th>2</th>\n",
       "      <td>124949.862164</td>\n",
       "      <td>7.468400e+05</td>\n",
       "      <td>3.631788e+06</td>\n",
       "      <td>1.165323e+06</td>\n",
       "    </tr>\n",
       "    <tr>\n",
       "      <th>3</th>\n",
       "      <td>248148.886195</td>\n",
       "      <td>1.480724e+06</td>\n",
       "      <td>7.211259e+06</td>\n",
       "      <td>2.312254e+06</td>\n",
       "    </tr>\n",
       "    <tr>\n",
       "      <th>4</th>\n",
       "      <td>155325.446425</td>\n",
       "      <td>9.278217e+05</td>\n",
       "      <td>4.513662e+06</td>\n",
       "      <td>1.447963e+06</td>\n",
       "    </tr>\n",
       "  </tbody>\n",
       "</table>\n",
       "</div>"
      ],
      "text/plain": [
       "               0             1             2             3\n",
       "0  295195.785471  1.762403e+06  8.577620e+06  2.751122e+06\n",
       "1  226238.915429  1.351146e+06  6.571882e+06  2.108481e+06\n",
       "2  124949.862164  7.468400e+05  3.631788e+06  1.165323e+06\n",
       "3  248148.886195  1.480724e+06  7.211259e+06  2.312254e+06\n",
       "4  155325.446425  9.278217e+05  4.513662e+06  1.447963e+06"
      ]
     },
     "execution_count": 18,
     "metadata": {},
     "output_type": "execute_result"
    }
   ],
   "source": [
    "algorith_features.head()"
   ]
  },
  {
   "cell_type": "code",
   "execution_count": 19,
   "metadata": {},
   "outputs": [
    {
     "name": "stdout",
     "output_type": "stream",
     "text": [
      "0.42494550286668764\n"
     ]
    }
   ],
   "source": [
    "model = LinearRegression()\n",
    "model.fit(algorith_features, target)\n",
    "r2 = model.score(algorith_features, target)\n",
    "print(r2)"
   ]
  },
  {
   "cell_type": "markdown",
   "metadata": {},
   "source": [
    "The algorithm verification shows that the model's accuracy after data transformation remains the same as before the transformation or after multiplying only by the matrix (0.424).\n",
    "\n",
    "Let's try to decrypt the data in the reverse order of the algorithm."
   ]
  },
  {
   "cell_type": "code",
   "execution_count": 20,
   "metadata": {},
   "outputs": [],
   "source": [
    "INVERSE_MATRIX = np.linalg.inv(NEW_MATRIX)\n",
    "\n",
    "decoded_features = (algorith_features @ INVERSE_MATRIX + 50) / 200"
   ]
  },
  {
   "cell_type": "code",
   "execution_count": 21,
   "metadata": {},
   "outputs": [
    {
     "data": {
      "text/html": [
       "<div>\n",
       "<style scoped>\n",
       "    .dataframe tbody tr th:only-of-type {\n",
       "        vertical-align: middle;\n",
       "    }\n",
       "\n",
       "    .dataframe tbody tr th {\n",
       "        vertical-align: top;\n",
       "    }\n",
       "\n",
       "    .dataframe thead th {\n",
       "        text-align: right;\n",
       "    }\n",
       "</style>\n",
       "<table border=\"1\" class=\"dataframe\">\n",
       "  <thead>\n",
       "    <tr style=\"text-align: right;\">\n",
       "      <th></th>\n",
       "      <th>0</th>\n",
       "      <th>1</th>\n",
       "      <th>2</th>\n",
       "      <th>3</th>\n",
       "    </tr>\n",
       "  </thead>\n",
       "  <tbody>\n",
       "    <tr>\n",
       "      <th>0</th>\n",
       "      <td>1.000000e+00</td>\n",
       "      <td>41.0</td>\n",
       "      <td>49600.0</td>\n",
       "      <td>1.000000e+00</td>\n",
       "    </tr>\n",
       "    <tr>\n",
       "      <th>1</th>\n",
       "      <td>3.367298e-12</td>\n",
       "      <td>46.0</td>\n",
       "      <td>38000.0</td>\n",
       "      <td>1.000000e+00</td>\n",
       "    </tr>\n",
       "    <tr>\n",
       "      <th>2</th>\n",
       "      <td>5.292833e-12</td>\n",
       "      <td>29.0</td>\n",
       "      <td>21000.0</td>\n",
       "      <td>-1.528271e-12</td>\n",
       "    </tr>\n",
       "    <tr>\n",
       "      <th>3</th>\n",
       "      <td>6.825545e-12</td>\n",
       "      <td>21.0</td>\n",
       "      <td>41700.0</td>\n",
       "      <td>2.000000e+00</td>\n",
       "    </tr>\n",
       "    <tr>\n",
       "      <th>4</th>\n",
       "      <td>1.000000e+00</td>\n",
       "      <td>28.0</td>\n",
       "      <td>26100.0</td>\n",
       "      <td>2.217497e-12</td>\n",
       "    </tr>\n",
       "  </tbody>\n",
       "</table>\n",
       "</div>"
      ],
      "text/plain": [
       "              0     1        2             3\n",
       "0  1.000000e+00  41.0  49600.0  1.000000e+00\n",
       "1  3.367298e-12  46.0  38000.0  1.000000e+00\n",
       "2  5.292833e-12  29.0  21000.0 -1.528271e-12\n",
       "3  6.825545e-12  21.0  41700.0  2.000000e+00\n",
       "4  1.000000e+00  28.0  26100.0  2.217497e-12"
      ]
     },
     "execution_count": 21,
     "metadata": {},
     "output_type": "execute_result"
    }
   ],
   "source": [
    "decoded_features.head()"
   ]
  },
  {
   "cell_type": "code",
   "execution_count": 22,
   "metadata": {},
   "outputs": [
    {
     "data": {
      "text/html": [
       "<div>\n",
       "<style scoped>\n",
       "    .dataframe tbody tr th:only-of-type {\n",
       "        vertical-align: middle;\n",
       "    }\n",
       "\n",
       "    .dataframe tbody tr th {\n",
       "        vertical-align: top;\n",
       "    }\n",
       "\n",
       "    .dataframe thead th {\n",
       "        text-align: right;\n",
       "    }\n",
       "</style>\n",
       "<table border=\"1\" class=\"dataframe\">\n",
       "  <thead>\n",
       "    <tr style=\"text-align: right;\">\n",
       "      <th></th>\n",
       "      <th>Gender</th>\n",
       "      <th>Age</th>\n",
       "      <th>Salary</th>\n",
       "      <th>Family members</th>\n",
       "    </tr>\n",
       "  </thead>\n",
       "  <tbody>\n",
       "    <tr>\n",
       "      <th>0</th>\n",
       "      <td>1</td>\n",
       "      <td>41.0</td>\n",
       "      <td>49600.0</td>\n",
       "      <td>1</td>\n",
       "    </tr>\n",
       "    <tr>\n",
       "      <th>1</th>\n",
       "      <td>0</td>\n",
       "      <td>46.0</td>\n",
       "      <td>38000.0</td>\n",
       "      <td>1</td>\n",
       "    </tr>\n",
       "    <tr>\n",
       "      <th>2</th>\n",
       "      <td>0</td>\n",
       "      <td>29.0</td>\n",
       "      <td>21000.0</td>\n",
       "      <td>0</td>\n",
       "    </tr>\n",
       "    <tr>\n",
       "      <th>3</th>\n",
       "      <td>0</td>\n",
       "      <td>21.0</td>\n",
       "      <td>41700.0</td>\n",
       "      <td>2</td>\n",
       "    </tr>\n",
       "    <tr>\n",
       "      <th>4</th>\n",
       "      <td>1</td>\n",
       "      <td>28.0</td>\n",
       "      <td>26100.0</td>\n",
       "      <td>0</td>\n",
       "    </tr>\n",
       "  </tbody>\n",
       "</table>\n",
       "</div>"
      ],
      "text/plain": [
       "   Gender   Age   Salary  Family members\n",
       "0       1  41.0  49600.0               1\n",
       "1       0  46.0  38000.0               1\n",
       "2       0  29.0  21000.0               0\n",
       "3       0  21.0  41700.0               2\n",
       "4       1  28.0  26100.0               0"
      ]
     },
     "execution_count": 22,
     "metadata": {},
     "output_type": "execute_result"
    }
   ],
   "source": [
    "features.head()"
   ]
  },
  {
   "cell_type": "markdown",
   "metadata": {},
   "source": [
    "If we repeat the algorithm in reverse order, we can recover the original numerical values."
   ]
  },
  {
   "cell_type": "markdown",
   "metadata": {},
   "source": [
    "## Conclusion"
   ]
  },
  {
   "cell_type": "markdown",
   "metadata": {},
   "source": [
    "The goal was to develop a method for protecting customer data for an insurance company. The research showed that data can be multiplied by non-reversible matrices and other mathematical operations can be performed on them to make it difficult to recover the original data.\n",
    "\n",
    "The accuracy of linear regression trained on both the original and transformed data was 0.424. Thus, the encrypted data can also be used for machine learning model training without losing accuracy.\n",
    "\n",
    "In the end, the encrypted data was decoded using the reverse algorithm to recover the original information."
   ]
  }
 ],
 "metadata": {
  "ExecuteTimeLog": [
   {
    "duration": 331,
    "start_time": "2023-03-15T10:05:17.433Z"
   },
   {
    "duration": 65,
    "start_time": "2023-03-15T10:05:38.653Z"
   },
   {
    "duration": 12,
    "start_time": "2023-03-15T10:05:43.486Z"
   },
   {
    "duration": 10,
    "start_time": "2023-03-15T10:05:46.562Z"
   },
   {
    "duration": 71,
    "start_time": "2023-03-15T10:06:05.841Z"
   },
   {
    "duration": 5,
    "start_time": "2023-03-15T10:06:10.441Z"
   },
   {
    "duration": 7,
    "start_time": "2023-03-15T10:06:33.653Z"
   },
   {
    "duration": 14,
    "start_time": "2023-03-15T10:06:44.185Z"
   },
   {
    "duration": 673,
    "start_time": "2023-03-15T10:14:17.995Z"
   },
   {
    "duration": 3,
    "start_time": "2023-03-15T10:16:50.256Z"
   },
   {
    "duration": 3,
    "start_time": "2023-03-15T10:17:49.945Z"
   },
   {
    "duration": 5,
    "start_time": "2023-03-15T10:17:59.967Z"
   },
   {
    "duration": 18,
    "start_time": "2023-03-15T10:19:10.842Z"
   },
   {
    "duration": 5,
    "start_time": "2023-03-15T10:30:09.568Z"
   },
   {
    "duration": 44,
    "start_time": "2023-03-15T10:33:56.521Z"
   },
   {
    "duration": 5,
    "start_time": "2023-03-15T10:34:12.028Z"
   },
   {
    "duration": 3,
    "start_time": "2023-03-15T10:34:13.814Z"
   },
   {
    "duration": 8,
    "start_time": "2023-03-15T10:34:35.022Z"
   },
   {
    "duration": 1134,
    "start_time": "2023-03-16T03:15:10.179Z"
   },
   {
    "duration": 87,
    "start_time": "2023-03-16T03:15:11.315Z"
   },
   {
    "duration": 12,
    "start_time": "2023-03-16T03:15:11.404Z"
   },
   {
    "duration": 12,
    "start_time": "2023-03-16T03:15:11.418Z"
   },
   {
    "duration": 14,
    "start_time": "2023-03-16T03:15:11.432Z"
   },
   {
    "duration": 34,
    "start_time": "2023-03-16T03:15:11.449Z"
   },
   {
    "duration": 100,
    "start_time": "2023-03-16T03:15:11.489Z"
   },
   {
    "duration": 91,
    "start_time": "2023-03-16T03:15:11.590Z"
   },
   {
    "duration": 11,
    "start_time": "2023-03-16T03:15:11.684Z"
   },
   {
    "duration": 6,
    "start_time": "2023-03-16T03:22:25.021Z"
   },
   {
    "duration": 6,
    "start_time": "2023-03-16T03:23:53.443Z"
   },
   {
    "duration": 13,
    "start_time": "2023-03-16T03:24:04.649Z"
   },
   {
    "duration": 10,
    "start_time": "2023-03-16T03:24:26.800Z"
   },
   {
    "duration": 1656,
    "start_time": "2023-03-16T16:31:19.150Z"
   },
   {
    "duration": 28,
    "start_time": "2023-03-16T16:31:20.808Z"
   },
   {
    "duration": 17,
    "start_time": "2023-03-16T16:31:20.838Z"
   },
   {
    "duration": 15,
    "start_time": "2023-03-16T16:31:20.857Z"
   },
   {
    "duration": 21,
    "start_time": "2023-03-16T16:31:20.876Z"
   },
   {
    "duration": 95,
    "start_time": "2023-03-16T16:31:20.899Z"
   },
   {
    "duration": 14,
    "start_time": "2023-03-16T16:31:20.998Z"
   },
   {
    "duration": 4,
    "start_time": "2023-03-16T16:31:21.090Z"
   },
   {
    "duration": 105,
    "start_time": "2023-03-16T16:31:21.099Z"
   },
   {
    "duration": 83,
    "start_time": "2023-03-16T16:31:21.211Z"
   },
   {
    "duration": 8,
    "start_time": "2023-03-16T16:31:21.300Z"
   },
   {
    "duration": 95,
    "start_time": "2023-03-16T16:31:21.313Z"
   },
   {
    "duration": 87,
    "start_time": "2023-03-16T16:31:21.414Z"
   },
   {
    "duration": 59,
    "start_time": "2023-03-17T01:02:50.700Z"
   },
   {
    "duration": 1164,
    "start_time": "2023-03-17T01:02:56.069Z"
   },
   {
    "duration": 76,
    "start_time": "2023-03-17T01:02:57.235Z"
   },
   {
    "duration": 14,
    "start_time": "2023-03-17T01:02:57.313Z"
   },
   {
    "duration": 19,
    "start_time": "2023-03-17T01:02:57.329Z"
   },
   {
    "duration": 4,
    "start_time": "2023-03-17T01:02:57.350Z"
   },
   {
    "duration": 9,
    "start_time": "2023-03-17T01:02:57.356Z"
   },
   {
    "duration": 20,
    "start_time": "2023-03-17T01:02:57.366Z"
   },
   {
    "duration": 90,
    "start_time": "2023-03-17T01:02:57.388Z"
   },
   {
    "duration": 5,
    "start_time": "2023-03-17T01:02:57.481Z"
   },
   {
    "duration": 100,
    "start_time": "2023-03-17T01:02:57.489Z"
   },
   {
    "duration": 89,
    "start_time": "2023-03-17T01:02:57.592Z"
   },
   {
    "duration": 97,
    "start_time": "2023-03-17T01:02:57.687Z"
   },
   {
    "duration": 96,
    "start_time": "2023-03-17T01:02:57.787Z"
   },
   {
    "duration": 13,
    "start_time": "2023-03-17T01:02:57.885Z"
   },
   {
    "duration": 26,
    "start_time": "2023-03-17T01:03:12.796Z"
   },
   {
    "duration": 65,
    "start_time": "2023-03-17T01:11:40.619Z"
   },
   {
    "duration": 14,
    "start_time": "2023-03-17T01:12:10.094Z"
   },
   {
    "duration": 686,
    "start_time": "2023-03-17T01:12:14.575Z"
   },
   {
    "duration": 22,
    "start_time": "2023-03-17T01:13:05.477Z"
   },
   {
    "duration": 10,
    "start_time": "2023-03-17T01:13:14.845Z"
   },
   {
    "duration": 16,
    "start_time": "2023-03-17T01:13:30.834Z"
   },
   {
    "duration": 10,
    "start_time": "2023-03-17T01:18:44.831Z"
   },
   {
    "duration": 9,
    "start_time": "2023-03-17T01:18:58.645Z"
   },
   {
    "duration": 3,
    "start_time": "2023-03-17T01:19:07.048Z"
   },
   {
    "duration": 128,
    "start_time": "2023-03-17T01:19:12.321Z"
   },
   {
    "duration": 174,
    "start_time": "2023-03-17T01:20:59.145Z"
   },
   {
    "duration": 524,
    "start_time": "2023-03-17T01:21:20.669Z"
   },
   {
    "duration": 431,
    "start_time": "2023-03-17T01:21:58.255Z"
   },
   {
    "duration": 446,
    "start_time": "2023-03-17T01:22:08.249Z"
   },
   {
    "duration": 442,
    "start_time": "2023-03-17T01:22:17.683Z"
   },
   {
    "duration": 470,
    "start_time": "2023-03-17T01:22:22.762Z"
   },
   {
    "duration": 466,
    "start_time": "2023-03-17T01:22:29.169Z"
   },
   {
    "duration": 616,
    "start_time": "2023-03-17T01:24:08.463Z"
   },
   {
    "duration": 440,
    "start_time": "2023-03-17T01:25:20.624Z"
   },
   {
    "duration": 397,
    "start_time": "2023-03-17T01:26:04.731Z"
   },
   {
    "duration": 415,
    "start_time": "2023-03-17T01:27:11.242Z"
   },
   {
    "duration": 458,
    "start_time": "2023-03-17T01:28:03.713Z"
   },
   {
    "duration": 159,
    "start_time": "2023-03-17T01:28:11.306Z"
   },
   {
    "duration": 18,
    "start_time": "2023-03-17T01:30:10.024Z"
   },
   {
    "duration": 249,
    "start_time": "2023-03-17T01:30:41.348Z"
   },
   {
    "duration": 401,
    "start_time": "2023-03-17T01:31:41.928Z"
   },
   {
    "duration": 424,
    "start_time": "2023-03-17T01:32:22.673Z"
   },
   {
    "duration": 406,
    "start_time": "2023-03-17T01:32:59.292Z"
   },
   {
    "duration": 495,
    "start_time": "2023-03-17T01:33:04.776Z"
   },
   {
    "duration": 452,
    "start_time": "2023-03-17T01:33:10.112Z"
   },
   {
    "duration": 589,
    "start_time": "2023-03-17T01:33:20.062Z"
   },
   {
    "duration": 410,
    "start_time": "2023-03-17T01:33:26.511Z"
   },
   {
    "duration": 11,
    "start_time": "2023-03-17T01:35:09.863Z"
   },
   {
    "duration": 76,
    "start_time": "2023-03-17T01:35:36.988Z"
   },
   {
    "duration": 462,
    "start_time": "2023-03-17T01:35:42.748Z"
   },
   {
    "duration": 436,
    "start_time": "2023-03-17T01:35:47.743Z"
   },
   {
    "duration": 417,
    "start_time": "2023-03-17T01:41:02.019Z"
   },
   {
    "duration": 513,
    "start_time": "2023-03-17T01:41:14.933Z"
   },
   {
    "duration": 622,
    "start_time": "2023-03-17T01:41:33.593Z"
   },
   {
    "duration": 348,
    "start_time": "2023-03-17T01:44:02.964Z"
   },
   {
    "duration": 263,
    "start_time": "2023-03-17T01:44:40.973Z"
   },
   {
    "duration": 1292,
    "start_time": "2023-03-17T01:45:53.433Z"
   },
   {
    "duration": 477,
    "start_time": "2023-03-17T01:46:44.697Z"
   },
   {
    "duration": 807,
    "start_time": "2023-03-17T01:47:11.700Z"
   },
   {
    "duration": 1045,
    "start_time": "2023-03-17T01:47:40.162Z"
   },
   {
    "duration": 1203,
    "start_time": "2023-03-17T01:48:39.351Z"
   },
   {
    "duration": 1074,
    "start_time": "2023-03-17T01:48:54.129Z"
   },
   {
    "duration": 103,
    "start_time": "2023-03-17T02:37:14.832Z"
   },
   {
    "duration": 5,
    "start_time": "2023-03-17T07:17:50.176Z"
   },
   {
    "duration": 13,
    "start_time": "2023-03-17T07:18:04.726Z"
   },
   {
    "duration": 11,
    "start_time": "2023-03-17T07:18:10.538Z"
   },
   {
    "duration": 10,
    "start_time": "2023-03-17T07:18:40.223Z"
   },
   {
    "duration": 14,
    "start_time": "2023-03-17T07:22:59.390Z"
   },
   {
    "duration": 11,
    "start_time": "2023-03-17T07:24:49.199Z"
   },
   {
    "duration": 5,
    "start_time": "2023-03-17T07:29:11.169Z"
   },
   {
    "duration": 10,
    "start_time": "2023-03-17T07:29:12.944Z"
   },
   {
    "duration": 5,
    "start_time": "2023-03-17T07:29:32.585Z"
   },
   {
    "duration": 9,
    "start_time": "2023-03-17T07:29:33.866Z"
   },
   {
    "duration": 8,
    "start_time": "2023-03-17T07:30:51.715Z"
   },
   {
    "duration": 9,
    "start_time": "2023-03-17T07:30:52.567Z"
   },
   {
    "duration": 4,
    "start_time": "2023-03-17T07:31:46.674Z"
   },
   {
    "duration": 4,
    "start_time": "2023-03-17T07:32:00.319Z"
   },
   {
    "duration": 6,
    "start_time": "2023-03-17T07:36:28.964Z"
   },
   {
    "duration": 9,
    "start_time": "2023-03-17T07:36:29.535Z"
   },
   {
    "duration": 6,
    "start_time": "2023-03-17T07:36:32.053Z"
   },
   {
    "duration": 10,
    "start_time": "2023-03-17T07:36:32.631Z"
   },
   {
    "duration": 4,
    "start_time": "2023-03-17T07:45:22.139Z"
   },
   {
    "duration": 4,
    "start_time": "2023-03-17T07:45:30.359Z"
   },
   {
    "duration": 4,
    "start_time": "2023-03-17T07:45:39.444Z"
   },
   {
    "duration": 6,
    "start_time": "2023-03-17T07:46:01.207Z"
   },
   {
    "duration": 9,
    "start_time": "2023-03-17T07:46:02.454Z"
   },
   {
    "duration": 1613,
    "start_time": "2023-03-17T10:23:26.140Z"
   },
   {
    "duration": 109,
    "start_time": "2023-03-17T10:23:27.755Z"
   },
   {
    "duration": 14,
    "start_time": "2023-03-17T10:23:27.866Z"
   },
   {
    "duration": 17,
    "start_time": "2023-03-17T10:23:27.881Z"
   },
   {
    "duration": 26,
    "start_time": "2023-03-17T10:23:27.900Z"
   },
   {
    "duration": 961,
    "start_time": "2023-03-17T10:23:27.928Z"
   },
   {
    "duration": 494,
    "start_time": "2023-03-17T10:23:28.890Z"
   },
   {
    "duration": 398,
    "start_time": "2023-03-17T10:23:29.386Z"
   },
   {
    "duration": 4,
    "start_time": "2023-03-17T10:23:29.785Z"
   },
   {
    "duration": 15,
    "start_time": "2023-03-17T10:23:29.791Z"
   },
   {
    "duration": 12,
    "start_time": "2023-03-17T10:23:29.807Z"
   },
   {
    "duration": 58,
    "start_time": "2023-03-17T10:23:29.821Z"
   },
   {
    "duration": 96,
    "start_time": "2023-03-17T10:23:29.881Z"
   },
   {
    "duration": 20,
    "start_time": "2023-03-17T10:23:29.979Z"
   },
   {
    "duration": 79,
    "start_time": "2023-03-17T10:23:30.002Z"
   },
   {
    "duration": 19,
    "start_time": "2023-03-17T10:23:30.175Z"
   },
   {
    "duration": 82,
    "start_time": "2023-03-17T10:23:30.197Z"
   },
   {
    "duration": 45,
    "start_time": "2023-03-17T10:23:30.281Z"
   },
   {
    "duration": 168,
    "start_time": "2023-03-17T10:23:30.327Z"
   },
   {
    "duration": 278,
    "start_time": "2023-03-17T10:23:30.497Z"
   },
   {
    "duration": 0,
    "start_time": "2023-03-17T10:23:30.776Z"
   },
   {
    "duration": 8,
    "start_time": "2023-03-17T10:23:46.994Z"
   },
   {
    "duration": 4,
    "start_time": "2023-03-17T10:23:55.748Z"
   },
   {
    "duration": 10,
    "start_time": "2023-03-17T10:24:04.732Z"
   },
   {
    "duration": 9,
    "start_time": "2023-03-17T10:24:31.217Z"
   },
   {
    "duration": 4,
    "start_time": "2023-03-17T10:38:31.807Z"
   },
   {
    "duration": 10,
    "start_time": "2023-03-17T10:38:32.503Z"
   },
   {
    "duration": 9,
    "start_time": "2023-03-17T10:38:34.517Z"
   },
   {
    "duration": 3,
    "start_time": "2023-03-17T10:39:55.438Z"
   },
   {
    "duration": 40,
    "start_time": "2023-03-17T10:39:55.443Z"
   },
   {
    "duration": 13,
    "start_time": "2023-03-17T10:39:55.485Z"
   },
   {
    "duration": 20,
    "start_time": "2023-03-17T10:39:55.500Z"
   },
   {
    "duration": 25,
    "start_time": "2023-03-17T10:39:55.522Z"
   },
   {
    "duration": 974,
    "start_time": "2023-03-17T10:39:55.548Z"
   },
   {
    "duration": 421,
    "start_time": "2023-03-17T10:39:56.524Z"
   },
   {
    "duration": 401,
    "start_time": "2023-03-17T10:39:56.947Z"
   },
   {
    "duration": 5,
    "start_time": "2023-03-17T10:39:57.351Z"
   },
   {
    "duration": 19,
    "start_time": "2023-03-17T10:39:57.357Z"
   },
   {
    "duration": 98,
    "start_time": "2023-03-17T10:39:57.378Z"
   },
   {
    "duration": 5,
    "start_time": "2023-03-17T10:39:57.479Z"
   },
   {
    "duration": 5,
    "start_time": "2023-03-17T10:39:57.576Z"
   },
   {
    "duration": 93,
    "start_time": "2023-03-17T10:39:57.583Z"
   },
   {
    "duration": 96,
    "start_time": "2023-03-17T10:39:57.683Z"
   },
   {
    "duration": 18,
    "start_time": "2023-03-17T10:39:57.781Z"
   },
   {
    "duration": 11,
    "start_time": "2023-03-17T10:39:57.875Z"
   },
   {
    "duration": 88,
    "start_time": "2023-03-17T10:39:57.888Z"
   },
   {
    "duration": 5,
    "start_time": "2023-03-17T10:39:57.978Z"
   },
   {
    "duration": 103,
    "start_time": "2023-03-17T10:39:57.984Z"
   },
   {
    "duration": 90,
    "start_time": "2023-03-17T10:39:58.089Z"
   },
   {
    "duration": 2397,
    "start_time": "2023-03-18T07:41:10.622Z"
   },
   {
    "duration": 101,
    "start_time": "2023-03-18T07:41:13.021Z"
   },
   {
    "duration": 17,
    "start_time": "2023-03-18T07:41:13.125Z"
   },
   {
    "duration": 66,
    "start_time": "2023-03-18T07:41:13.145Z"
   },
   {
    "duration": 94,
    "start_time": "2023-03-18T07:41:13.214Z"
   },
   {
    "duration": 3695,
    "start_time": "2023-03-18T07:41:13.311Z"
   },
   {
    "duration": 1790,
    "start_time": "2023-03-18T07:41:17.008Z"
   },
   {
    "duration": 899,
    "start_time": "2023-03-18T07:41:18.801Z"
   },
   {
    "duration": 6,
    "start_time": "2023-03-18T07:41:19.703Z"
   },
   {
    "duration": 84,
    "start_time": "2023-03-18T07:41:19.711Z"
   },
   {
    "duration": 18,
    "start_time": "2023-03-18T07:41:19.798Z"
   },
   {
    "duration": 89,
    "start_time": "2023-03-18T07:41:19.818Z"
   },
   {
    "duration": 194,
    "start_time": "2023-03-18T07:41:19.910Z"
   },
   {
    "duration": 24,
    "start_time": "2023-03-18T07:41:20.108Z"
   },
   {
    "duration": 179,
    "start_time": "2023-03-18T07:41:20.134Z"
   },
   {
    "duration": 183,
    "start_time": "2023-03-18T07:41:20.316Z"
   },
   {
    "duration": 18,
    "start_time": "2023-03-18T07:41:20.501Z"
   },
   {
    "duration": 177,
    "start_time": "2023-03-18T07:41:20.522Z"
   },
   {
    "duration": 105,
    "start_time": "2023-03-18T07:41:20.701Z"
   },
   {
    "duration": 202,
    "start_time": "2023-03-18T07:41:20.808Z"
   },
   {
    "duration": 85,
    "start_time": "2023-03-18T07:41:21.012Z"
   },
   {
    "duration": 1493,
    "start_time": "2023-03-19T13:13:00.543Z"
   },
   {
    "duration": 107,
    "start_time": "2023-03-19T13:13:02.038Z"
   },
   {
    "duration": 13,
    "start_time": "2023-03-19T13:13:02.147Z"
   },
   {
    "duration": 55,
    "start_time": "2023-03-19T13:13:02.162Z"
   },
   {
    "duration": 65,
    "start_time": "2023-03-19T13:13:02.219Z"
   },
   {
    "duration": 956,
    "start_time": "2023-03-19T13:13:02.286Z"
   },
   {
    "duration": 468,
    "start_time": "2023-03-19T13:13:03.243Z"
   },
   {
    "duration": 406,
    "start_time": "2023-03-19T13:13:03.713Z"
   },
   {
    "duration": 3,
    "start_time": "2023-03-19T13:13:04.121Z"
   },
   {
    "duration": 8,
    "start_time": "2023-03-19T13:13:04.126Z"
   },
   {
    "duration": 10,
    "start_time": "2023-03-19T13:13:04.136Z"
   },
   {
    "duration": 47,
    "start_time": "2023-03-19T13:13:04.147Z"
   },
   {
    "duration": 94,
    "start_time": "2023-03-19T13:13:04.196Z"
   },
   {
    "duration": 99,
    "start_time": "2023-03-19T13:13:04.294Z"
   },
   {
    "duration": 102,
    "start_time": "2023-03-19T13:13:04.395Z"
   },
   {
    "duration": 89,
    "start_time": "2023-03-19T13:13:04.500Z"
   },
   {
    "duration": 15,
    "start_time": "2023-03-19T13:13:04.593Z"
   },
   {
    "duration": 95,
    "start_time": "2023-03-19T13:13:04.610Z"
   },
   {
    "duration": 5,
    "start_time": "2023-03-19T13:13:04.790Z"
   },
   {
    "duration": 102,
    "start_time": "2023-03-19T13:13:04.797Z"
   },
   {
    "duration": 89,
    "start_time": "2023-03-19T13:13:04.901Z"
   },
   {
    "duration": 1763,
    "start_time": "2023-03-20T02:05:01.875Z"
   },
   {
    "duration": 76,
    "start_time": "2023-03-20T02:05:03.641Z"
   },
   {
    "duration": 14,
    "start_time": "2023-03-20T02:05:03.719Z"
   },
   {
    "duration": 18,
    "start_time": "2023-03-20T02:05:03.735Z"
   },
   {
    "duration": 27,
    "start_time": "2023-03-20T02:05:03.756Z"
   },
   {
    "duration": 884,
    "start_time": "2023-03-20T02:05:03.786Z"
   },
   {
    "duration": 464,
    "start_time": "2023-03-20T02:05:04.671Z"
   },
   {
    "duration": 483,
    "start_time": "2023-03-20T02:05:05.137Z"
   },
   {
    "duration": 6,
    "start_time": "2023-03-20T02:05:05.622Z"
   },
   {
    "duration": 10,
    "start_time": "2023-03-20T02:05:05.630Z"
   },
   {
    "duration": 40,
    "start_time": "2023-03-20T02:05:05.642Z"
   },
   {
    "duration": 109,
    "start_time": "2023-03-20T02:05:05.684Z"
   },
   {
    "duration": 88,
    "start_time": "2023-03-20T02:05:05.795Z"
   },
   {
    "duration": 101,
    "start_time": "2023-03-20T02:05:05.886Z"
   },
   {
    "duration": 98,
    "start_time": "2023-03-20T02:05:05.990Z"
   },
   {
    "duration": 11,
    "start_time": "2023-03-20T02:05:06.090Z"
   },
   {
    "duration": 83,
    "start_time": "2023-03-20T02:05:06.103Z"
   },
   {
    "duration": 95,
    "start_time": "2023-03-20T02:05:06.188Z"
   },
   {
    "duration": 101,
    "start_time": "2023-03-20T02:05:06.285Z"
   },
   {
    "duration": 105,
    "start_time": "2023-03-20T02:05:06.388Z"
   },
   {
    "duration": 91,
    "start_time": "2023-03-20T02:05:06.496Z"
   },
   {
    "duration": 134,
    "start_time": "2023-03-20T02:05:25.838Z"
   },
   {
    "duration": 124,
    "start_time": "2023-03-20T02:05:56.911Z"
   },
   {
    "duration": 3,
    "start_time": "2023-03-20T02:06:06.796Z"
   },
   {
    "duration": 374,
    "start_time": "2023-03-20T02:06:44.152Z"
   },
   {
    "duration": 340,
    "start_time": "2023-03-20T02:06:50.998Z"
   },
   {
    "duration": 273,
    "start_time": "2023-03-20T02:08:24.216Z"
   },
   {
    "duration": 10,
    "start_time": "2023-03-20T02:08:33.550Z"
   },
   {
    "duration": 341,
    "start_time": "2023-03-20T02:09:17.372Z"
   },
   {
    "duration": 325,
    "start_time": "2023-03-20T02:09:31.734Z"
   },
   {
    "duration": 4,
    "start_time": "2023-03-20T02:49:53.589Z"
   },
   {
    "duration": 31,
    "start_time": "2023-03-20T02:49:53.595Z"
   },
   {
    "duration": 10,
    "start_time": "2023-03-20T02:49:53.628Z"
   },
   {
    "duration": 10,
    "start_time": "2023-03-20T02:49:53.640Z"
   },
   {
    "duration": 25,
    "start_time": "2023-03-20T02:49:53.652Z"
   },
   {
    "duration": 1028,
    "start_time": "2023-03-20T02:49:53.947Z"
   },
   {
    "duration": 379,
    "start_time": "2023-03-20T02:49:54.980Z"
   },
   {
    "duration": 359,
    "start_time": "2023-03-20T02:49:55.360Z"
   },
   {
    "duration": 4,
    "start_time": "2023-03-20T02:49:55.721Z"
   },
   {
    "duration": 17,
    "start_time": "2023-03-20T02:49:55.728Z"
   },
   {
    "duration": 43,
    "start_time": "2023-03-20T02:49:55.748Z"
   },
   {
    "duration": 106,
    "start_time": "2023-03-20T02:49:55.794Z"
   },
   {
    "duration": 179,
    "start_time": "2023-03-20T02:49:55.902Z"
   },
   {
    "duration": 34,
    "start_time": "2023-03-20T02:49:56.083Z"
   },
   {
    "duration": 6,
    "start_time": "2023-03-20T02:49:56.182Z"
   },
   {
    "duration": 97,
    "start_time": "2023-03-20T02:49:56.190Z"
   },
   {
    "duration": 13,
    "start_time": "2023-03-20T02:49:56.288Z"
   },
   {
    "duration": 10,
    "start_time": "2023-03-20T02:49:56.381Z"
   },
   {
    "duration": 191,
    "start_time": "2023-03-20T02:49:56.394Z"
   },
   {
    "duration": 95,
    "start_time": "2023-03-20T02:49:56.587Z"
   },
   {
    "duration": 9,
    "start_time": "2023-03-20T02:49:56.685Z"
   },
   {
    "duration": 1744,
    "start_time": "2023-03-20T16:18:28.157Z"
   },
   {
    "duration": 106,
    "start_time": "2023-03-20T16:18:29.903Z"
   },
   {
    "duration": 13,
    "start_time": "2023-03-20T16:18:30.013Z"
   },
   {
    "duration": 14,
    "start_time": "2023-03-20T16:18:30.028Z"
   },
   {
    "duration": 34,
    "start_time": "2023-03-20T16:18:30.044Z"
   },
   {
    "duration": 909,
    "start_time": "2023-03-20T16:18:30.080Z"
   },
   {
    "duration": 473,
    "start_time": "2023-03-20T16:18:30.991Z"
   },
   {
    "duration": 368,
    "start_time": "2023-03-20T16:18:31.466Z"
   },
   {
    "duration": 5,
    "start_time": "2023-03-20T16:18:31.835Z"
   },
   {
    "duration": 26,
    "start_time": "2023-03-20T16:18:31.842Z"
   },
   {
    "duration": 21,
    "start_time": "2023-03-20T16:18:31.869Z"
   },
   {
    "duration": 8,
    "start_time": "2023-03-20T16:18:31.891Z"
   },
   {
    "duration": 77,
    "start_time": "2023-03-20T16:18:31.901Z"
   },
   {
    "duration": 102,
    "start_time": "2023-03-20T16:18:31.979Z"
   },
   {
    "duration": 6,
    "start_time": "2023-03-20T16:18:32.083Z"
   },
   {
    "duration": 5,
    "start_time": "2023-03-20T16:18:32.176Z"
   },
   {
    "duration": 99,
    "start_time": "2023-03-20T16:18:32.183Z"
   },
   {
    "duration": 8,
    "start_time": "2023-03-20T16:18:32.284Z"
   },
   {
    "duration": 5,
    "start_time": "2023-03-20T16:18:32.295Z"
   },
   {
    "duration": 107,
    "start_time": "2023-03-20T16:18:32.376Z"
   },
   {
    "duration": 9,
    "start_time": "2023-03-20T16:18:32.485Z"
   },
   {
    "duration": 2312,
    "start_time": "2023-03-21T03:51:09.328Z"
   },
   {
    "duration": 103,
    "start_time": "2023-03-21T03:51:11.654Z"
   },
   {
    "duration": 14,
    "start_time": "2023-03-21T03:51:11.759Z"
   },
   {
    "duration": 14,
    "start_time": "2023-03-21T03:51:11.775Z"
   },
   {
    "duration": 49,
    "start_time": "2023-03-21T03:51:11.792Z"
   },
   {
    "duration": 1207,
    "start_time": "2023-03-21T03:51:11.844Z"
   },
   {
    "duration": 621,
    "start_time": "2023-03-21T03:51:13.054Z"
   },
   {
    "duration": 495,
    "start_time": "2023-03-21T03:51:13.678Z"
   },
   {
    "duration": 6,
    "start_time": "2023-03-21T03:51:14.175Z"
   },
   {
    "duration": 38,
    "start_time": "2023-03-21T03:51:14.183Z"
   },
   {
    "duration": 45,
    "start_time": "2023-03-21T03:51:14.227Z"
   },
   {
    "duration": 189,
    "start_time": "2023-03-21T03:51:14.277Z"
   },
   {
    "duration": 111,
    "start_time": "2023-03-21T03:51:14.469Z"
   },
   {
    "duration": 97,
    "start_time": "2023-03-21T03:51:14.607Z"
   },
   {
    "duration": 129,
    "start_time": "2023-03-21T03:51:14.719Z"
   },
   {
    "duration": 63,
    "start_time": "2023-03-21T03:51:14.854Z"
   },
   {
    "duration": 132,
    "start_time": "2023-03-21T03:51:14.924Z"
   },
   {
    "duration": 149,
    "start_time": "2023-03-21T03:51:15.058Z"
   },
   {
    "duration": 43,
    "start_time": "2023-03-21T03:51:15.209Z"
   },
   {
    "duration": 151,
    "start_time": "2023-03-21T03:51:15.255Z"
   },
   {
    "duration": 46,
    "start_time": "2023-03-21T03:51:15.408Z"
   }
  ],
  "kernelspec": {
   "display_name": "Python 3 (ipykernel)",
   "language": "python",
   "name": "python3"
  },
  "language_info": {
   "codemirror_mode": {
    "name": "ipython",
    "version": 3
   },
   "file_extension": ".py",
   "mimetype": "text/x-python",
   "name": "python",
   "nbconvert_exporter": "python",
   "pygments_lexer": "ipython3",
   "version": "3.8.13"
  },
  "toc": {
   "base_numbering": 1,
   "nav_menu": {},
   "number_sections": true,
   "sideBar": true,
   "skip_h1_title": true,
   "title_cell": "Содержание",
   "title_sidebar": "Contents",
   "toc_cell": true,
   "toc_position": {
    "height": "calc(100% - 180px)",
    "left": "10px",
    "top": "150px",
    "width": "204.188px"
   },
   "toc_section_display": true,
   "toc_window_display": true
  }
 },
 "nbformat": 4,
 "nbformat_minor": 4
}
