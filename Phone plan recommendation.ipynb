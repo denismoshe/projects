{
 "cells": [
  {
   "cell_type": "markdown",
   "metadata": {},
   "source": [
    "# Phone plan recommendations"
   ]
  },
  {
   "cell_type": "markdown",
   "metadata": {},
   "source": [
    "The mobile operator \"Megaline\" has discovered that many customers are using legacy tariff plans. They want to build a system capable of analyzing customer behavior and offering them a new tariff: \"Smart\" or \"Ultra.\"\n",
    "\n",
    "They have access to data on the behavior of customers who have already switched to these tariffs. The goal is to build a classification model that will select the appropriate tariff. Data preprocessing is not needed, as it's already been done.\n",
    "\n",
    "The project's objective is to build a model with the highest possible accuracy. The model is considered successful if the accuracy is at least 0.75."
   ]
  },
  {
   "cell_type": "markdown",
   "metadata": {},
   "source": [
    "## Data exploration"
   ]
  },
  {
   "cell_type": "code",
   "execution_count": 1,
   "metadata": {},
   "outputs": [],
   "source": [
    "import pandas as pd\n",
    "\n",
    "from sklearn.dummy import DummyClassifier\n",
    "from sklearn.ensemble import RandomForestClassifier\n",
    "from sklearn.linear_model import LogisticRegression\n",
    "from sklearn.metrics import accuracy_score\n",
    "from sklearn.model_selection import train_test_split\n",
    "from sklearn.tree import DecisionTreeClassifier\n",
    " \n",
    "from joblib import dump"
   ]
  },
  {
   "cell_type": "code",
   "execution_count": 2,
   "metadata": {},
   "outputs": [
    {
     "name": "stdout",
     "output_type": "stream",
     "text": [
      "<class 'pandas.core.frame.DataFrame'>\n",
      "RangeIndex: 3214 entries, 0 to 3213\n",
      "Data columns (total 5 columns):\n",
      " #   Column    Non-Null Count  Dtype  \n",
      "---  ------    --------------  -----  \n",
      " 0   calls     3214 non-null   float64\n",
      " 1   minutes   3214 non-null   float64\n",
      " 2   messages  3214 non-null   float64\n",
      " 3   mb_used   3214 non-null   float64\n",
      " 4   is_ultra  3214 non-null   int64  \n",
      "dtypes: float64(4), int64(1)\n",
      "memory usage: 125.7 KB\n"
     ]
    }
   ],
   "source": [
    "data = pd.read_csv('/Users/mojseenkodenis/Desktop/users_behavior.csv')\n",
    "data.info()"
   ]
  },
  {
   "cell_type": "code",
   "execution_count": 3,
   "metadata": {},
   "outputs": [
    {
     "data": {
      "text/html": [
       "<div>\n",
       "<style scoped>\n",
       "    .dataframe tbody tr th:only-of-type {\n",
       "        vertical-align: middle;\n",
       "    }\n",
       "\n",
       "    .dataframe tbody tr th {\n",
       "        vertical-align: top;\n",
       "    }\n",
       "\n",
       "    .dataframe thead th {\n",
       "        text-align: right;\n",
       "    }\n",
       "</style>\n",
       "<table border=\"1\" class=\"dataframe\">\n",
       "  <thead>\n",
       "    <tr style=\"text-align: right;\">\n",
       "      <th></th>\n",
       "      <th>calls</th>\n",
       "      <th>minutes</th>\n",
       "      <th>messages</th>\n",
       "      <th>mb_used</th>\n",
       "      <th>is_ultra</th>\n",
       "    </tr>\n",
       "  </thead>\n",
       "  <tbody>\n",
       "    <tr>\n",
       "      <th>0</th>\n",
       "      <td>40.0</td>\n",
       "      <td>311.90</td>\n",
       "      <td>83.0</td>\n",
       "      <td>19915.42</td>\n",
       "      <td>0</td>\n",
       "    </tr>\n",
       "    <tr>\n",
       "      <th>1</th>\n",
       "      <td>85.0</td>\n",
       "      <td>516.75</td>\n",
       "      <td>56.0</td>\n",
       "      <td>22696.96</td>\n",
       "      <td>0</td>\n",
       "    </tr>\n",
       "    <tr>\n",
       "      <th>2</th>\n",
       "      <td>77.0</td>\n",
       "      <td>467.66</td>\n",
       "      <td>86.0</td>\n",
       "      <td>21060.45</td>\n",
       "      <td>0</td>\n",
       "    </tr>\n",
       "    <tr>\n",
       "      <th>3</th>\n",
       "      <td>106.0</td>\n",
       "      <td>745.53</td>\n",
       "      <td>81.0</td>\n",
       "      <td>8437.39</td>\n",
       "      <td>1</td>\n",
       "    </tr>\n",
       "    <tr>\n",
       "      <th>4</th>\n",
       "      <td>66.0</td>\n",
       "      <td>418.74</td>\n",
       "      <td>1.0</td>\n",
       "      <td>14502.75</td>\n",
       "      <td>0</td>\n",
       "    </tr>\n",
       "  </tbody>\n",
       "</table>\n",
       "</div>"
      ],
      "text/plain": [
       "   calls  minutes  messages   mb_used  is_ultra\n",
       "0   40.0   311.90      83.0  19915.42         0\n",
       "1   85.0   516.75      56.0  22696.96         0\n",
       "2   77.0   467.66      86.0  21060.45         0\n",
       "3  106.0   745.53      81.0   8437.39         1\n",
       "4   66.0   418.74       1.0  14502.75         0"
      ]
     },
     "execution_count": 3,
     "metadata": {},
     "output_type": "execute_result"
    }
   ],
   "source": [
    "data.head()"
   ]
  },
  {
   "cell_type": "markdown",
   "metadata": {},
   "source": [
    "The data has already been cleaned and consists of information about user behavior for a month, with the following columns:\n",
    "\n",
    " - minutes — total call duration in minutes,\n",
    " - messages — the number of SMS messages,\n",
    " - mb_used — internet traffic used in megabytes,\n",
    " - is_ultra — which tariff the user used during the month (1 for \"Ultra,\" 0 for \"Smart\").\n",
    "\n",
    "In this study, the goal is to create a model capable of recommending a tariff to the user. Therefore, the target feature will be the \"is_ultra\" column, while the others will be used as features."
   ]
  },
  {
   "cell_type": "code",
   "execution_count": 4,
   "metadata": {},
   "outputs": [],
   "source": [
    "##Splitting data into train, validation and testing sets in 60%-20%-20% proportion\n",
    "train_valid, test = train_test_split(data, test_size=0.2, random_state=12345)\n",
    "train, valid = train_test_split(train_valid, test_size=0.25, random_state=12345)"
   ]
  },
  {
   "cell_type": "code",
   "execution_count": 5,
   "metadata": {},
   "outputs": [
    {
     "name": "stdout",
     "output_type": "stream",
     "text": [
      "Size of train: 59.99%\n",
      "Size of valid: 20.01%\n",
      "Size of test: 20.01%\n"
     ]
    }
   ],
   "source": [
    "for i, name in zip((train, valid, test), ('train', 'valid', 'test')):\n",
    "    print(f'Size of {name}: {i.shape[0] / data.shape[0] * 100:.2f}%')"
   ]
  },
  {
   "cell_type": "markdown",
   "metadata": {},
   "source": [
    "## Model training"
   ]
  },
  {
   "cell_type": "markdown",
   "metadata": {},
   "source": [
    "In this study, the goal is to determine the appropriate tariff for the user, which is a categorical feature, indicating that we will be addressing a classification problem. Therefore, it is necessary to explore three types of models: decision trees, random forests, and logistic regression."
   ]
  },
  {
   "cell_type": "markdown",
   "metadata": {},
   "source": [
    "### Decision tree"
   ]
  },
  {
   "cell_type": "code",
   "execution_count": 6,
   "metadata": {},
   "outputs": [],
   "source": [
    "features_train = train.drop('is_ultra', axis=1)\n",
    "target_train = train['is_ultra']\n",
    "features_valid = valid.drop('is_ultra', axis=1)\n",
    "target_valid = valid['is_ultra']\n",
    "features_test = test.drop('is_ultra', axis=1)\n",
    "target_test = test['is_ultra']"
   ]
  },
  {
   "cell_type": "code",
   "execution_count": 7,
   "metadata": {
    "scrolled": true
   },
   "outputs": [
    {
     "name": "stdout",
     "output_type": "stream",
     "text": [
      "Accuracy of the best model: 0.7651632970451011\n",
      "Depth of the best result: 3\n"
     ]
    }
   ],
   "source": [
    "best_model = None\n",
    "best_result = 0\n",
    "best_depth = 0\n",
    "\n",
    "for depth in range(1, 6):\n",
    "    model = DecisionTreeClassifier(random_state=12345, max_depth = depth)\n",
    "    model.fit(features_train, target_train)\n",
    "    predictions = model.predict(features_valid)\n",
    "    result = accuracy_score(target_valid, predictions)\n",
    "    if result > best_result:\n",
    "        best_model = model\n",
    "        best_result = result\n",
    "        best_depth = depth\n",
    "print('Accuracy of the best model:', best_result)    \n",
    "print('Depth of the best result:', best_depth)"
   ]
  },
  {
   "cell_type": "code",
   "execution_count": 8,
   "metadata": {},
   "outputs": [
    {
     "name": "stdout",
     "output_type": "stream",
     "text": [
      "Depth= 1 ( 0.7387247278382582 )\n",
      "Depth= 2 ( 0.7573872472783826 )\n",
      "Depth= 3 ( 0.7651632970451011 )\n",
      "Depth= 4 ( 0.7636080870917574 )\n",
      "Depth= 5 ( 0.7589424572317263 )\n"
     ]
    }
   ],
   "source": [
    "for depth in range(1, 6):\n",
    "    model = DecisionTreeClassifier(random_state=12345, max_depth = depth)\n",
    "    model.fit(features_train, target_train)\n",
    "    predictions = model.predict(features_valid)\n",
    "    result = accuracy_score(target_valid, predictions)\n",
    "    print('Depth=', depth, '(', result, ')')"
   ]
  },
  {
   "cell_type": "markdown",
   "metadata": {},
   "source": [
    "The primary hyperparameter for the decision tree is the maximum depth (max_depth). Through a loop, it was determined that the model achieved the best result with an accuracy of 0.765 when the maximum depth was set to 3."
   ]
  },
  {
   "cell_type": "markdown",
   "metadata": {},
   "source": [
    "### Random forest"
   ]
  },
  {
   "cell_type": "code",
   "execution_count": 9,
   "metadata": {},
   "outputs": [
    {
     "name": "stdout",
     "output_type": "stream",
     "text": [
      "Accuracy of the best model: 0.7993779160186625\n",
      "n estimators of the best result: 130\n",
      "Depth of the best result: 10\n"
     ]
    }
   ],
   "source": [
    "best_model_forest = None\n",
    "best_result_forest = 0\n",
    "best_n_estimators = 0\n",
    "best_depth = 0\n",
    "\n",
    "for est in range(50, 200, 10):\n",
    "    for depth in range(1, 11): \n",
    "        model_forest = RandomForestClassifier(random_state = 12345, n_estimators = est, max_depth=depth)\n",
    "        model_forest.fit(features_train, target_train)\n",
    "        result = model_forest.score(features_valid, target_valid)\n",
    "        if result > best_result_forest:\n",
    "            best_model_forest = model_forest\n",
    "            best_result_forest = result\n",
    "            best_n_estimators = est\n",
    "            best_depth = depth\n",
    "print('Accuracy of the best model:', best_result_forest)    \n",
    "print('n estimators of the best result:', best_n_estimators)        \n",
    "print('Depth of the best result:', best_depth)   "
   ]
  },
  {
   "cell_type": "markdown",
   "metadata": {},
   "source": [
    "The key parameter for the random forest is the number of estimators (n_estimators). It was shown that the model achieved the best result with an accuracy of 0.799 when the number of estimators was set to 130 and the maximum depth was set to 10."
   ]
  },
  {
   "cell_type": "markdown",
   "metadata": {},
   "source": [
    "### Logistic regression"
   ]
  },
  {
   "cell_type": "code",
   "execution_count": 10,
   "metadata": {},
   "outputs": [
    {
     "name": "stdout",
     "output_type": "stream",
     "text": [
      "Accuracy: 0.7262830482115086\n",
      "Best max_iter: 900\n",
      "Best c_value: 100\n"
     ]
    }
   ],
   "source": [
    "best_model_reg = None\n",
    "best_result_reg = 0\n",
    "best_max_iter = 0\n",
    "best_c_value = 0\n",
    "\n",
    "for c_value in [0.0001, 0.001, 0.01, 0.1, 1, 10, 100]: \n",
    "    for iter in range(100, 1000, 100):\n",
    "        model_regression = LogisticRegression(random_state=12345, C = c_value, solver='lbfgs', max_iter=iter)\n",
    "        model_regression.fit(features_train, target_train)\n",
    "        model_regression.predict(features_valid)\n",
    "        result_regression = model_regression.score(features_valid, target_valid)\n",
    "        if result > best_result_reg:\n",
    "            best_model_reg = model_regression\n",
    "            best_result_reg = result_regression\n",
    "            best_max_iter = iter\n",
    "            best_c_value = c_value\n",
    "        \n",
    "print('Accuracy:', result_regression)\n",
    "print('Best max_iter:', best_max_iter)\n",
    "print('Best c_value:', best_c_value)"
   ]
  },
  {
   "cell_type": "markdown",
   "metadata": {},
   "source": [
    "## Testing the model"
   ]
  },
  {
   "cell_type": "markdown",
   "metadata": {},
   "source": [
    "The model with the highest accuracy turned out to be the random forest (0.788), so we will use it for testing with a maximum depth of 10 and 130 estimators."
   ]
  },
  {
   "cell_type": "code",
   "execution_count": 11,
   "metadata": {},
   "outputs": [
    {
     "name": "stdout",
     "output_type": "stream",
     "text": [
      "Accuracy: 0.7993779160186625\n"
     ]
    }
   ],
   "source": [
    "model = RandomForestClassifier(random_state = 12345, n_estimators = 130, max_depth = 10)\n",
    "model.fit(features_train, target_train)\n",
    "predictions_test = model.predict(features_test)\n",
    "result_test = accuracy_score(target_test, predictions_test)\n",
    "print('Accuracy:', result_test)"
   ]
  },
  {
   "cell_type": "markdown",
   "metadata": {},
   "source": [
    "The test on the test set showed that the accuracy of the random forest model on the data is 0.799, which exceeds the specified threshold of 0.75."
   ]
  },
  {
   "cell_type": "markdown",
   "metadata": {},
   "source": [
    "## Testing the model for adequacy"
   ]
  },
  {
   "cell_type": "markdown",
   "metadata": {},
   "source": [
    "To test the models for adequacy, we will use the DummyClassifier, which looks for the most popular value and makes predictions based on its count."
   ]
  },
  {
   "cell_type": "code",
   "execution_count": 12,
   "metadata": {},
   "outputs": [
    {
     "name": "stdout",
     "output_type": "stream",
     "text": [
      "Accuracy of the Dummy Classifier: 0.79\n"
     ]
    }
   ],
   "source": [
    "dummy = DummyClassifier(strategy='most_frequent', random_state=12345)\n",
    "dummy.fit(features_train, target_train)\n",
    "dummy_prediction = dummy.predict(features_test)\n",
    "dummy_result = dummy.score(target_test, predictions_test)\n",
    "dummy_accuracy = accuracy_score(target_test, dummy_prediction)\n",
    "\n",
    "print(f\"Accuracy of the Dummy Classifier: {dummy_result:.2f}\")"
   ]
  },
  {
   "cell_type": "markdown",
   "metadata": {},
   "source": [
    "In the end, the \"dumb classifier\" showed an accuracy of 0.790, which is higher than that of the decision tree (0.765) and logistic regression (0.726) but lower than the best model, the random forest (0.799). Therefore, the most accurate model predicts user tariffs quite successfully."
   ]
  },
  {
   "cell_type": "markdown",
   "metadata": {},
   "source": [
    "## Conclusion\n",
    "\n",
    "In the study, three models were trained to predict two user tariffs (Smart and Ultra).\n",
    "\n",
    "The first model, the decision tree, showed the best result with an accuracy of 0.765 at a depth of 3 out of 5 considered.\n",
    "\n",
    "The second model, the random forest, showed the highest accuracy among the models at 0.799 with 130 estimators and a depth of 10.\n",
    "\n",
    "The third model, logistic regression, showed the lowest accuracy among the models (0.726) with a maximum number of training iterations at 900.\n",
    "\n",
    "Thus, only two models were able to achieve an accuracy of at least 0.75. Additionally, the adequacy check showed that the random forest model performed better than a random model (0.790), indicating its successful performance."
   ]
  },
  {
   "cell_type": "code",
   "execution_count": null,
   "metadata": {},
   "outputs": [],
   "source": []
  }
 ],
 "metadata": {
  "ExecuteTimeLog": [
   {
    "duration": 532,
    "start_time": "2023-01-17T15:02:17.410Z"
   },
   {
    "duration": 36,
    "start_time": "2023-01-17T15:02:23.329Z"
   },
   {
    "duration": 1150,
    "start_time": "2023-01-18T03:12:51.122Z"
   },
   {
    "duration": 16,
    "start_time": "2023-01-18T03:12:59.202Z"
   },
   {
    "duration": 9,
    "start_time": "2023-01-18T03:19:42.982Z"
   },
   {
    "duration": 3,
    "start_time": "2023-01-18T03:28:16.705Z"
   },
   {
    "duration": 66,
    "start_time": "2023-01-18T03:34:44.698Z"
   },
   {
    "duration": 42,
    "start_time": "2023-01-18T03:34:53.365Z"
   },
   {
    "duration": 39,
    "start_time": "2023-01-18T03:36:57.667Z"
   },
   {
    "duration": 5,
    "start_time": "2023-01-18T03:46:35.900Z"
   },
   {
    "duration": 7,
    "start_time": "2023-01-18T03:48:01.678Z"
   },
   {
    "duration": 6,
    "start_time": "2023-01-18T03:48:17.503Z"
   },
   {
    "duration": 7,
    "start_time": "2023-01-18T03:48:26.297Z"
   },
   {
    "duration": 110,
    "start_time": "2023-01-18T03:50:38.558Z"
   },
   {
    "duration": 30,
    "start_time": "2023-01-18T03:50:54.274Z"
   },
   {
    "duration": 72,
    "start_time": "2023-01-18T03:55:03.281Z"
   },
   {
    "duration": 68,
    "start_time": "2023-01-18T03:57:28.507Z"
   },
   {
    "duration": 21,
    "start_time": "2023-01-18T04:00:21.999Z"
   },
   {
    "duration": 64,
    "start_time": "2023-01-18T04:00:45.637Z"
   },
   {
    "duration": 151,
    "start_time": "2023-01-18T04:02:30.488Z"
   },
   {
    "duration": 31,
    "start_time": "2023-01-18T04:04:59.038Z"
   },
   {
    "duration": 249,
    "start_time": "2023-01-18T04:11:31.349Z"
   },
   {
    "duration": 6,
    "start_time": "2023-01-18T04:11:44.128Z"
   },
   {
    "duration": 31,
    "start_time": "2023-01-18T04:11:45.879Z"
   },
   {
    "duration": 269,
    "start_time": "2023-01-18T04:11:50.058Z"
   },
   {
    "duration": 808,
    "start_time": "2023-01-18T04:11:53.026Z"
   },
   {
    "duration": 30,
    "start_time": "2023-01-18T04:12:18.127Z"
   },
   {
    "duration": 288,
    "start_time": "2023-01-18T04:12:24.473Z"
   },
   {
    "duration": 229,
    "start_time": "2023-01-18T04:12:30.729Z"
   },
   {
    "duration": 270,
    "start_time": "2023-01-18T04:12:38.548Z"
   },
   {
    "duration": 10,
    "start_time": "2023-01-18T04:16:53.961Z"
   },
   {
    "duration": 189,
    "start_time": "2023-01-18T04:17:01.542Z"
   },
   {
    "duration": 99,
    "start_time": "2023-01-18T04:21:25.141Z"
   },
   {
    "duration": 167,
    "start_time": "2023-01-18T04:23:16.046Z"
   },
   {
    "duration": 103,
    "start_time": "2023-01-18T04:24:06.991Z"
   },
   {
    "duration": 14,
    "start_time": "2023-01-18T04:29:35.113Z"
   },
   {
    "duration": 11,
    "start_time": "2023-01-18T04:30:18.176Z"
   },
   {
    "duration": 52,
    "start_time": "2023-01-18T04:30:26.089Z"
   },
   {
    "duration": 15,
    "start_time": "2023-01-18T04:30:26.143Z"
   },
   {
    "duration": 12,
    "start_time": "2023-01-18T04:30:26.160Z"
   },
   {
    "duration": 9,
    "start_time": "2023-01-18T04:30:26.174Z"
   },
   {
    "duration": 86,
    "start_time": "2023-01-18T04:30:26.186Z"
   },
   {
    "duration": 280,
    "start_time": "2023-01-18T04:30:26.273Z"
   },
   {
    "duration": 95,
    "start_time": "2023-01-18T04:30:26.555Z"
   },
   {
    "duration": 12,
    "start_time": "2023-01-18T04:30:26.652Z"
   },
   {
    "duration": 32,
    "start_time": "2023-01-18T04:34:59.619Z"
   },
   {
    "duration": 33,
    "start_time": "2023-01-18T04:35:51.853Z"
   },
   {
    "duration": 29,
    "start_time": "2023-01-18T04:35:57.760Z"
   },
   {
    "duration": 33,
    "start_time": "2023-01-18T04:36:06.341Z"
   },
   {
    "duration": 44,
    "start_time": "2023-01-18T04:37:01.311Z"
   },
   {
    "duration": 42,
    "start_time": "2023-01-18T04:37:10.609Z"
   },
   {
    "duration": 40,
    "start_time": "2023-01-18T04:37:30.981Z"
   },
   {
    "duration": 270,
    "start_time": "2023-01-18T04:39:08.137Z"
   },
   {
    "duration": 8,
    "start_time": "2023-01-19T01:23:10.414Z"
   },
   {
    "duration": 1004,
    "start_time": "2023-01-19T01:23:26.604Z"
   },
   {
    "duration": 9,
    "start_time": "2023-01-19T01:23:58.027Z"
   },
   {
    "duration": 10,
    "start_time": "2023-01-19T01:24:23.130Z"
   },
   {
    "duration": 340,
    "start_time": "2023-01-19T01:24:34.349Z"
   },
   {
    "duration": 16,
    "start_time": "2023-01-19T01:24:34.691Z"
   },
   {
    "duration": 6,
    "start_time": "2023-01-19T01:24:34.709Z"
   },
   {
    "duration": 12,
    "start_time": "2023-01-19T01:24:34.717Z"
   },
   {
    "duration": 31,
    "start_time": "2023-01-19T01:24:34.731Z"
   },
   {
    "duration": 38,
    "start_time": "2023-01-19T01:24:34.764Z"
   },
   {
    "duration": 274,
    "start_time": "2023-01-19T01:24:34.804Z"
   },
   {
    "duration": 280,
    "start_time": "2023-01-19T01:24:35.080Z"
   },
   {
    "duration": 84,
    "start_time": "2023-01-19T01:24:35.362Z"
   },
   {
    "duration": 10,
    "start_time": "2023-01-19T01:24:35.448Z"
   },
   {
    "duration": 547,
    "start_time": "2023-01-19T01:24:45.181Z"
   },
   {
    "duration": 156,
    "start_time": "2023-01-19T01:24:53.412Z"
   },
   {
    "duration": 6,
    "start_time": "2023-01-19T01:25:52.847Z"
   },
   {
    "duration": 7,
    "start_time": "2023-01-19T01:26:05.622Z"
   },
   {
    "duration": 131,
    "start_time": "2023-01-19T01:26:51.128Z"
   },
   {
    "duration": 6,
    "start_time": "2023-01-19T01:27:45.181Z"
   },
   {
    "duration": 123,
    "start_time": "2023-01-19T01:29:01.168Z"
   },
   {
    "duration": 129,
    "start_time": "2023-01-19T01:43:32.369Z"
   },
   {
    "duration": 6,
    "start_time": "2023-01-19T01:43:36.367Z"
   },
   {
    "duration": 39,
    "start_time": "2023-01-19T02:13:00.660Z"
   },
   {
    "duration": 11,
    "start_time": "2023-01-19T02:13:00.700Z"
   },
   {
    "duration": 14,
    "start_time": "2023-01-19T02:13:00.713Z"
   },
   {
    "duration": 19,
    "start_time": "2023-01-19T02:13:00.728Z"
   },
   {
    "duration": 124,
    "start_time": "2023-01-19T02:13:00.749Z"
   },
   {
    "duration": 34,
    "start_time": "2023-01-19T02:13:00.875Z"
   },
   {
    "duration": 259,
    "start_time": "2023-01-19T02:13:00.910Z"
   },
   {
    "duration": 255,
    "start_time": "2023-01-19T02:13:01.170Z"
   },
   {
    "duration": 95,
    "start_time": "2023-01-19T02:13:01.427Z"
   },
   {
    "duration": 12,
    "start_time": "2023-01-19T02:13:01.524Z"
   },
   {
    "duration": 140,
    "start_time": "2023-01-19T02:13:01.538Z"
   },
   {
    "duration": 6,
    "start_time": "2023-01-19T02:13:01.679Z"
   },
   {
    "duration": 36,
    "start_time": "2023-01-19T02:13:24.247Z"
   },
   {
    "duration": 9,
    "start_time": "2023-01-19T02:13:24.285Z"
   },
   {
    "duration": 11,
    "start_time": "2023-01-19T02:13:24.296Z"
   },
   {
    "duration": 10,
    "start_time": "2023-01-19T02:13:24.308Z"
   },
   {
    "duration": 36,
    "start_time": "2023-01-19T02:13:24.320Z"
   },
   {
    "duration": 29,
    "start_time": "2023-01-19T02:13:24.358Z"
   },
   {
    "duration": 248,
    "start_time": "2023-01-19T02:13:24.389Z"
   },
   {
    "duration": 249,
    "start_time": "2023-01-19T02:13:24.638Z"
   },
   {
    "duration": 83,
    "start_time": "2023-01-19T02:13:24.888Z"
   },
   {
    "duration": 10,
    "start_time": "2023-01-19T02:13:24.973Z"
   },
   {
    "duration": 125,
    "start_time": "2023-01-19T02:13:24.984Z"
   },
   {
    "duration": 4,
    "start_time": "2023-01-19T02:13:25.111Z"
   },
   {
    "duration": 52,
    "start_time": "2023-01-19T16:16:53.962Z"
   },
   {
    "duration": 1591,
    "start_time": "2023-01-19T16:17:00.593Z"
   },
   {
    "duration": 24,
    "start_time": "2023-01-19T16:17:02.186Z"
   },
   {
    "duration": 12,
    "start_time": "2023-01-19T16:17:02.212Z"
   },
   {
    "duration": 5,
    "start_time": "2023-01-19T16:17:02.227Z"
   },
   {
    "duration": 43,
    "start_time": "2023-01-19T16:17:02.234Z"
   },
   {
    "duration": 56,
    "start_time": "2023-01-19T16:17:02.278Z"
   },
   {
    "duration": 339,
    "start_time": "2023-01-19T16:17:02.337Z"
   },
   {
    "duration": 45177,
    "start_time": "2023-01-19T16:17:02.678Z"
   },
   {
    "duration": 42,
    "start_time": "2023-01-19T16:18:16.132Z"
   },
   {
    "duration": 49,
    "start_time": "2023-01-20T00:16:02.954Z"
   },
   {
    "duration": 1061,
    "start_time": "2023-01-20T00:16:07.443Z"
   },
   {
    "duration": 68,
    "start_time": "2023-01-20T00:16:08.506Z"
   },
   {
    "duration": 15,
    "start_time": "2023-01-20T00:16:08.575Z"
   },
   {
    "duration": 6,
    "start_time": "2023-01-20T00:16:08.592Z"
   },
   {
    "duration": 3,
    "start_time": "2023-01-20T00:16:10.754Z"
   },
   {
    "duration": 3,
    "start_time": "2023-01-20T00:16:39.773Z"
   },
   {
    "duration": 15,
    "start_time": "2023-01-20T00:17:22.743Z"
   },
   {
    "duration": 15,
    "start_time": "2023-01-20T00:17:54.387Z"
   },
   {
    "duration": 6,
    "start_time": "2023-01-20T00:18:18.974Z"
   },
   {
    "duration": 4,
    "start_time": "2023-01-20T00:18:40.877Z"
   },
   {
    "duration": 4,
    "start_time": "2023-01-20T00:19:34.856Z"
   },
   {
    "duration": 4,
    "start_time": "2023-01-20T00:19:36.797Z"
   },
   {
    "duration": 4,
    "start_time": "2023-01-20T00:20:25.488Z"
   },
   {
    "duration": 3,
    "start_time": "2023-01-20T00:20:27.674Z"
   },
   {
    "duration": 4,
    "start_time": "2023-01-20T00:20:29.333Z"
   },
   {
    "duration": 81,
    "start_time": "2023-01-20T00:29:43.202Z"
   },
   {
    "duration": 75,
    "start_time": "2023-01-20T00:29:50.883Z"
   },
   {
    "duration": 10,
    "start_time": "2023-01-20T00:30:04.992Z"
   },
   {
    "duration": 3,
    "start_time": "2023-01-20T00:30:12.035Z"
   },
   {
    "duration": 64,
    "start_time": "2023-01-20T00:30:12.040Z"
   },
   {
    "duration": 14,
    "start_time": "2023-01-20T00:30:12.106Z"
   },
   {
    "duration": 52,
    "start_time": "2023-01-20T00:30:12.121Z"
   },
   {
    "duration": 30,
    "start_time": "2023-01-20T00:30:12.175Z"
   },
   {
    "duration": 41,
    "start_time": "2023-01-20T00:30:12.207Z"
   },
   {
    "duration": 36,
    "start_time": "2023-01-20T00:30:12.250Z"
   },
   {
    "duration": 40,
    "start_time": "2023-01-20T00:30:12.288Z"
   },
   {
    "duration": 69,
    "start_time": "2023-01-20T00:30:12.330Z"
   },
   {
    "duration": 82,
    "start_time": "2023-01-20T00:30:12.401Z"
   },
   {
    "duration": 40567,
    "start_time": "2023-01-20T00:30:15.305Z"
   },
   {
    "duration": 12,
    "start_time": "2023-01-20T00:43:40.169Z"
   },
   {
    "duration": 10,
    "start_time": "2023-01-20T00:46:36.578Z"
   },
   {
    "duration": 10,
    "start_time": "2023-01-20T00:46:51.555Z"
   },
   {
    "duration": 10,
    "start_time": "2023-01-20T00:48:05.780Z"
   },
   {
    "duration": 298,
    "start_time": "2023-01-20T00:48:35.365Z"
   },
   {
    "duration": 383,
    "start_time": "2023-01-20T00:53:50.337Z"
   },
   {
    "duration": 3,
    "start_time": "2023-01-20T00:58:45.211Z"
   },
   {
    "duration": 34,
    "start_time": "2023-01-20T00:58:45.216Z"
   },
   {
    "duration": 8,
    "start_time": "2023-01-20T00:58:45.252Z"
   },
   {
    "duration": 6,
    "start_time": "2023-01-20T00:58:45.261Z"
   },
   {
    "duration": 3,
    "start_time": "2023-01-20T00:58:45.269Z"
   },
   {
    "duration": 5,
    "start_time": "2023-01-20T00:58:45.274Z"
   },
   {
    "duration": 5,
    "start_time": "2023-01-20T00:58:45.281Z"
   },
   {
    "duration": 5,
    "start_time": "2023-01-20T00:58:45.293Z"
   },
   {
    "duration": 29,
    "start_time": "2023-01-20T00:58:45.299Z"
   },
   {
    "duration": 28,
    "start_time": "2023-01-20T00:58:45.329Z"
   },
   {
    "duration": 39797,
    "start_time": "2023-01-20T00:58:45.360Z"
   },
   {
    "duration": 305,
    "start_time": "2023-01-20T00:59:25.158Z"
   },
   {
    "duration": 416,
    "start_time": "2023-01-20T00:59:25.465Z"
   },
   {
    "duration": 541,
    "start_time": "2023-01-20T00:59:25.883Z"
   },
   {
    "duration": 5,
    "start_time": "2023-01-20T00:59:26.425Z"
   },
   {
    "duration": 5,
    "start_time": "2023-01-20T01:00:33.300Z"
   },
   {
    "duration": 130,
    "start_time": "2023-01-20T01:00:36.332Z"
   },
   {
    "duration": 5,
    "start_time": "2023-01-20T01:00:38.158Z"
   },
   {
    "duration": 3,
    "start_time": "2023-01-20T01:11:41.523Z"
   },
   {
    "duration": 38,
    "start_time": "2023-01-20T01:11:41.528Z"
   },
   {
    "duration": 8,
    "start_time": "2023-01-20T01:11:41.568Z"
   },
   {
    "duration": 7,
    "start_time": "2023-01-20T01:11:41.578Z"
   },
   {
    "duration": 4,
    "start_time": "2023-01-20T01:11:41.586Z"
   },
   {
    "duration": 5,
    "start_time": "2023-01-20T01:11:41.591Z"
   },
   {
    "duration": 5,
    "start_time": "2023-01-20T01:11:41.598Z"
   },
   {
    "duration": 7,
    "start_time": "2023-01-20T01:11:41.604Z"
   },
   {
    "duration": 30,
    "start_time": "2023-01-20T01:11:41.613Z"
   },
   {
    "duration": 51,
    "start_time": "2023-01-20T01:11:41.644Z"
   },
   {
    "duration": 40211,
    "start_time": "2023-01-20T01:11:41.697Z"
   },
   {
    "duration": 322,
    "start_time": "2023-01-20T01:12:21.910Z"
   },
   {
    "duration": 397,
    "start_time": "2023-01-20T01:12:22.234Z"
   },
   {
    "duration": 139,
    "start_time": "2023-01-20T01:12:22.633Z"
   },
   {
    "duration": 5,
    "start_time": "2023-01-20T01:12:22.774Z"
   },
   {
    "duration": 1164,
    "start_time": "2023-01-20T10:45:11.890Z"
   },
   {
    "duration": 67,
    "start_time": "2023-01-20T10:45:13.056Z"
   },
   {
    "duration": 15,
    "start_time": "2023-01-20T10:45:13.125Z"
   },
   {
    "duration": 6,
    "start_time": "2023-01-20T10:45:13.142Z"
   },
   {
    "duration": 4,
    "start_time": "2023-01-20T10:45:13.150Z"
   },
   {
    "duration": 10,
    "start_time": "2023-01-20T10:45:13.155Z"
   },
   {
    "duration": 6,
    "start_time": "2023-01-20T10:45:13.167Z"
   },
   {
    "duration": 22,
    "start_time": "2023-01-20T10:45:13.175Z"
   },
   {
    "duration": 46,
    "start_time": "2023-01-20T10:45:13.198Z"
   },
   {
    "duration": 29,
    "start_time": "2023-01-20T10:45:13.245Z"
   },
   {
    "duration": 41458,
    "start_time": "2023-01-20T10:45:13.276Z"
   },
   {
    "duration": 1379,
    "start_time": "2023-01-20T10:46:16.406Z"
   },
   {
    "duration": 312,
    "start_time": "2023-01-20T10:46:24.590Z"
   },
   {
    "duration": 1345,
    "start_time": "2023-01-20T10:47:04.402Z"
   },
   {
    "duration": 1584,
    "start_time": "2023-01-20T10:47:23.991Z"
   },
   {
    "duration": 1879,
    "start_time": "2023-01-20T10:49:03.607Z"
   },
   {
    "duration": 1803,
    "start_time": "2023-01-20T10:49:37.179Z"
   },
   {
    "duration": 1221,
    "start_time": "2023-01-23T02:02:13.953Z"
   },
   {
    "duration": 178,
    "start_time": "2023-01-23T02:02:15.176Z"
   },
   {
    "duration": 16,
    "start_time": "2023-01-23T02:02:15.357Z"
   },
   {
    "duration": 36,
    "start_time": "2023-01-23T02:02:15.375Z"
   },
   {
    "duration": 7,
    "start_time": "2023-01-23T02:02:15.413Z"
   },
   {
    "duration": 8,
    "start_time": "2023-01-23T02:02:15.422Z"
   },
   {
    "duration": 12,
    "start_time": "2023-01-23T02:02:15.431Z"
   },
   {
    "duration": 17,
    "start_time": "2023-01-23T02:02:15.444Z"
   },
   {
    "duration": 51,
    "start_time": "2023-01-23T02:02:15.463Z"
   },
   {
    "duration": 34,
    "start_time": "2023-01-23T02:02:15.516Z"
   },
   {
    "duration": 45288,
    "start_time": "2023-01-23T02:02:15.553Z"
   },
   {
    "duration": 102,
    "start_time": "2023-01-23T02:03:25.724Z"
   },
   {
    "duration": 2253,
    "start_time": "2023-01-23T02:03:49.633Z"
   },
   {
    "duration": 120,
    "start_time": "2023-01-23T02:04:19.810Z"
   },
   {
    "duration": 1844,
    "start_time": "2023-01-23T02:04:26.328Z"
   },
   {
    "duration": 1891,
    "start_time": "2023-01-23T02:05:14.975Z"
   },
   {
    "duration": 1732,
    "start_time": "2023-01-23T02:06:06.809Z"
   },
   {
    "duration": 1653,
    "start_time": "2023-01-23T02:06:33.072Z"
   },
   {
    "duration": 1831,
    "start_time": "2023-01-23T02:06:45.496Z"
   },
   {
    "duration": 3,
    "start_time": "2023-01-23T02:09:03.515Z"
   },
   {
    "duration": 44,
    "start_time": "2023-01-23T02:09:03.521Z"
   },
   {
    "duration": 10,
    "start_time": "2023-01-23T02:09:03.567Z"
   },
   {
    "duration": 37,
    "start_time": "2023-01-23T02:09:03.579Z"
   },
   {
    "duration": 12,
    "start_time": "2023-01-23T02:09:03.618Z"
   },
   {
    "duration": 6,
    "start_time": "2023-01-23T02:09:03.632Z"
   },
   {
    "duration": 6,
    "start_time": "2023-01-23T02:09:03.639Z"
   },
   {
    "duration": 9,
    "start_time": "2023-01-23T02:09:03.646Z"
   },
   {
    "duration": 49,
    "start_time": "2023-01-23T02:09:03.657Z"
   },
   {
    "duration": 32,
    "start_time": "2023-01-23T02:09:03.714Z"
   },
   {
    "duration": 45465,
    "start_time": "2023-01-23T02:09:03.749Z"
   },
   {
    "duration": 1733,
    "start_time": "2023-01-23T02:09:49.216Z"
   },
   {
    "duration": 426,
    "start_time": "2023-01-23T02:09:50.951Z"
   },
   {
    "duration": 631,
    "start_time": "2023-01-23T02:09:51.381Z"
   },
   {
    "duration": 7,
    "start_time": "2023-01-23T02:09:52.013Z"
   }
  ],
  "kernelspec": {
   "display_name": "Python 3 (ipykernel)",
   "language": "python",
   "name": "python3"
  },
  "language_info": {
   "codemirror_mode": {
    "name": "ipython",
    "version": 3
   },
   "file_extension": ".py",
   "mimetype": "text/x-python",
   "name": "python",
   "nbconvert_exporter": "python",
   "pygments_lexer": "ipython3",
   "version": "3.8.13"
  },
  "toc": {
   "base_numbering": 1,
   "nav_menu": {},
   "number_sections": true,
   "sideBar": true,
   "skip_h1_title": true,
   "title_cell": "Table of Contents",
   "title_sidebar": "Contents",
   "toc_cell": false,
   "toc_position": {},
   "toc_section_display": true,
   "toc_window_display": false
  }
 },
 "nbformat": 4,
 "nbformat_minor": 4
}
