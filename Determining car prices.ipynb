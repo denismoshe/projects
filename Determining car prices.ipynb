{
 "cells": [
  {
   "cell_type": "markdown",
   "metadata": {},
   "source": [
    "# Determining Car Prices"
   ]
  },
  {
   "cell_type": "markdown",
   "metadata": {},
   "source": [
    "A service for selling used cars with the tagline \"Not crashed, not painted\" is developing an application to attract new customers. In this app, users can quickly find out the market value of their cars. Historical data is available, including technical specifications, configurations, and prices of cars. The primary goal of this project is to build a machine learning model that can accurately predict the prices of used cars. This model will be integrated into a mobile application to provide users with quick and reliable estimates of their car's market value.\n",
    "\n",
    "The client has specified several criteria for choosing the model:\n",
    "\n",
    " - Prediction quality\n",
    " - Prediction speed\n",
    " - Training time\n",
    " \n",
    "We have historical data at our disposal, which includes technical specifications, configurations, and prices of cars.\n",
    "\n",
    "**Data Description**\n",
    "\n",
    "**Features**:\n",
    "\n",
    " - DateCrawled: The date when the car listing was crawled from the database.\n",
    " - VehicleType: The type of car body.\n",
    " - RegistrationYear: The year of car registration.\n",
    " - Gearbox: The type of gearbox (manual or automatic).\n",
    " - Power: Engine power in horsepower.\n",
    " - Model: Car model.\n",
    " - Kilometer: Mileage in kilometers.\n",
    " - RegistrationMonth: The month of car registration.\n",
    " - FuelType: Fuel type.\n",
    " - Brand: Car brand.\n",
    " - Repaired: Whether the car has been repaired or not.\n",
    " - DateCreated: The date when the listing was created.\n",
    " - NumberOfPictures: The number of car photos.\n",
    " - PostalCode: The postal code of the listing owner (user).\n",
    " - LastSeen: The date of the user's last activity.\n",
    "\n",
    "Target is the price of a car in euros."
   ]
  },
  {
   "cell_type": "markdown",
   "metadata": {},
   "source": [
    "## Data Preprocessing"
   ]
  },
  {
   "cell_type": "code",
   "execution_count": 1,
   "metadata": {},
   "outputs": [],
   "source": [
    "import matplotlib.pyplot as plt \n",
    "import numpy as np\n",
    "import pandas as pd\n",
    "import seaborn as sns\n",
    "\n",
    "from catboost import CatBoostRegressor, Pool\n",
    "\n",
    "import phik\n",
    "from phik import resources, report\n",
    "from phik.report import plot_correlation_matrix\n",
    "\n",
    "from sklearn.ensemble import RandomForestRegressor\n",
    "from sklearn.linear_model import LinearRegression\n",
    "from sklearn.metrics import mean_squared_error\n",
    "from sklearn.model_selection import (GridSearchCV, \n",
    "                                     train_test_split,\n",
    "                                     cross_val_score,\n",
    "                                     KFold\n",
    ")\n",
    "from sklearn.pipeline import Pipeline\n",
    "from sklearn.preprocessing import (OneHotEncoder,\n",
    "                                   OrdinalEncoder,\n",
    "                                   LabelEncoder,\n",
    "                                   StandardScaler\n",
    ")                                   \n",
    "from sklearn.tree import DecisionTreeRegressor\n",
    "\n",
    "import warnings\n",
    "warnings.filterwarnings('ignore')\n",
    "\n",
    "RANDOM_STATE = 12345"
   ]
  },
  {
   "cell_type": "code",
   "execution_count": 2,
   "metadata": {},
   "outputs": [],
   "source": [
    "data = pd.read_csv('/Users/mojseenkodenis/Desktop/autos.csv')"
   ]
  },
  {
   "cell_type": "code",
   "execution_count": 3,
   "metadata": {
    "scrolled": true
   },
   "outputs": [
    {
     "name": "stdout",
     "output_type": "stream",
     "text": [
      "<class 'pandas.core.frame.DataFrame'>\n",
      "RangeIndex: 354369 entries, 0 to 354368\n",
      "Data columns (total 16 columns):\n",
      " #   Column             Non-Null Count   Dtype \n",
      "---  ------             --------------   ----- \n",
      " 0   DateCrawled        354369 non-null  object\n",
      " 1   Price              354369 non-null  int64 \n",
      " 2   VehicleType        316879 non-null  object\n",
      " 3   RegistrationYear   354369 non-null  int64 \n",
      " 4   Gearbox            334536 non-null  object\n",
      " 5   Power              354369 non-null  int64 \n",
      " 6   Model              334664 non-null  object\n",
      " 7   Kilometer          354369 non-null  int64 \n",
      " 8   RegistrationMonth  354369 non-null  int64 \n",
      " 9   FuelType           321474 non-null  object\n",
      " 10  Brand              354369 non-null  object\n",
      " 11  Repaired           283215 non-null  object\n",
      " 12  DateCreated        354369 non-null  object\n",
      " 13  NumberOfPictures   354369 non-null  int64 \n",
      " 14  PostalCode         354369 non-null  int64 \n",
      " 15  LastSeen           354369 non-null  object\n",
      "dtypes: int64(7), object(9)\n",
      "memory usage: 43.3+ MB\n"
     ]
    }
   ],
   "source": [
    "data.info()"
   ]
  },
  {
   "cell_type": "code",
   "execution_count": 4,
   "metadata": {},
   "outputs": [
    {
     "data": {
      "text/html": [
       "<div>\n",
       "<style scoped>\n",
       "    .dataframe tbody tr th:only-of-type {\n",
       "        vertical-align: middle;\n",
       "    }\n",
       "\n",
       "    .dataframe tbody tr th {\n",
       "        vertical-align: top;\n",
       "    }\n",
       "\n",
       "    .dataframe thead th {\n",
       "        text-align: right;\n",
       "    }\n",
       "</style>\n",
       "<table border=\"1\" class=\"dataframe\">\n",
       "  <thead>\n",
       "    <tr style=\"text-align: right;\">\n",
       "      <th></th>\n",
       "      <th>DateCrawled</th>\n",
       "      <th>Price</th>\n",
       "      <th>VehicleType</th>\n",
       "      <th>RegistrationYear</th>\n",
       "      <th>Gearbox</th>\n",
       "      <th>Power</th>\n",
       "      <th>Model</th>\n",
       "      <th>Kilometer</th>\n",
       "      <th>RegistrationMonth</th>\n",
       "      <th>FuelType</th>\n",
       "      <th>Brand</th>\n",
       "      <th>Repaired</th>\n",
       "      <th>DateCreated</th>\n",
       "      <th>NumberOfPictures</th>\n",
       "      <th>PostalCode</th>\n",
       "      <th>LastSeen</th>\n",
       "    </tr>\n",
       "  </thead>\n",
       "  <tbody>\n",
       "    <tr>\n",
       "      <th>0</th>\n",
       "      <td>2016-03-24 11:52:17</td>\n",
       "      <td>480</td>\n",
       "      <td>NaN</td>\n",
       "      <td>1993</td>\n",
       "      <td>manual</td>\n",
       "      <td>0</td>\n",
       "      <td>golf</td>\n",
       "      <td>150000</td>\n",
       "      <td>0</td>\n",
       "      <td>petrol</td>\n",
       "      <td>volkswagen</td>\n",
       "      <td>NaN</td>\n",
       "      <td>2016-03-24 00:00:00</td>\n",
       "      <td>0</td>\n",
       "      <td>70435</td>\n",
       "      <td>2016-04-07 03:16:57</td>\n",
       "    </tr>\n",
       "    <tr>\n",
       "      <th>1</th>\n",
       "      <td>2016-03-24 10:58:45</td>\n",
       "      <td>18300</td>\n",
       "      <td>coupe</td>\n",
       "      <td>2011</td>\n",
       "      <td>manual</td>\n",
       "      <td>190</td>\n",
       "      <td>NaN</td>\n",
       "      <td>125000</td>\n",
       "      <td>5</td>\n",
       "      <td>gasoline</td>\n",
       "      <td>audi</td>\n",
       "      <td>yes</td>\n",
       "      <td>2016-03-24 00:00:00</td>\n",
       "      <td>0</td>\n",
       "      <td>66954</td>\n",
       "      <td>2016-04-07 01:46:50</td>\n",
       "    </tr>\n",
       "    <tr>\n",
       "      <th>2</th>\n",
       "      <td>2016-03-14 12:52:21</td>\n",
       "      <td>9800</td>\n",
       "      <td>suv</td>\n",
       "      <td>2004</td>\n",
       "      <td>auto</td>\n",
       "      <td>163</td>\n",
       "      <td>grand</td>\n",
       "      <td>125000</td>\n",
       "      <td>8</td>\n",
       "      <td>gasoline</td>\n",
       "      <td>jeep</td>\n",
       "      <td>NaN</td>\n",
       "      <td>2016-03-14 00:00:00</td>\n",
       "      <td>0</td>\n",
       "      <td>90480</td>\n",
       "      <td>2016-04-05 12:47:46</td>\n",
       "    </tr>\n",
       "    <tr>\n",
       "      <th>3</th>\n",
       "      <td>2016-03-17 16:54:04</td>\n",
       "      <td>1500</td>\n",
       "      <td>small</td>\n",
       "      <td>2001</td>\n",
       "      <td>manual</td>\n",
       "      <td>75</td>\n",
       "      <td>golf</td>\n",
       "      <td>150000</td>\n",
       "      <td>6</td>\n",
       "      <td>petrol</td>\n",
       "      <td>volkswagen</td>\n",
       "      <td>no</td>\n",
       "      <td>2016-03-17 00:00:00</td>\n",
       "      <td>0</td>\n",
       "      <td>91074</td>\n",
       "      <td>2016-03-17 17:40:17</td>\n",
       "    </tr>\n",
       "    <tr>\n",
       "      <th>4</th>\n",
       "      <td>2016-03-31 17:25:20</td>\n",
       "      <td>3600</td>\n",
       "      <td>small</td>\n",
       "      <td>2008</td>\n",
       "      <td>manual</td>\n",
       "      <td>69</td>\n",
       "      <td>fabia</td>\n",
       "      <td>90000</td>\n",
       "      <td>7</td>\n",
       "      <td>gasoline</td>\n",
       "      <td>skoda</td>\n",
       "      <td>no</td>\n",
       "      <td>2016-03-31 00:00:00</td>\n",
       "      <td>0</td>\n",
       "      <td>60437</td>\n",
       "      <td>2016-04-06 10:17:21</td>\n",
       "    </tr>\n",
       "  </tbody>\n",
       "</table>\n",
       "</div>"
      ],
      "text/plain": [
       "           DateCrawled  Price VehicleType  RegistrationYear Gearbox  Power  \\\n",
       "0  2016-03-24 11:52:17    480         NaN              1993  manual      0   \n",
       "1  2016-03-24 10:58:45  18300       coupe              2011  manual    190   \n",
       "2  2016-03-14 12:52:21   9800         suv              2004    auto    163   \n",
       "3  2016-03-17 16:54:04   1500       small              2001  manual     75   \n",
       "4  2016-03-31 17:25:20   3600       small              2008  manual     69   \n",
       "\n",
       "   Model  Kilometer  RegistrationMonth  FuelType       Brand Repaired  \\\n",
       "0   golf     150000                  0    petrol  volkswagen      NaN   \n",
       "1    NaN     125000                  5  gasoline        audi      yes   \n",
       "2  grand     125000                  8  gasoline        jeep      NaN   \n",
       "3   golf     150000                  6    petrol  volkswagen       no   \n",
       "4  fabia      90000                  7  gasoline       skoda       no   \n",
       "\n",
       "           DateCreated  NumberOfPictures  PostalCode             LastSeen  \n",
       "0  2016-03-24 00:00:00                 0       70435  2016-04-07 03:16:57  \n",
       "1  2016-03-24 00:00:00                 0       66954  2016-04-07 01:46:50  \n",
       "2  2016-03-14 00:00:00                 0       90480  2016-04-05 12:47:46  \n",
       "3  2016-03-17 00:00:00                 0       91074  2016-03-17 17:40:17  \n",
       "4  2016-03-31 00:00:00                 0       60437  2016-04-06 10:17:21  "
      ]
     },
     "execution_count": 4,
     "metadata": {},
     "output_type": "execute_result"
    }
   ],
   "source": [
    "data.head()"
   ]
  },
  {
   "cell_type": "code",
   "execution_count": 5,
   "metadata": {},
   "outputs": [
    {
     "data": {
      "text/html": [
       "<div>\n",
       "<style scoped>\n",
       "    .dataframe tbody tr th:only-of-type {\n",
       "        vertical-align: middle;\n",
       "    }\n",
       "\n",
       "    .dataframe tbody tr th {\n",
       "        vertical-align: top;\n",
       "    }\n",
       "\n",
       "    .dataframe thead th {\n",
       "        text-align: right;\n",
       "    }\n",
       "</style>\n",
       "<table border=\"1\" class=\"dataframe\">\n",
       "  <thead>\n",
       "    <tr style=\"text-align: right;\">\n",
       "      <th></th>\n",
       "      <th>Price</th>\n",
       "      <th>RegistrationYear</th>\n",
       "      <th>Power</th>\n",
       "      <th>Kilometer</th>\n",
       "      <th>RegistrationMonth</th>\n",
       "      <th>NumberOfPictures</th>\n",
       "      <th>PostalCode</th>\n",
       "    </tr>\n",
       "  </thead>\n",
       "  <tbody>\n",
       "    <tr>\n",
       "      <th>count</th>\n",
       "      <td>354369.000000</td>\n",
       "      <td>354369.000000</td>\n",
       "      <td>354369.000000</td>\n",
       "      <td>354369.000000</td>\n",
       "      <td>354369.000000</td>\n",
       "      <td>354369.0</td>\n",
       "      <td>354369.000000</td>\n",
       "    </tr>\n",
       "    <tr>\n",
       "      <th>mean</th>\n",
       "      <td>4416.656776</td>\n",
       "      <td>2004.234448</td>\n",
       "      <td>110.094337</td>\n",
       "      <td>128211.172535</td>\n",
       "      <td>5.714645</td>\n",
       "      <td>0.0</td>\n",
       "      <td>50508.689087</td>\n",
       "    </tr>\n",
       "    <tr>\n",
       "      <th>std</th>\n",
       "      <td>4514.158514</td>\n",
       "      <td>90.227958</td>\n",
       "      <td>189.850405</td>\n",
       "      <td>37905.341530</td>\n",
       "      <td>3.726421</td>\n",
       "      <td>0.0</td>\n",
       "      <td>25783.096248</td>\n",
       "    </tr>\n",
       "    <tr>\n",
       "      <th>min</th>\n",
       "      <td>0.000000</td>\n",
       "      <td>1000.000000</td>\n",
       "      <td>0.000000</td>\n",
       "      <td>5000.000000</td>\n",
       "      <td>0.000000</td>\n",
       "      <td>0.0</td>\n",
       "      <td>1067.000000</td>\n",
       "    </tr>\n",
       "    <tr>\n",
       "      <th>25%</th>\n",
       "      <td>1050.000000</td>\n",
       "      <td>1999.000000</td>\n",
       "      <td>69.000000</td>\n",
       "      <td>125000.000000</td>\n",
       "      <td>3.000000</td>\n",
       "      <td>0.0</td>\n",
       "      <td>30165.000000</td>\n",
       "    </tr>\n",
       "    <tr>\n",
       "      <th>50%</th>\n",
       "      <td>2700.000000</td>\n",
       "      <td>2003.000000</td>\n",
       "      <td>105.000000</td>\n",
       "      <td>150000.000000</td>\n",
       "      <td>6.000000</td>\n",
       "      <td>0.0</td>\n",
       "      <td>49413.000000</td>\n",
       "    </tr>\n",
       "    <tr>\n",
       "      <th>75%</th>\n",
       "      <td>6400.000000</td>\n",
       "      <td>2008.000000</td>\n",
       "      <td>143.000000</td>\n",
       "      <td>150000.000000</td>\n",
       "      <td>9.000000</td>\n",
       "      <td>0.0</td>\n",
       "      <td>71083.000000</td>\n",
       "    </tr>\n",
       "    <tr>\n",
       "      <th>max</th>\n",
       "      <td>20000.000000</td>\n",
       "      <td>9999.000000</td>\n",
       "      <td>20000.000000</td>\n",
       "      <td>150000.000000</td>\n",
       "      <td>12.000000</td>\n",
       "      <td>0.0</td>\n",
       "      <td>99998.000000</td>\n",
       "    </tr>\n",
       "  </tbody>\n",
       "</table>\n",
       "</div>"
      ],
      "text/plain": [
       "               Price  RegistrationYear          Power      Kilometer  \\\n",
       "count  354369.000000     354369.000000  354369.000000  354369.000000   \n",
       "mean     4416.656776       2004.234448     110.094337  128211.172535   \n",
       "std      4514.158514         90.227958     189.850405   37905.341530   \n",
       "min         0.000000       1000.000000       0.000000    5000.000000   \n",
       "25%      1050.000000       1999.000000      69.000000  125000.000000   \n",
       "50%      2700.000000       2003.000000     105.000000  150000.000000   \n",
       "75%      6400.000000       2008.000000     143.000000  150000.000000   \n",
       "max     20000.000000       9999.000000   20000.000000  150000.000000   \n",
       "\n",
       "       RegistrationMonth  NumberOfPictures     PostalCode  \n",
       "count      354369.000000          354369.0  354369.000000  \n",
       "mean            5.714645               0.0   50508.689087  \n",
       "std             3.726421               0.0   25783.096248  \n",
       "min             0.000000               0.0    1067.000000  \n",
       "25%             3.000000               0.0   30165.000000  \n",
       "50%             6.000000               0.0   49413.000000  \n",
       "75%             9.000000               0.0   71083.000000  \n",
       "max            12.000000               0.0   99998.000000  "
      ]
     },
     "execution_count": 5,
     "metadata": {},
     "output_type": "execute_result"
    }
   ],
   "source": [
    "data.describe()"
   ]
  },
  {
   "cell_type": "code",
   "execution_count": 6,
   "metadata": {
    "scrolled": true
   },
   "outputs": [
    {
     "data": {
      "image/png": "[encoded data removed]",
      "text/plain": [
       "<Figure size 1200x800 with 6 Axes>"
      ]
     },
     "metadata": {},
     "output_type": "display_data"
    }
   ],
   "source": [
    "#Taking a look at the distribution of data in columns with numerical data\n",
    "quantitative_columns = ['Price', 'RegistrationYear', 'Power', 'Kilometer', 'RegistrationMonth', 'NumberOfPictures']\n",
    "\n",
    "fig, axes = plt.subplots(nrows=2, ncols=3, figsize=(12, 8))\n",
    "fig.subplots_adjust(hspace=0.5)\n",
    "\n",
    "for i, column in enumerate(quantitative_columns):\n",
    "    row = i // 3\n",
    "    col = i % 3\n",
    "    \n",
    "    data[column].hist(ax=axes[row, col], color='pink')\n",
    "    axes[row, col].set_title(f'{column}')\n",
    "    \n",
    "plt.show()"
   ]
  },
  {
   "cell_type": "code",
   "execution_count": 7,
   "metadata": {
    "scrolled": true
   },
   "outputs": [
    {
     "data": {
      "image/png": "[encoded data removed]",
      "text/plain": [
       "<Figure size 1600x600 with 6 Axes>"
      ]
     },
     "metadata": {},
     "output_type": "display_data"
    }
   ],
   "source": [
    "#Now let's look for outliers using box plots on numerical data \n",
    "quantitative_columns = ['Price', 'RegistrationYear', 'Power', 'Kilometer', 'RegistrationMonth', 'NumberOfPictures']\n",
    "\n",
    "fig, axes = plt.subplots(nrows=1, ncols=len(quantitative_columns), figsize=(16, 6))\n",
    "\n",
    "for i, col in enumerate(quantitative_columns):\n",
    "    axes[i].boxplot(data[col])\n",
    "    axes[i].set_title(col)\n",
    "\n",
    "plt.show()"
   ]
  },
  {
   "cell_type": "markdown",
   "metadata": {},
   "source": [
    "After analyzing the data, it can be noted that the numerical features are not normally distributed, and there are a significant number of outliers in the columns Price, RegistrationYear, and Power. Additionally, in the NumberOfPictures column, all values are empty."
   ]
  },
  {
   "cell_type": "code",
   "execution_count": 8,
   "metadata": {
    "scrolled": true
   },
   "outputs": [
    {
     "data": {
      "image/png": "[encoded data removed]",
      "text/plain": [
       "<Figure size 640x480 with 1 Axes>"
      ]
     },
     "metadata": {},
     "output_type": "display_data"
    }
   ],
   "source": [
    "#Examining the distribution of the Price feature separately\n",
    "sns.boxplot(y=data['Price'], color='pink');"
   ]
  },
  {
   "cell_type": "code",
   "execution_count": 9,
   "metadata": {
    "scrolled": true
   },
   "outputs": [
    {
     "data": {
      "text/html": [
       "<div>\n",
       "<style scoped>\n",
       "    .dataframe tbody tr th:only-of-type {\n",
       "        vertical-align: middle;\n",
       "    }\n",
       "\n",
       "    .dataframe tbody tr th {\n",
       "        vertical-align: top;\n",
       "    }\n",
       "\n",
       "    .dataframe thead th {\n",
       "        text-align: right;\n",
       "    }\n",
       "</style>\n",
       "<table border=\"1\" class=\"dataframe\">\n",
       "  <thead>\n",
       "    <tr style=\"text-align: right;\">\n",
       "      <th></th>\n",
       "      <th>DateCrawled</th>\n",
       "      <th>Price</th>\n",
       "      <th>VehicleType</th>\n",
       "      <th>RegistrationYear</th>\n",
       "      <th>Gearbox</th>\n",
       "      <th>Power</th>\n",
       "      <th>Model</th>\n",
       "      <th>Kilometer</th>\n",
       "      <th>RegistrationMonth</th>\n",
       "      <th>FuelType</th>\n",
       "      <th>Brand</th>\n",
       "      <th>Repaired</th>\n",
       "      <th>DateCreated</th>\n",
       "      <th>NumberOfPictures</th>\n",
       "      <th>PostalCode</th>\n",
       "      <th>LastSeen</th>\n",
       "    </tr>\n",
       "  </thead>\n",
       "  <tbody>\n",
       "    <tr>\n",
       "      <th>7</th>\n",
       "      <td>2016-03-21 18:54:38</td>\n",
       "      <td>0</td>\n",
       "      <td>sedan</td>\n",
       "      <td>1980</td>\n",
       "      <td>manual</td>\n",
       "      <td>50</td>\n",
       "      <td>other</td>\n",
       "      <td>40000</td>\n",
       "      <td>7</td>\n",
       "      <td>petrol</td>\n",
       "      <td>volkswagen</td>\n",
       "      <td>no</td>\n",
       "      <td>2016-03-21 00:00:00</td>\n",
       "      <td>0</td>\n",
       "      <td>19348</td>\n",
       "      <td>2016-03-25 16:47:58</td>\n",
       "    </tr>\n",
       "    <tr>\n",
       "      <th>40</th>\n",
       "      <td>2016-03-26 22:06:17</td>\n",
       "      <td>0</td>\n",
       "      <td>NaN</td>\n",
       "      <td>1990</td>\n",
       "      <td>NaN</td>\n",
       "      <td>0</td>\n",
       "      <td>corsa</td>\n",
       "      <td>150000</td>\n",
       "      <td>1</td>\n",
       "      <td>petrol</td>\n",
       "      <td>opel</td>\n",
       "      <td>NaN</td>\n",
       "      <td>2016-03-26 00:00:00</td>\n",
       "      <td>0</td>\n",
       "      <td>56412</td>\n",
       "      <td>2016-03-27 17:43:34</td>\n",
       "    </tr>\n",
       "    <tr>\n",
       "      <th>111</th>\n",
       "      <td>2016-03-19 18:40:12</td>\n",
       "      <td>0</td>\n",
       "      <td>NaN</td>\n",
       "      <td>2017</td>\n",
       "      <td>manual</td>\n",
       "      <td>0</td>\n",
       "      <td>golf</td>\n",
       "      <td>5000</td>\n",
       "      <td>12</td>\n",
       "      <td>petrol</td>\n",
       "      <td>volkswagen</td>\n",
       "      <td>NaN</td>\n",
       "      <td>2016-03-19 00:00:00</td>\n",
       "      <td>0</td>\n",
       "      <td>21698</td>\n",
       "      <td>2016-04-01 08:47:05</td>\n",
       "    </tr>\n",
       "    <tr>\n",
       "      <th>115</th>\n",
       "      <td>2016-03-20 18:53:27</td>\n",
       "      <td>0</td>\n",
       "      <td>small</td>\n",
       "      <td>1999</td>\n",
       "      <td>NaN</td>\n",
       "      <td>0</td>\n",
       "      <td>NaN</td>\n",
       "      <td>5000</td>\n",
       "      <td>0</td>\n",
       "      <td>petrol</td>\n",
       "      <td>volkswagen</td>\n",
       "      <td>NaN</td>\n",
       "      <td>2016-03-20 00:00:00</td>\n",
       "      <td>0</td>\n",
       "      <td>37520</td>\n",
       "      <td>2016-04-07 02:45:22</td>\n",
       "    </tr>\n",
       "    <tr>\n",
       "      <th>152</th>\n",
       "      <td>2016-03-11 18:55:53</td>\n",
       "      <td>0</td>\n",
       "      <td>bus</td>\n",
       "      <td>2004</td>\n",
       "      <td>manual</td>\n",
       "      <td>101</td>\n",
       "      <td>meriva</td>\n",
       "      <td>150000</td>\n",
       "      <td>10</td>\n",
       "      <td>lpg</td>\n",
       "      <td>opel</td>\n",
       "      <td>yes</td>\n",
       "      <td>2016-03-11 00:00:00</td>\n",
       "      <td>0</td>\n",
       "      <td>27432</td>\n",
       "      <td>2016-03-12 23:47:10</td>\n",
       "    </tr>\n",
       "    <tr>\n",
       "      <th>...</th>\n",
       "      <td>...</td>\n",
       "      <td>...</td>\n",
       "      <td>...</td>\n",
       "      <td>...</td>\n",
       "      <td>...</td>\n",
       "      <td>...</td>\n",
       "      <td>...</td>\n",
       "      <td>...</td>\n",
       "      <td>...</td>\n",
       "      <td>...</td>\n",
       "      <td>...</td>\n",
       "      <td>...</td>\n",
       "      <td>...</td>\n",
       "      <td>...</td>\n",
       "      <td>...</td>\n",
       "      <td>...</td>\n",
       "    </tr>\n",
       "    <tr>\n",
       "      <th>354205</th>\n",
       "      <td>2016-03-09 15:56:30</td>\n",
       "      <td>0</td>\n",
       "      <td>NaN</td>\n",
       "      <td>2000</td>\n",
       "      <td>manual</td>\n",
       "      <td>65</td>\n",
       "      <td>corsa</td>\n",
       "      <td>150000</td>\n",
       "      <td>0</td>\n",
       "      <td>NaN</td>\n",
       "      <td>opel</td>\n",
       "      <td>yes</td>\n",
       "      <td>2016-03-09 00:00:00</td>\n",
       "      <td>0</td>\n",
       "      <td>23758</td>\n",
       "      <td>2016-03-30 11:16:08</td>\n",
       "    </tr>\n",
       "    <tr>\n",
       "      <th>354238</th>\n",
       "      <td>2016-03-20 14:55:07</td>\n",
       "      <td>0</td>\n",
       "      <td>small</td>\n",
       "      <td>2002</td>\n",
       "      <td>manual</td>\n",
       "      <td>60</td>\n",
       "      <td>fiesta</td>\n",
       "      <td>150000</td>\n",
       "      <td>3</td>\n",
       "      <td>petrol</td>\n",
       "      <td>ford</td>\n",
       "      <td>NaN</td>\n",
       "      <td>2016-03-20 00:00:00</td>\n",
       "      <td>0</td>\n",
       "      <td>33659</td>\n",
       "      <td>2016-04-06 18:45:23</td>\n",
       "    </tr>\n",
       "    <tr>\n",
       "      <th>354248</th>\n",
       "      <td>2016-03-24 13:48:05</td>\n",
       "      <td>0</td>\n",
       "      <td>small</td>\n",
       "      <td>1999</td>\n",
       "      <td>manual</td>\n",
       "      <td>53</td>\n",
       "      <td>swift</td>\n",
       "      <td>150000</td>\n",
       "      <td>3</td>\n",
       "      <td>petrol</td>\n",
       "      <td>suzuki</td>\n",
       "      <td>NaN</td>\n",
       "      <td>2016-03-24 00:00:00</td>\n",
       "      <td>0</td>\n",
       "      <td>42329</td>\n",
       "      <td>2016-04-07 05:17:24</td>\n",
       "    </tr>\n",
       "    <tr>\n",
       "      <th>354277</th>\n",
       "      <td>2016-03-10 22:55:50</td>\n",
       "      <td>0</td>\n",
       "      <td>small</td>\n",
       "      <td>1999</td>\n",
       "      <td>manual</td>\n",
       "      <td>37</td>\n",
       "      <td>arosa</td>\n",
       "      <td>150000</td>\n",
       "      <td>7</td>\n",
       "      <td>petrol</td>\n",
       "      <td>seat</td>\n",
       "      <td>yes</td>\n",
       "      <td>2016-03-10 00:00:00</td>\n",
       "      <td>0</td>\n",
       "      <td>22559</td>\n",
       "      <td>2016-03-12 23:46:32</td>\n",
       "    </tr>\n",
       "    <tr>\n",
       "      <th>354364</th>\n",
       "      <td>2016-03-21 09:50:58</td>\n",
       "      <td>0</td>\n",
       "      <td>NaN</td>\n",
       "      <td>2005</td>\n",
       "      <td>manual</td>\n",
       "      <td>0</td>\n",
       "      <td>colt</td>\n",
       "      <td>150000</td>\n",
       "      <td>7</td>\n",
       "      <td>petrol</td>\n",
       "      <td>mitsubishi</td>\n",
       "      <td>yes</td>\n",
       "      <td>2016-03-21 00:00:00</td>\n",
       "      <td>0</td>\n",
       "      <td>2694</td>\n",
       "      <td>2016-03-21 10:42:49</td>\n",
       "    </tr>\n",
       "  </tbody>\n",
       "</table>\n",
       "<p>10772 rows × 16 columns</p>\n",
       "</div>"
      ],
      "text/plain": [
       "                DateCrawled  Price VehicleType  RegistrationYear Gearbox  \\\n",
       "7       2016-03-21 18:54:38      0       sedan              1980  manual   \n",
       "40      2016-03-26 22:06:17      0         NaN              1990     NaN   \n",
       "111     2016-03-19 18:40:12      0         NaN              2017  manual   \n",
       "115     2016-03-20 18:53:27      0       small              1999     NaN   \n",
       "152     2016-03-11 18:55:53      0         bus              2004  manual   \n",
       "...                     ...    ...         ...               ...     ...   \n",
       "354205  2016-03-09 15:56:30      0         NaN              2000  manual   \n",
       "354238  2016-03-20 14:55:07      0       small              2002  manual   \n",
       "354248  2016-03-24 13:48:05      0       small              1999  manual   \n",
       "354277  2016-03-10 22:55:50      0       small              1999  manual   \n",
       "354364  2016-03-21 09:50:58      0         NaN              2005  manual   \n",
       "\n",
       "        Power   Model  Kilometer  RegistrationMonth FuelType       Brand  \\\n",
       "7          50   other      40000                  7   petrol  volkswagen   \n",
       "40          0   corsa     150000                  1   petrol        opel   \n",
       "111         0    golf       5000                 12   petrol  volkswagen   \n",
       "115         0     NaN       5000                  0   petrol  volkswagen   \n",
       "152       101  meriva     150000                 10      lpg        opel   \n",
       "...       ...     ...        ...                ...      ...         ...   \n",
       "354205     65   corsa     150000                  0      NaN        opel   \n",
       "354238     60  fiesta     150000                  3   petrol        ford   \n",
       "354248     53   swift     150000                  3   petrol      suzuki   \n",
       "354277     37   arosa     150000                  7   petrol        seat   \n",
       "354364      0    colt     150000                  7   petrol  mitsubishi   \n",
       "\n",
       "       Repaired          DateCreated  NumberOfPictures  PostalCode  \\\n",
       "7            no  2016-03-21 00:00:00                 0       19348   \n",
       "40          NaN  2016-03-26 00:00:00                 0       56412   \n",
       "111         NaN  2016-03-19 00:00:00                 0       21698   \n",
       "115         NaN  2016-03-20 00:00:00                 0       37520   \n",
       "152         yes  2016-03-11 00:00:00                 0       27432   \n",
       "...         ...                  ...               ...         ...   \n",
       "354205      yes  2016-03-09 00:00:00                 0       23758   \n",
       "354238      NaN  2016-03-20 00:00:00                 0       33659   \n",
       "354248      NaN  2016-03-24 00:00:00                 0       42329   \n",
       "354277      yes  2016-03-10 00:00:00                 0       22559   \n",
       "354364      yes  2016-03-21 00:00:00                 0        2694   \n",
       "\n",
       "                   LastSeen  \n",
       "7       2016-03-25 16:47:58  \n",
       "40      2016-03-27 17:43:34  \n",
       "111     2016-04-01 08:47:05  \n",
       "115     2016-04-07 02:45:22  \n",
       "152     2016-03-12 23:47:10  \n",
       "...                     ...  \n",
       "354205  2016-03-30 11:16:08  \n",
       "354238  2016-04-06 18:45:23  \n",
       "354248  2016-04-07 05:17:24  \n",
       "354277  2016-03-12 23:46:32  \n",
       "354364  2016-03-21 10:42:49  \n",
       "\n",
       "[10772 rows x 16 columns]"
      ]
     },
     "execution_count": 9,
     "metadata": {},
     "output_type": "execute_result"
    }
   ],
   "source": [
    "#Let's look at the rows with zero prices\n",
    "data.query('Price == 0')"
   ]
  },
  {
   "cell_type": "code",
   "execution_count": 10,
   "metadata": {},
   "outputs": [],
   "source": [
    "#Deleting the rows with zero prices\n",
    "data = data[data['Price'] > 0]"
   ]
  },
  {
   "cell_type": "code",
   "execution_count": 11,
   "metadata": {},
   "outputs": [
    {
     "data": {
      "image/png": "[encoded data removed]",
      "text/plain": [
       "<Figure size 640x480 with 1 Axes>"
      ]
     },
     "metadata": {},
     "output_type": "display_data"
    }
   ],
   "source": [
    "#Looking at the distribution of the Power feature\n",
    "sns.boxplot(y=data['Power'], color='pink');"
   ]
  },
  {
   "cell_type": "code",
   "execution_count": 12,
   "metadata": {},
   "outputs": [
    {
     "data": {
      "text/plain": [
       "0       36360\n",
       "75      23319\n",
       "60      15465\n",
       "150     14170\n",
       "101     12960\n",
       "        ...  \n",
       "519         1\n",
       "2461        1\n",
       "6006        1\n",
       "5815        1\n",
       "1241        1\n",
       "Name: Power, Length: 701, dtype: int64"
      ]
     },
     "execution_count": 12,
     "metadata": {},
     "output_type": "execute_result"
    }
   ],
   "source": [
    "data['Power'].value_counts()"
   ]
  },
  {
   "cell_type": "code",
   "execution_count": 13,
   "metadata": {},
   "outputs": [
    {
     "data": {
      "image/png": "[encoded data removed]",
      "text/plain": [
       "<Figure size 640x480 with 1 Axes>"
      ]
     },
     "metadata": {},
     "output_type": "display_data"
    }
   ],
   "source": [
    "data['Power'].hist(color='pink', bins=1000);\n",
    "plt.xlim([0, 1000])\n",
    "plt.show()"
   ]
  },
  {
   "cell_type": "markdown",
   "metadata": {},
   "source": [
    "In the Power column, there are outliers as well, but they do not significantly affect the overall distribution, so I will not remove them. However, there are 36,360 zero values in the column which will be removed."
   ]
  },
  {
   "cell_type": "code",
   "execution_count": 14,
   "metadata": {},
   "outputs": [],
   "source": [
    "data = data[data['Power'] > 0]"
   ]
  },
  {
   "cell_type": "code",
   "execution_count": 15,
   "metadata": {},
   "outputs": [
    {
     "name": "stdout",
     "output_type": "stream",
     "text": [
      "interval columns not set, guessing: ['Price', 'RegistrationYear', 'Power', 'Kilometer', 'RegistrationMonth', 'NumberOfPictures']\n"
     ]
    },
    {
     "data": {
      "image/png": "[encoded data removed]",
      "text/plain": [
       "<Figure size 500x500 with 2 Axes>"
      ]
     },
     "metadata": {},
     "output_type": "display_data"
    }
   ],
   "source": [
    "#Looking at the correlation between the columns\n",
    "phik_correlation = data.loc[:, quantitative_columns].phik_matrix()\n",
    "plot_correlation_matrix(phik_correlation.values,\n",
    "                        x_labels=phik_correlation.columns,\n",
    "                        y_labels=phik_correlation.index,\n",
    "                        title='$\\phi_K$ correlation',\n",
    "                        figsize=(5, 5),\n",
    "                        color_map='RdPu')"
   ]
  },
  {
   "cell_type": "code",
   "execution_count": 16,
   "metadata": {},
   "outputs": [
    {
     "name": "stdout",
     "output_type": "stream",
     "text": [
      "interval columns not set, guessing: ['Price', 'RegistrationYear', 'Power', 'Kilometer', 'RegistrationMonth', 'NumberOfPictures']\n"
     ]
    },
    {
     "data": {
      "image/png": "[encoded data removed]",
      "text/plain": [
       "<Figure size 500x500 with 2 Axes>"
      ]
     },
     "metadata": {},
     "output_type": "display_data"
    }
   ],
   "source": [
    "#Looking at the statistical significance of the features\n",
    "significance = data.loc[:, quantitative_columns].significance_matrix()\n",
    "plot_correlation_matrix(significance.values, \n",
    "                        x_labels=significance.columns, \n",
    "                        y_labels=significance.index, \n",
    "                        title='Statistical significance', \n",
    "                        figsize=(5, 5),\n",
    "                        color_map='RdPu')"
   ]
  },
  {
   "cell_type": "markdown",
   "metadata": {},
   "source": [
    "After the correlation analysis, it can be seen that the most features are independent of each other, excapt for Price and Kilometer, which have small level of correlation (0.32). Also, all features are statistically significant. Even Power, which got lower level of significance with RegistrationMonth and Kilometer, is significant with other features. Therefore, no numerical columns will be deleted as they all present important information for model learning."
   ]
  },
  {
   "cell_type": "code",
   "execution_count": 17,
   "metadata": {},
   "outputs": [
    {
     "data": {
      "text/plain": [
       "0    307237\n",
       "Name: NumberOfPictures, dtype: int64"
      ]
     },
     "execution_count": 17,
     "metadata": {},
     "output_type": "execute_result"
    }
   ],
   "source": [
    "data['NumberOfPictures'].value_counts()"
   ]
  },
  {
   "cell_type": "markdown",
   "metadata": {},
   "source": [
    "In the NumberOfPictures column, all values are empty, meaning they have no significance for the model. Therefore, we will remove them from the final dataset."
   ]
  },
  {
   "cell_type": "code",
   "execution_count": 18,
   "metadata": {},
   "outputs": [],
   "source": [
    "data['DateCrawled'] = pd.to_datetime(data['DateCrawled']).dt.round('D')\n",
    "data['DateCreated'] = pd.to_datetime(data['DateCreated']).dt.round('D')"
   ]
  },
  {
   "cell_type": "code",
   "execution_count": 19,
   "metadata": {},
   "outputs": [
    {
     "data": {
      "text/plain": [
       "1 days     240985\n",
       "0 days      63987\n",
       "2 days        958\n",
       "3 days        432\n",
       "7 days         76\n",
       "4 days         75\n",
       "5 days         72\n",
       "6 days         64\n",
       "8 days         57\n",
       "16 days        39\n",
       "dtype: int64"
      ]
     },
     "execution_count": 19,
     "metadata": {},
     "output_type": "execute_result"
    }
   ],
   "source": [
    "difference = (data['DateCrawled'] - data['DateCreated'])\n",
    "difference.value_counts().head(10)"
   ]
  },
  {
   "cell_type": "markdown",
   "metadata": {},
   "source": [
    "The majority of the data was crawled one day after the sale, so in the final dataset, there is no need to keep both the DateCrawled and DateCreated columns. Therefore, we will remove DateCrawled."
   ]
  },
  {
   "cell_type": "code",
   "execution_count": 20,
   "metadata": {},
   "outputs": [],
   "source": [
    "#Removing uninformative columns\n",
    "data = data.drop(['DateCrawled', 'RegistrationMonth', 'NumberOfPictures', 'PostalCode', 'LastSeen'], axis=1)"
   ]
  },
  {
   "cell_type": "code",
   "execution_count": 21,
   "metadata": {
    "scrolled": true
   },
   "outputs": [
    {
     "data": {
      "text/html": [
       "<div>\n",
       "<style scoped>\n",
       "    .dataframe tbody tr th:only-of-type {\n",
       "        vertical-align: middle;\n",
       "    }\n",
       "\n",
       "    .dataframe tbody tr th {\n",
       "        vertical-align: top;\n",
       "    }\n",
       "\n",
       "    .dataframe thead th {\n",
       "        text-align: right;\n",
       "    }\n",
       "</style>\n",
       "<table border=\"1\" class=\"dataframe\">\n",
       "  <thead>\n",
       "    <tr style=\"text-align: right;\">\n",
       "      <th></th>\n",
       "      <th>Price</th>\n",
       "      <th>VehicleType</th>\n",
       "      <th>RegistrationYear</th>\n",
       "      <th>Gearbox</th>\n",
       "      <th>Power</th>\n",
       "      <th>Model</th>\n",
       "      <th>Kilometer</th>\n",
       "      <th>FuelType</th>\n",
       "      <th>Brand</th>\n",
       "      <th>Repaired</th>\n",
       "      <th>DateCreated</th>\n",
       "    </tr>\n",
       "  </thead>\n",
       "  <tbody>\n",
       "    <tr>\n",
       "      <th>1</th>\n",
       "      <td>18300</td>\n",
       "      <td>coupe</td>\n",
       "      <td>2011</td>\n",
       "      <td>manual</td>\n",
       "      <td>190</td>\n",
       "      <td>NaN</td>\n",
       "      <td>125000</td>\n",
       "      <td>gasoline</td>\n",
       "      <td>audi</td>\n",
       "      <td>yes</td>\n",
       "      <td>2016-03-24</td>\n",
       "    </tr>\n",
       "    <tr>\n",
       "      <th>2</th>\n",
       "      <td>9800</td>\n",
       "      <td>suv</td>\n",
       "      <td>2004</td>\n",
       "      <td>auto</td>\n",
       "      <td>163</td>\n",
       "      <td>grand</td>\n",
       "      <td>125000</td>\n",
       "      <td>gasoline</td>\n",
       "      <td>jeep</td>\n",
       "      <td>NaN</td>\n",
       "      <td>2016-03-14</td>\n",
       "    </tr>\n",
       "    <tr>\n",
       "      <th>3</th>\n",
       "      <td>1500</td>\n",
       "      <td>small</td>\n",
       "      <td>2001</td>\n",
       "      <td>manual</td>\n",
       "      <td>75</td>\n",
       "      <td>golf</td>\n",
       "      <td>150000</td>\n",
       "      <td>petrol</td>\n",
       "      <td>volkswagen</td>\n",
       "      <td>no</td>\n",
       "      <td>2016-03-17</td>\n",
       "    </tr>\n",
       "    <tr>\n",
       "      <th>4</th>\n",
       "      <td>3600</td>\n",
       "      <td>small</td>\n",
       "      <td>2008</td>\n",
       "      <td>manual</td>\n",
       "      <td>69</td>\n",
       "      <td>fabia</td>\n",
       "      <td>90000</td>\n",
       "      <td>gasoline</td>\n",
       "      <td>skoda</td>\n",
       "      <td>no</td>\n",
       "      <td>2016-03-31</td>\n",
       "    </tr>\n",
       "    <tr>\n",
       "      <th>5</th>\n",
       "      <td>650</td>\n",
       "      <td>sedan</td>\n",
       "      <td>1995</td>\n",
       "      <td>manual</td>\n",
       "      <td>102</td>\n",
       "      <td>3er</td>\n",
       "      <td>150000</td>\n",
       "      <td>petrol</td>\n",
       "      <td>bmw</td>\n",
       "      <td>yes</td>\n",
       "      <td>2016-04-04</td>\n",
       "    </tr>\n",
       "  </tbody>\n",
       "</table>\n",
       "</div>"
      ],
      "text/plain": [
       "   Price VehicleType  RegistrationYear Gearbox  Power  Model  Kilometer  \\\n",
       "1  18300       coupe              2011  manual    190    NaN     125000   \n",
       "2   9800         suv              2004    auto    163  grand     125000   \n",
       "3   1500       small              2001  manual     75   golf     150000   \n",
       "4   3600       small              2008  manual     69  fabia      90000   \n",
       "5    650       sedan              1995  manual    102    3er     150000   \n",
       "\n",
       "   FuelType       Brand Repaired DateCreated  \n",
       "1  gasoline        audi      yes  2016-03-24  \n",
       "2  gasoline        jeep      NaN  2016-03-14  \n",
       "3    petrol  volkswagen       no  2016-03-17  \n",
       "4  gasoline       skoda       no  2016-03-31  \n",
       "5    petrol         bmw      yes  2016-04-04  "
      ]
     },
     "execution_count": 21,
     "metadata": {},
     "output_type": "execute_result"
    }
   ],
   "source": [
    "data.head()"
   ]
  },
  {
   "cell_type": "markdown",
   "metadata": {},
   "source": [
    "Now let's deal with duplicates and missing values."
   ]
  },
  {
   "cell_type": "code",
   "execution_count": 22,
   "metadata": {
    "scrolled": true
   },
   "outputs": [
    {
     "data": {
      "text/plain": [
       "11809"
      ]
     },
     "execution_count": 22,
     "metadata": {},
     "output_type": "execute_result"
    }
   ],
   "source": [
    "data.duplicated().sum()"
   ]
  },
  {
   "cell_type": "code",
   "execution_count": 23,
   "metadata": {},
   "outputs": [],
   "source": [
    "#Removing duplicates\n",
    "data = data.drop_duplicates()"
   ]
  },
  {
   "cell_type": "code",
   "execution_count": 24,
   "metadata": {},
   "outputs": [
    {
     "data": {
      "text/plain": [
       "Price                   0\n",
       "VehicleType         21043\n",
       "RegistrationYear        0\n",
       "Gearbox              5980\n",
       "Power                   0\n",
       "Model               12293\n",
       "Kilometer               0\n",
       "FuelType            19554\n",
       "Brand                   0\n",
       "Repaired            46234\n",
       "DateCreated             0\n",
       "dtype: int64"
      ]
     },
     "execution_count": 24,
     "metadata": {},
     "output_type": "execute_result"
    }
   ],
   "source": [
    "data.isna().sum()"
   ]
  },
  {
   "cell_type": "code",
   "execution_count": 25,
   "metadata": {},
   "outputs": [
    {
     "data": {
      "text/plain": [
       "petrol      184805\n",
       "gasoline     85615\n",
       "lpg           4594\n",
       "cng            491\n",
       "hybrid         199\n",
       "other           94\n",
       "electric        76\n",
       "Name: FuelType, dtype: int64"
      ]
     },
     "execution_count": 25,
     "metadata": {},
     "output_type": "execute_result"
    }
   ],
   "source": [
    "data['FuelType'].value_counts()"
   ]
  },
  {
   "cell_type": "code",
   "execution_count": 26,
   "metadata": {},
   "outputs": [],
   "source": [
    "#Petrol and Gasoline are essentially the same type of fuel, with \"Petrol\" being the term used in Europe and \"Gasoline\" in the USA\n",
    "#Therefore, we will replace \"Gasoline\" with \"Petrol\" to make the terminology consistent.\n",
    "data['FuelType'] = data['FuelType'].replace(['gasoline'],'petrol')"
   ]
  },
  {
   "cell_type": "code",
   "execution_count": 27,
   "metadata": {},
   "outputs": [],
   "source": [
    "#Replacing the missing values with the category \"Other\"\n",
    "data['FuelType'].fillna('other', inplace=True)"
   ]
  },
  {
   "cell_type": "code",
   "execution_count": 28,
   "metadata": {
    "scrolled": true
   },
   "outputs": [
    {
     "data": {
      "text/plain": [
       "sedan          79680\n",
       "small          67330\n",
       "wagon          56857\n",
       "bus            25329\n",
       "convertible    18070\n",
       "coupe          14134\n",
       "suv            10519\n",
       "other           2466\n",
       "Name: VehicleType, dtype: int64"
      ]
     },
     "execution_count": 28,
     "metadata": {},
     "output_type": "execute_result"
    }
   ],
   "source": [
    "data['VehicleType'].value_counts()"
   ]
  },
  {
   "cell_type": "code",
   "execution_count": 29,
   "metadata": {},
   "outputs": [],
   "source": [
    "#It's impossible to determine the vehicle type from the provided data, so we will replace the missing values with \"other\"\n",
    "data['VehicleType'].fillna('other', inplace=True)"
   ]
  },
  {
   "cell_type": "code",
   "execution_count": 30,
   "metadata": {},
   "outputs": [
    {
     "data": {
      "text/plain": [
       "manual    231404\n",
       "auto       58044\n",
       "Name: Gearbox, dtype: int64"
      ]
     },
     "execution_count": 30,
     "metadata": {},
     "output_type": "execute_result"
    }
   ],
   "source": [
    "data['Gearbox'].value_counts()"
   ]
  },
  {
   "cell_type": "code",
   "execution_count": 31,
   "metadata": {},
   "outputs": [
    {
     "data": {
      "text/plain": [
       "golf        24888\n",
       "other       20212\n",
       "3er         17016\n",
       "polo        10693\n",
       "corsa       10046\n",
       "astra        9098\n",
       "passat       8564\n",
       "a4           8546\n",
       "c_klasse     7117\n",
       "5er          6907\n",
       "Name: Model, dtype: int64"
      ]
     },
     "execution_count": 31,
     "metadata": {},
     "output_type": "execute_result"
    }
   ],
   "source": [
    "data['Model'].value_counts().head(10)"
   ]
  },
  {
   "cell_type": "code",
   "execution_count": 32,
   "metadata": {},
   "outputs": [],
   "source": [
    "#Replacing the missing values in the \"Gearbox\" and \"Model\" columns with \"unknown\"\n",
    "data['Gearbox'].fillna('unknown', inplace=True)\n",
    "data['Model'].fillna('unknown', inplace=True)"
   ]
  },
  {
   "cell_type": "code",
   "execution_count": 33,
   "metadata": {},
   "outputs": [],
   "source": [
    "#In the \"Repaired\" column, we will assume that if the user did not specify, the car was most likely not repaired\n",
    "#Thus, replacing the missing values with \"no\"\n",
    "data['Repaired'].fillna('no', inplace=True)"
   ]
  },
  {
   "cell_type": "code",
   "execution_count": 34,
   "metadata": {},
   "outputs": [
    {
     "data": {
      "text/html": [
       "<div>\n",
       "<style scoped>\n",
       "    .dataframe tbody tr th:only-of-type {\n",
       "        vertical-align: middle;\n",
       "    }\n",
       "\n",
       "    .dataframe tbody tr th {\n",
       "        vertical-align: top;\n",
       "    }\n",
       "\n",
       "    .dataframe thead th {\n",
       "        text-align: right;\n",
       "    }\n",
       "</style>\n",
       "<table border=\"1\" class=\"dataframe\">\n",
       "  <thead>\n",
       "    <tr style=\"text-align: right;\">\n",
       "      <th></th>\n",
       "      <th>Price</th>\n",
       "      <th>VehicleType</th>\n",
       "      <th>RegistrationYear</th>\n",
       "      <th>Gearbox</th>\n",
       "      <th>Power</th>\n",
       "      <th>Model</th>\n",
       "      <th>Kilometer</th>\n",
       "      <th>FuelType</th>\n",
       "      <th>Brand</th>\n",
       "      <th>Repaired</th>\n",
       "      <th>DateCreated</th>\n",
       "    </tr>\n",
       "  </thead>\n",
       "  <tbody>\n",
       "    <tr>\n",
       "      <th>1</th>\n",
       "      <td>18300</td>\n",
       "      <td>coupe</td>\n",
       "      <td>2011</td>\n",
       "      <td>manual</td>\n",
       "      <td>190</td>\n",
       "      <td>unknown</td>\n",
       "      <td>125000</td>\n",
       "      <td>petrol</td>\n",
       "      <td>audi</td>\n",
       "      <td>yes</td>\n",
       "      <td>2016-03-24</td>\n",
       "    </tr>\n",
       "    <tr>\n",
       "      <th>2</th>\n",
       "      <td>9800</td>\n",
       "      <td>suv</td>\n",
       "      <td>2004</td>\n",
       "      <td>auto</td>\n",
       "      <td>163</td>\n",
       "      <td>grand</td>\n",
       "      <td>125000</td>\n",
       "      <td>petrol</td>\n",
       "      <td>jeep</td>\n",
       "      <td>no</td>\n",
       "      <td>2016-03-14</td>\n",
       "    </tr>\n",
       "    <tr>\n",
       "      <th>3</th>\n",
       "      <td>1500</td>\n",
       "      <td>small</td>\n",
       "      <td>2001</td>\n",
       "      <td>manual</td>\n",
       "      <td>75</td>\n",
       "      <td>golf</td>\n",
       "      <td>150000</td>\n",
       "      <td>petrol</td>\n",
       "      <td>volkswagen</td>\n",
       "      <td>no</td>\n",
       "      <td>2016-03-17</td>\n",
       "    </tr>\n",
       "    <tr>\n",
       "      <th>4</th>\n",
       "      <td>3600</td>\n",
       "      <td>small</td>\n",
       "      <td>2008</td>\n",
       "      <td>manual</td>\n",
       "      <td>69</td>\n",
       "      <td>fabia</td>\n",
       "      <td>90000</td>\n",
       "      <td>petrol</td>\n",
       "      <td>skoda</td>\n",
       "      <td>no</td>\n",
       "      <td>2016-03-31</td>\n",
       "    </tr>\n",
       "    <tr>\n",
       "      <th>5</th>\n",
       "      <td>650</td>\n",
       "      <td>sedan</td>\n",
       "      <td>1995</td>\n",
       "      <td>manual</td>\n",
       "      <td>102</td>\n",
       "      <td>3er</td>\n",
       "      <td>150000</td>\n",
       "      <td>petrol</td>\n",
       "      <td>bmw</td>\n",
       "      <td>yes</td>\n",
       "      <td>2016-04-04</td>\n",
       "    </tr>\n",
       "  </tbody>\n",
       "</table>\n",
       "</div>"
      ],
      "text/plain": [
       "   Price VehicleType  RegistrationYear Gearbox  Power    Model  Kilometer  \\\n",
       "1  18300       coupe              2011  manual    190  unknown     125000   \n",
       "2   9800         suv              2004    auto    163    grand     125000   \n",
       "3   1500       small              2001  manual     75     golf     150000   \n",
       "4   3600       small              2008  manual     69    fabia      90000   \n",
       "5    650       sedan              1995  manual    102      3er     150000   \n",
       "\n",
       "  FuelType       Brand Repaired DateCreated  \n",
       "1   petrol        audi      yes  2016-03-24  \n",
       "2   petrol        jeep       no  2016-03-14  \n",
       "3   petrol  volkswagen       no  2016-03-17  \n",
       "4   petrol       skoda       no  2016-03-31  \n",
       "5   petrol         bmw      yes  2016-04-04  "
      ]
     },
     "execution_count": 34,
     "metadata": {},
     "output_type": "execute_result"
    }
   ],
   "source": [
    "data.head()"
   ]
  },
  {
   "cell_type": "code",
   "execution_count": 35,
   "metadata": {},
   "outputs": [],
   "source": [
    "#Extracting the data for days of the week, months, and years from the \"DateCreated\" column\n",
    "data[\"weekday\"] = data[\"DateCreated\"].dt.weekday\n",
    "data[\"month\"] = data[\"DateCreated\"].dt.month\n",
    "data[\"year\"] = data[\"DateCreated\"].dt.year\n",
    "\n",
    "data = data.drop('DateCreated', axis=1)"
   ]
  },
  {
   "cell_type": "code",
   "execution_count": 36,
   "metadata": {},
   "outputs": [
    {
     "data": {
      "text/html": [
       "<div>\n",
       "<style scoped>\n",
       "    .dataframe tbody tr th:only-of-type {\n",
       "        vertical-align: middle;\n",
       "    }\n",
       "\n",
       "    .dataframe tbody tr th {\n",
       "        vertical-align: top;\n",
       "    }\n",
       "\n",
       "    .dataframe thead th {\n",
       "        text-align: right;\n",
       "    }\n",
       "</style>\n",
       "<table border=\"1\" class=\"dataframe\">\n",
       "  <thead>\n",
       "    <tr style=\"text-align: right;\">\n",
       "      <th></th>\n",
       "      <th>Price</th>\n",
       "      <th>VehicleType</th>\n",
       "      <th>RegistrationYear</th>\n",
       "      <th>Gearbox</th>\n",
       "      <th>Power</th>\n",
       "      <th>Model</th>\n",
       "      <th>Kilometer</th>\n",
       "      <th>FuelType</th>\n",
       "      <th>Brand</th>\n",
       "      <th>Repaired</th>\n",
       "      <th>weekday</th>\n",
       "      <th>month</th>\n",
       "      <th>year</th>\n",
       "    </tr>\n",
       "  </thead>\n",
       "  <tbody>\n",
       "    <tr>\n",
       "      <th>1</th>\n",
       "      <td>18300</td>\n",
       "      <td>coupe</td>\n",
       "      <td>2011</td>\n",
       "      <td>manual</td>\n",
       "      <td>190</td>\n",
       "      <td>unknown</td>\n",
       "      <td>125000</td>\n",
       "      <td>petrol</td>\n",
       "      <td>audi</td>\n",
       "      <td>yes</td>\n",
       "      <td>3</td>\n",
       "      <td>3</td>\n",
       "      <td>2016</td>\n",
       "    </tr>\n",
       "    <tr>\n",
       "      <th>2</th>\n",
       "      <td>9800</td>\n",
       "      <td>suv</td>\n",
       "      <td>2004</td>\n",
       "      <td>auto</td>\n",
       "      <td>163</td>\n",
       "      <td>grand</td>\n",
       "      <td>125000</td>\n",
       "      <td>petrol</td>\n",
       "      <td>jeep</td>\n",
       "      <td>no</td>\n",
       "      <td>0</td>\n",
       "      <td>3</td>\n",
       "      <td>2016</td>\n",
       "    </tr>\n",
       "    <tr>\n",
       "      <th>3</th>\n",
       "      <td>1500</td>\n",
       "      <td>small</td>\n",
       "      <td>2001</td>\n",
       "      <td>manual</td>\n",
       "      <td>75</td>\n",
       "      <td>golf</td>\n",
       "      <td>150000</td>\n",
       "      <td>petrol</td>\n",
       "      <td>volkswagen</td>\n",
       "      <td>no</td>\n",
       "      <td>3</td>\n",
       "      <td>3</td>\n",
       "      <td>2016</td>\n",
       "    </tr>\n",
       "    <tr>\n",
       "      <th>4</th>\n",
       "      <td>3600</td>\n",
       "      <td>small</td>\n",
       "      <td>2008</td>\n",
       "      <td>manual</td>\n",
       "      <td>69</td>\n",
       "      <td>fabia</td>\n",
       "      <td>90000</td>\n",
       "      <td>petrol</td>\n",
       "      <td>skoda</td>\n",
       "      <td>no</td>\n",
       "      <td>3</td>\n",
       "      <td>3</td>\n",
       "      <td>2016</td>\n",
       "    </tr>\n",
       "    <tr>\n",
       "      <th>5</th>\n",
       "      <td>650</td>\n",
       "      <td>sedan</td>\n",
       "      <td>1995</td>\n",
       "      <td>manual</td>\n",
       "      <td>102</td>\n",
       "      <td>3er</td>\n",
       "      <td>150000</td>\n",
       "      <td>petrol</td>\n",
       "      <td>bmw</td>\n",
       "      <td>yes</td>\n",
       "      <td>0</td>\n",
       "      <td>4</td>\n",
       "      <td>2016</td>\n",
       "    </tr>\n",
       "  </tbody>\n",
       "</table>\n",
       "</div>"
      ],
      "text/plain": [
       "   Price VehicleType  RegistrationYear Gearbox  Power    Model  Kilometer  \\\n",
       "1  18300       coupe              2011  manual    190  unknown     125000   \n",
       "2   9800         suv              2004    auto    163    grand     125000   \n",
       "3   1500       small              2001  manual     75     golf     150000   \n",
       "4   3600       small              2008  manual     69    fabia      90000   \n",
       "5    650       sedan              1995  manual    102      3er     150000   \n",
       "\n",
       "  FuelType       Brand Repaired  weekday  month  year  \n",
       "1   petrol        audi      yes        3      3  2016  \n",
       "2   petrol        jeep       no        0      3  2016  \n",
       "3   petrol  volkswagen       no        3      3  2016  \n",
       "4   petrol       skoda       no        3      3  2016  \n",
       "5   petrol         bmw      yes        0      4  2016  "
      ]
     },
     "execution_count": 36,
     "metadata": {},
     "output_type": "execute_result"
    }
   ],
   "source": [
    "data.head()"
   ]
  },
  {
   "cell_type": "code",
   "execution_count": 37,
   "metadata": {},
   "outputs": [
    {
     "data": {
      "text/plain": [
       "Price               0\n",
       "VehicleType         0\n",
       "RegistrationYear    0\n",
       "Gearbox             0\n",
       "Power               0\n",
       "Model               0\n",
       "Kilometer           0\n",
       "FuelType            0\n",
       "Brand               0\n",
       "Repaired            0\n",
       "weekday             0\n",
       "month               0\n",
       "year                0\n",
       "dtype: int64"
      ]
     },
     "execution_count": 37,
     "metadata": {},
     "output_type": "execute_result"
    }
   ],
   "source": [
    "data.isna().sum()"
   ]
  },
  {
   "cell_type": "code",
   "execution_count": 38,
   "metadata": {
    "scrolled": true
   },
   "outputs": [
    {
     "name": "stdout",
     "output_type": "stream",
     "text": [
      "<class 'pandas.core.frame.DataFrame'>\n",
      "Int64Index: 295428 entries, 1 to 354368\n",
      "Data columns (total 13 columns):\n",
      " #   Column            Non-Null Count   Dtype \n",
      "---  ------            --------------   ----- \n",
      " 0   Price             295428 non-null  int64 \n",
      " 1   VehicleType       295428 non-null  object\n",
      " 2   RegistrationYear  295428 non-null  int64 \n",
      " 3   Gearbox           295428 non-null  object\n",
      " 4   Power             295428 non-null  int64 \n",
      " 5   Model             295428 non-null  object\n",
      " 6   Kilometer         295428 non-null  int64 \n",
      " 7   FuelType          295428 non-null  object\n",
      " 8   Brand             295428 non-null  object\n",
      " 9   Repaired          295428 non-null  object\n",
      " 10  weekday           295428 non-null  int64 \n",
      " 11  month             295428 non-null  int64 \n",
      " 12  year              295428 non-null  int64 \n",
      "dtypes: int64(7), object(6)\n",
      "memory usage: 31.6+ MB\n"
     ]
    }
   ],
   "source": [
    "data.info()"
   ]
  },
  {
   "cell_type": "markdown",
   "metadata": {},
   "source": [
    "The initial dataset contained both irrelevant features for training subsequent models and features with outliers, missing values, and duplicates.\n",
    "\n",
    "As a result:\n",
    "\n",
    " - Non-informative features DateCrawled, RegistrationYear, RegistrationMonth, NumberOfPictures, PostalCode, and LastSeen were removed.\n",
    "\n",
    "Additionally:\n",
    "\n",
    " - Zero values in Price and Power were removed\n",
    " - Two categories with the same name in FuelType were merged, and missing values were included in the \"other\" category, similar to VehicleType\n",
    " - Missing values in Gearbox and Model were replaced with \"unknown\"\n",
    " - In the end, columns for days of the week, months, and years were created from DateCreated"
   ]
  },
  {
   "cell_type": "markdown",
   "metadata": {},
   "source": [
    "## Model training"
   ]
  },
  {
   "cell_type": "code",
   "execution_count": 39,
   "metadata": {
    "scrolled": true
   },
   "outputs": [
    {
     "data": {
      "text/html": [
       "<div>\n",
       "<style scoped>\n",
       "    .dataframe tbody tr th:only-of-type {\n",
       "        vertical-align: middle;\n",
       "    }\n",
       "\n",
       "    .dataframe tbody tr th {\n",
       "        vertical-align: top;\n",
       "    }\n",
       "\n",
       "    .dataframe thead th {\n",
       "        text-align: right;\n",
       "    }\n",
       "</style>\n",
       "<table border=\"1\" class=\"dataframe\">\n",
       "  <thead>\n",
       "    <tr style=\"text-align: right;\">\n",
       "      <th></th>\n",
       "      <th>Price</th>\n",
       "      <th>RegistrationYear</th>\n",
       "      <th>Power</th>\n",
       "      <th>Kilometer</th>\n",
       "      <th>weekday</th>\n",
       "      <th>month</th>\n",
       "      <th>year</th>\n",
       "      <th>VehicleType_convertible</th>\n",
       "      <th>VehicleType_coupe</th>\n",
       "      <th>VehicleType_other</th>\n",
       "      <th>...</th>\n",
       "      <th>Brand_skoda</th>\n",
       "      <th>Brand_smart</th>\n",
       "      <th>Brand_sonstige_autos</th>\n",
       "      <th>Brand_subaru</th>\n",
       "      <th>Brand_suzuki</th>\n",
       "      <th>Brand_toyota</th>\n",
       "      <th>Brand_trabant</th>\n",
       "      <th>Brand_volkswagen</th>\n",
       "      <th>Brand_volvo</th>\n",
       "      <th>Repaired_yes</th>\n",
       "    </tr>\n",
       "  </thead>\n",
       "  <tbody>\n",
       "    <tr>\n",
       "      <th>1</th>\n",
       "      <td>18300</td>\n",
       "      <td>2011</td>\n",
       "      <td>190</td>\n",
       "      <td>125000</td>\n",
       "      <td>3</td>\n",
       "      <td>3</td>\n",
       "      <td>2016</td>\n",
       "      <td>0</td>\n",
       "      <td>1</td>\n",
       "      <td>0</td>\n",
       "      <td>...</td>\n",
       "      <td>0</td>\n",
       "      <td>0</td>\n",
       "      <td>0</td>\n",
       "      <td>0</td>\n",
       "      <td>0</td>\n",
       "      <td>0</td>\n",
       "      <td>0</td>\n",
       "      <td>0</td>\n",
       "      <td>0</td>\n",
       "      <td>1</td>\n",
       "    </tr>\n",
       "    <tr>\n",
       "      <th>2</th>\n",
       "      <td>9800</td>\n",
       "      <td>2004</td>\n",
       "      <td>163</td>\n",
       "      <td>125000</td>\n",
       "      <td>0</td>\n",
       "      <td>3</td>\n",
       "      <td>2016</td>\n",
       "      <td>0</td>\n",
       "      <td>0</td>\n",
       "      <td>0</td>\n",
       "      <td>...</td>\n",
       "      <td>0</td>\n",
       "      <td>0</td>\n",
       "      <td>0</td>\n",
       "      <td>0</td>\n",
       "      <td>0</td>\n",
       "      <td>0</td>\n",
       "      <td>0</td>\n",
       "      <td>0</td>\n",
       "      <td>0</td>\n",
       "      <td>0</td>\n",
       "    </tr>\n",
       "    <tr>\n",
       "      <th>3</th>\n",
       "      <td>1500</td>\n",
       "      <td>2001</td>\n",
       "      <td>75</td>\n",
       "      <td>150000</td>\n",
       "      <td>3</td>\n",
       "      <td>3</td>\n",
       "      <td>2016</td>\n",
       "      <td>0</td>\n",
       "      <td>0</td>\n",
       "      <td>0</td>\n",
       "      <td>...</td>\n",
       "      <td>0</td>\n",
       "      <td>0</td>\n",
       "      <td>0</td>\n",
       "      <td>0</td>\n",
       "      <td>0</td>\n",
       "      <td>0</td>\n",
       "      <td>0</td>\n",
       "      <td>1</td>\n",
       "      <td>0</td>\n",
       "      <td>0</td>\n",
       "    </tr>\n",
       "    <tr>\n",
       "      <th>4</th>\n",
       "      <td>3600</td>\n",
       "      <td>2008</td>\n",
       "      <td>69</td>\n",
       "      <td>90000</td>\n",
       "      <td>3</td>\n",
       "      <td>3</td>\n",
       "      <td>2016</td>\n",
       "      <td>0</td>\n",
       "      <td>0</td>\n",
       "      <td>0</td>\n",
       "      <td>...</td>\n",
       "      <td>1</td>\n",
       "      <td>0</td>\n",
       "      <td>0</td>\n",
       "      <td>0</td>\n",
       "      <td>0</td>\n",
       "      <td>0</td>\n",
       "      <td>0</td>\n",
       "      <td>0</td>\n",
       "      <td>0</td>\n",
       "      <td>0</td>\n",
       "    </tr>\n",
       "    <tr>\n",
       "      <th>5</th>\n",
       "      <td>650</td>\n",
       "      <td>1995</td>\n",
       "      <td>102</td>\n",
       "      <td>150000</td>\n",
       "      <td>0</td>\n",
       "      <td>4</td>\n",
       "      <td>2016</td>\n",
       "      <td>0</td>\n",
       "      <td>0</td>\n",
       "      <td>0</td>\n",
       "      <td>...</td>\n",
       "      <td>0</td>\n",
       "      <td>0</td>\n",
       "      <td>0</td>\n",
       "      <td>0</td>\n",
       "      <td>0</td>\n",
       "      <td>0</td>\n",
       "      <td>0</td>\n",
       "      <td>0</td>\n",
       "      <td>0</td>\n",
       "      <td>1</td>\n",
       "    </tr>\n",
       "  </tbody>\n",
       "</table>\n",
       "<p>5 rows × 310 columns</p>\n",
       "</div>"
      ],
      "text/plain": [
       "   Price  RegistrationYear  Power  Kilometer  weekday  month  year  \\\n",
       "1  18300              2011    190     125000        3      3  2016   \n",
       "2   9800              2004    163     125000        0      3  2016   \n",
       "3   1500              2001     75     150000        3      3  2016   \n",
       "4   3600              2008     69      90000        3      3  2016   \n",
       "5    650              1995    102     150000        0      4  2016   \n",
       "\n",
       "   VehicleType_convertible  VehicleType_coupe  VehicleType_other  ...  \\\n",
       "1                        0                  1                  0  ...   \n",
       "2                        0                  0                  0  ...   \n",
       "3                        0                  0                  0  ...   \n",
       "4                        0                  0                  0  ...   \n",
       "5                        0                  0                  0  ...   \n",
       "\n",
       "   Brand_skoda  Brand_smart  Brand_sonstige_autos  Brand_subaru  Brand_suzuki  \\\n",
       "1            0            0                     0             0             0   \n",
       "2            0            0                     0             0             0   \n",
       "3            0            0                     0             0             0   \n",
       "4            1            0                     0             0             0   \n",
       "5            0            0                     0             0             0   \n",
       "\n",
       "   Brand_toyota  Brand_trabant  Brand_volkswagen  Brand_volvo  Repaired_yes  \n",
       "1             0              0                 0            0             1  \n",
       "2             0              0                 0            0             0  \n",
       "3             0              0                 1            0             0  \n",
       "4             0              0                 0            0             0  \n",
       "5             0              0                 0            0             1  \n",
       "\n",
       "[5 rows x 310 columns]"
      ]
     },
     "execution_count": 39,
     "metadata": {},
     "output_type": "execute_result"
    }
   ],
   "source": [
    "#Encoding the data using one-hot encoding\n",
    "data_ohe = pd.get_dummies(data, drop_first=True)\n",
    "data_ohe.head()"
   ]
  },
  {
   "cell_type": "code",
   "execution_count": 40,
   "metadata": {},
   "outputs": [],
   "source": [
    "numeric = ['Power', 'Kilometer', 'weekday', 'month', 'year']"
   ]
  },
  {
   "cell_type": "code",
   "execution_count": 41,
   "metadata": {},
   "outputs": [
    {
     "name": "stdout",
     "output_type": "stream",
     "text": [
      "Training set:  59.99972920643947\n",
      "Validation set:  20.000135396780262\n",
      "Test set:  20.000135396780262\n"
     ]
    }
   ],
   "source": [
    "#Splitting the dataset into training, validation, and test sets with a 60%-20%-20% ratio\n",
    "target_ohe = data_ohe['Price']\n",
    "features_ohe = data_ohe.drop('Price', axis=1)\n",
    "\n",
    "features_train_ohe, features_valid_test_ohe, target_train_ohe, target_valid_test_ohe = train_test_split(features_ohe, \n",
    "                                                                                        target_ohe, \n",
    "                                                                                        test_size=0.4, \n",
    "                                                                                        random_state=12345)\n",
    "features_valid_ohe, features_test_ohe, target_valid_ohe, target_test_ohe = train_test_split(features_valid_test_ohe,\n",
    "                                                                            target_valid_test_ohe,\n",
    "                                                                            test_size=0.5, random_state=12345)\n",
    "\n",
    "print('Training set: ', features_train_ohe.shape[0] / features_ohe.shape[0] * 100)\n",
    "print('Validation set: ', features_valid_ohe.shape[0] / features_ohe.shape[0] * 100)\n",
    "print('Test set: ', features_test_ohe.shape[0] / features_ohe.shape[0] * 100)"
   ]
  },
  {
   "cell_type": "code",
   "execution_count": 42,
   "metadata": {},
   "outputs": [],
   "source": [
    "#Scaling features\n",
    "scaler = StandardScaler()\n",
    "scaler.fit(features_train_ohe[numeric])\n",
    "features_train_ohe[numeric] = scaler.transform(features_train_ohe[numeric])\n",
    "features_valid_ohe[numeric] = scaler.transform(features_valid_ohe[numeric])\n",
    "features_test_ohe[numeric] = scaler.transform(features_test_ohe[numeric])"
   ]
  },
  {
   "cell_type": "code",
   "execution_count": 43,
   "metadata": {},
   "outputs": [
    {
     "data": {
      "text/html": [
       "<div>\n",
       "<style scoped>\n",
       "    .dataframe tbody tr th:only-of-type {\n",
       "        vertical-align: middle;\n",
       "    }\n",
       "\n",
       "    .dataframe tbody tr th {\n",
       "        vertical-align: top;\n",
       "    }\n",
       "\n",
       "    .dataframe thead th {\n",
       "        text-align: right;\n",
       "    }\n",
       "</style>\n",
       "<table border=\"1\" class=\"dataframe\">\n",
       "  <thead>\n",
       "    <tr style=\"text-align: right;\">\n",
       "      <th></th>\n",
       "      <th>RegistrationYear</th>\n",
       "      <th>Power</th>\n",
       "      <th>Kilometer</th>\n",
       "      <th>weekday</th>\n",
       "      <th>month</th>\n",
       "      <th>year</th>\n",
       "      <th>VehicleType_convertible</th>\n",
       "      <th>VehicleType_coupe</th>\n",
       "      <th>VehicleType_other</th>\n",
       "      <th>VehicleType_sedan</th>\n",
       "      <th>...</th>\n",
       "      <th>Brand_skoda</th>\n",
       "      <th>Brand_smart</th>\n",
       "      <th>Brand_sonstige_autos</th>\n",
       "      <th>Brand_subaru</th>\n",
       "      <th>Brand_suzuki</th>\n",
       "      <th>Brand_toyota</th>\n",
       "      <th>Brand_trabant</th>\n",
       "      <th>Brand_volkswagen</th>\n",
       "      <th>Brand_volvo</th>\n",
       "      <th>Repaired_yes</th>\n",
       "    </tr>\n",
       "  </thead>\n",
       "  <tbody>\n",
       "    <tr>\n",
       "      <th>259272</th>\n",
       "      <td>1999</td>\n",
       "      <td>0.352584</td>\n",
       "      <td>0.589200</td>\n",
       "      <td>0.051328</td>\n",
       "      <td>-0.425491</td>\n",
       "      <td>0.008888</td>\n",
       "      <td>0</td>\n",
       "      <td>0</td>\n",
       "      <td>0</td>\n",
       "      <td>0</td>\n",
       "      <td>...</td>\n",
       "      <td>0</td>\n",
       "      <td>0</td>\n",
       "      <td>0</td>\n",
       "      <td>0</td>\n",
       "      <td>0</td>\n",
       "      <td>0</td>\n",
       "      <td>0</td>\n",
       "      <td>0</td>\n",
       "      <td>0</td>\n",
       "      <td>0</td>\n",
       "    </tr>\n",
       "    <tr>\n",
       "      <th>236422</th>\n",
       "      <td>2009</td>\n",
       "      <td>-0.272081</td>\n",
       "      <td>-0.766399</td>\n",
       "      <td>0.051328</td>\n",
       "      <td>-0.425491</td>\n",
       "      <td>0.008888</td>\n",
       "      <td>0</td>\n",
       "      <td>0</td>\n",
       "      <td>0</td>\n",
       "      <td>0</td>\n",
       "      <td>...</td>\n",
       "      <td>0</td>\n",
       "      <td>1</td>\n",
       "      <td>0</td>\n",
       "      <td>0</td>\n",
       "      <td>0</td>\n",
       "      <td>0</td>\n",
       "      <td>0</td>\n",
       "      <td>0</td>\n",
       "      <td>0</td>\n",
       "      <td>0</td>\n",
       "    </tr>\n",
       "    <tr>\n",
       "      <th>198837</th>\n",
       "      <td>2002</td>\n",
       "      <td>-0.328403</td>\n",
       "      <td>0.589200</td>\n",
       "      <td>1.012874</td>\n",
       "      <td>2.221132</td>\n",
       "      <td>0.008888</td>\n",
       "      <td>0</td>\n",
       "      <td>0</td>\n",
       "      <td>0</td>\n",
       "      <td>0</td>\n",
       "      <td>...</td>\n",
       "      <td>0</td>\n",
       "      <td>0</td>\n",
       "      <td>0</td>\n",
       "      <td>0</td>\n",
       "      <td>0</td>\n",
       "      <td>0</td>\n",
       "      <td>0</td>\n",
       "      <td>0</td>\n",
       "      <td>0</td>\n",
       "      <td>0</td>\n",
       "    </tr>\n",
       "    <tr>\n",
       "      <th>88227</th>\n",
       "      <td>2014</td>\n",
       "      <td>-0.256720</td>\n",
       "      <td>-3.206478</td>\n",
       "      <td>0.532101</td>\n",
       "      <td>-0.425491</td>\n",
       "      <td>0.008888</td>\n",
       "      <td>0</td>\n",
       "      <td>0</td>\n",
       "      <td>0</td>\n",
       "      <td>0</td>\n",
       "      <td>...</td>\n",
       "      <td>0</td>\n",
       "      <td>0</td>\n",
       "      <td>0</td>\n",
       "      <td>0</td>\n",
       "      <td>0</td>\n",
       "      <td>0</td>\n",
       "      <td>0</td>\n",
       "      <td>0</td>\n",
       "      <td>0</td>\n",
       "      <td>0</td>\n",
       "    </tr>\n",
       "    <tr>\n",
       "      <th>289790</th>\n",
       "      <td>2007</td>\n",
       "      <td>0.234819</td>\n",
       "      <td>0.589200</td>\n",
       "      <td>-1.390992</td>\n",
       "      <td>2.221132</td>\n",
       "      <td>0.008888</td>\n",
       "      <td>0</td>\n",
       "      <td>0</td>\n",
       "      <td>0</td>\n",
       "      <td>0</td>\n",
       "      <td>...</td>\n",
       "      <td>0</td>\n",
       "      <td>0</td>\n",
       "      <td>0</td>\n",
       "      <td>0</td>\n",
       "      <td>0</td>\n",
       "      <td>0</td>\n",
       "      <td>0</td>\n",
       "      <td>1</td>\n",
       "      <td>0</td>\n",
       "      <td>0</td>\n",
       "    </tr>\n",
       "  </tbody>\n",
       "</table>\n",
       "<p>5 rows × 309 columns</p>\n",
       "</div>"
      ],
      "text/plain": [
       "        RegistrationYear     Power  Kilometer   weekday     month      year  \\\n",
       "259272              1999  0.352584   0.589200  0.051328 -0.425491  0.008888   \n",
       "236422              2009 -0.272081  -0.766399  0.051328 -0.425491  0.008888   \n",
       "198837              2002 -0.328403   0.589200  1.012874  2.221132  0.008888   \n",
       "88227               2014 -0.256720  -3.206478  0.532101 -0.425491  0.008888   \n",
       "289790              2007  0.234819   0.589200 -1.390992  2.221132  0.008888   \n",
       "\n",
       "        VehicleType_convertible  VehicleType_coupe  VehicleType_other  \\\n",
       "259272                        0                  0                  0   \n",
       "236422                        0                  0                  0   \n",
       "198837                        0                  0                  0   \n",
       "88227                         0                  0                  0   \n",
       "289790                        0                  0                  0   \n",
       "\n",
       "        VehicleType_sedan  ...  Brand_skoda  Brand_smart  \\\n",
       "259272                  0  ...            0            0   \n",
       "236422                  0  ...            0            1   \n",
       "198837                  0  ...            0            0   \n",
       "88227                   0  ...            0            0   \n",
       "289790                  0  ...            0            0   \n",
       "\n",
       "        Brand_sonstige_autos  Brand_subaru  Brand_suzuki  Brand_toyota  \\\n",
       "259272                     0             0             0             0   \n",
       "236422                     0             0             0             0   \n",
       "198837                     0             0             0             0   \n",
       "88227                      0             0             0             0   \n",
       "289790                     0             0             0             0   \n",
       "\n",
       "        Brand_trabant  Brand_volkswagen  Brand_volvo  Repaired_yes  \n",
       "259272              0                 0            0             0  \n",
       "236422              0                 0            0             0  \n",
       "198837              0                 0            0             0  \n",
       "88227               0                 0            0             0  \n",
       "289790              0                 1            0             0  \n",
       "\n",
       "[5 rows x 309 columns]"
      ]
     },
     "execution_count": 43,
     "metadata": {},
     "output_type": "execute_result"
    }
   ],
   "source": [
    "features_train_ohe.head()"
   ]
  },
  {
   "cell_type": "markdown",
   "metadata": {},
   "source": [
    "### Linear Regression"
   ]
  },
  {
   "cell_type": "code",
   "execution_count": 44,
   "metadata": {},
   "outputs": [
    {
     "name": "stdout",
     "output_type": "stream",
     "text": [
      "RMSE for Linear Regression is: 3226.30712539266\n",
      "The best parameters: {'fit_intercept': False, 'positive': False}\n"
     ]
    }
   ],
   "source": [
    "parameters_linear = {\n",
    "    'positive': [True, False], \n",
    "    'fit_intercept': [True, False]\n",
    "}\n",
    "\n",
    "model_linear = LinearRegression()\n",
    "\n",
    "gs_linear = GridSearchCV(model_linear, parameters_linear, cv=3, scoring='neg_mean_squared_error', n_jobs=-1)\n",
    "gs_linear.fit(features_train_ohe, target_train_ohe)\n",
    "pred_linear = gs_linear.best_estimator_.predict(features_valid_ohe)\n",
    "\n",
    "rmse_linear = np.sqrt(mean_squared_error(target_valid_ohe, pred_linear))\n",
    "\n",
    "print(f'RMSE for Linear Regression is: {rmse_linear}')\n",
    "print(f'The best parameters: {gs_linear.best_params_}')"
   ]
  },
  {
   "cell_type": "markdown",
   "metadata": {},
   "source": [
    "### Random Forest"
   ]
  },
  {
   "cell_type": "code",
   "execution_count": 45,
   "metadata": {},
   "outputs": [
    {
     "name": "stdout",
     "output_type": "stream",
     "text": [
      "Training set:  59.99972920643947\n",
      "Validation set:  20.000135396780262\n",
      "Test set:  20.000135396780262\n"
     ]
    }
   ],
   "source": [
    "#Splitting the dataset into training, validation, and test sets\n",
    "target = data['Price']\n",
    "features = data.drop('Price', axis=1)\n",
    "\n",
    "features_train, features_valid_test, target_train, target_valid_test = train_test_split(features, \n",
    "                                                                                        target, \n",
    "                                                                                        test_size=0.4, \n",
    "                                                                                        random_state=12345)\n",
    "features_valid, features_test, target_valid, target_test = train_test_split(features_valid_test,\n",
    "                                                                            target_valid_test,\n",
    "                                                                            test_size=0.5, random_state=12345)\n",
    "\n",
    "print('Training set: ', features_train.shape[0] / features.shape[0] * 100)\n",
    "print('Validation set: ', features_valid.shape[0] / features.shape[0] * 100)\n",
    "print('Test set: ', features_test.shape[0] / features.shape[0] * 100)"
   ]
  },
  {
   "cell_type": "code",
   "execution_count": 46,
   "metadata": {},
   "outputs": [],
   "source": [
    "#Encoding the features of the datasets using ordinal encoding\n",
    "encoder = OrdinalEncoder(handle_unknown='use_encoded_value', unknown_value=-1)\n",
    "encoder.fit(features_train)\n",
    "features_train_ord = encoder.transform(features_train)\n",
    "features_valid_ord = encoder.transform(features_valid)\n",
    "features_test_ord = encoder.transform(features_test)"
   ]
  },
  {
   "cell_type": "code",
   "execution_count": 47,
   "metadata": {},
   "outputs": [
    {
     "name": "stdout",
     "output_type": "stream",
     "text": [
      "RMSE for Random Forest is: 1978.153188998175\n",
      "The best parameters: {'dforest__max_depth': 9, 'dforest__min_samples_split': 2}\n"
     ]
    }
   ],
   "source": [
    "pipeline_forest = Pipeline(\n",
    "    [('dforest', RandomForestRegressor(random_state=RANDOM_STATE))])\n",
    "\n",
    "parameters_forest = {\n",
    "    'dforest__max_depth': range(1, 10),\n",
    "    'dforest__min_samples_split': (2, 3),\n",
    "}\n",
    "\n",
    "gs_forest = GridSearchCV(pipeline_forest, parameters_forest, cv=3, n_jobs=-1, scoring='neg_mean_squared_error')\n",
    "gs_forest.fit(features_train_ord, target_train)\n",
    "pred_forest = gs_forest.best_estimator_.predict(features_valid_ord)\n",
    "\n",
    "rmse_forest = np.sqrt(mean_squared_error(target_valid, pred_forest))\n",
    "\n",
    "print(f'RMSE for Random Forest is: {rmse_forest}')\n",
    "print(f'The best parameters: {gs_forest.best_params_}')"
   ]
  },
  {
   "cell_type": "markdown",
   "metadata": {},
   "source": [
    "### Decision Tree"
   ]
  },
  {
   "cell_type": "code",
   "execution_count": 48,
   "metadata": {},
   "outputs": [
    {
     "name": "stdout",
     "output_type": "stream",
     "text": [
      "RMSE for Decision Tree is: 1855.097512330078\n",
      "The best parameters: {'dtree__min_samples_leaf': 8, 'dtree__min_samples_split': 2}\n"
     ]
    }
   ],
   "source": [
    "pipeline_tree = Pipeline(\n",
    "    [('dtree', DecisionTreeRegressor(random_state=RANDOM_STATE))])\n",
    "\n",
    "parameters_tree = {\n",
    "    'dtree__min_samples_split': [2, 3, 4],\n",
    "    'dtree__min_samples_leaf': [1, 4, 8]\n",
    "}\n",
    "\n",
    "gs_tree = GridSearchCV(pipeline_tree, parameters_tree, cv=3, n_jobs=-1, scoring='neg_mean_squared_error')\n",
    "gs_tree.fit(features_train_ord, target_train)\n",
    "pred_tree = gs_tree.best_estimator_.predict(features_valid_ord)\n",
    "\n",
    "rmse_tree = np.sqrt(mean_squared_error(target_valid, pred_tree))\n",
    "\n",
    "print(f'RMSE for Decision Tree is: {rmse_tree}')\n",
    "print(f'The best parameters: {gs_tree.best_params_}')"
   ]
  },
  {
   "cell_type": "markdown",
   "metadata": {},
   "source": [
    "### CatBoost"
   ]
  },
  {
   "cell_type": "code",
   "execution_count": 49,
   "metadata": {},
   "outputs": [
    {
     "name": "stdout",
     "output_type": "stream",
     "text": [
      "Fitting 3 folds for each of 16 candidates, totalling 48 fits\n",
      "RMSE for CatBoost is: 1644.1255975574477\n",
      "The best parameters: {'dcat__l2_leaf_reg': 1, 'dcat__learning_rate': 0.2}\n"
     ]
    }
   ],
   "source": [
    "pipeline_catboost = Pipeline(\n",
    "    [('dcat', CatBoostRegressor(random_state=RANDOM_STATE, verbose=False))])\n",
    "\n",
    "parameters_catboost = { \n",
    "    'dcat__learning_rate': [0.01, 0.05, 0.1, 0.2],   \n",
    "    'dcat__l2_leaf_reg': [1, 3, 5, 7] \n",
    "}\n",
    "\n",
    "gs_catboost = GridSearchCV(pipeline_catboost, parameters_catboost, cv=3, n_jobs=-1, scoring='neg_mean_squared_error', verbose=3)\n",
    "gs_catboost.fit(features_train_ord, target_train)\n",
    "pred_catboost = gs_catboost.best_estimator_.predict(features_valid_ord)\n",
    "\n",
    "rmse_catboost = np.sqrt(mean_squared_error(target_valid, pred_catboost))\n",
    "\n",
    "print(f'RMSE for CatBoost is: {rmse_catboost}')\n",
    "print(f'The best parameters: {gs_catboost.best_params_}')"
   ]
  },
  {
   "cell_type": "code",
   "execution_count": 50,
   "metadata": {},
   "outputs": [
    {
     "data": {
      "text/html": [
       "<div>\n",
       "<style scoped>\n",
       "    .dataframe tbody tr th:only-of-type {\n",
       "        vertical-align: middle;\n",
       "    }\n",
       "\n",
       "    .dataframe tbody tr th {\n",
       "        vertical-align: top;\n",
       "    }\n",
       "\n",
       "    .dataframe thead th {\n",
       "        text-align: right;\n",
       "    }\n",
       "</style>\n",
       "<table border=\"1\" class=\"dataframe\">\n",
       "  <thead>\n",
       "    <tr style=\"text-align: right;\">\n",
       "      <th></th>\n",
       "      <th>RMSE</th>\n",
       "    </tr>\n",
       "  </thead>\n",
       "  <tbody>\n",
       "    <tr>\n",
       "      <th>CatBoost Regressor</th>\n",
       "      <td>1644.125598</td>\n",
       "    </tr>\n",
       "    <tr>\n",
       "      <th>Decision tree</th>\n",
       "      <td>1855.097512</td>\n",
       "    </tr>\n",
       "    <tr>\n",
       "      <th>Random Forest</th>\n",
       "      <td>1978.153189</td>\n",
       "    </tr>\n",
       "    <tr>\n",
       "      <th>Linear regression</th>\n",
       "      <td>3226.307125</td>\n",
       "    </tr>\n",
       "  </tbody>\n",
       "</table>\n",
       "</div>"
      ],
      "text/plain": [
       "                           RMSE\n",
       "CatBoost Regressor  1644.125598\n",
       "Decision tree       1855.097512\n",
       "Random Forest       1978.153189\n",
       "Linear regression   3226.307125"
      ]
     },
     "execution_count": 50,
     "metadata": {},
     "output_type": "execute_result"
    }
   ],
   "source": [
    "results = pd.DataFrame(\n",
    "    [rmse_linear, \n",
    "     rmse_tree,\n",
    "     rmse_forest,\n",
    "     rmse_catboost], \n",
    "    index=['Linear regression', 'Decision tree', 'Random Forest', 'CatBoost Regressor'], \n",
    "    columns=['RMSE']\n",
    ")\n",
    "results.sort_values(by='RMSE')"
   ]
  },
  {
   "cell_type": "markdown",
   "metadata": {},
   "source": [
    "At the second stage, four models were trained: linear regression, random forest, decision tree, and CatBoost.\n",
    "\n",
    "For linear regression, the data was encoded using one-hot encoding, while ordinal encoding was used for random forest and decision tree.\n",
    "\n",
    "As a result, the best RMSE score was achieved with CatBoost, which had an RMSE of 1644.12."
   ]
  },
  {
   "cell_type": "markdown",
   "metadata": {},
   "source": [
    "## Model analysis"
   ]
  },
  {
   "cell_type": "markdown",
   "metadata": {},
   "source": [
    "### Linear Regression"
   ]
  },
  {
   "cell_type": "code",
   "execution_count": 51,
   "metadata": {},
   "outputs": [
    {
     "name": "stdout",
     "output_type": "stream",
     "text": [
      "CPU times: user 3 µs, sys: 1 µs, total: 4 µs\n",
      "Wall time: 5.96 µs\n"
     ]
    },
    {
     "data": {
      "text/html": [
       "<style>#sk-container-id-1 {color: black;background-color: white;}#sk-container-id-1 pre{padding: 0;}#sk-container-id-1 div.sk-toggleable {background-color: white;}#sk-container-id-1 label.sk-toggleable__label {cursor: pointer;display: block;width: 100%;margin-bottom: 0;padding: 0.3em;box-sizing: border-box;text-align: center;}#sk-container-id-1 label.sk-toggleable__label-arrow:before {content: \"▸\";float: left;margin-right: 0.25em;color: #696969;}#sk-container-id-1 label.sk-toggleable__label-arrow:hover:before {color: black;}#sk-container-id-1 div.sk-estimator:hover label.sk-toggleable__label-arrow:before {color: black;}#sk-container-id-1 div.sk-toggleable__content {max-height: 0;max-width: 0;overflow: hidden;text-align: left;background-color: #f0f8ff;}#sk-container-id-1 div.sk-toggleable__content pre {margin: 0.2em;color: black;border-radius: 0.25em;background-color: #f0f8ff;}#sk-container-id-1 input.sk-toggleable__control:checked~div.sk-toggleable__content {max-height: 200px;max-width: 100%;overflow: auto;}#sk-container-id-1 input.sk-toggleable__control:checked~label.sk-toggleable__label-arrow:before {content: \"▾\";}#sk-container-id-1 div.sk-estimator input.sk-toggleable__control:checked~label.sk-toggleable__label {background-color: #d4ebff;}#sk-container-id-1 div.sk-label input.sk-toggleable__control:checked~label.sk-toggleable__label {background-color: #d4ebff;}#sk-container-id-1 input.sk-hidden--visually {border: 0;clip: rect(1px 1px 1px 1px);clip: rect(1px, 1px, 1px, 1px);height: 1px;margin: -1px;overflow: hidden;padding: 0;position: absolute;width: 1px;}#sk-container-id-1 div.sk-estimator {font-family: monospace;background-color: #f0f8ff;border: 1px dotted black;border-radius: 0.25em;box-sizing: border-box;margin-bottom: 0.5em;}#sk-container-id-1 div.sk-estimator:hover {background-color: #d4ebff;}#sk-container-id-1 div.sk-parallel-item::after {content: \"\";width: 100%;border-bottom: 1px solid gray;flex-grow: 1;}#sk-container-id-1 div.sk-label:hover label.sk-toggleable__label {background-color: #d4ebff;}#sk-container-id-1 div.sk-serial::before {content: \"\";position: absolute;border-left: 1px solid gray;box-sizing: border-box;top: 0;bottom: 0;left: 50%;z-index: 0;}#sk-container-id-1 div.sk-serial {display: flex;flex-direction: column;align-items: center;background-color: white;padding-right: 0.2em;padding-left: 0.2em;position: relative;}#sk-container-id-1 div.sk-item {position: relative;z-index: 1;}#sk-container-id-1 div.sk-parallel {display: flex;align-items: stretch;justify-content: center;background-color: white;position: relative;}#sk-container-id-1 div.sk-item::before, #sk-container-id-1 div.sk-parallel-item::before {content: \"\";position: absolute;border-left: 1px solid gray;box-sizing: border-box;top: 0;bottom: 0;left: 50%;z-index: -1;}#sk-container-id-1 div.sk-parallel-item {display: flex;flex-direction: column;z-index: 1;position: relative;background-color: white;}#sk-container-id-1 div.sk-parallel-item:first-child::after {align-self: flex-end;width: 50%;}#sk-container-id-1 div.sk-parallel-item:last-child::after {align-self: flex-start;width: 50%;}#sk-container-id-1 div.sk-parallel-item:only-child::after {width: 0;}#sk-container-id-1 div.sk-dashed-wrapped {border: 1px dashed gray;margin: 0 0.4em 0.5em 0.4em;box-sizing: border-box;padding-bottom: 0.4em;background-color: white;}#sk-container-id-1 div.sk-label label {font-family: monospace;font-weight: bold;display: inline-block;line-height: 1.2em;}#sk-container-id-1 div.sk-label-container {text-align: center;}#sk-container-id-1 div.sk-container {/* jupyter's `normalize.less` sets `[hidden] { display: none; }` but bootstrap.min.css set `[hidden] { display: none !important; }` so we also need the `!important` here to be able to override the default hidden behavior on the sphinx rendered scikit-learn.org. See: https://github.com/scikit-learn/scikit-learn/issues/21755 */display: inline-block !important;position: relative;}#sk-container-id-1 div.sk-text-repr-fallback {display: none;}</style><div id=\"sk-container-id-1\" class=\"sk-top-container\"><div class=\"sk-text-repr-fallback\"><pre>LinearRegression(fit_intercept=False)</pre><b>In a Jupyter environment, please rerun this cell to show the HTML representation or trust the notebook. <br />On GitHub, the HTML representation is unable to render, please try loading this page with nbviewer.org.</b></div><div class=\"sk-container\" hidden><div class=\"sk-item\"><div class=\"sk-estimator sk-toggleable\"><input class=\"sk-toggleable__control sk-hidden--visually\" id=\"sk-estimator-id-1\" type=\"checkbox\" checked><label for=\"sk-estimator-id-1\" class=\"sk-toggleable__label sk-toggleable__label-arrow\">LinearRegression</label><div class=\"sk-toggleable__content\"><pre>LinearRegression(fit_intercept=False)</pre></div></div></div></div></div>"
      ],
      "text/plain": [
       "LinearRegression(fit_intercept=False)"
      ]
     },
     "execution_count": 51,
     "metadata": {},
     "output_type": "execute_result"
    }
   ],
   "source": [
    "%time\n",
    "lin_model = LinearRegression(fit_intercept=False, positive=False)\n",
    "lin_model.fit(features_train_ohe, target_train_ohe)"
   ]
  },
  {
   "cell_type": "code",
   "execution_count": 52,
   "metadata": {},
   "outputs": [
    {
     "name": "stdout",
     "output_type": "stream",
     "text": [
      "CPU times: user 4 µs, sys: 3 µs, total: 7 µs\n",
      "Wall time: 9.06 µs\n"
     ]
    }
   ],
   "source": [
    "%time\n",
    "lin_pred = lin_model.predict(features_train_ohe)"
   ]
  },
  {
   "cell_type": "markdown",
   "metadata": {},
   "source": [
    "### Random Forest"
   ]
  },
  {
   "cell_type": "code",
   "execution_count": 53,
   "metadata": {},
   "outputs": [
    {
     "name": "stdout",
     "output_type": "stream",
     "text": [
      "CPU times: user 5 µs, sys: 2 µs, total: 7 µs\n",
      "Wall time: 12.2 µs\n"
     ]
    },
    {
     "data": {
      "text/html": [
       "<style>#sk-container-id-2 {color: black;background-color: white;}#sk-container-id-2 pre{padding: 0;}#sk-container-id-2 div.sk-toggleable {background-color: white;}#sk-container-id-2 label.sk-toggleable__label {cursor: pointer;display: block;width: 100%;margin-bottom: 0;padding: 0.3em;box-sizing: border-box;text-align: center;}#sk-container-id-2 label.sk-toggleable__label-arrow:before {content: \"▸\";float: left;margin-right: 0.25em;color: #696969;}#sk-container-id-2 label.sk-toggleable__label-arrow:hover:before {color: black;}#sk-container-id-2 div.sk-estimator:hover label.sk-toggleable__label-arrow:before {color: black;}#sk-container-id-2 div.sk-toggleable__content {max-height: 0;max-width: 0;overflow: hidden;text-align: left;background-color: #f0f8ff;}#sk-container-id-2 div.sk-toggleable__content pre {margin: 0.2em;color: black;border-radius: 0.25em;background-color: #f0f8ff;}#sk-container-id-2 input.sk-toggleable__control:checked~div.sk-toggleable__content {max-height: 200px;max-width: 100%;overflow: auto;}#sk-container-id-2 input.sk-toggleable__control:checked~label.sk-toggleable__label-arrow:before {content: \"▾\";}#sk-container-id-2 div.sk-estimator input.sk-toggleable__control:checked~label.sk-toggleable__label {background-color: #d4ebff;}#sk-container-id-2 div.sk-label input.sk-toggleable__control:checked~label.sk-toggleable__label {background-color: #d4ebff;}#sk-container-id-2 input.sk-hidden--visually {border: 0;clip: rect(1px 1px 1px 1px);clip: rect(1px, 1px, 1px, 1px);height: 1px;margin: -1px;overflow: hidden;padding: 0;position: absolute;width: 1px;}#sk-container-id-2 div.sk-estimator {font-family: monospace;background-color: #f0f8ff;border: 1px dotted black;border-radius: 0.25em;box-sizing: border-box;margin-bottom: 0.5em;}#sk-container-id-2 div.sk-estimator:hover {background-color: #d4ebff;}#sk-container-id-2 div.sk-parallel-item::after {content: \"\";width: 100%;border-bottom: 1px solid gray;flex-grow: 1;}#sk-container-id-2 div.sk-label:hover label.sk-toggleable__label {background-color: #d4ebff;}#sk-container-id-2 div.sk-serial::before {content: \"\";position: absolute;border-left: 1px solid gray;box-sizing: border-box;top: 0;bottom: 0;left: 50%;z-index: 0;}#sk-container-id-2 div.sk-serial {display: flex;flex-direction: column;align-items: center;background-color: white;padding-right: 0.2em;padding-left: 0.2em;position: relative;}#sk-container-id-2 div.sk-item {position: relative;z-index: 1;}#sk-container-id-2 div.sk-parallel {display: flex;align-items: stretch;justify-content: center;background-color: white;position: relative;}#sk-container-id-2 div.sk-item::before, #sk-container-id-2 div.sk-parallel-item::before {content: \"\";position: absolute;border-left: 1px solid gray;box-sizing: border-box;top: 0;bottom: 0;left: 50%;z-index: -1;}#sk-container-id-2 div.sk-parallel-item {display: flex;flex-direction: column;z-index: 1;position: relative;background-color: white;}#sk-container-id-2 div.sk-parallel-item:first-child::after {align-self: flex-end;width: 50%;}#sk-container-id-2 div.sk-parallel-item:last-child::after {align-self: flex-start;width: 50%;}#sk-container-id-2 div.sk-parallel-item:only-child::after {width: 0;}#sk-container-id-2 div.sk-dashed-wrapped {border: 1px dashed gray;margin: 0 0.4em 0.5em 0.4em;box-sizing: border-box;padding-bottom: 0.4em;background-color: white;}#sk-container-id-2 div.sk-label label {font-family: monospace;font-weight: bold;display: inline-block;line-height: 1.2em;}#sk-container-id-2 div.sk-label-container {text-align: center;}#sk-container-id-2 div.sk-container {/* jupyter's `normalize.less` sets `[hidden] { display: none; }` but bootstrap.min.css set `[hidden] { display: none !important; }` so we also need the `!important` here to be able to override the default hidden behavior on the sphinx rendered scikit-learn.org. See: https://github.com/scikit-learn/scikit-learn/issues/21755 */display: inline-block !important;position: relative;}#sk-container-id-2 div.sk-text-repr-fallback {display: none;}</style><div id=\"sk-container-id-2\" class=\"sk-top-container\"><div class=\"sk-text-repr-fallback\"><pre>RandomForestRegressor(max_depth=9, random_state=12345)</pre><b>In a Jupyter environment, please rerun this cell to show the HTML representation or trust the notebook. <br />On GitHub, the HTML representation is unable to render, please try loading this page with nbviewer.org.</b></div><div class=\"sk-container\" hidden><div class=\"sk-item\"><div class=\"sk-estimator sk-toggleable\"><input class=\"sk-toggleable__control sk-hidden--visually\" id=\"sk-estimator-id-2\" type=\"checkbox\" checked><label for=\"sk-estimator-id-2\" class=\"sk-toggleable__label sk-toggleable__label-arrow\">RandomForestRegressor</label><div class=\"sk-toggleable__content\"><pre>RandomForestRegressor(max_depth=9, random_state=12345)</pre></div></div></div></div></div>"
      ],
      "text/plain": [
       "RandomForestRegressor(max_depth=9, random_state=12345)"
      ]
     },
     "execution_count": 53,
     "metadata": {},
     "output_type": "execute_result"
    }
   ],
   "source": [
    "%time\n",
    "model_forest = RandomForestRegressor(random_state=RANDOM_STATE, max_depth=9, min_samples_split=2)\n",
    "model_forest.fit(features_train_ord, target_train)"
   ]
  },
  {
   "cell_type": "code",
   "execution_count": 54,
   "metadata": {},
   "outputs": [
    {
     "name": "stdout",
     "output_type": "stream",
     "text": [
      "CPU times: user 4 µs, sys: 2 µs, total: 6 µs\n",
      "Wall time: 10 µs\n"
     ]
    }
   ],
   "source": [
    "%time\n",
    "forest_pred = model_forest.predict(features_train_ord)"
   ]
  },
  {
   "cell_type": "markdown",
   "metadata": {},
   "source": [
    "### Decision Tree"
   ]
  },
  {
   "cell_type": "code",
   "execution_count": 55,
   "metadata": {},
   "outputs": [
    {
     "name": "stdout",
     "output_type": "stream",
     "text": [
      "CPU times: user 3 µs, sys: 0 ns, total: 3 µs\n",
      "Wall time: 5.72 µs\n"
     ]
    },
    {
     "data": {
      "text/html": [
       "<style>#sk-container-id-3 {color: black;background-color: white;}#sk-container-id-3 pre{padding: 0;}#sk-container-id-3 div.sk-toggleable {background-color: white;}#sk-container-id-3 label.sk-toggleable__label {cursor: pointer;display: block;width: 100%;margin-bottom: 0;padding: 0.3em;box-sizing: border-box;text-align: center;}#sk-container-id-3 label.sk-toggleable__label-arrow:before {content: \"▸\";float: left;margin-right: 0.25em;color: #696969;}#sk-container-id-3 label.sk-toggleable__label-arrow:hover:before {color: black;}#sk-container-id-3 div.sk-estimator:hover label.sk-toggleable__label-arrow:before {color: black;}#sk-container-id-3 div.sk-toggleable__content {max-height: 0;max-width: 0;overflow: hidden;text-align: left;background-color: #f0f8ff;}#sk-container-id-3 div.sk-toggleable__content pre {margin: 0.2em;color: black;border-radius: 0.25em;background-color: #f0f8ff;}#sk-container-id-3 input.sk-toggleable__control:checked~div.sk-toggleable__content {max-height: 200px;max-width: 100%;overflow: auto;}#sk-container-id-3 input.sk-toggleable__control:checked~label.sk-toggleable__label-arrow:before {content: \"▾\";}#sk-container-id-3 div.sk-estimator input.sk-toggleable__control:checked~label.sk-toggleable__label {background-color: #d4ebff;}#sk-container-id-3 div.sk-label input.sk-toggleable__control:checked~label.sk-toggleable__label {background-color: #d4ebff;}#sk-container-id-3 input.sk-hidden--visually {border: 0;clip: rect(1px 1px 1px 1px);clip: rect(1px, 1px, 1px, 1px);height: 1px;margin: -1px;overflow: hidden;padding: 0;position: absolute;width: 1px;}#sk-container-id-3 div.sk-estimator {font-family: monospace;background-color: #f0f8ff;border: 1px dotted black;border-radius: 0.25em;box-sizing: border-box;margin-bottom: 0.5em;}#sk-container-id-3 div.sk-estimator:hover {background-color: #d4ebff;}#sk-container-id-3 div.sk-parallel-item::after {content: \"\";width: 100%;border-bottom: 1px solid gray;flex-grow: 1;}#sk-container-id-3 div.sk-label:hover label.sk-toggleable__label {background-color: #d4ebff;}#sk-container-id-3 div.sk-serial::before {content: \"\";position: absolute;border-left: 1px solid gray;box-sizing: border-box;top: 0;bottom: 0;left: 50%;z-index: 0;}#sk-container-id-3 div.sk-serial {display: flex;flex-direction: column;align-items: center;background-color: white;padding-right: 0.2em;padding-left: 0.2em;position: relative;}#sk-container-id-3 div.sk-item {position: relative;z-index: 1;}#sk-container-id-3 div.sk-parallel {display: flex;align-items: stretch;justify-content: center;background-color: white;position: relative;}#sk-container-id-3 div.sk-item::before, #sk-container-id-3 div.sk-parallel-item::before {content: \"\";position: absolute;border-left: 1px solid gray;box-sizing: border-box;top: 0;bottom: 0;left: 50%;z-index: -1;}#sk-container-id-3 div.sk-parallel-item {display: flex;flex-direction: column;z-index: 1;position: relative;background-color: white;}#sk-container-id-3 div.sk-parallel-item:first-child::after {align-self: flex-end;width: 50%;}#sk-container-id-3 div.sk-parallel-item:last-child::after {align-self: flex-start;width: 50%;}#sk-container-id-3 div.sk-parallel-item:only-child::after {width: 0;}#sk-container-id-3 div.sk-dashed-wrapped {border: 1px dashed gray;margin: 0 0.4em 0.5em 0.4em;box-sizing: border-box;padding-bottom: 0.4em;background-color: white;}#sk-container-id-3 div.sk-label label {font-family: monospace;font-weight: bold;display: inline-block;line-height: 1.2em;}#sk-container-id-3 div.sk-label-container {text-align: center;}#sk-container-id-3 div.sk-container {/* jupyter's `normalize.less` sets `[hidden] { display: none; }` but bootstrap.min.css set `[hidden] { display: none !important; }` so we also need the `!important` here to be able to override the default hidden behavior on the sphinx rendered scikit-learn.org. See: https://github.com/scikit-learn/scikit-learn/issues/21755 */display: inline-block !important;position: relative;}#sk-container-id-3 div.sk-text-repr-fallback {display: none;}</style><div id=\"sk-container-id-3\" class=\"sk-top-container\"><div class=\"sk-text-repr-fallback\"><pre>DecisionTreeRegressor(min_samples_leaf=8, random_state=12345)</pre><b>In a Jupyter environment, please rerun this cell to show the HTML representation or trust the notebook. <br />On GitHub, the HTML representation is unable to render, please try loading this page with nbviewer.org.</b></div><div class=\"sk-container\" hidden><div class=\"sk-item\"><div class=\"sk-estimator sk-toggleable\"><input class=\"sk-toggleable__control sk-hidden--visually\" id=\"sk-estimator-id-3\" type=\"checkbox\" checked><label for=\"sk-estimator-id-3\" class=\"sk-toggleable__label sk-toggleable__label-arrow\">DecisionTreeRegressor</label><div class=\"sk-toggleable__content\"><pre>DecisionTreeRegressor(min_samples_leaf=8, random_state=12345)</pre></div></div></div></div></div>"
      ],
      "text/plain": [
       "DecisionTreeRegressor(min_samples_leaf=8, random_state=12345)"
      ]
     },
     "execution_count": 55,
     "metadata": {},
     "output_type": "execute_result"
    }
   ],
   "source": [
    "%time\n",
    "model_tree = DecisionTreeRegressor(random_state=RANDOM_STATE, min_samples_leaf=8, min_samples_split=2)\n",
    "model_tree.fit(features_train_ord, target_train)"
   ]
  },
  {
   "cell_type": "code",
   "execution_count": 56,
   "metadata": {},
   "outputs": [
    {
     "name": "stdout",
     "output_type": "stream",
     "text": [
      "CPU times: user 2 µs, sys: 1e+03 ns, total: 3 µs\n",
      "Wall time: 5.72 µs\n"
     ]
    }
   ],
   "source": [
    "%time\n",
    "tree_pred = model_tree.predict(features_train_ord)"
   ]
  },
  {
   "cell_type": "markdown",
   "metadata": {},
   "source": [
    "### CatBoost"
   ]
  },
  {
   "cell_type": "code",
   "execution_count": 57,
   "metadata": {},
   "outputs": [
    {
     "name": "stdout",
     "output_type": "stream",
     "text": [
      "CPU times: user 51.4 s, sys: 2.61 s, total: 54 s\n",
      "Wall time: 19.5 s\n"
     ]
    },
    {
     "data": {
      "text/plain": [
       "<catboost.core.CatBoostRegressor at 0x7f8266229040>"
      ]
     },
     "execution_count": 57,
     "metadata": {},
     "output_type": "execute_result"
    }
   ],
   "source": [
    "%%time\n",
    "model_cat = CatBoostRegressor(random_state=RANDOM_STATE, verbose=False, l2_leaf_reg=1, learning_rate=0.2)\n",
    "model_cat.fit(features_train_ord, target_train)"
   ]
  },
  {
   "cell_type": "code",
   "execution_count": 58,
   "metadata": {},
   "outputs": [
    {
     "name": "stdout",
     "output_type": "stream",
     "text": [
      "CPU times: user 3 µs, sys: 1e+03 ns, total: 4 µs\n",
      "Wall time: 6.2 µs\n"
     ]
    }
   ],
   "source": [
    "%time\n",
    "predictions_cat = model_cat.predict(features_train_ord)"
   ]
  },
  {
   "cell_type": "code",
   "execution_count": 59,
   "metadata": {},
   "outputs": [
    {
     "data": {
      "image/png": "[encoded data removed]",
      "text/plain": [
       "<Figure size 640x480 with 1 Axes>"
      ]
     },
     "metadata": {},
     "output_type": "display_data"
    }
   ],
   "source": [
    "feature_importances = model_cat.get_feature_importance()\n",
    "feature_names = features_train.columns  \n",
    "\n",
    "importance_df = pd.DataFrame({'Feature': feature_names, 'Importance': feature_importances}).set_index('Feature')\n",
    "importance_df = importance_df.sort_values(by='Importance', ascending=False)\n",
    "\n",
    "importance_df.plot(kind='bar', color='pink');"
   ]
  },
  {
   "cell_type": "code",
   "execution_count": 62,
   "metadata": {},
   "outputs": [
    {
     "data": {
      "text/html": [
       "<div>\n",
       "<style scoped>\n",
       "    .dataframe tbody tr th:only-of-type {\n",
       "        vertical-align: middle;\n",
       "    }\n",
       "\n",
       "    .dataframe tbody tr th {\n",
       "        vertical-align: top;\n",
       "    }\n",
       "\n",
       "    .dataframe thead th {\n",
       "        text-align: right;\n",
       "    }\n",
       "</style>\n",
       "<table border=\"1\" class=\"dataframe\">\n",
       "  <thead>\n",
       "    <tr style=\"text-align: right;\">\n",
       "      <th></th>\n",
       "      <th>CPU-times</th>\n",
       "      <th>Wall time</th>\n",
       "    </tr>\n",
       "  </thead>\n",
       "  <tbody>\n",
       "    <tr>\n",
       "      <th>Linear Regression: training</th>\n",
       "      <td>4 µs</td>\n",
       "      <td>5.96 µs</td>\n",
       "    </tr>\n",
       "    <tr>\n",
       "      <th>Linear Regression: prediction</th>\n",
       "      <td>7 µs</td>\n",
       "      <td>9.06 µs</td>\n",
       "    </tr>\n",
       "    <tr>\n",
       "      <th>Random Forest: training</th>\n",
       "      <td>7 µs</td>\n",
       "      <td>12.2 µs</td>\n",
       "    </tr>\n",
       "    <tr>\n",
       "      <th>Random Forest: prediction</th>\n",
       "      <td>6 µs</td>\n",
       "      <td>10 µs</td>\n",
       "    </tr>\n",
       "    <tr>\n",
       "      <th>Decision Tree: training</th>\n",
       "      <td>3 µs</td>\n",
       "      <td>5.72 µs</td>\n",
       "    </tr>\n",
       "    <tr>\n",
       "      <th>Decision Tree: prediction</th>\n",
       "      <td>3 µs</td>\n",
       "      <td>5.72 µs</td>\n",
       "    </tr>\n",
       "    <tr>\n",
       "      <th>CatBoost: training</th>\n",
       "      <td>54 s</td>\n",
       "      <td>19.5 s</td>\n",
       "    </tr>\n",
       "    <tr>\n",
       "      <th>CatBoost: prediction</th>\n",
       "      <td>4 µs</td>\n",
       "      <td>6.2 µs</td>\n",
       "    </tr>\n",
       "  </tbody>\n",
       "</table>\n",
       "</div>"
      ],
      "text/plain": [
       "                              CPU-times Wall time\n",
       "Linear Regression: training        4 µs   5.96 µs\n",
       "Linear Regression: prediction      7 µs   9.06 µs\n",
       "Random Forest: training            7 µs   12.2 µs\n",
       "Random Forest: prediction          6 µs     10 µs\n",
       "Decision Tree: training            3 µs   5.72 µs\n",
       "Decision Tree: prediction          3 µs   5.72 µs\n",
       "CatBoost: training                 54 s    19.5 s\n",
       "CatBoost: prediction               4 µs    6.2 µs"
      ]
     },
     "execution_count": 62,
     "metadata": {},
     "output_type": "execute_result"
    }
   ],
   "source": [
    "results = [['Linear Regression: training', '4 µs', '5.96 µs'],\n",
    "             ['Linear Regression: prediction', '7 µs', '9.06 µs'],\n",
    "             ['Random Forest: training', '7 µs', '12.2 µs'],\n",
    "         ['Random Forest: prediction', '6 µs', '10 µs'],\n",
    "         ['Decision Tree: training', '3 µs', '5.72 µs'],\n",
    "         ['Decision Tree: prediction', '3 µs', '5.72 µs'],\n",
    "         ['CatBoost: training', '54 s', '19.5 s'],\n",
    "         ['CatBoost: prediction', '4 µs', '6.2 µs']]\n",
    "df = pd.DataFrame(results, columns=['Model','CPU-times', 'Wall time'])\n",
    "df = df.set_index('Model')\n",
    "df.index.names = [None]\n",
    "df"
   ]
  },
  {
   "cell_type": "markdown",
   "metadata": {},
   "source": [
    "Based on the speed of training and prediction, it can be noted that Decision Tree trains the fastest, while CatBoost is the fastest for making predictions. Additionally, an analysis of feature importance for the CatBoost model revealed that the \"RegistrationYear\" and \"Power\" features play a significant role. Features created based on the sales data did not have a substantial impact on the training, so they could be removed in further model refinement.\n",
    "\n",
    "In conclusion, for testing on the test dataset, we will choose the CatBoost model as it performed the best in terms of accuracy with an RMSE of 1644. However, it's important to note that CatBoost takes longer to train. If speed is more important than accuracy for the company, the Decision Tree model, which trained the fastest among the models, could be considered."
   ]
  },
  {
   "cell_type": "markdown",
   "metadata": {},
   "source": [
    "### Testing the model"
   ]
  },
  {
   "cell_type": "code",
   "execution_count": 61,
   "metadata": {
    "scrolled": true
   },
   "outputs": [
    {
     "name": "stdout",
     "output_type": "stream",
     "text": [
      "RMSE on the test set: 1629.1018039398743\n"
     ]
    }
   ],
   "source": [
    "final_cat_pred = model_cat.predict(features_test_ord)\n",
    "print('RMSE on the test set:', mean_squared_error(target_test, final_cat_pred)**0.5)"
   ]
  },
  {
   "cell_type": "markdown",
   "metadata": {},
   "source": [
    "In the end, the model achieved an RMSE of 1629 on the test dataset, which is slightly lower than the result on the training dataset. Therefore, it suggests that the model is not suffering from underfitting or overfitting."
   ]
  },
  {
   "cell_type": "markdown",
   "metadata": {},
   "source": [
    "## Conclusion"
   ]
  },
  {
   "cell_type": "markdown",
   "metadata": {},
   "source": [
    "Initially dataset with 354,000 rows and 16 columns was offered for training. The goal was to build a machine learning model that can accurately predict the prices of used cars. The model will be integrated into a mobile application to provide users with quick and reliable estimates of their car's market value.\n",
    "\n",
    "During data preprocessing, uninformative features, outliers and duplicates and missing values were removed, resulting in 295,000 rows and 13 columns.\n",
    "\n",
    "Four models were trained: linear regression, random forest, decision tree, and CatBoost. CatBoost achieved the best accuracy on the training dataset, although it took more time to train. In terms of accuracy, CatBoost is recommended for integration into the application."
   ]
  },
  {
   "cell_type": "code",
   "execution_count": null,
   "metadata": {},
   "outputs": [],
   "source": []
  }
 ],
 "metadata": {
  "ExecuteTimeLog": [
   {
    "duration": 1003,
    "start_time": "2023-03-28T11:52:04.097Z"
   },
   {
    "duration": 3248,
    "start_time": "2023-03-28T11:52:31.097Z"
   },
   {
    "duration": 25,
    "start_time": "2023-03-28T11:55:28.544Z"
   },
   {
    "duration": 180,
    "start_time": "2023-03-28T11:55:31.377Z"
   },
   {
    "duration": 16,
    "start_time": "2023-03-28T11:57:04.694Z"
   },
   {
    "duration": 568,
    "start_time": "2023-03-28T11:57:53.447Z"
   },
   {
    "duration": 808,
    "start_time": "2023-03-28T11:58:02.581Z"
   },
   {
    "duration": 693,
    "start_time": "2023-03-28T11:58:10.400Z"
   },
   {
    "duration": 488,
    "start_time": "2023-03-28T11:58:30.460Z"
   },
   {
    "duration": 840,
    "start_time": "2023-03-28T11:59:07.836Z"
   },
   {
    "duration": 722,
    "start_time": "2023-03-28T12:00:34.098Z"
   },
   {
    "duration": 636,
    "start_time": "2023-03-28T12:01:33.989Z"
   },
   {
    "duration": 174,
    "start_time": "2023-03-28T12:02:47.177Z"
   },
   {
    "duration": 1691,
    "start_time": "2023-03-28T12:04:25.101Z"
   },
   {
    "duration": 2223,
    "start_time": "2023-03-28T12:05:30.408Z"
   },
   {
    "duration": 347,
    "start_time": "2023-03-28T12:05:49.756Z"
   },
   {
    "duration": 3,
    "start_time": "2023-03-28T12:10:07.717Z"
   },
   {
    "duration": 1202,
    "start_time": "2023-03-28T12:10:08.517Z"
   },
   {
    "duration": 193,
    "start_time": "2023-03-28T12:10:10.801Z"
   },
   {
    "duration": 31,
    "start_time": "2023-03-28T12:10:12.519Z"
   },
   {
    "duration": 15,
    "start_time": "2023-03-28T12:11:24.391Z"
   },
   {
    "duration": 16,
    "start_time": "2023-03-28T12:14:15.839Z"
   },
   {
    "duration": 2636,
    "start_time": "2023-03-28T12:14:21.710Z"
   },
   {
    "duration": 451,
    "start_time": "2023-03-28T12:14:39.293Z"
   },
   {
    "duration": 619,
    "start_time": "2023-03-28T12:16:01.336Z"
   },
   {
    "duration": 11,
    "start_time": "2023-03-28T12:18:26.046Z"
   },
   {
    "duration": 81998,
    "start_time": "2023-03-28T12:18:33.559Z"
   },
   {
    "duration": 12,
    "start_time": "2023-03-28T12:20:58.204Z"
   },
   {
    "duration": 10409,
    "start_time": "2023-03-28T12:21:02.347Z"
   },
   {
    "duration": 599,
    "start_time": "2023-03-28T12:21:39.800Z"
   },
   {
    "duration": 3,
    "start_time": "2023-03-28T12:22:35.300Z"
   },
   {
    "duration": 8429,
    "start_time": "2023-03-28T12:22:37.942Z"
   },
   {
    "duration": 998,
    "start_time": "2023-03-28T12:23:46.978Z"
   },
   {
    "duration": 1208,
    "start_time": "2023-03-28T12:26:45.732Z"
   },
   {
    "duration": 775,
    "start_time": "2023-03-28T12:27:03.686Z"
   },
   {
    "duration": 745,
    "start_time": "2023-03-28T12:27:15.667Z"
   },
   {
    "duration": 903,
    "start_time": "2023-03-28T12:27:40.498Z"
   },
   {
    "duration": 98,
    "start_time": "2023-03-28T12:32:07.990Z"
   },
   {
    "duration": 710,
    "start_time": "2023-03-28T12:33:08.134Z"
   },
   {
    "duration": 14,
    "start_time": "2023-03-28T12:34:07.686Z"
   },
   {
    "duration": 16,
    "start_time": "2023-03-28T12:34:12.814Z"
   },
   {
    "duration": 9,
    "start_time": "2023-03-28T12:34:31.004Z"
   },
   {
    "duration": 1580,
    "start_time": "2023-03-28T12:34:40.631Z"
   },
   {
    "duration": 12,
    "start_time": "2023-03-28T12:35:08.203Z"
   },
   {
    "duration": 495,
    "start_time": "2023-03-28T12:37:33.412Z"
   },
   {
    "duration": 116,
    "start_time": "2023-03-28T12:39:17.971Z"
   },
   {
    "duration": 584,
    "start_time": "2023-03-28T12:40:18.282Z"
   },
   {
    "duration": 100,
    "start_time": "2023-03-28T12:41:02.535Z"
   },
   {
    "duration": 2135,
    "start_time": "2023-03-28T12:41:36.494Z"
   },
   {
    "duration": 14,
    "start_time": "2023-03-28T12:44:15.260Z"
   },
   {
    "duration": 594,
    "start_time": "2023-03-28T12:46:48.786Z"
   },
   {
    "duration": 684,
    "start_time": "2023-03-28T12:47:55.504Z"
   },
   {
    "duration": 182,
    "start_time": "2023-03-28T12:49:35.301Z"
   },
   {
    "duration": 37,
    "start_time": "2023-03-28T12:51:50.789Z"
   },
   {
    "duration": 18,
    "start_time": "2023-03-28T12:52:02.309Z"
   },
   {
    "duration": 9,
    "start_time": "2023-03-28T12:52:06.178Z"
   },
   {
    "duration": 521,
    "start_time": "2023-03-28T12:52:38.674Z"
   },
   {
    "duration": 155,
    "start_time": "2023-03-28T12:55:31.231Z"
   },
   {
    "duration": 160,
    "start_time": "2023-03-28T12:55:34.636Z"
   },
   {
    "duration": 145,
    "start_time": "2023-03-28T12:55:41.436Z"
   },
   {
    "duration": 27,
    "start_time": "2023-03-28T12:57:15.961Z"
   },
   {
    "duration": 38,
    "start_time": "2023-03-28T12:57:59.797Z"
   },
   {
    "duration": 27,
    "start_time": "2023-03-28T12:58:06.159Z"
   },
   {
    "duration": 270,
    "start_time": "2023-03-28T12:58:09.228Z"
   },
   {
    "duration": 48,
    "start_time": "2023-03-28T12:58:14.409Z"
   },
   {
    "duration": 50,
    "start_time": "2023-03-28T12:58:52.244Z"
   },
   {
    "duration": 41,
    "start_time": "2023-03-28T12:59:23.980Z"
   },
   {
    "duration": 4,
    "start_time": "2023-03-28T13:00:34.570Z"
   },
   {
    "duration": 19,
    "start_time": "2023-03-28T13:00:40.965Z"
   },
   {
    "duration": 13,
    "start_time": "2023-03-28T13:16:38.742Z"
   },
   {
    "duration": 168,
    "start_time": "2023-03-28T13:16:51.261Z"
   },
   {
    "duration": 17,
    "start_time": "2023-03-28T13:17:49.178Z"
   },
   {
    "duration": 13,
    "start_time": "2023-03-28T13:17:56.933Z"
   },
   {
    "duration": 45,
    "start_time": "2023-03-28T13:21:03.735Z"
   },
   {
    "duration": 10,
    "start_time": "2023-03-28T13:21:09.154Z"
   },
   {
    "duration": 3,
    "start_time": "2023-03-28T13:24:34.938Z"
   },
   {
    "duration": 1000,
    "start_time": "2023-03-28T13:24:34.944Z"
   },
   {
    "duration": 159,
    "start_time": "2023-03-28T13:24:35.945Z"
   },
   {
    "duration": 48,
    "start_time": "2023-03-28T13:24:36.106Z"
   },
   {
    "duration": 114,
    "start_time": "2023-03-28T13:24:36.157Z"
   },
   {
    "duration": 814,
    "start_time": "2023-03-28T13:24:36.273Z"
   },
   {
    "duration": 812,
    "start_time": "2023-03-28T13:24:37.089Z"
   },
   {
    "duration": 165,
    "start_time": "2023-03-28T13:24:37.903Z"
   },
   {
    "duration": 50,
    "start_time": "2023-03-28T13:24:38.072Z"
   },
   {
    "duration": 21,
    "start_time": "2023-03-28T13:24:38.123Z"
   },
   {
    "duration": 671,
    "start_time": "2023-03-28T13:24:38.146Z"
   },
   {
    "duration": 10,
    "start_time": "2023-03-28T13:24:38.827Z"
   },
   {
    "duration": 154,
    "start_time": "2023-03-28T13:24:38.838Z"
   },
   {
    "duration": 511,
    "start_time": "2023-03-28T13:24:38.994Z"
   },
   {
    "duration": 209,
    "start_time": "2023-03-28T13:24:39.506Z"
   },
   {
    "duration": 12,
    "start_time": "2023-03-28T13:24:46.236Z"
   },
   {
    "duration": 34,
    "start_time": "2023-03-28T13:24:48.799Z"
   },
   {
    "duration": 14,
    "start_time": "2023-03-28T13:24:49.731Z"
   },
   {
    "duration": 15,
    "start_time": "2023-03-28T13:25:14.800Z"
   },
   {
    "duration": 3,
    "start_time": "2023-03-28T13:25:20.206Z"
   },
   {
    "duration": 928,
    "start_time": "2023-03-28T13:25:20.211Z"
   },
   {
    "duration": 161,
    "start_time": "2023-03-28T13:25:21.141Z"
   },
   {
    "duration": 31,
    "start_time": "2023-03-28T13:25:21.305Z"
   },
   {
    "duration": 106,
    "start_time": "2023-03-28T13:25:21.338Z"
   },
   {
    "duration": 832,
    "start_time": "2023-03-28T13:25:21.445Z"
   },
   {
    "duration": 950,
    "start_time": "2023-03-28T13:25:22.279Z"
   },
   {
    "duration": 159,
    "start_time": "2023-03-28T13:25:23.230Z"
   },
   {
    "duration": 44,
    "start_time": "2023-03-28T13:25:23.391Z"
   },
   {
    "duration": 21,
    "start_time": "2023-03-28T13:25:23.437Z"
   },
   {
    "duration": 729,
    "start_time": "2023-03-28T13:25:23.462Z"
   },
   {
    "duration": 8,
    "start_time": "2023-03-28T13:25:24.193Z"
   },
   {
    "duration": 152,
    "start_time": "2023-03-28T13:25:24.219Z"
   },
   {
    "duration": 481,
    "start_time": "2023-03-28T13:25:24.373Z"
   },
   {
    "duration": 215,
    "start_time": "2023-03-28T13:25:24.855Z"
   },
   {
    "duration": 19,
    "start_time": "2023-03-28T13:25:26.231Z"
   },
   {
    "duration": 29,
    "start_time": "2023-03-28T13:25:28.386Z"
   },
   {
    "duration": 16,
    "start_time": "2023-03-28T13:25:29.188Z"
   },
   {
    "duration": 1279,
    "start_time": "2023-03-30T04:41:41.640Z"
   },
   {
    "duration": 996,
    "start_time": "2023-03-30T04:41:42.921Z"
   },
   {
    "duration": 111,
    "start_time": "2023-03-30T04:41:43.919Z"
   },
   {
    "duration": 17,
    "start_time": "2023-03-30T04:41:44.033Z"
   },
   {
    "duration": 110,
    "start_time": "2023-03-30T04:41:44.052Z"
   },
   {
    "duration": 701,
    "start_time": "2023-03-30T04:41:44.164Z"
   },
   {
    "duration": 587,
    "start_time": "2023-03-30T04:41:44.866Z"
   },
   {
    "duration": 147,
    "start_time": "2023-03-30T04:41:45.456Z"
   },
   {
    "duration": 122,
    "start_time": "2023-03-30T04:41:45.605Z"
   },
   {
    "duration": 15,
    "start_time": "2023-03-30T04:41:45.730Z"
   },
   {
    "duration": 686,
    "start_time": "2023-03-30T04:41:45.747Z"
   },
   {
    "duration": 7,
    "start_time": "2023-03-30T04:41:46.435Z"
   },
   {
    "duration": 116,
    "start_time": "2023-03-30T04:41:46.444Z"
   },
   {
    "duration": 424,
    "start_time": "2023-03-30T04:41:46.561Z"
   },
   {
    "duration": 199,
    "start_time": "2023-03-30T04:41:46.987Z"
   },
   {
    "duration": 15,
    "start_time": "2023-03-30T04:41:47.188Z"
   },
   {
    "duration": 52,
    "start_time": "2023-03-30T04:41:47.205Z"
   },
   {
    "duration": 1372,
    "start_time": "2023-04-03T05:00:12.625Z"
   },
   {
    "duration": 1084,
    "start_time": "2023-04-03T05:00:13.999Z"
   },
   {
    "duration": 118,
    "start_time": "2023-04-03T05:00:15.085Z"
   },
   {
    "duration": 21,
    "start_time": "2023-04-03T05:00:15.205Z"
   },
   {
    "duration": 107,
    "start_time": "2023-04-03T05:00:15.229Z"
   },
   {
    "duration": 753,
    "start_time": "2023-04-03T05:00:15.337Z"
   },
   {
    "duration": 654,
    "start_time": "2023-04-03T05:00:16.091Z"
   },
   {
    "duration": 252,
    "start_time": "2023-04-03T05:00:16.747Z"
   },
   {
    "duration": 43,
    "start_time": "2023-04-03T05:00:17.001Z"
   },
   {
    "duration": 15,
    "start_time": "2023-04-03T05:00:17.046Z"
   },
   {
    "duration": 699,
    "start_time": "2023-04-03T05:00:17.063Z"
   },
   {
    "duration": 9,
    "start_time": "2023-04-03T05:00:17.764Z"
   },
   {
    "duration": 121,
    "start_time": "2023-04-03T05:00:17.775Z"
   },
   {
    "duration": 472,
    "start_time": "2023-04-03T05:00:17.900Z"
   },
   {
    "duration": 211,
    "start_time": "2023-04-03T05:00:18.374Z"
   },
   {
    "duration": 16,
    "start_time": "2023-04-03T05:00:18.586Z"
   },
   {
    "duration": 53,
    "start_time": "2023-04-03T05:00:18.604Z"
   },
   {
    "duration": 13,
    "start_time": "2023-04-03T05:00:18.659Z"
   },
   {
    "duration": 1378,
    "start_time": "2023-04-04T02:32:15.265Z"
   },
   {
    "duration": 2996,
    "start_time": "2023-04-04T02:32:16.646Z"
   },
   {
    "duration": 148,
    "start_time": "2023-04-04T02:32:19.644Z"
   },
   {
    "duration": 18,
    "start_time": "2023-04-04T02:32:19.794Z"
   },
   {
    "duration": 116,
    "start_time": "2023-04-04T02:32:19.814Z"
   },
   {
    "duration": 816,
    "start_time": "2023-04-04T02:32:19.931Z"
   },
   {
    "duration": 665,
    "start_time": "2023-04-04T02:32:20.749Z"
   },
   {
    "duration": 158,
    "start_time": "2023-04-04T02:32:21.416Z"
   },
   {
    "duration": 117,
    "start_time": "2023-04-04T02:32:21.576Z"
   },
   {
    "duration": 15,
    "start_time": "2023-04-04T02:32:21.696Z"
   },
   {
    "duration": 785,
    "start_time": "2023-04-04T02:32:21.714Z"
   },
   {
    "duration": 11,
    "start_time": "2023-04-04T02:32:22.503Z"
   },
   {
    "duration": 142,
    "start_time": "2023-04-04T02:32:22.517Z"
   },
   {
    "duration": 498,
    "start_time": "2023-04-04T02:32:22.663Z"
   },
   {
    "duration": 224,
    "start_time": "2023-04-04T02:32:23.162Z"
   },
   {
    "duration": 16,
    "start_time": "2023-04-04T02:32:23.387Z"
   },
   {
    "duration": 43,
    "start_time": "2023-04-04T02:32:23.404Z"
   },
   {
    "duration": 12,
    "start_time": "2023-04-04T02:32:23.449Z"
   },
   {
    "duration": 119,
    "start_time": "2023-04-04T02:43:24.068Z"
   },
   {
    "duration": 71,
    "start_time": "2023-04-04T02:43:31.872Z"
   },
   {
    "duration": 144,
    "start_time": "2023-04-04T02:43:38.324Z"
   },
   {
    "duration": 1305,
    "start_time": "2023-04-04T02:45:25.347Z"
   },
   {
    "duration": 1480,
    "start_time": "2023-04-04T02:45:38.735Z"
   },
   {
    "duration": 127,
    "start_time": "2023-04-04T02:46:52.102Z"
   },
   {
    "duration": 8,
    "start_time": "2023-04-04T02:47:21.811Z"
   },
   {
    "duration": 203,
    "start_time": "2023-04-04T02:47:47.768Z"
   },
   {
    "duration": 230,
    "start_time": "2023-04-04T02:47:52.340Z"
   },
   {
    "duration": 313,
    "start_time": "2023-04-04T02:48:04.146Z"
   },
   {
    "duration": 1530,
    "start_time": "2023-04-04T02:48:11.095Z"
   },
   {
    "duration": 15694,
    "start_time": "2023-04-04T02:48:17.685Z"
   },
   {
    "duration": 327,
    "start_time": "2023-04-04T02:48:39.128Z"
   },
   {
    "duration": 404,
    "start_time": "2023-04-04T02:49:48.561Z"
   },
   {
    "duration": 177,
    "start_time": "2023-04-04T02:49:54.043Z"
   },
   {
    "duration": 2824,
    "start_time": "2023-04-04T02:49:57.069Z"
   },
   {
    "duration": 355,
    "start_time": "2023-04-04T03:00:29.619Z"
   },
   {
    "duration": 198,
    "start_time": "2023-04-04T03:00:33.306Z"
   },
   {
    "duration": 36,
    "start_time": "2023-04-04T03:03:24.142Z"
   },
   {
    "duration": 50,
    "start_time": "2023-04-04T03:03:50.283Z"
   },
   {
    "duration": 43,
    "start_time": "2023-04-04T03:03:56.597Z"
   },
   {
    "duration": 19,
    "start_time": "2023-04-04T03:04:33.097Z"
   },
   {
    "duration": 30,
    "start_time": "2023-04-04T03:04:58.209Z"
   },
   {
    "duration": 101,
    "start_time": "2023-04-04T03:05:20.414Z"
   },
   {
    "duration": 70,
    "start_time": "2023-04-04T03:05:27.343Z"
   },
   {
    "duration": 47,
    "start_time": "2023-04-04T03:05:46.557Z"
   },
   {
    "duration": 41,
    "start_time": "2023-04-04T03:05:56.661Z"
   },
   {
    "duration": 37,
    "start_time": "2023-04-04T03:09:33.030Z"
   },
   {
    "duration": 13,
    "start_time": "2023-04-04T03:12:42.462Z"
   },
   {
    "duration": 3842,
    "start_time": "2023-04-04T03:13:08.927Z"
   },
   {
    "duration": 171,
    "start_time": "2023-04-04T03:13:22.808Z"
   },
   {
    "duration": 41,
    "start_time": "2023-04-04T03:15:57.536Z"
   },
   {
    "duration": 260,
    "start_time": "2023-04-04T03:16:33.650Z"
   },
   {
    "duration": 139,
    "start_time": "2023-04-04T03:16:42.341Z"
   },
   {
    "duration": 160,
    "start_time": "2023-04-04T03:16:46.661Z"
   },
   {
    "duration": 4,
    "start_time": "2023-04-04T03:17:35.908Z"
   },
   {
    "duration": 1005,
    "start_time": "2023-04-04T03:17:35.914Z"
   },
   {
    "duration": 152,
    "start_time": "2023-04-04T03:17:36.921Z"
   },
   {
    "duration": 24,
    "start_time": "2023-04-04T03:17:37.075Z"
   },
   {
    "duration": 109,
    "start_time": "2023-04-04T03:17:37.101Z"
   },
   {
    "duration": 963,
    "start_time": "2023-04-04T03:17:37.212Z"
   },
   {
    "duration": 683,
    "start_time": "2023-04-04T03:17:38.177Z"
   },
   {
    "duration": 226,
    "start_time": "2023-04-04T03:17:38.863Z"
   },
   {
    "duration": 34,
    "start_time": "2023-04-04T03:17:39.092Z"
   },
   {
    "duration": 19,
    "start_time": "2023-04-04T03:17:39.128Z"
   },
   {
    "duration": 12,
    "start_time": "2023-04-04T03:19:33.726Z"
   },
   {
    "duration": 31,
    "start_time": "2023-04-04T03:19:40.175Z"
   },
   {
    "duration": 5,
    "start_time": "2023-04-04T03:19:50.466Z"
   },
   {
    "duration": 975,
    "start_time": "2023-04-04T03:19:50.473Z"
   },
   {
    "duration": 143,
    "start_time": "2023-04-04T03:19:51.451Z"
   },
   {
    "duration": 22,
    "start_time": "2023-04-04T03:19:51.596Z"
   },
   {
    "duration": 157,
    "start_time": "2023-04-04T03:19:51.621Z"
   },
   {
    "duration": 801,
    "start_time": "2023-04-04T03:19:51.780Z"
   },
   {
    "duration": 830,
    "start_time": "2023-04-04T03:19:52.583Z"
   },
   {
    "duration": 160,
    "start_time": "2023-04-04T03:19:53.415Z"
   },
   {
    "duration": 39,
    "start_time": "2023-04-04T03:19:53.577Z"
   },
   {
    "duration": 20,
    "start_time": "2023-04-04T03:19:53.619Z"
   },
   {
    "duration": 16,
    "start_time": "2023-04-04T03:19:53.644Z"
   },
   {
    "duration": 52,
    "start_time": "2023-04-04T03:19:53.662Z"
   },
   {
    "duration": 125,
    "start_time": "2023-04-04T03:19:53.716Z"
   },
   {
    "duration": 7,
    "start_time": "2023-04-04T03:19:53.843Z"
   },
   {
    "duration": 1586,
    "start_time": "2023-04-04T03:19:53.852Z"
   },
   {
    "duration": 434,
    "start_time": "2023-04-04T03:19:55.441Z"
   },
   {
    "duration": 13,
    "start_time": "2023-04-04T03:19:55.877Z"
   },
   {
    "duration": 27,
    "start_time": "2023-04-04T03:19:55.892Z"
   },
   {
    "duration": 7,
    "start_time": "2023-04-04T03:19:55.921Z"
   },
   {
    "duration": 8,
    "start_time": "2023-04-04T03:19:55.930Z"
   },
   {
    "duration": 47,
    "start_time": "2023-04-04T03:19:55.940Z"
   },
   {
    "duration": 35,
    "start_time": "2023-04-04T03:19:55.991Z"
   },
   {
    "duration": 22,
    "start_time": "2023-04-04T03:19:56.029Z"
   },
   {
    "duration": 36,
    "start_time": "2023-04-04T03:19:56.053Z"
   },
   {
    "duration": 13,
    "start_time": "2023-04-04T03:19:56.091Z"
   },
   {
    "duration": 222,
    "start_time": "2023-04-04T03:19:56.106Z"
   },
   {
    "duration": 7,
    "start_time": "2023-04-04T03:19:56.331Z"
   },
   {
    "duration": 35,
    "start_time": "2023-04-04T03:19:56.340Z"
   },
   {
    "duration": 17,
    "start_time": "2023-04-04T03:19:56.387Z"
   },
   {
    "duration": 4,
    "start_time": "2023-04-04T03:20:02.967Z"
   },
   {
    "duration": 827,
    "start_time": "2023-04-04T03:20:02.974Z"
   },
   {
    "duration": 145,
    "start_time": "2023-04-04T03:20:03.803Z"
   },
   {
    "duration": 14,
    "start_time": "2023-04-04T03:20:03.951Z"
   },
   {
    "duration": 132,
    "start_time": "2023-04-04T03:20:03.967Z"
   },
   {
    "duration": 809,
    "start_time": "2023-04-04T03:20:04.102Z"
   },
   {
    "duration": 688,
    "start_time": "2023-04-04T03:20:04.913Z"
   },
   {
    "duration": 378,
    "start_time": "2023-04-04T03:20:05.606Z"
   },
   {
    "duration": 34,
    "start_time": "2023-04-04T03:20:05.988Z"
   },
   {
    "duration": 20,
    "start_time": "2023-04-04T03:20:06.024Z"
   },
   {
    "duration": 60,
    "start_time": "2023-04-04T03:20:14.688Z"
   },
   {
    "duration": 255,
    "start_time": "2023-04-04T03:20:15.526Z"
   },
   {
    "duration": 5,
    "start_time": "2023-04-04T03:20:28.243Z"
   },
   {
    "duration": 1179,
    "start_time": "2023-04-04T03:20:28.250Z"
   },
   {
    "duration": 277,
    "start_time": "2023-04-04T03:20:29.432Z"
   },
   {
    "duration": 24,
    "start_time": "2023-04-04T03:20:29.711Z"
   },
   {
    "duration": 123,
    "start_time": "2023-04-04T03:20:29.738Z"
   },
   {
    "duration": 801,
    "start_time": "2023-04-04T03:20:29.871Z"
   },
   {
    "duration": 900,
    "start_time": "2023-04-04T03:20:30.675Z"
   },
   {
    "duration": 195,
    "start_time": "2023-04-04T03:20:31.577Z"
   },
   {
    "duration": 48,
    "start_time": "2023-04-04T03:20:31.775Z"
   },
   {
    "duration": 30,
    "start_time": "2023-04-04T03:20:31.825Z"
   },
   {
    "duration": 90,
    "start_time": "2023-04-04T03:20:31.857Z"
   },
   {
    "duration": 197,
    "start_time": "2023-04-04T03:20:31.949Z"
   },
   {
    "duration": 10,
    "start_time": "2023-04-04T03:20:32.148Z"
   },
   {
    "duration": 2195,
    "start_time": "2023-04-04T03:20:32.164Z"
   },
   {
    "duration": 886,
    "start_time": "2023-04-04T03:20:34.361Z"
   },
   {
    "duration": 11,
    "start_time": "2023-04-04T03:20:35.249Z"
   },
   {
    "duration": 303,
    "start_time": "2023-04-04T03:20:35.261Z"
   },
   {
    "duration": 23,
    "start_time": "2023-04-04T03:20:35.567Z"
   },
   {
    "duration": 36,
    "start_time": "2023-04-04T03:20:35.591Z"
   },
   {
    "duration": 17,
    "start_time": "2023-04-04T03:20:35.630Z"
   },
   {
    "duration": 398,
    "start_time": "2023-04-04T03:20:35.649Z"
   },
   {
    "duration": 320,
    "start_time": "2023-04-04T03:20:36.049Z"
   },
   {
    "duration": 127,
    "start_time": "2023-04-04T03:20:36.371Z"
   },
   {
    "duration": 23,
    "start_time": "2023-04-04T03:20:36.500Z"
   },
   {
    "duration": 3661,
    "start_time": "2023-04-04T03:20:36.525Z"
   },
   {
    "duration": 24,
    "start_time": "2023-04-04T03:20:40.188Z"
   },
   {
    "duration": 145,
    "start_time": "2023-04-04T03:20:40.214Z"
   },
   {
    "duration": 144,
    "start_time": "2023-04-04T03:20:40.366Z"
   },
   {
    "duration": 1275,
    "start_time": "2023-04-04T09:52:32.522Z"
   },
   {
    "duration": 1105,
    "start_time": "2023-04-04T09:52:33.799Z"
   },
   {
    "duration": 137,
    "start_time": "2023-04-04T09:52:34.906Z"
   },
   {
    "duration": 22,
    "start_time": "2023-04-04T09:52:35.046Z"
   },
   {
    "duration": 96,
    "start_time": "2023-04-04T09:52:35.071Z"
   },
   {
    "duration": 724,
    "start_time": "2023-04-04T09:52:35.170Z"
   },
   {
    "duration": 601,
    "start_time": "2023-04-04T09:52:35.897Z"
   },
   {
    "duration": 147,
    "start_time": "2023-04-04T09:52:36.500Z"
   },
   {
    "duration": 114,
    "start_time": "2023-04-04T09:52:36.649Z"
   },
   {
    "duration": 15,
    "start_time": "2023-04-04T09:52:36.765Z"
   },
   {
    "duration": 46,
    "start_time": "2023-04-04T09:52:36.782Z"
   },
   {
    "duration": 150,
    "start_time": "2023-04-04T09:52:36.830Z"
   },
   {
    "duration": 11,
    "start_time": "2023-04-04T09:52:36.982Z"
   },
   {
    "duration": 1360,
    "start_time": "2023-04-04T09:52:36.996Z"
   },
   {
    "duration": 655,
    "start_time": "2023-04-04T09:52:38.362Z"
   },
   {
    "duration": 8,
    "start_time": "2023-04-04T09:52:39.019Z"
   },
   {
    "duration": 206,
    "start_time": "2023-04-04T09:52:39.028Z"
   },
   {
    "duration": 14,
    "start_time": "2023-04-04T09:52:39.235Z"
   },
   {
    "duration": 50,
    "start_time": "2023-04-04T09:52:39.250Z"
   },
   {
    "duration": 11,
    "start_time": "2023-04-04T09:52:39.302Z"
   },
   {
    "duration": 278,
    "start_time": "2023-04-04T09:52:39.315Z"
   },
   {
    "duration": 277,
    "start_time": "2023-04-04T09:52:39.595Z"
   },
   {
    "duration": 98,
    "start_time": "2023-04-04T09:52:39.873Z"
   },
   {
    "duration": 17,
    "start_time": "2023-04-04T09:52:39.972Z"
   },
   {
    "duration": 2958,
    "start_time": "2023-04-04T09:52:39.991Z"
   },
   {
    "duration": 21,
    "start_time": "2023-04-04T09:52:42.950Z"
   },
   {
    "duration": 124,
    "start_time": "2023-04-04T09:52:42.972Z"
   },
   {
    "duration": 74,
    "start_time": "2023-04-04T09:52:43.097Z"
   },
   {
    "duration": 267,
    "start_time": "2023-04-04T09:54:21.252Z"
   },
   {
    "duration": 191,
    "start_time": "2023-04-04T10:47:24.403Z"
   },
   {
    "duration": 227,
    "start_time": "2023-04-04T10:47:58.826Z"
   },
   {
    "duration": 4,
    "start_time": "2023-04-04T10:48:06.005Z"
   },
   {
    "duration": 858,
    "start_time": "2023-04-04T10:48:06.010Z"
   },
   {
    "duration": 144,
    "start_time": "2023-04-04T10:48:06.874Z"
   },
   {
    "duration": 14,
    "start_time": "2023-04-04T10:48:07.020Z"
   },
   {
    "duration": 104,
    "start_time": "2023-04-04T10:48:07.037Z"
   },
   {
    "duration": 842,
    "start_time": "2023-04-04T10:48:07.143Z"
   },
   {
    "duration": 804,
    "start_time": "2023-04-04T10:48:07.988Z"
   },
   {
    "duration": 157,
    "start_time": "2023-04-04T10:48:08.794Z"
   },
   {
    "duration": 45,
    "start_time": "2023-04-04T10:48:08.952Z"
   },
   {
    "duration": 13,
    "start_time": "2023-04-04T10:48:08.999Z"
   },
   {
    "duration": 68,
    "start_time": "2023-04-04T10:48:09.014Z"
   },
   {
    "duration": 126,
    "start_time": "2023-04-04T10:48:09.084Z"
   },
   {
    "duration": 9,
    "start_time": "2023-04-04T10:48:09.212Z"
   },
   {
    "duration": 1462,
    "start_time": "2023-04-04T10:48:09.223Z"
   },
   {
    "duration": 683,
    "start_time": "2023-04-04T10:48:10.687Z"
   },
   {
    "duration": 10,
    "start_time": "2023-04-04T10:48:11.376Z"
   },
   {
    "duration": 191,
    "start_time": "2023-04-04T10:48:11.387Z"
   },
   {
    "duration": 23,
    "start_time": "2023-04-04T10:48:11.580Z"
   },
   {
    "duration": 32,
    "start_time": "2023-04-04T10:48:11.605Z"
   },
   {
    "duration": 15,
    "start_time": "2023-04-04T10:48:11.639Z"
   },
   {
    "duration": 292,
    "start_time": "2023-04-04T10:48:11.662Z"
   },
   {
    "duration": 302,
    "start_time": "2023-04-04T10:48:11.956Z"
   },
   {
    "duration": 121,
    "start_time": "2023-04-04T10:48:12.260Z"
   },
   {
    "duration": 30,
    "start_time": "2023-04-04T10:48:12.384Z"
   },
   {
    "duration": 3517,
    "start_time": "2023-04-04T10:48:12.416Z"
   },
   {
    "duration": 27,
    "start_time": "2023-04-04T10:48:15.935Z"
   },
   {
    "duration": 138,
    "start_time": "2023-04-04T10:48:15.964Z"
   },
   {
    "duration": 82,
    "start_time": "2023-04-04T10:48:16.104Z"
   },
   {
    "duration": 204,
    "start_time": "2023-04-04T10:48:18.828Z"
   },
   {
    "duration": 222,
    "start_time": "2023-04-04T10:54:07.928Z"
   },
   {
    "duration": 132,
    "start_time": "2023-04-04T11:01:48.546Z"
   },
   {
    "duration": 37,
    "start_time": "2023-04-04T11:02:03.962Z"
   },
   {
    "duration": 19,
    "start_time": "2023-04-04T11:02:17.718Z"
   },
   {
    "duration": 20,
    "start_time": "2023-04-04T11:02:20.678Z"
   },
   {
    "duration": 59,
    "start_time": "2023-04-04T11:11:19.873Z"
   },
   {
    "duration": 16,
    "start_time": "2023-04-04T11:12:49.692Z"
   },
   {
    "duration": 3,
    "start_time": "2023-04-04T11:14:54.613Z"
   },
   {
    "duration": 92,
    "start_time": "2023-04-04T11:16:53.110Z"
   },
   {
    "duration": 3,
    "start_time": "2023-04-04T11:18:38.118Z"
   },
   {
    "duration": 4,
    "start_time": "2023-04-04T11:19:26.294Z"
   },
   {
    "duration": 870,
    "start_time": "2023-04-04T11:19:26.300Z"
   },
   {
    "duration": 182,
    "start_time": "2023-04-04T11:19:27.177Z"
   },
   {
    "duration": 32,
    "start_time": "2023-04-04T11:19:27.361Z"
   },
   {
    "duration": 97,
    "start_time": "2023-04-04T11:19:27.395Z"
   },
   {
    "duration": 741,
    "start_time": "2023-04-04T11:19:27.494Z"
   },
   {
    "duration": 857,
    "start_time": "2023-04-04T11:19:28.237Z"
   },
   {
    "duration": 156,
    "start_time": "2023-04-04T11:19:29.096Z"
   },
   {
    "duration": 45,
    "start_time": "2023-04-04T11:19:29.253Z"
   },
   {
    "duration": 21,
    "start_time": "2023-04-04T11:19:29.300Z"
   },
   {
    "duration": 60,
    "start_time": "2023-04-04T11:19:29.323Z"
   },
   {
    "duration": 146,
    "start_time": "2023-04-04T11:19:29.387Z"
   },
   {
    "duration": 9,
    "start_time": "2023-04-04T11:19:29.535Z"
   },
   {
    "duration": 1533,
    "start_time": "2023-04-04T11:19:29.546Z"
   },
   {
    "duration": 668,
    "start_time": "2023-04-04T11:19:31.084Z"
   },
   {
    "duration": 18,
    "start_time": "2023-04-04T11:19:31.754Z"
   },
   {
    "duration": 215,
    "start_time": "2023-04-04T11:19:31.773Z"
   },
   {
    "duration": 13,
    "start_time": "2023-04-04T11:19:31.992Z"
   },
   {
    "duration": 41,
    "start_time": "2023-04-04T11:19:32.007Z"
   },
   {
    "duration": 15,
    "start_time": "2023-04-04T11:19:32.050Z"
   },
   {
    "duration": 278,
    "start_time": "2023-04-04T11:19:32.070Z"
   },
   {
    "duration": 314,
    "start_time": "2023-04-04T11:19:32.350Z"
   },
   {
    "duration": 123,
    "start_time": "2023-04-04T11:19:32.671Z"
   },
   {
    "duration": 18,
    "start_time": "2023-04-04T11:19:32.796Z"
   },
   {
    "duration": 3610,
    "start_time": "2023-04-04T11:19:32.816Z"
   },
   {
    "duration": 26,
    "start_time": "2023-04-04T11:19:36.427Z"
   },
   {
    "duration": 157,
    "start_time": "2023-04-04T11:19:36.466Z"
   },
   {
    "duration": 10,
    "start_time": "2023-04-04T11:19:38.802Z"
   },
   {
    "duration": 12,
    "start_time": "2023-04-04T11:20:36.158Z"
   },
   {
    "duration": 4,
    "start_time": "2023-04-04T11:20:44.622Z"
   },
   {
    "duration": 12,
    "start_time": "2023-04-04T11:20:47.795Z"
   },
   {
    "duration": 4,
    "start_time": "2023-04-04T11:22:14.197Z"
   },
   {
    "duration": 878,
    "start_time": "2023-04-04T11:22:14.204Z"
   },
   {
    "duration": 151,
    "start_time": "2023-04-04T11:22:15.086Z"
   },
   {
    "duration": 13,
    "start_time": "2023-04-04T11:22:15.239Z"
   },
   {
    "duration": 97,
    "start_time": "2023-04-04T11:22:15.262Z"
   },
   {
    "duration": 765,
    "start_time": "2023-04-04T11:22:15.360Z"
   },
   {
    "duration": 648,
    "start_time": "2023-04-04T11:22:16.126Z"
   },
   {
    "duration": 324,
    "start_time": "2023-04-04T11:22:16.778Z"
   },
   {
    "duration": 33,
    "start_time": "2023-04-04T11:22:17.104Z"
   },
   {
    "duration": 32,
    "start_time": "2023-04-04T11:22:17.138Z"
   },
   {
    "duration": 41,
    "start_time": "2023-04-04T11:22:17.172Z"
   },
   {
    "duration": 170,
    "start_time": "2023-04-04T11:22:17.214Z"
   },
   {
    "duration": 12,
    "start_time": "2023-04-04T11:22:17.386Z"
   },
   {
    "duration": 1524,
    "start_time": "2023-04-04T11:22:17.400Z"
   },
   {
    "duration": 677,
    "start_time": "2023-04-04T11:22:18.926Z"
   },
   {
    "duration": 8,
    "start_time": "2023-04-04T11:22:19.604Z"
   },
   {
    "duration": 221,
    "start_time": "2023-04-04T11:22:19.613Z"
   },
   {
    "duration": 12,
    "start_time": "2023-04-04T11:22:19.835Z"
   },
   {
    "duration": 45,
    "start_time": "2023-04-04T11:22:19.849Z"
   },
   {
    "duration": 12,
    "start_time": "2023-04-04T11:22:19.896Z"
   },
   {
    "duration": 290,
    "start_time": "2023-04-04T11:22:19.910Z"
   },
   {
    "duration": 304,
    "start_time": "2023-04-04T11:22:20.202Z"
   },
   {
    "duration": 110,
    "start_time": "2023-04-04T11:22:20.507Z"
   },
   {
    "duration": 17,
    "start_time": "2023-04-04T11:22:20.620Z"
   },
   {
    "duration": 3479,
    "start_time": "2023-04-04T11:22:20.638Z"
   },
   {
    "duration": 23,
    "start_time": "2023-04-04T11:22:24.118Z"
   },
   {
    "duration": 9,
    "start_time": "2023-04-04T11:22:30.446Z"
   },
   {
    "duration": 147,
    "start_time": "2023-04-04T11:22:42.543Z"
   },
   {
    "duration": 87,
    "start_time": "2023-04-04T11:22:44.630Z"
   },
   {
    "duration": 258,
    "start_time": "2023-04-04T11:22:52.693Z"
   },
   {
    "duration": 26,
    "start_time": "2023-04-04T11:22:55.953Z"
   },
   {
    "duration": 3,
    "start_time": "2023-04-04T11:22:57.822Z"
   },
   {
    "duration": 3,
    "start_time": "2023-04-04T11:24:13.212Z"
   },
   {
    "duration": 255,
    "start_time": "2023-04-04T11:25:47.488Z"
   },
   {
    "duration": 26,
    "start_time": "2023-04-04T11:25:48.851Z"
   },
   {
    "duration": 3,
    "start_time": "2023-04-04T11:25:49.616Z"
   },
   {
    "duration": 206442,
    "start_time": "2023-04-04T11:26:06.262Z"
   },
   {
    "duration": 23,
    "start_time": "2023-04-04T11:29:54.684Z"
   },
   {
    "duration": 11,
    "start_time": "2023-04-04T11:30:12.629Z"
   },
   {
    "duration": 30395,
    "start_time": "2023-04-04T11:31:47.850Z"
   },
   {
    "duration": 4,
    "start_time": "2023-04-04T11:32:36.705Z"
   },
   {
    "duration": 902,
    "start_time": "2023-04-04T11:32:36.710Z"
   },
   {
    "duration": 153,
    "start_time": "2023-04-04T11:32:37.613Z"
   },
   {
    "duration": 17,
    "start_time": "2023-04-04T11:32:37.774Z"
   },
   {
    "duration": 97,
    "start_time": "2023-04-04T11:32:37.794Z"
   },
   {
    "duration": 755,
    "start_time": "2023-04-04T11:32:37.893Z"
   },
   {
    "duration": 666,
    "start_time": "2023-04-04T11:32:38.650Z"
   },
   {
    "duration": 158,
    "start_time": "2023-04-04T11:32:39.317Z"
   },
   {
    "duration": 34,
    "start_time": "2023-04-04T11:32:39.477Z"
   },
   {
    "duration": 14,
    "start_time": "2023-04-04T11:32:39.512Z"
   },
   {
    "duration": 60,
    "start_time": "2023-04-04T11:32:39.528Z"
   },
   {
    "duration": 341,
    "start_time": "2023-04-04T11:32:39.591Z"
   },
   {
    "duration": 9,
    "start_time": "2023-04-04T11:32:39.935Z"
   },
   {
    "duration": 1553,
    "start_time": "2023-04-04T11:32:39.945Z"
   },
   {
    "duration": 691,
    "start_time": "2023-04-04T11:32:41.500Z"
   },
   {
    "duration": 9,
    "start_time": "2023-04-04T11:32:42.195Z"
   },
   {
    "duration": 169,
    "start_time": "2023-04-04T11:32:42.206Z"
   },
   {
    "duration": 20,
    "start_time": "2023-04-04T11:32:42.382Z"
   },
   {
    "duration": 26,
    "start_time": "2023-04-04T11:32:42.404Z"
   },
   {
    "duration": 13,
    "start_time": "2023-04-04T11:32:42.432Z"
   },
   {
    "duration": 303,
    "start_time": "2023-04-04T11:32:42.447Z"
   },
   {
    "duration": 334,
    "start_time": "2023-04-04T11:32:42.751Z"
   },
   {
    "duration": 121,
    "start_time": "2023-04-04T11:32:43.086Z"
   },
   {
    "duration": 26,
    "start_time": "2023-04-04T11:32:43.209Z"
   },
   {
    "duration": 3615,
    "start_time": "2023-04-04T11:32:43.236Z"
   },
   {
    "duration": 34,
    "start_time": "2023-04-04T11:32:46.853Z"
   },
   {
    "duration": 138,
    "start_time": "2023-04-04T11:32:46.891Z"
   },
   {
    "duration": 89,
    "start_time": "2023-04-04T11:32:47.031Z"
   },
   {
    "duration": 4,
    "start_time": "2023-04-04T11:32:47.122Z"
   },
   {
    "duration": 295,
    "start_time": "2023-04-04T11:32:47.128Z"
   },
   {
    "duration": 24,
    "start_time": "2023-04-04T11:32:47.425Z"
   },
   {
    "duration": 9,
    "start_time": "2023-04-04T11:32:47.465Z"
   },
   {
    "duration": 0,
    "start_time": "2023-04-04T11:34:03.401Z"
   },
   {
    "duration": 0,
    "start_time": "2023-04-04T11:34:03.402Z"
   },
   {
    "duration": 0,
    "start_time": "2023-04-04T11:34:03.403Z"
   },
   {
    "duration": 0,
    "start_time": "2023-04-04T11:34:03.404Z"
   },
   {
    "duration": 0,
    "start_time": "2023-04-04T11:34:03.405Z"
   },
   {
    "duration": 0,
    "start_time": "2023-04-04T11:34:03.406Z"
   },
   {
    "duration": 0,
    "start_time": "2023-04-04T11:34:03.408Z"
   },
   {
    "duration": 0,
    "start_time": "2023-04-04T11:34:03.409Z"
   },
   {
    "duration": 1,
    "start_time": "2023-04-04T11:34:03.410Z"
   },
   {
    "duration": 0,
    "start_time": "2023-04-04T11:34:03.412Z"
   },
   {
    "duration": 0,
    "start_time": "2023-04-04T11:34:03.413Z"
   },
   {
    "duration": 0,
    "start_time": "2023-04-04T11:34:03.417Z"
   },
   {
    "duration": 0,
    "start_time": "2023-04-04T11:34:03.418Z"
   },
   {
    "duration": 0,
    "start_time": "2023-04-04T11:34:03.419Z"
   },
   {
    "duration": 0,
    "start_time": "2023-04-04T11:34:03.421Z"
   },
   {
    "duration": 0,
    "start_time": "2023-04-04T11:34:03.422Z"
   },
   {
    "duration": 0,
    "start_time": "2023-04-04T11:34:03.429Z"
   },
   {
    "duration": 0,
    "start_time": "2023-04-04T11:34:03.429Z"
   },
   {
    "duration": 0,
    "start_time": "2023-04-04T11:34:03.430Z"
   },
   {
    "duration": 0,
    "start_time": "2023-04-04T11:34:03.431Z"
   },
   {
    "duration": 1,
    "start_time": "2023-04-04T11:34:03.431Z"
   },
   {
    "duration": 0,
    "start_time": "2023-04-04T11:34:03.463Z"
   },
   {
    "duration": 0,
    "start_time": "2023-04-04T11:34:03.464Z"
   },
   {
    "duration": 0,
    "start_time": "2023-04-04T11:34:03.465Z"
   },
   {
    "duration": 0,
    "start_time": "2023-04-04T11:34:03.465Z"
   },
   {
    "duration": 0,
    "start_time": "2023-04-04T11:34:03.466Z"
   },
   {
    "duration": 0,
    "start_time": "2023-04-04T11:34:03.467Z"
   },
   {
    "duration": 0,
    "start_time": "2023-04-04T11:34:03.472Z"
   },
   {
    "duration": 0,
    "start_time": "2023-04-04T11:34:03.472Z"
   },
   {
    "duration": 0,
    "start_time": "2023-04-04T11:34:03.473Z"
   },
   {
    "duration": 0,
    "start_time": "2023-04-04T11:34:03.474Z"
   },
   {
    "duration": 4,
    "start_time": "2023-04-04T11:34:13.986Z"
   },
   {
    "duration": 5,
    "start_time": "2023-04-04T11:34:20.039Z"
   },
   {
    "duration": 879,
    "start_time": "2023-04-04T11:34:20.046Z"
   },
   {
    "duration": 173,
    "start_time": "2023-04-04T11:34:20.927Z"
   },
   {
    "duration": 14,
    "start_time": "2023-04-04T11:34:21.101Z"
   },
   {
    "duration": 113,
    "start_time": "2023-04-04T11:34:21.118Z"
   },
   {
    "duration": 780,
    "start_time": "2023-04-04T11:34:21.233Z"
   },
   {
    "duration": 683,
    "start_time": "2023-04-04T11:34:22.014Z"
   },
   {
    "duration": 172,
    "start_time": "2023-04-04T11:34:22.699Z"
   },
   {
    "duration": 48,
    "start_time": "2023-04-04T11:34:22.881Z"
   },
   {
    "duration": 14,
    "start_time": "2023-04-04T11:34:22.931Z"
   },
   {
    "duration": 52,
    "start_time": "2023-04-04T11:34:22.947Z"
   },
   {
    "duration": 373,
    "start_time": "2023-04-04T11:34:23.001Z"
   },
   {
    "duration": 12,
    "start_time": "2023-04-04T11:34:23.376Z"
   },
   {
    "duration": 1656,
    "start_time": "2023-04-04T11:34:23.391Z"
   },
   {
    "duration": 775,
    "start_time": "2023-04-04T11:34:25.049Z"
   },
   {
    "duration": 8,
    "start_time": "2023-04-04T11:34:25.826Z"
   },
   {
    "duration": 260,
    "start_time": "2023-04-04T11:34:25.836Z"
   },
   {
    "duration": 17,
    "start_time": "2023-04-04T11:34:26.100Z"
   },
   {
    "duration": 28,
    "start_time": "2023-04-04T11:34:26.120Z"
   },
   {
    "duration": 33,
    "start_time": "2023-04-04T11:34:26.150Z"
   },
   {
    "duration": 340,
    "start_time": "2023-04-04T11:34:26.186Z"
   },
   {
    "duration": 346,
    "start_time": "2023-04-04T11:34:26.528Z"
   },
   {
    "duration": 136,
    "start_time": "2023-04-04T11:34:26.878Z"
   },
   {
    "duration": 20,
    "start_time": "2023-04-04T11:34:27.015Z"
   },
   {
    "duration": 3816,
    "start_time": "2023-04-04T11:34:27.037Z"
   },
   {
    "duration": 39,
    "start_time": "2023-04-04T11:34:30.855Z"
   },
   {
    "duration": 151,
    "start_time": "2023-04-04T11:34:30.896Z"
   },
   {
    "duration": 131,
    "start_time": "2023-04-04T11:34:31.049Z"
   },
   {
    "duration": 17,
    "start_time": "2023-04-04T11:34:31.185Z"
   },
   {
    "duration": 323,
    "start_time": "2023-04-04T11:34:31.204Z"
   },
   {
    "duration": 20,
    "start_time": "2023-04-04T11:34:31.529Z"
   },
   {
    "duration": 4,
    "start_time": "2023-04-04T11:34:45.755Z"
   },
   {
    "duration": 68666,
    "start_time": "2023-04-04T11:34:48.959Z"
   },
   {
    "duration": 34,
    "start_time": "2023-04-04T11:40:00.803Z"
   },
   {
    "duration": 41256,
    "start_time": "2023-04-04T11:41:17.850Z"
   },
   {
    "duration": 40459,
    "start_time": "2023-04-04T11:42:15.063Z"
   },
   {
    "duration": 146784,
    "start_time": "2023-04-04T11:45:47.696Z"
   },
   {
    "duration": 1435,
    "start_time": "2023-04-04T11:52:07.315Z"
   },
   {
    "duration": 12,
    "start_time": "2023-04-04T11:53:27.509Z"
   },
   {
    "duration": 5,
    "start_time": "2023-04-04T11:53:50.141Z"
   },
   {
    "duration": 1348,
    "start_time": "2023-04-04T12:00:23.148Z"
   },
   {
    "duration": 1437,
    "start_time": "2023-04-04T12:00:58.720Z"
   },
   {
    "duration": 73,
    "start_time": "2023-04-04T12:05:51.742Z"
   },
   {
    "duration": 84,
    "start_time": "2023-04-04T12:06:11.896Z"
   },
   {
    "duration": 323,
    "start_time": "2023-04-04T12:06:20.117Z"
   },
   {
    "duration": 5,
    "start_time": "2023-04-04T12:12:13.197Z"
   },
   {
    "duration": 1103,
    "start_time": "2023-04-04T12:13:49.315Z"
   },
   {
    "duration": 129,
    "start_time": "2023-04-04T12:14:57.408Z"
   },
   {
    "duration": 233,
    "start_time": "2023-04-04T12:15:34.997Z"
   },
   {
    "duration": 10,
    "start_time": "2023-04-04T12:17:17.223Z"
   },
   {
    "duration": 12,
    "start_time": "2023-04-04T12:17:52.003Z"
   },
   {
    "duration": 11,
    "start_time": "2023-04-04T12:18:15.447Z"
   },
   {
    "duration": 4,
    "start_time": "2023-04-04T12:18:20.095Z"
   },
   {
    "duration": 895,
    "start_time": "2023-04-04T12:18:20.101Z"
   },
   {
    "duration": 149,
    "start_time": "2023-04-04T12:18:20.997Z"
   },
   {
    "duration": 29,
    "start_time": "2023-04-04T12:18:21.148Z"
   },
   {
    "duration": 104,
    "start_time": "2023-04-04T12:18:21.180Z"
   },
   {
    "duration": 811,
    "start_time": "2023-04-04T12:18:21.288Z"
   },
   {
    "duration": 688,
    "start_time": "2023-04-04T12:18:22.101Z"
   },
   {
    "duration": 152,
    "start_time": "2023-04-04T12:18:22.795Z"
   },
   {
    "duration": 45,
    "start_time": "2023-04-04T12:18:22.949Z"
   },
   {
    "duration": 15,
    "start_time": "2023-04-04T12:18:22.995Z"
   },
   {
    "duration": 60,
    "start_time": "2023-04-04T12:18:23.012Z"
   },
   {
    "duration": 141,
    "start_time": "2023-04-04T12:18:23.073Z"
   },
   {
    "duration": 8,
    "start_time": "2023-04-04T12:18:23.216Z"
   },
   {
    "duration": 1768,
    "start_time": "2023-04-04T12:18:23.228Z"
   },
   {
    "duration": 914,
    "start_time": "2023-04-04T12:18:24.998Z"
   },
   {
    "duration": 7,
    "start_time": "2023-04-04T12:18:25.914Z"
   },
   {
    "duration": 224,
    "start_time": "2023-04-04T12:18:25.923Z"
   },
   {
    "duration": 35,
    "start_time": "2023-04-04T12:18:26.149Z"
   },
   {
    "duration": 34,
    "start_time": "2023-04-04T12:18:26.194Z"
   },
   {
    "duration": 17,
    "start_time": "2023-04-04T12:18:26.231Z"
   },
   {
    "duration": 296,
    "start_time": "2023-04-04T12:18:26.249Z"
   },
   {
    "duration": 337,
    "start_time": "2023-04-04T12:18:26.547Z"
   },
   {
    "duration": 116,
    "start_time": "2023-04-04T12:18:26.890Z"
   },
   {
    "duration": 18,
    "start_time": "2023-04-04T12:18:27.007Z"
   },
   {
    "duration": 3777,
    "start_time": "2023-04-04T12:18:27.027Z"
   },
   {
    "duration": 22,
    "start_time": "2023-04-04T12:18:30.806Z"
   },
   {
    "duration": 11,
    "start_time": "2023-04-04T12:18:33.725Z"
   },
   {
    "duration": 136,
    "start_time": "2023-04-04T12:18:45.992Z"
   },
   {
    "duration": 186,
    "start_time": "2023-04-04T12:18:52.798Z"
   },
   {
    "duration": 1182,
    "start_time": "2023-04-04T12:19:03.592Z"
   },
   {
    "duration": 148,
    "start_time": "2023-04-04T12:19:04.892Z"
   },
   {
    "duration": 215,
    "start_time": "2023-04-04T12:19:05.805Z"
   },
   {
    "duration": 48,
    "start_time": "2023-04-04T12:19:29.249Z"
   },
   {
    "duration": 9,
    "start_time": "2023-04-04T12:20:02.873Z"
   },
   {
    "duration": 1018,
    "start_time": "2023-04-04T12:20:02.884Z"
   },
   {
    "duration": 160,
    "start_time": "2023-04-04T12:20:03.905Z"
   },
   {
    "duration": 20,
    "start_time": "2023-04-04T12:20:04.071Z"
   },
   {
    "duration": 116,
    "start_time": "2023-04-04T12:20:04.093Z"
   },
   {
    "duration": 919,
    "start_time": "2023-04-04T12:20:04.211Z"
   },
   {
    "duration": 753,
    "start_time": "2023-04-04T12:20:05.132Z"
   },
   {
    "duration": 182,
    "start_time": "2023-04-04T12:20:05.889Z"
   },
   {
    "duration": 41,
    "start_time": "2023-04-04T12:20:06.074Z"
   },
   {
    "duration": 16,
    "start_time": "2023-04-04T12:20:06.117Z"
   },
   {
    "duration": 72,
    "start_time": "2023-04-04T12:20:06.136Z"
   },
   {
    "duration": 130,
    "start_time": "2023-04-04T12:20:06.210Z"
   },
   {
    "duration": 8,
    "start_time": "2023-04-04T12:20:06.342Z"
   },
   {
    "duration": 1606,
    "start_time": "2023-04-04T12:20:06.352Z"
   },
   {
    "duration": 731,
    "start_time": "2023-04-04T12:20:07.962Z"
   },
   {
    "duration": 12,
    "start_time": "2023-04-04T12:20:08.696Z"
   },
   {
    "duration": 209,
    "start_time": "2023-04-04T12:20:08.709Z"
   },
   {
    "duration": 16,
    "start_time": "2023-04-04T12:20:08.921Z"
   },
   {
    "duration": 58,
    "start_time": "2023-04-04T12:20:08.939Z"
   },
   {
    "duration": 14,
    "start_time": "2023-04-04T12:20:08.999Z"
   },
   {
    "duration": 312,
    "start_time": "2023-04-04T12:20:09.015Z"
   },
   {
    "duration": 362,
    "start_time": "2023-04-04T12:20:09.329Z"
   },
   {
    "duration": 117,
    "start_time": "2023-04-04T12:20:09.694Z"
   },
   {
    "duration": 19,
    "start_time": "2023-04-04T12:20:09.813Z"
   },
   {
    "duration": 3983,
    "start_time": "2023-04-04T12:20:09.834Z"
   },
   {
    "duration": 21,
    "start_time": "2023-04-04T12:20:13.819Z"
   },
   {
    "duration": 150,
    "start_time": "2023-04-04T12:20:13.842Z"
   },
   {
    "duration": 176,
    "start_time": "2023-04-04T12:20:13.994Z"
   },
   {
    "duration": 97,
    "start_time": "2023-04-04T12:20:14.177Z"
   },
   {
    "duration": 8,
    "start_time": "2023-04-04T12:20:14.277Z"
   },
   {
    "duration": 130,
    "start_time": "2023-04-04T12:20:14.286Z"
   },
   {
    "duration": 309,
    "start_time": "2023-04-04T12:20:14.418Z"
   },
   {
    "duration": 20,
    "start_time": "2023-04-04T12:20:18.114Z"
   },
   {
    "duration": 17,
    "start_time": "2023-04-04T12:21:14.297Z"
   },
   {
    "duration": 7,
    "start_time": "2023-04-04T12:22:37.405Z"
   },
   {
    "duration": 993,
    "start_time": "2023-04-04T12:22:37.415Z"
   },
   {
    "duration": 196,
    "start_time": "2023-04-04T12:22:38.410Z"
   },
   {
    "duration": 29,
    "start_time": "2023-04-04T12:22:38.610Z"
   },
   {
    "duration": 124,
    "start_time": "2023-04-04T12:22:38.642Z"
   },
   {
    "duration": 906,
    "start_time": "2023-04-04T12:22:38.768Z"
   },
   {
    "duration": 750,
    "start_time": "2023-04-04T12:22:39.676Z"
   },
   {
    "duration": 205,
    "start_time": "2023-04-04T12:22:40.428Z"
   },
   {
    "duration": 53,
    "start_time": "2023-04-04T12:22:40.634Z"
   },
   {
    "duration": 18,
    "start_time": "2023-04-04T12:22:40.695Z"
   },
   {
    "duration": 57,
    "start_time": "2023-04-04T12:22:40.715Z"
   },
   {
    "duration": 146,
    "start_time": "2023-04-04T12:22:40.774Z"
   },
   {
    "duration": 11,
    "start_time": "2023-04-04T12:22:40.922Z"
   },
   {
    "duration": 1740,
    "start_time": "2023-04-04T12:22:40.934Z"
   },
   {
    "duration": 732,
    "start_time": "2023-04-04T12:22:42.682Z"
   },
   {
    "duration": 11,
    "start_time": "2023-04-04T12:22:43.416Z"
   },
   {
    "duration": 228,
    "start_time": "2023-04-04T12:22:43.429Z"
   },
   {
    "duration": 23,
    "start_time": "2023-04-04T12:22:43.659Z"
   },
   {
    "duration": 34,
    "start_time": "2023-04-04T12:22:43.685Z"
   },
   {
    "duration": 14,
    "start_time": "2023-04-04T12:22:43.720Z"
   },
   {
    "duration": 453,
    "start_time": "2023-04-04T12:22:43.736Z"
   },
   {
    "duration": 426,
    "start_time": "2023-04-04T12:22:44.193Z"
   },
   {
    "duration": 144,
    "start_time": "2023-04-04T12:22:44.621Z"
   },
   {
    "duration": 34,
    "start_time": "2023-04-04T12:22:44.773Z"
   },
   {
    "duration": 4036,
    "start_time": "2023-04-04T12:22:44.809Z"
   },
   {
    "duration": 28,
    "start_time": "2023-04-04T12:22:48.847Z"
   },
   {
    "duration": 149,
    "start_time": "2023-04-04T12:22:48.883Z"
   },
   {
    "duration": 163,
    "start_time": "2023-04-04T12:22:49.037Z"
   },
   {
    "duration": 105,
    "start_time": "2023-04-04T12:22:49.203Z"
   },
   {
    "duration": 6,
    "start_time": "2023-04-04T12:22:49.310Z"
   },
   {
    "duration": 150,
    "start_time": "2023-04-04T12:22:49.317Z"
   },
   {
    "duration": 3,
    "start_time": "2023-04-04T12:28:35.700Z"
   },
   {
    "duration": 873,
    "start_time": "2023-04-04T12:28:35.705Z"
   },
   {
    "duration": 155,
    "start_time": "2023-04-04T12:28:36.584Z"
   },
   {
    "duration": 24,
    "start_time": "2023-04-04T12:28:36.740Z"
   },
   {
    "duration": 112,
    "start_time": "2023-04-04T12:28:36.773Z"
   },
   {
    "duration": 972,
    "start_time": "2023-04-04T12:28:36.891Z"
   },
   {
    "duration": 667,
    "start_time": "2023-04-04T12:28:37.876Z"
   },
   {
    "duration": 164,
    "start_time": "2023-04-04T12:28:38.545Z"
   },
   {
    "duration": 38,
    "start_time": "2023-04-04T12:28:38.711Z"
   },
   {
    "duration": 25,
    "start_time": "2023-04-04T12:28:38.765Z"
   },
   {
    "duration": 33,
    "start_time": "2023-04-04T12:28:38.792Z"
   },
   {
    "duration": 156,
    "start_time": "2023-04-04T12:28:38.826Z"
   },
   {
    "duration": 10,
    "start_time": "2023-04-04T12:28:38.984Z"
   },
   {
    "duration": 1516,
    "start_time": "2023-04-04T12:28:38.997Z"
   },
   {
    "duration": 659,
    "start_time": "2023-04-04T12:28:40.515Z"
   },
   {
    "duration": 9,
    "start_time": "2023-04-04T12:28:41.176Z"
   },
   {
    "duration": 168,
    "start_time": "2023-04-04T12:28:41.189Z"
   },
   {
    "duration": 30,
    "start_time": "2023-04-04T12:28:41.359Z"
   },
   {
    "duration": 40,
    "start_time": "2023-04-04T12:28:41.391Z"
   },
   {
    "duration": 12,
    "start_time": "2023-04-04T12:28:45.000Z"
   },
   {
    "duration": 290,
    "start_time": "2023-04-04T12:28:49.392Z"
   },
   {
    "duration": 298,
    "start_time": "2023-04-04T12:28:50.744Z"
   },
   {
    "duration": 111,
    "start_time": "2023-04-04T12:28:51.925Z"
   },
   {
    "duration": 34,
    "start_time": "2023-04-04T12:28:54.656Z"
   },
   {
    "duration": 3506,
    "start_time": "2023-04-04T12:28:56.802Z"
   },
   {
    "duration": 22,
    "start_time": "2023-04-04T12:29:04.696Z"
   },
   {
    "duration": 13,
    "start_time": "2023-04-04T12:29:20.613Z"
   },
   {
    "duration": 136,
    "start_time": "2023-04-04T12:29:40.892Z"
   },
   {
    "duration": 12,
    "start_time": "2023-04-04T12:29:43.696Z"
   },
   {
    "duration": 137,
    "start_time": "2023-04-04T12:30:22.521Z"
   },
   {
    "duration": 10,
    "start_time": "2023-04-04T12:30:24.502Z"
   },
   {
    "duration": 10,
    "start_time": "2023-04-04T12:30:33.932Z"
   },
   {
    "duration": 5,
    "start_time": "2023-04-04T12:30:46.999Z"
   },
   {
    "duration": 906,
    "start_time": "2023-04-04T12:30:47.006Z"
   },
   {
    "duration": 160,
    "start_time": "2023-04-04T12:30:47.914Z"
   },
   {
    "duration": 26,
    "start_time": "2023-04-04T12:30:48.076Z"
   },
   {
    "duration": 111,
    "start_time": "2023-04-04T12:30:48.105Z"
   },
   {
    "duration": 1034,
    "start_time": "2023-04-04T12:30:48.218Z"
   },
   {
    "duration": 797,
    "start_time": "2023-04-04T12:30:49.254Z"
   },
   {
    "duration": 192,
    "start_time": "2023-04-04T12:30:50.053Z"
   },
   {
    "duration": 53,
    "start_time": "2023-04-04T12:30:50.247Z"
   },
   {
    "duration": 15,
    "start_time": "2023-04-04T12:30:50.305Z"
   },
   {
    "duration": 40,
    "start_time": "2023-04-04T12:30:50.322Z"
   },
   {
    "duration": 147,
    "start_time": "2023-04-04T12:30:50.368Z"
   },
   {
    "duration": 10,
    "start_time": "2023-04-04T12:30:50.517Z"
   },
   {
    "duration": 1867,
    "start_time": "2023-04-04T12:30:50.531Z"
   },
   {
    "duration": 712,
    "start_time": "2023-04-04T12:30:52.401Z"
   },
   {
    "duration": 7,
    "start_time": "2023-04-04T12:30:53.114Z"
   },
   {
    "duration": 220,
    "start_time": "2023-04-04T12:30:53.123Z"
   },
   {
    "duration": 13,
    "start_time": "2023-04-04T12:30:53.345Z"
   },
   {
    "duration": 49,
    "start_time": "2023-04-04T12:30:53.360Z"
   },
   {
    "duration": 13,
    "start_time": "2023-04-04T12:30:53.411Z"
   },
   {
    "duration": 325,
    "start_time": "2023-04-04T12:30:53.426Z"
   },
   {
    "duration": 373,
    "start_time": "2023-04-04T12:30:53.753Z"
   },
   {
    "duration": 164,
    "start_time": "2023-04-04T12:30:54.128Z"
   },
   {
    "duration": 31,
    "start_time": "2023-04-04T12:30:54.294Z"
   },
   {
    "duration": 3864,
    "start_time": "2023-04-04T12:30:54.327Z"
   },
   {
    "duration": 28,
    "start_time": "2023-04-04T12:30:58.197Z"
   },
   {
    "duration": 13,
    "start_time": "2023-04-04T12:30:58.226Z"
   },
   {
    "duration": 151,
    "start_time": "2023-04-04T12:30:58.241Z"
   },
   {
    "duration": 12,
    "start_time": "2023-04-04T12:31:02.141Z"
   },
   {
    "duration": 161,
    "start_time": "2023-04-04T12:31:09.932Z"
   },
   {
    "duration": 99,
    "start_time": "2023-04-04T12:31:11.254Z"
   },
   {
    "duration": 4,
    "start_time": "2023-04-04T12:31:29.247Z"
   },
   {
    "duration": 4,
    "start_time": "2023-04-04T12:32:09.443Z"
   },
   {
    "duration": 1059,
    "start_time": "2023-04-04T12:32:09.449Z"
   },
   {
    "duration": 174,
    "start_time": "2023-04-04T12:32:10.510Z"
   },
   {
    "duration": 19,
    "start_time": "2023-04-04T12:32:10.692Z"
   },
   {
    "duration": 111,
    "start_time": "2023-04-04T12:32:10.714Z"
   },
   {
    "duration": 880,
    "start_time": "2023-04-04T12:32:10.827Z"
   },
   {
    "duration": 904,
    "start_time": "2023-04-04T12:32:11.709Z"
   },
   {
    "duration": 177,
    "start_time": "2023-04-04T12:32:12.615Z"
   },
   {
    "duration": 36,
    "start_time": "2023-04-04T12:32:12.793Z"
   },
   {
    "duration": 14,
    "start_time": "2023-04-04T12:32:12.831Z"
   },
   {
    "duration": 59,
    "start_time": "2023-04-04T12:32:12.847Z"
   },
   {
    "duration": 177,
    "start_time": "2023-04-04T12:32:12.907Z"
   },
   {
    "duration": 21,
    "start_time": "2023-04-04T12:32:13.089Z"
   },
   {
    "duration": 1758,
    "start_time": "2023-04-04T12:32:13.113Z"
   },
   {
    "duration": 731,
    "start_time": "2023-04-04T12:32:14.873Z"
   },
   {
    "duration": 8,
    "start_time": "2023-04-04T12:32:15.605Z"
   },
   {
    "duration": 198,
    "start_time": "2023-04-04T12:32:15.614Z"
   },
   {
    "duration": 13,
    "start_time": "2023-04-04T12:32:15.814Z"
   },
   {
    "duration": 39,
    "start_time": "2023-04-04T12:32:15.828Z"
   },
   {
    "duration": 19,
    "start_time": "2023-04-04T12:32:15.869Z"
   },
   {
    "duration": 324,
    "start_time": "2023-04-04T12:32:15.890Z"
   },
   {
    "duration": 329,
    "start_time": "2023-04-04T12:32:16.216Z"
   },
   {
    "duration": 127,
    "start_time": "2023-04-04T12:32:16.547Z"
   },
   {
    "duration": 32,
    "start_time": "2023-04-04T12:32:16.676Z"
   },
   {
    "duration": 3843,
    "start_time": "2023-04-04T12:32:16.710Z"
   },
   {
    "duration": 41,
    "start_time": "2023-04-04T12:32:20.555Z"
   },
   {
    "duration": 30,
    "start_time": "2023-04-04T12:32:20.598Z"
   },
   {
    "duration": 160,
    "start_time": "2023-04-04T12:32:20.630Z"
   },
   {
    "duration": 17,
    "start_time": "2023-04-04T12:33:14.701Z"
   },
   {
    "duration": 14,
    "start_time": "2023-04-04T12:33:36.216Z"
   },
   {
    "duration": 115,
    "start_time": "2023-04-04T12:36:26.919Z"
   },
   {
    "duration": 10,
    "start_time": "2023-04-04T12:37:08.714Z"
   },
   {
    "duration": 91,
    "start_time": "2023-04-04T12:37:12.883Z"
   },
   {
    "duration": 12,
    "start_time": "2023-04-04T12:37:23.284Z"
   },
   {
    "duration": 104,
    "start_time": "2023-04-04T12:37:31.596Z"
   },
   {
    "duration": 4,
    "start_time": "2023-04-04T12:37:34.631Z"
   },
   {
    "duration": 4,
    "start_time": "2023-04-04T12:37:40.934Z"
   },
   {
    "duration": 286,
    "start_time": "2023-04-04T12:37:49.961Z"
   },
   {
    "duration": 26,
    "start_time": "2023-04-04T12:37:51.487Z"
   },
   {
    "duration": 1385,
    "start_time": "2023-04-04T12:38:06.368Z"
   },
   {
    "duration": 135,
    "start_time": "2023-04-04T12:38:09.012Z"
   },
   {
    "duration": 380,
    "start_time": "2023-04-04T12:38:12.443Z"
   },
   {
    "duration": 277,
    "start_time": "2023-04-04T12:43:04.400Z"
   },
   {
    "duration": 160,
    "start_time": "2023-04-04T12:44:22.933Z"
   },
   {
    "duration": 363,
    "start_time": "2023-04-04T12:47:37.395Z"
   },
   {
    "duration": 146,
    "start_time": "2023-04-04T12:47:49.656Z"
   },
   {
    "duration": 403,
    "start_time": "2023-04-04T12:47:50.631Z"
   },
   {
    "duration": 113,
    "start_time": "2023-04-04T12:54:45.084Z"
   },
   {
    "duration": 123,
    "start_time": "2023-04-04T12:54:45.982Z"
   },
   {
    "duration": 6,
    "start_time": "2023-04-04T12:54:47.319Z"
   },
   {
    "duration": 2316949,
    "start_time": "2023-04-04T12:55:20.835Z"
   },
   {
    "duration": 35,
    "start_time": "2023-04-04T13:33:57.787Z"
   },
   {
    "duration": 4,
    "start_time": "2023-04-04T13:37:31.410Z"
   },
   {
    "duration": 894,
    "start_time": "2023-04-04T13:37:31.416Z"
   },
   {
    "duration": 141,
    "start_time": "2023-04-04T13:37:32.313Z"
   },
   {
    "duration": 33,
    "start_time": "2023-04-04T13:37:32.461Z"
   },
   {
    "duration": 107,
    "start_time": "2023-04-04T13:37:32.496Z"
   },
   {
    "duration": 747,
    "start_time": "2023-04-04T13:37:32.605Z"
   },
   {
    "duration": 944,
    "start_time": "2023-04-04T13:37:33.354Z"
   },
   {
    "duration": 211,
    "start_time": "2023-04-04T13:37:34.300Z"
   },
   {
    "duration": 32,
    "start_time": "2023-04-04T13:37:34.513Z"
   },
   {
    "duration": 34,
    "start_time": "2023-04-04T13:37:34.547Z"
   },
   {
    "duration": 54,
    "start_time": "2023-04-04T13:37:34.588Z"
   },
   {
    "duration": 151,
    "start_time": "2023-04-04T13:37:34.644Z"
   },
   {
    "duration": 9,
    "start_time": "2023-04-04T13:37:34.796Z"
   },
   {
    "duration": 1500,
    "start_time": "2023-04-04T13:37:34.807Z"
   },
   {
    "duration": 654,
    "start_time": "2023-04-04T13:37:36.309Z"
   },
   {
    "duration": 17,
    "start_time": "2023-04-04T13:37:36.965Z"
   },
   {
    "duration": 175,
    "start_time": "2023-04-04T13:37:36.983Z"
   },
   {
    "duration": 16,
    "start_time": "2023-04-04T13:37:37.161Z"
   },
   {
    "duration": 37,
    "start_time": "2023-04-04T13:37:37.178Z"
   },
   {
    "duration": 14,
    "start_time": "2023-04-04T13:37:44.517Z"
   },
   {
    "duration": 47,
    "start_time": "2023-04-04T13:38:09.149Z"
   },
   {
    "duration": 2877,
    "start_time": "2023-04-04T13:40:07.213Z"
   },
   {
    "duration": 1011,
    "start_time": "2023-04-04T13:40:32.095Z"
   },
   {
    "duration": 30,
    "start_time": "2023-04-04T13:40:43.598Z"
   },
   {
    "duration": 321,
    "start_time": "2023-04-04T13:41:23.990Z"
   },
   {
    "duration": 320,
    "start_time": "2023-04-04T13:41:29.436Z"
   },
   {
    "duration": 110,
    "start_time": "2023-04-04T13:41:31.526Z"
   },
   {
    "duration": 36,
    "start_time": "2023-04-04T13:41:44.920Z"
   },
   {
    "duration": 25,
    "start_time": "2023-04-04T13:44:10.140Z"
   },
   {
    "duration": 12,
    "start_time": "2023-04-04T13:44:15.348Z"
   },
   {
    "duration": 48,
    "start_time": "2023-04-04T13:44:55.142Z"
   },
   {
    "duration": 34,
    "start_time": "2023-04-04T13:46:26.720Z"
   },
   {
    "duration": 43,
    "start_time": "2023-04-04T13:46:33.430Z"
   },
   {
    "duration": 46,
    "start_time": "2023-04-04T13:47:40.777Z"
   },
   {
    "duration": 22,
    "start_time": "2023-04-04T13:47:44.733Z"
   },
   {
    "duration": 14,
    "start_time": "2023-04-04T13:47:46.594Z"
   },
   {
    "duration": 4,
    "start_time": "2023-04-04T13:50:31.226Z"
   },
   {
    "duration": 903,
    "start_time": "2023-04-04T13:50:31.233Z"
   },
   {
    "duration": 157,
    "start_time": "2023-04-04T13:50:32.138Z"
   },
   {
    "duration": 14,
    "start_time": "2023-04-04T13:50:32.296Z"
   },
   {
    "duration": 118,
    "start_time": "2023-04-04T13:50:32.312Z"
   },
   {
    "duration": 773,
    "start_time": "2023-04-04T13:50:32.431Z"
   },
   {
    "duration": 683,
    "start_time": "2023-04-04T13:50:33.206Z"
   },
   {
    "duration": 400,
    "start_time": "2023-04-04T13:50:33.891Z"
   },
   {
    "duration": 42,
    "start_time": "2023-04-04T13:50:34.293Z"
   },
   {
    "duration": 42,
    "start_time": "2023-04-04T13:50:34.339Z"
   },
   {
    "duration": 35,
    "start_time": "2023-04-04T13:50:34.385Z"
   },
   {
    "duration": 128,
    "start_time": "2023-04-04T13:50:34.422Z"
   },
   {
    "duration": 17,
    "start_time": "2023-04-04T13:50:34.552Z"
   },
   {
    "duration": 1603,
    "start_time": "2023-04-04T13:50:34.572Z"
   },
   {
    "duration": 674,
    "start_time": "2023-04-04T13:50:36.184Z"
   },
   {
    "duration": 24,
    "start_time": "2023-04-04T13:50:36.861Z"
   },
   {
    "duration": 171,
    "start_time": "2023-04-04T13:50:36.889Z"
   },
   {
    "duration": 26,
    "start_time": "2023-04-04T13:50:37.061Z"
   },
   {
    "duration": 23,
    "start_time": "2023-04-04T13:50:37.089Z"
   },
   {
    "duration": 11,
    "start_time": "2023-04-04T13:50:37.114Z"
   },
   {
    "duration": 66,
    "start_time": "2023-04-04T13:50:37.127Z"
   },
   {
    "duration": 47,
    "start_time": "2023-04-04T13:50:37.195Z"
   },
   {
    "duration": 200,
    "start_time": "2023-04-04T13:50:37.244Z"
   },
   {
    "duration": 199,
    "start_time": "2023-04-04T13:50:37.447Z"
   },
   {
    "duration": 97,
    "start_time": "2023-04-04T13:50:37.647Z"
   },
   {
    "duration": 58,
    "start_time": "2023-04-04T13:50:37.745Z"
   },
   {
    "duration": 19,
    "start_time": "2023-04-04T13:50:37.805Z"
   },
   {
    "duration": 62,
    "start_time": "2023-04-04T13:50:37.826Z"
   },
   {
    "duration": 36,
    "start_time": "2023-04-04T13:50:37.890Z"
   },
   {
    "duration": 57,
    "start_time": "2023-04-04T13:50:37.928Z"
   },
   {
    "duration": 25,
    "start_time": "2023-04-04T13:50:37.986Z"
   },
   {
    "duration": 14,
    "start_time": "2023-04-04T13:50:38.013Z"
   },
   {
    "duration": 118,
    "start_time": "2023-04-04T13:50:38.029Z"
   },
   {
    "duration": 35,
    "start_time": "2023-04-04T13:50:38.149Z"
   },
   {
    "duration": 76,
    "start_time": "2023-04-04T13:50:41.152Z"
   },
   {
    "duration": 4,
    "start_time": "2023-04-04T13:51:37.499Z"
   },
   {
    "duration": 883,
    "start_time": "2023-04-04T13:51:37.506Z"
   },
   {
    "duration": 151,
    "start_time": "2023-04-04T13:51:38.393Z"
   },
   {
    "duration": 46,
    "start_time": "2023-04-04T13:51:38.546Z"
   },
   {
    "duration": 110,
    "start_time": "2023-04-04T13:51:38.594Z"
   },
   {
    "duration": 807,
    "start_time": "2023-04-04T13:51:38.705Z"
   },
   {
    "duration": 711,
    "start_time": "2023-04-04T13:51:39.513Z"
   },
   {
    "duration": 171,
    "start_time": "2023-04-04T13:51:40.226Z"
   },
   {
    "duration": 33,
    "start_time": "2023-04-04T13:51:40.398Z"
   },
   {
    "duration": 33,
    "start_time": "2023-04-04T13:51:40.433Z"
   },
   {
    "duration": 49,
    "start_time": "2023-04-04T13:51:40.474Z"
   },
   {
    "duration": 386,
    "start_time": "2023-04-04T13:51:40.525Z"
   },
   {
    "duration": 8,
    "start_time": "2023-04-04T13:51:40.914Z"
   },
   {
    "duration": 1674,
    "start_time": "2023-04-04T13:51:40.924Z"
   },
   {
    "duration": 680,
    "start_time": "2023-04-04T13:51:42.600Z"
   },
   {
    "duration": 12,
    "start_time": "2023-04-04T13:51:43.285Z"
   },
   {
    "duration": 186,
    "start_time": "2023-04-04T13:51:43.298Z"
   },
   {
    "duration": 16,
    "start_time": "2023-04-04T13:51:43.486Z"
   },
   {
    "duration": 25,
    "start_time": "2023-04-04T13:51:43.504Z"
   },
   {
    "duration": 42,
    "start_time": "2023-04-04T13:51:43.532Z"
   },
   {
    "duration": 41,
    "start_time": "2023-04-04T13:51:43.576Z"
   },
   {
    "duration": 31,
    "start_time": "2023-04-04T13:51:43.618Z"
   },
   {
    "duration": 201,
    "start_time": "2023-04-04T13:51:43.650Z"
   },
   {
    "duration": 248,
    "start_time": "2023-04-04T13:51:43.852Z"
   },
   {
    "duration": 117,
    "start_time": "2023-04-04T13:51:44.103Z"
   },
   {
    "duration": 85,
    "start_time": "2023-04-04T13:51:44.222Z"
   },
   {
    "duration": 21,
    "start_time": "2023-04-04T13:51:44.312Z"
   },
   {
    "duration": 64,
    "start_time": "2023-04-04T13:51:44.335Z"
   },
   {
    "duration": 36,
    "start_time": "2023-04-04T13:51:44.405Z"
   },
   {
    "duration": 54,
    "start_time": "2023-04-04T13:51:44.444Z"
   },
   {
    "duration": 32,
    "start_time": "2023-04-04T13:51:44.501Z"
   },
   {
    "duration": 13,
    "start_time": "2023-04-04T13:51:44.534Z"
   },
   {
    "duration": 124,
    "start_time": "2023-04-04T13:51:44.549Z"
   },
   {
    "duration": 21,
    "start_time": "2023-04-04T13:51:44.674Z"
   },
   {
    "duration": 96,
    "start_time": "2023-04-04T13:51:48.419Z"
   },
   {
    "duration": 16,
    "start_time": "2023-04-04T13:52:56.831Z"
   },
   {
    "duration": 195,
    "start_time": "2023-04-04T13:52:57.894Z"
   },
   {
    "duration": 195,
    "start_time": "2023-04-04T13:53:04.853Z"
   },
   {
    "duration": 91,
    "start_time": "2023-04-04T13:53:05.895Z"
   },
   {
    "duration": 18,
    "start_time": "2023-04-04T13:53:22.900Z"
   },
   {
    "duration": 10,
    "start_time": "2023-04-04T13:53:24.338Z"
   },
   {
    "duration": 102,
    "start_time": "2023-04-04T13:53:26.903Z"
   },
   {
    "duration": 4,
    "start_time": "2023-04-04T13:53:29.220Z"
   },
   {
    "duration": 822,
    "start_time": "2023-04-04T13:53:47.031Z"
   },
   {
    "duration": 908,
    "start_time": "2023-04-04T13:54:54.341Z"
   },
   {
    "duration": 535,
    "start_time": "2023-04-04T13:55:09.186Z"
   },
   {
    "duration": 423,
    "start_time": "2023-04-04T13:55:17.816Z"
   },
   {
    "duration": 432,
    "start_time": "2023-04-04T13:55:59.579Z"
   },
   {
    "duration": 11,
    "start_time": "2023-04-04T14:14:07.492Z"
   },
   {
    "duration": 4,
    "start_time": "2023-04-04T14:14:54.619Z"
   },
   {
    "duration": 11,
    "start_time": "2023-04-04T14:14:59.599Z"
   },
   {
    "duration": 3,
    "start_time": "2023-04-04T14:16:01.541Z"
   },
   {
    "duration": 428,
    "start_time": "2023-04-04T14:16:03.344Z"
   },
   {
    "duration": 73,
    "start_time": "2023-04-04T14:16:12.249Z"
   },
   {
    "duration": 1518,
    "start_time": "2023-04-04T14:16:18.190Z"
   },
   {
    "duration": 1322,
    "start_time": "2023-04-04T14:16:19.710Z"
   },
   {
    "duration": 163,
    "start_time": "2023-04-04T14:16:21.033Z"
   },
   {
    "duration": 17,
    "start_time": "2023-04-04T14:16:21.198Z"
   },
   {
    "duration": 111,
    "start_time": "2023-04-04T14:16:21.218Z"
   },
   {
    "duration": 803,
    "start_time": "2023-04-04T14:16:21.331Z"
   },
   {
    "duration": 802,
    "start_time": "2023-04-04T14:16:22.136Z"
   },
   {
    "duration": 171,
    "start_time": "2023-04-04T14:16:22.940Z"
   },
   {
    "duration": 34,
    "start_time": "2023-04-04T14:16:23.113Z"
   },
   {
    "duration": 39,
    "start_time": "2023-04-04T14:16:23.149Z"
   },
   {
    "duration": 49,
    "start_time": "2023-04-04T14:16:23.190Z"
   },
   {
    "duration": 149,
    "start_time": "2023-04-04T14:16:23.241Z"
   },
   {
    "duration": 9,
    "start_time": "2023-04-04T14:16:23.392Z"
   },
   {
    "duration": 1646,
    "start_time": "2023-04-04T14:16:23.405Z"
   },
   {
    "duration": 717,
    "start_time": "2023-04-04T14:16:25.053Z"
   },
   {
    "duration": 11,
    "start_time": "2023-04-04T14:16:25.777Z"
   },
   {
    "duration": 209,
    "start_time": "2023-04-04T14:16:25.790Z"
   },
   {
    "duration": 15,
    "start_time": "2023-04-04T14:16:26.000Z"
   },
   {
    "duration": 61,
    "start_time": "2023-04-04T14:16:26.017Z"
   },
   {
    "duration": 18,
    "start_time": "2023-04-04T14:16:26.080Z"
   },
   {
    "duration": 60,
    "start_time": "2023-04-04T14:16:26.099Z"
   },
   {
    "duration": 56,
    "start_time": "2023-04-04T14:16:26.161Z"
   },
   {
    "duration": 20,
    "start_time": "2023-04-04T14:16:26.219Z"
   },
   {
    "duration": 195,
    "start_time": "2023-04-04T14:16:26.242Z"
   },
   {
    "duration": 203,
    "start_time": "2023-04-04T14:16:26.439Z"
   },
   {
    "duration": 109,
    "start_time": "2023-04-04T14:16:26.643Z"
   },
   {
    "duration": 61,
    "start_time": "2023-04-04T14:16:26.754Z"
   },
   {
    "duration": 22,
    "start_time": "2023-04-04T14:16:26.816Z"
   },
   {
    "duration": 60,
    "start_time": "2023-04-04T14:16:26.840Z"
   },
   {
    "duration": 37,
    "start_time": "2023-04-04T14:16:26.902Z"
   },
   {
    "duration": 76,
    "start_time": "2023-04-04T14:16:26.941Z"
   },
   {
    "duration": 17,
    "start_time": "2023-04-04T14:16:27.019Z"
   },
   {
    "duration": 19,
    "start_time": "2023-04-04T14:16:27.038Z"
   },
   {
    "duration": 153,
    "start_time": "2023-04-04T14:16:27.059Z"
   },
   {
    "duration": 12,
    "start_time": "2023-04-04T14:16:27.214Z"
   },
   {
    "duration": 117,
    "start_time": "2023-04-04T14:16:27.227Z"
   },
   {
    "duration": 9,
    "start_time": "2023-04-04T14:16:27.347Z"
   },
   {
    "duration": 852,
    "start_time": "2023-04-04T14:16:27.369Z"
   },
   {
    "duration": 3,
    "start_time": "2023-04-04T14:16:28.222Z"
   },
   {
    "duration": 552,
    "start_time": "2023-04-04T14:16:28.226Z"
   },
   {
    "duration": 61,
    "start_time": "2023-04-04T14:16:42.585Z"
   },
   {
    "duration": 1710,
    "start_time": "2023-04-04T14:17:15.086Z"
   },
   {
    "duration": 1442,
    "start_time": "2023-04-04T14:17:16.799Z"
   },
   {
    "duration": 162,
    "start_time": "2023-04-04T14:17:18.242Z"
   },
   {
    "duration": 17,
    "start_time": "2023-04-04T14:17:18.407Z"
   },
   {
    "duration": 116,
    "start_time": "2023-04-04T14:17:18.427Z"
   },
   {
    "duration": 809,
    "start_time": "2023-04-04T14:17:18.545Z"
   },
   {
    "duration": 821,
    "start_time": "2023-04-04T14:17:19.357Z"
   },
   {
    "duration": 153,
    "start_time": "2023-04-04T14:17:20.183Z"
   },
   {
    "duration": 54,
    "start_time": "2023-04-04T14:17:20.338Z"
   },
   {
    "duration": 14,
    "start_time": "2023-04-04T14:17:20.397Z"
   },
   {
    "duration": 55,
    "start_time": "2023-04-04T14:17:20.413Z"
   },
   {
    "duration": 136,
    "start_time": "2023-04-04T14:17:20.469Z"
   },
   {
    "duration": 8,
    "start_time": "2023-04-04T14:17:20.606Z"
   },
   {
    "duration": 1618,
    "start_time": "2023-04-04T14:17:20.617Z"
   },
   {
    "duration": 676,
    "start_time": "2023-04-04T14:17:22.236Z"
   },
   {
    "duration": 9,
    "start_time": "2023-04-04T14:17:22.914Z"
   },
   {
    "duration": 228,
    "start_time": "2023-04-04T14:17:22.924Z"
   },
   {
    "duration": 22,
    "start_time": "2023-04-04T14:17:23.153Z"
   },
   {
    "duration": 35,
    "start_time": "2023-04-04T14:17:23.176Z"
   },
   {
    "duration": 11,
    "start_time": "2023-04-04T14:17:23.213Z"
   },
   {
    "duration": 70,
    "start_time": "2023-04-04T14:17:23.226Z"
   },
   {
    "duration": 30,
    "start_time": "2023-04-04T14:17:23.297Z"
   },
   {
    "duration": 18,
    "start_time": "2023-04-04T14:17:23.329Z"
   },
   {
    "duration": 218,
    "start_time": "2023-04-04T14:17:23.349Z"
   },
   {
    "duration": 198,
    "start_time": "2023-04-04T14:17:23.568Z"
   },
   {
    "duration": 84,
    "start_time": "2023-04-04T14:17:23.776Z"
   },
   {
    "duration": 53,
    "start_time": "2023-04-04T14:17:23.862Z"
   },
   {
    "duration": 22,
    "start_time": "2023-04-04T14:17:23.916Z"
   },
   {
    "duration": 63,
    "start_time": "2023-04-04T14:17:23.940Z"
   },
   {
    "duration": 37,
    "start_time": "2023-04-04T14:17:24.005Z"
   },
   {
    "duration": 66,
    "start_time": "2023-04-04T14:17:24.043Z"
   },
   {
    "duration": 34,
    "start_time": "2023-04-04T14:17:24.112Z"
   },
   {
    "duration": 28,
    "start_time": "2023-04-04T14:17:24.148Z"
   },
   {
    "duration": 147,
    "start_time": "2023-04-04T14:17:24.182Z"
   },
   {
    "duration": 13,
    "start_time": "2023-04-04T14:17:24.331Z"
   },
   {
    "duration": 106,
    "start_time": "2023-04-04T14:17:24.346Z"
   },
   {
    "duration": 15,
    "start_time": "2023-04-04T14:17:24.454Z"
   },
   {
    "duration": 848,
    "start_time": "2023-04-04T14:17:24.477Z"
   },
   {
    "duration": 3,
    "start_time": "2023-04-04T14:17:25.327Z"
   },
   {
    "duration": 546,
    "start_time": "2023-04-04T14:17:25.333Z"
   },
   {
    "duration": 474,
    "start_time": "2023-04-04T14:17:35.205Z"
   },
   {
    "duration": 1624,
    "start_time": "2023-04-04T14:18:20.187Z"
   },
   {
    "duration": 1338,
    "start_time": "2023-04-04T14:18:21.813Z"
   },
   {
    "duration": 168,
    "start_time": "2023-04-04T14:18:23.153Z"
   },
   {
    "duration": 15,
    "start_time": "2023-04-04T14:18:23.323Z"
   },
   {
    "duration": 132,
    "start_time": "2023-04-04T14:18:23.340Z"
   },
   {
    "duration": 865,
    "start_time": "2023-04-04T14:18:23.474Z"
   },
   {
    "duration": 784,
    "start_time": "2023-04-04T14:18:24.340Z"
   },
   {
    "duration": 173,
    "start_time": "2023-04-04T14:18:25.126Z"
   },
   {
    "duration": 38,
    "start_time": "2023-04-04T14:18:25.301Z"
   },
   {
    "duration": 44,
    "start_time": "2023-04-04T14:18:25.341Z"
   },
   {
    "duration": 56,
    "start_time": "2023-04-04T14:18:25.386Z"
   },
   {
    "duration": 160,
    "start_time": "2023-04-04T14:18:25.444Z"
   },
   {
    "duration": 10,
    "start_time": "2023-04-04T14:18:25.606Z"
   },
   {
    "duration": 1562,
    "start_time": "2023-04-04T14:18:25.618Z"
   },
   {
    "duration": 690,
    "start_time": "2023-04-04T14:18:27.183Z"
   },
   {
    "duration": 9,
    "start_time": "2023-04-04T14:18:27.877Z"
   },
   {
    "duration": 218,
    "start_time": "2023-04-04T14:18:27.890Z"
   },
   {
    "duration": 13,
    "start_time": "2023-04-04T14:18:28.110Z"
   },
   {
    "duration": 44,
    "start_time": "2023-04-04T14:18:28.125Z"
   },
   {
    "duration": 25,
    "start_time": "2023-04-04T14:18:28.173Z"
   },
   {
    "duration": 91,
    "start_time": "2023-04-04T14:18:28.200Z"
   },
   {
    "duration": 55,
    "start_time": "2023-04-04T14:18:28.295Z"
   },
   {
    "duration": 56,
    "start_time": "2023-04-04T14:18:28.352Z"
   },
   {
    "duration": 233,
    "start_time": "2023-04-04T14:18:28.410Z"
   },
   {
    "duration": 202,
    "start_time": "2023-04-04T14:18:28.644Z"
   },
   {
    "duration": 94,
    "start_time": "2023-04-04T14:18:28.847Z"
   },
   {
    "duration": 55,
    "start_time": "2023-04-04T14:18:28.943Z"
   },
   {
    "duration": 18,
    "start_time": "2023-04-04T14:18:29.001Z"
   },
   {
    "duration": 55,
    "start_time": "2023-04-04T14:18:29.020Z"
   },
   {
    "duration": 51,
    "start_time": "2023-04-04T14:18:29.076Z"
   },
   {
    "duration": 44,
    "start_time": "2023-04-04T14:18:29.129Z"
   },
   {
    "duration": 25,
    "start_time": "2023-04-04T14:18:29.180Z"
   },
   {
    "duration": 27,
    "start_time": "2023-04-04T14:18:29.207Z"
   },
   {
    "duration": 157,
    "start_time": "2023-04-04T14:18:29.236Z"
   },
   {
    "duration": 11,
    "start_time": "2023-04-04T14:18:29.396Z"
   },
   {
    "duration": 150,
    "start_time": "2023-04-04T14:18:29.409Z"
   },
   {
    "duration": 11,
    "start_time": "2023-04-04T14:18:29.577Z"
   },
   {
    "duration": 962,
    "start_time": "2023-04-04T14:18:29.596Z"
   },
   {
    "duration": 7,
    "start_time": "2023-04-04T14:18:30.559Z"
   },
   {
    "duration": 561,
    "start_time": "2023-04-04T14:18:30.574Z"
   },
   {
    "duration": 1602,
    "start_time": "2023-04-04T14:27:00.833Z"
   },
   {
    "duration": 1473,
    "start_time": "2023-04-04T14:27:02.437Z"
   },
   {
    "duration": 185,
    "start_time": "2023-04-04T14:27:03.911Z"
   },
   {
    "duration": 25,
    "start_time": "2023-04-04T14:27:04.100Z"
   },
   {
    "duration": 132,
    "start_time": "2023-04-04T14:27:04.128Z"
   },
   {
    "duration": 874,
    "start_time": "2023-04-04T14:27:04.264Z"
   },
   {
    "duration": 819,
    "start_time": "2023-04-04T14:27:05.140Z"
   },
   {
    "duration": 165,
    "start_time": "2023-04-04T14:27:05.961Z"
   },
   {
    "duration": 55,
    "start_time": "2023-04-04T14:27:06.128Z"
   },
   {
    "duration": 16,
    "start_time": "2023-04-04T14:27:06.186Z"
   },
   {
    "duration": 46,
    "start_time": "2023-04-04T14:27:06.203Z"
   },
   {
    "duration": 153,
    "start_time": "2023-04-04T14:27:06.250Z"
   },
   {
    "duration": 11,
    "start_time": "2023-04-04T14:27:06.405Z"
   },
   {
    "duration": 1589,
    "start_time": "2023-04-04T14:27:06.417Z"
   },
   {
    "duration": 684,
    "start_time": "2023-04-04T14:27:08.008Z"
   },
   {
    "duration": 9,
    "start_time": "2023-04-04T14:27:08.694Z"
   },
   {
    "duration": 223,
    "start_time": "2023-04-04T14:27:08.704Z"
   },
   {
    "duration": 16,
    "start_time": "2023-04-04T14:27:08.929Z"
   },
   {
    "duration": 58,
    "start_time": "2023-04-04T14:27:08.946Z"
   },
   {
    "duration": 11,
    "start_time": "2023-04-04T14:27:09.006Z"
   },
   {
    "duration": 35,
    "start_time": "2023-04-04T14:27:09.019Z"
   },
   {
    "duration": 42,
    "start_time": "2023-04-04T14:27:09.073Z"
   },
   {
    "duration": 18,
    "start_time": "2023-04-04T14:27:09.117Z"
   },
   {
    "duration": 196,
    "start_time": "2023-04-04T14:27:09.137Z"
   },
   {
    "duration": 212,
    "start_time": "2023-04-04T14:27:09.335Z"
   },
   {
    "duration": 100,
    "start_time": "2023-04-04T14:27:09.549Z"
   },
   {
    "duration": 61,
    "start_time": "2023-04-04T14:27:09.651Z"
   },
   {
    "duration": 18,
    "start_time": "2023-04-04T14:27:09.716Z"
   },
   {
    "duration": 65,
    "start_time": "2023-04-04T14:27:09.736Z"
   },
   {
    "duration": 41,
    "start_time": "2023-04-04T14:27:09.804Z"
   },
   {
    "duration": 69,
    "start_time": "2023-04-04T14:27:09.847Z"
   },
   {
    "duration": 32,
    "start_time": "2023-04-04T14:27:09.918Z"
   },
   {
    "duration": 40,
    "start_time": "2023-04-04T14:27:09.952Z"
   },
   {
    "duration": 117,
    "start_time": "2023-04-04T14:27:09.994Z"
   },
   {
    "duration": 11,
    "start_time": "2023-04-04T14:27:10.113Z"
   },
   {
    "duration": 106,
    "start_time": "2023-04-04T14:27:10.125Z"
   },
   {
    "duration": 4,
    "start_time": "2023-04-04T14:27:10.232Z"
   },
   {
    "duration": 811,
    "start_time": "2023-04-04T14:27:10.238Z"
   },
   {
    "duration": 3,
    "start_time": "2023-04-04T14:27:11.051Z"
   },
   {
    "duration": 544,
    "start_time": "2023-04-04T14:27:11.055Z"
   },
   {
    "duration": 1849,
    "start_time": "2023-04-05T04:00:14.905Z"
   },
   {
    "duration": 3272,
    "start_time": "2023-04-05T04:00:16.758Z"
   },
   {
    "duration": 131,
    "start_time": "2023-04-05T04:00:20.032Z"
   },
   {
    "duration": 17,
    "start_time": "2023-04-05T04:00:20.166Z"
   },
   {
    "duration": 118,
    "start_time": "2023-04-05T04:00:20.185Z"
   },
   {
    "duration": 756,
    "start_time": "2023-04-05T04:00:20.305Z"
   },
   {
    "duration": 754,
    "start_time": "2023-04-05T04:00:21.064Z"
   },
   {
    "duration": 150,
    "start_time": "2023-04-05T04:00:21.819Z"
   },
   {
    "duration": 33,
    "start_time": "2023-04-05T04:00:21.970Z"
   },
   {
    "duration": 14,
    "start_time": "2023-04-05T04:00:22.006Z"
   },
   {
    "duration": 69,
    "start_time": "2023-04-05T04:00:22.021Z"
   },
   {
    "duration": 133,
    "start_time": "2023-04-05T04:00:22.092Z"
   },
   {
    "duration": 33,
    "start_time": "2023-04-05T04:00:22.226Z"
   },
   {
    "duration": 1416,
    "start_time": "2023-04-05T04:00:22.261Z"
   },
   {
    "duration": 693,
    "start_time": "2023-04-05T04:00:23.679Z"
   },
   {
    "duration": 8,
    "start_time": "2023-04-05T04:00:24.374Z"
   },
   {
    "duration": 228,
    "start_time": "2023-04-05T04:00:24.384Z"
   },
   {
    "duration": 33,
    "start_time": "2023-04-05T04:00:24.614Z"
   },
   {
    "duration": 38,
    "start_time": "2023-04-05T04:00:24.649Z"
   },
   {
    "duration": 12,
    "start_time": "2023-04-05T04:00:24.689Z"
   },
   {
    "duration": 51,
    "start_time": "2023-04-05T04:00:24.703Z"
   },
   {
    "duration": 59,
    "start_time": "2023-04-05T04:00:24.761Z"
   },
   {
    "duration": 17,
    "start_time": "2023-04-05T04:00:24.822Z"
   },
   {
    "duration": 172,
    "start_time": "2023-04-05T04:00:24.840Z"
   },
   {
    "duration": 170,
    "start_time": "2023-04-05T04:00:25.014Z"
   },
   {
    "duration": 86,
    "start_time": "2023-04-05T04:00:25.185Z"
   },
   {
    "duration": 29,
    "start_time": "2023-04-05T04:00:25.273Z"
   },
   {
    "duration": 47,
    "start_time": "2023-04-05T04:00:25.306Z"
   },
   {
    "duration": 32,
    "start_time": "2023-04-05T04:00:25.355Z"
   },
   {
    "duration": 30,
    "start_time": "2023-04-05T04:00:25.389Z"
   },
   {
    "duration": 44,
    "start_time": "2023-04-05T04:00:25.422Z"
   },
   {
    "duration": 22,
    "start_time": "2023-04-05T04:00:25.468Z"
   },
   {
    "duration": 13,
    "start_time": "2023-04-05T04:00:25.492Z"
   },
   {
    "duration": 126,
    "start_time": "2023-04-05T04:00:25.507Z"
   },
   {
    "duration": 20,
    "start_time": "2023-04-05T04:00:25.635Z"
   },
   {
    "duration": 63,
    "start_time": "2023-04-05T04:00:25.656Z"
   },
   {
    "duration": 7,
    "start_time": "2023-04-05T04:00:25.720Z"
   },
   {
    "duration": 1146,
    "start_time": "2023-04-05T04:00:45.513Z"
   },
   {
    "duration": 110,
    "start_time": "2023-04-05T04:03:15.891Z"
   },
   {
    "duration": 3,
    "start_time": "2023-04-05T04:03:21.260Z"
   },
   {
    "duration": 568,
    "start_time": "2023-04-05T04:03:26.332Z"
   },
   {
    "duration": 147,
    "start_time": "2023-04-05T04:03:51.356Z"
   },
   {
    "duration": 3,
    "start_time": "2023-04-05T04:07:20.778Z"
   },
   {
    "duration": 279,
    "start_time": "2023-04-05T04:07:22.361Z"
   },
   {
    "duration": 21,
    "start_time": "2023-04-05T04:07:36.384Z"
   },
   {
    "duration": 54,
    "start_time": "2023-04-05T04:13:35.588Z"
   },
   {
    "duration": 19,
    "start_time": "2023-04-05T04:20:36.682Z"
   },
   {
    "duration": 44512,
    "start_time": "2023-04-05T04:20:43.555Z"
   },
   {
    "duration": 48440,
    "start_time": "2023-04-05T04:21:37.819Z"
   },
   {
    "duration": 45645,
    "start_time": "2023-04-05T04:25:27.314Z"
   },
   {
    "duration": 5,
    "start_time": "2023-04-05T04:30:31.599Z"
   },
   {
    "duration": 20,
    "start_time": "2023-04-05T04:34:17.460Z"
   },
   {
    "duration": 125,
    "start_time": "2023-04-05T04:39:49.411Z"
   },
   {
    "duration": 121,
    "start_time": "2023-04-05T04:40:18.047Z"
   },
   {
    "duration": 628,
    "start_time": "2023-04-05T04:40:22.759Z"
   },
   {
    "duration": 37,
    "start_time": "2023-04-05T04:42:36.628Z"
   },
   {
    "duration": 127,
    "start_time": "2023-04-05T04:42:42.988Z"
   },
   {
    "duration": 8625,
    "start_time": "2023-04-05T04:47:53.848Z"
   },
   {
    "duration": 25,
    "start_time": "2023-04-05T04:49:51.695Z"
   },
   {
    "duration": 7,
    "start_time": "2023-04-05T04:51:05.577Z"
   },
   {
    "duration": 81,
    "start_time": "2023-04-05T04:51:26.670Z"
   },
   {
    "duration": 511068,
    "start_time": "2023-04-05T04:51:33.082Z"
   },
   {
    "duration": 360961,
    "start_time": "2023-04-05T05:00:11.408Z"
   },
   {
    "duration": 340518,
    "start_time": "2023-04-05T05:06:19.870Z"
   },
   {
    "duration": 3592,
    "start_time": "2023-04-05T05:12:03.966Z"
   },
   {
    "duration": 17638,
    "start_time": "2023-04-05T05:12:26.065Z"
   },
   {
    "duration": 5,
    "start_time": "2023-04-05T05:13:41.899Z"
   },
   {
    "duration": 43785,
    "start_time": "2023-04-05T05:13:47.198Z"
   },
   {
    "duration": 206139,
    "start_time": "2023-04-05T05:15:17.520Z"
   },
   {
    "duration": 39025,
    "start_time": "2023-04-05T05:19:45.376Z"
   },
   {
    "duration": 257407,
    "start_time": "2023-04-05T05:20:56.280Z"
   },
   {
    "duration": 2869224,
    "start_time": "2023-04-05T05:25:47.438Z"
   },
   {
    "duration": 7706,
    "start_time": "2023-04-05T07:01:23.494Z"
   },
   {
    "duration": 12962,
    "start_time": "2023-04-05T07:03:38.222Z"
   },
   {
    "duration": 207,
    "start_time": "2023-04-05T08:06:55.499Z"
   },
   {
    "duration": 17,
    "start_time": "2023-04-05T08:09:11.503Z"
   },
   {
    "duration": 16,
    "start_time": "2023-04-05T08:09:44.942Z"
   },
   {
    "duration": 473033,
    "start_time": "2023-04-05T08:09:51.132Z"
   },
   {
    "duration": 353355,
    "start_time": "2023-04-05T08:18:02.591Z"
   },
   {
    "duration": 432972,
    "start_time": "2023-04-05T08:26:22.095Z"
   },
   {
    "duration": 398188,
    "start_time": "2023-04-05T08:34:07.962Z"
   },
   {
    "duration": 2396,
    "start_time": "2023-04-06T10:55:43.702Z"
   },
   {
    "duration": 3636,
    "start_time": "2023-04-06T10:55:46.101Z"
   },
   {
    "duration": 185,
    "start_time": "2023-04-06T10:55:49.739Z"
   },
   {
    "duration": 35,
    "start_time": "2023-04-06T10:55:49.926Z"
   },
   {
    "duration": 146,
    "start_time": "2023-04-06T10:55:49.970Z"
   },
   {
    "duration": 1039,
    "start_time": "2023-04-06T10:55:50.118Z"
   },
   {
    "duration": 798,
    "start_time": "2023-04-06T10:55:51.161Z"
   },
   {
    "duration": 198,
    "start_time": "2023-04-06T10:55:51.962Z"
   },
   {
    "duration": 48,
    "start_time": "2023-04-06T10:55:52.163Z"
   },
   {
    "duration": 40,
    "start_time": "2023-04-06T10:55:52.212Z"
   },
   {
    "duration": 69,
    "start_time": "2023-04-06T10:55:52.259Z"
   },
   {
    "duration": 156,
    "start_time": "2023-04-06T10:55:52.331Z"
   },
   {
    "duration": 11,
    "start_time": "2023-04-06T10:55:52.489Z"
   },
   {
    "duration": 1720,
    "start_time": "2023-04-06T10:55:52.504Z"
   },
   {
    "duration": 758,
    "start_time": "2023-04-06T10:55:54.226Z"
   },
   {
    "duration": 9,
    "start_time": "2023-04-06T10:55:54.986Z"
   },
   {
    "duration": 290,
    "start_time": "2023-04-06T10:55:54.997Z"
   },
   {
    "duration": 16,
    "start_time": "2023-04-06T10:55:55.290Z"
   },
   {
    "duration": 66,
    "start_time": "2023-04-06T10:55:55.308Z"
   },
   {
    "duration": 19,
    "start_time": "2023-04-06T10:55:55.377Z"
   },
   {
    "duration": 46,
    "start_time": "2023-04-06T10:55:55.399Z"
   },
   {
    "duration": 53,
    "start_time": "2023-04-06T10:55:55.452Z"
   },
   {
    "duration": 19,
    "start_time": "2023-04-06T10:55:55.507Z"
   },
   {
    "duration": 185,
    "start_time": "2023-04-06T10:55:55.528Z"
   },
   {
    "duration": 204,
    "start_time": "2023-04-06T10:55:55.715Z"
   },
   {
    "duration": 84,
    "start_time": "2023-04-06T10:55:55.922Z"
   },
   {
    "duration": 53,
    "start_time": "2023-04-06T10:55:56.008Z"
   },
   {
    "duration": 28,
    "start_time": "2023-04-06T10:55:56.063Z"
   },
   {
    "duration": 60,
    "start_time": "2023-04-06T10:55:56.093Z"
   },
   {
    "duration": 40,
    "start_time": "2023-04-06T10:55:56.158Z"
   },
   {
    "duration": 38,
    "start_time": "2023-04-06T10:55:56.199Z"
   },
   {
    "duration": 32,
    "start_time": "2023-04-06T10:55:56.246Z"
   },
   {
    "duration": 18,
    "start_time": "2023-04-06T10:55:56.281Z"
   },
   {
    "duration": 152,
    "start_time": "2023-04-06T10:55:56.301Z"
   },
   {
    "duration": 18,
    "start_time": "2023-04-06T10:55:56.455Z"
   },
   {
    "duration": 134,
    "start_time": "2023-04-06T10:55:56.475Z"
   },
   {
    "duration": 6,
    "start_time": "2023-04-06T10:55:56.613Z"
   },
   {
    "duration": 1363,
    "start_time": "2023-04-06T10:55:56.622Z"
   },
   {
    "duration": 4,
    "start_time": "2023-04-06T10:55:57.987Z"
   },
   {
    "duration": 638,
    "start_time": "2023-04-06T10:55:57.993Z"
   },
   {
    "duration": 300,
    "start_time": "2023-04-06T10:55:58.636Z"
   },
   {
    "duration": 135,
    "start_time": "2023-04-06T10:58:46.185Z"
   },
   {
    "duration": 288,
    "start_time": "2023-04-06T10:58:52.489Z"
   },
   {
    "duration": 696419,
    "start_time": "2023-04-06T10:58:56.559Z"
   },
   {
    "duration": 11005010,
    "start_time": "2023-04-06T11:10:42.765Z"
   },
   {
    "duration": 28,
    "start_time": "2023-04-06T14:27:57.541Z"
   },
   {
    "duration": 242279,
    "start_time": "2023-04-06T14:28:00.027Z"
   },
   {
    "duration": 8602,
    "start_time": "2023-04-06T14:32:25.833Z"
   },
   {
    "duration": 238051,
    "start_time": "2023-04-06T14:32:56.565Z"
   },
   {
    "duration": 231696,
    "start_time": "2023-04-06T14:37:16.595Z"
   },
   {
    "duration": 261909,
    "start_time": "2023-04-06T14:41:25.206Z"
   },
   {
    "duration": 15,
    "start_time": "2023-04-06T14:47:02.477Z"
   },
   {
    "duration": 21,
    "start_time": "2023-04-06T14:47:12.160Z"
   },
   {
    "duration": 5,
    "start_time": "2023-04-06T14:48:48.193Z"
   },
   {
    "duration": 17321,
    "start_time": "2023-04-06T14:48:57.137Z"
   },
   {
    "duration": 214800,
    "start_time": "2023-04-06T14:49:21.627Z"
   },
   {
    "duration": 52706,
    "start_time": "2023-04-06T14:53:48.563Z"
   },
   {
    "duration": 0,
    "start_time": "2023-04-06T14:54:41.272Z"
   },
   {
    "duration": 55473,
    "start_time": "2023-04-06T14:54:48.971Z"
   },
   {
    "duration": 431,
    "start_time": "2023-04-06T14:56:06.834Z"
   },
   {
    "duration": 25,
    "start_time": "2023-04-06T14:56:17.224Z"
   },
   {
    "duration": 998,
    "start_time": "2023-04-06T14:56:52.764Z"
   },
   {
    "duration": 111,
    "start_time": "2023-04-06T14:56:55.697Z"
   },
   {
    "duration": 45689,
    "start_time": "2023-04-06T14:57:00.995Z"
   },
   {
    "duration": 2217,
    "start_time": "2023-04-06T14:58:45.826Z"
   },
   {
    "duration": 1355,
    "start_time": "2023-04-06T14:58:51.733Z"
   },
   {
    "duration": 239,
    "start_time": "2023-04-06T14:58:54.583Z"
   },
   {
    "duration": 117,
    "start_time": "2023-04-06T14:59:00.464Z"
   },
   {
    "duration": 1059850,
    "start_time": "2023-04-06T14:59:13.899Z"
   },
   {
    "duration": 18,
    "start_time": "2023-04-06T15:20:30.171Z"
   },
   {
    "duration": 3553,
    "start_time": "2023-04-06T15:20:38.689Z"
   },
   {
    "duration": 26,
    "start_time": "2023-04-06T15:21:06.833Z"
   },
   {
    "duration": 6,
    "start_time": "2023-04-06T15:22:32.409Z"
   },
   {
    "duration": 13,
    "start_time": "2023-04-06T15:22:44.013Z"
   },
   {
    "duration": 220,
    "start_time": "2023-04-06T15:23:08.433Z"
   },
   {
    "duration": 214,
    "start_time": "2023-04-06T15:23:12.597Z"
   },
   {
    "duration": 219,
    "start_time": "2023-04-06T15:23:18.635Z"
   },
   {
    "duration": 426,
    "start_time": "2023-04-06T15:23:28.550Z"
   },
   {
    "duration": 17,
    "start_time": "2023-04-06T15:34:54.264Z"
   },
   {
    "duration": 14,
    "start_time": "2023-04-06T15:34:55.532Z"
   },
   {
    "duration": 84,
    "start_time": "2023-04-06T15:59:24.109Z"
   },
   {
    "duration": 14,
    "start_time": "2023-04-06T15:59:32.333Z"
   },
   {
    "duration": 10,
    "start_time": "2023-04-06T16:00:10.317Z"
   },
   {
    "duration": 9,
    "start_time": "2023-04-06T16:16:19.643Z"
   },
   {
    "duration": 11,
    "start_time": "2023-04-06T16:16:59.016Z"
   },
   {
    "duration": 10,
    "start_time": "2023-04-06T16:17:52.314Z"
   },
   {
    "duration": 923,
    "start_time": "2023-04-06T16:26:37.230Z"
   },
   {
    "duration": 939,
    "start_time": "2023-04-06T16:26:44.214Z"
   },
   {
    "duration": 29073,
    "start_time": "2023-04-06T16:30:11.268Z"
   },
   {
    "duration": 32430,
    "start_time": "2023-04-06T16:34:09.721Z"
   },
   {
    "duration": 10159,
    "start_time": "2023-04-06T16:35:36.404Z"
   },
   {
    "duration": 9,
    "start_time": "2023-04-06T16:38:02.612Z"
   },
   {
    "duration": 4,
    "start_time": "2023-04-06T16:52:28.937Z"
   },
   {
    "duration": 1007,
    "start_time": "2023-04-06T16:52:28.944Z"
   },
   {
    "duration": 114,
    "start_time": "2023-04-06T16:52:29.953Z"
   },
   {
    "duration": 72,
    "start_time": "2023-04-06T16:52:30.069Z"
   },
   {
    "duration": 123,
    "start_time": "2023-04-06T16:52:30.144Z"
   },
   {
    "duration": 759,
    "start_time": "2023-04-06T16:52:30.269Z"
   },
   {
    "duration": 623,
    "start_time": "2023-04-06T16:52:31.030Z"
   },
   {
    "duration": 151,
    "start_time": "2023-04-06T16:52:31.655Z"
   },
   {
    "duration": 40,
    "start_time": "2023-04-06T16:52:31.809Z"
   },
   {
    "duration": 55,
    "start_time": "2023-04-06T16:52:31.850Z"
   },
   {
    "duration": 157,
    "start_time": "2023-04-06T16:52:31.907Z"
   },
   {
    "duration": 126,
    "start_time": "2023-04-06T16:52:32.065Z"
   },
   {
    "duration": 8,
    "start_time": "2023-04-06T16:52:32.193Z"
   },
   {
    "duration": 1490,
    "start_time": "2023-04-06T16:52:32.202Z"
   },
   {
    "duration": 666,
    "start_time": "2023-04-06T16:52:33.694Z"
   },
   {
    "duration": 8,
    "start_time": "2023-04-06T16:52:34.362Z"
   },
   {
    "duration": 185,
    "start_time": "2023-04-06T16:52:34.372Z"
   },
   {
    "duration": 15,
    "start_time": "2023-04-06T16:52:34.559Z"
   },
   {
    "duration": 36,
    "start_time": "2023-04-06T16:52:34.577Z"
   },
   {
    "duration": 35,
    "start_time": "2023-04-06T16:52:34.616Z"
   },
   {
    "duration": 187,
    "start_time": "2023-04-06T16:52:34.654Z"
   },
   {
    "duration": 183,
    "start_time": "2023-04-06T16:52:34.842Z"
   },
   {
    "duration": 82,
    "start_time": "2023-04-06T16:52:35.028Z"
   },
   {
    "duration": 76,
    "start_time": "2023-04-06T16:52:35.113Z"
   },
   {
    "duration": 60,
    "start_time": "2023-04-06T16:52:35.191Z"
   },
   {
    "duration": 15,
    "start_time": "2023-04-06T16:52:35.253Z"
   },
   {
    "duration": 43,
    "start_time": "2023-04-06T16:52:35.270Z"
   },
   {
    "duration": 23,
    "start_time": "2023-04-06T16:52:35.315Z"
   },
   {
    "duration": 30,
    "start_time": "2023-04-06T16:52:35.340Z"
   },
   {
    "duration": 34,
    "start_time": "2023-04-06T16:52:35.372Z"
   },
   {
    "duration": 37,
    "start_time": "2023-04-06T16:52:35.408Z"
   },
   {
    "duration": 17,
    "start_time": "2023-04-06T16:52:35.447Z"
   },
   {
    "duration": 228,
    "start_time": "2023-04-06T16:52:35.466Z"
   },
   {
    "duration": 123,
    "start_time": "2023-04-06T16:52:35.696Z"
   },
   {
    "duration": 20,
    "start_time": "2023-04-06T16:52:35.821Z"
   },
   {
    "duration": 75,
    "start_time": "2023-04-06T16:52:35.845Z"
   },
   {
    "duration": 5,
    "start_time": "2023-04-06T16:52:35.922Z"
   },
   {
    "duration": 1020,
    "start_time": "2023-04-06T16:52:35.929Z"
   },
   {
    "duration": 6,
    "start_time": "2023-04-06T16:52:36.951Z"
   },
   {
    "duration": 554,
    "start_time": "2023-04-06T16:52:36.959Z"
   },
   {
    "duration": 267,
    "start_time": "2023-04-06T16:52:37.516Z"
   },
   {
    "duration": 21,
    "start_time": "2023-04-06T16:52:40.808Z"
   },
   {
    "duration": 964,
    "start_time": "2023-04-06T16:57:25.992Z"
   },
   {
    "duration": 1560,
    "start_time": "2023-04-11T04:47:39.333Z"
   },
   {
    "duration": 1126,
    "start_time": "2023-04-11T04:47:40.896Z"
   },
   {
    "duration": 143,
    "start_time": "2023-04-11T04:47:42.023Z"
   },
   {
    "duration": 17,
    "start_time": "2023-04-11T04:47:42.168Z"
   },
   {
    "duration": 111,
    "start_time": "2023-04-11T04:47:42.187Z"
   },
   {
    "duration": 720,
    "start_time": "2023-04-11T04:47:42.300Z"
   },
   {
    "duration": 687,
    "start_time": "2023-04-11T04:47:43.022Z"
   },
   {
    "duration": 65,
    "start_time": "2023-04-11T04:48:08.169Z"
   },
   {
    "duration": 33,
    "start_time": "2023-04-11T04:48:14.732Z"
   },
   {
    "duration": 579,
    "start_time": "2023-04-11T04:48:37.569Z"
   },
   {
    "duration": 140,
    "start_time": "2023-04-11T04:48:47.812Z"
   },
   {
    "duration": 134,
    "start_time": "2023-04-11T04:48:50.935Z"
   },
   {
    "duration": 135,
    "start_time": "2023-04-11T04:48:57.970Z"
   },
   {
    "duration": 32,
    "start_time": "2023-04-11T04:49:13.046Z"
   },
   {
    "duration": 138,
    "start_time": "2023-04-11T04:49:26.683Z"
   },
   {
    "duration": 35,
    "start_time": "2023-04-11T04:49:29.499Z"
   },
   {
    "duration": 680,
    "start_time": "2023-04-11T04:49:49.292Z"
   },
   {
    "duration": 55,
    "start_time": "2023-04-11T04:50:07.652Z"
   },
   {
    "duration": 445,
    "start_time": "2023-04-11T04:50:14.705Z"
   },
   {
    "duration": 618,
    "start_time": "2023-04-11T04:51:12.271Z"
   },
   {
    "duration": 1000,
    "start_time": "2023-04-11T04:51:17.958Z"
   },
   {
    "duration": 156,
    "start_time": "2023-04-11T04:51:41.425Z"
   },
   {
    "duration": 862,
    "start_time": "2023-04-11T04:51:46.609Z"
   },
   {
    "duration": 131,
    "start_time": "2023-04-11T04:52:25.191Z"
   },
   {
    "duration": 247,
    "start_time": "2023-04-11T04:52:44.168Z"
   },
   {
    "duration": 30,
    "start_time": "2023-04-11T04:52:53.007Z"
   },
   {
    "duration": 145,
    "start_time": "2023-04-11T04:57:03.579Z"
   },
   {
    "duration": 32,
    "start_time": "2023-04-11T04:57:06.906Z"
   },
   {
    "duration": 14,
    "start_time": "2023-04-11T04:57:12.585Z"
   },
   {
    "duration": 94,
    "start_time": "2023-04-11T05:01:20.789Z"
   },
   {
    "duration": 6,
    "start_time": "2023-04-11T05:01:27.125Z"
   },
   {
    "duration": 14,
    "start_time": "2023-04-11T05:01:44.689Z"
   },
   {
    "duration": 20,
    "start_time": "2023-04-11T05:01:52.316Z"
   },
   {
    "duration": 4,
    "start_time": "2023-04-11T05:03:05.840Z"
   },
   {
    "duration": 815,
    "start_time": "2023-04-11T05:03:05.849Z"
   },
   {
    "duration": 135,
    "start_time": "2023-04-11T05:03:06.667Z"
   },
   {
    "duration": 13,
    "start_time": "2023-04-11T05:03:06.804Z"
   },
   {
    "duration": 111,
    "start_time": "2023-04-11T05:03:06.820Z"
   },
   {
    "duration": 701,
    "start_time": "2023-04-11T05:03:06.933Z"
   },
   {
    "duration": 625,
    "start_time": "2023-04-11T05:03:07.636Z"
   },
   {
    "duration": 157,
    "start_time": "2023-04-11T05:03:08.263Z"
   },
   {
    "duration": 42,
    "start_time": "2023-04-11T05:03:12.127Z"
   },
   {
    "duration": 125,
    "start_time": "2023-04-11T05:03:14.279Z"
   },
   {
    "duration": 124,
    "start_time": "2023-04-11T05:03:17.729Z"
   },
   {
    "duration": 9,
    "start_time": "2023-04-11T05:03:21.054Z"
   },
   {
    "duration": 69,
    "start_time": "2023-04-11T05:04:59.540Z"
   },
   {
    "duration": 642,
    "start_time": "2023-04-11T05:06:55.278Z"
   },
   {
    "duration": 7,
    "start_time": "2023-04-11T05:06:59.530Z"
   },
   {
    "duration": 165,
    "start_time": "2023-04-11T05:07:02.304Z"
   },
   {
    "duration": 14,
    "start_time": "2023-04-11T05:07:03.338Z"
   },
   {
    "duration": 29,
    "start_time": "2023-04-11T05:07:07.279Z"
   },
   {
    "duration": 12,
    "start_time": "2023-04-11T05:07:30.550Z"
   },
   {
    "duration": 146,
    "start_time": "2023-04-11T05:07:36.157Z"
   },
   {
    "duration": 164,
    "start_time": "2023-04-11T05:07:37.334Z"
   },
   {
    "duration": 88,
    "start_time": "2023-04-11T05:07:38.222Z"
   },
   {
    "duration": 32,
    "start_time": "2023-04-11T05:07:41.632Z"
   },
   {
    "duration": 30,
    "start_time": "2023-04-11T05:07:43.676Z"
   },
   {
    "duration": 17,
    "start_time": "2023-04-11T05:09:28.530Z"
   },
   {
    "duration": 31,
    "start_time": "2023-04-11T05:09:30.844Z"
   },
   {
    "duration": 15,
    "start_time": "2023-04-11T05:09:31.651Z"
   },
   {
    "duration": 30,
    "start_time": "2023-04-11T05:09:33.136Z"
   },
   {
    "duration": 31,
    "start_time": "2023-04-11T05:09:34.225Z"
   },
   {
    "duration": 34,
    "start_time": "2023-04-11T05:09:38.265Z"
   },
   {
    "duration": 16,
    "start_time": "2023-04-11T05:09:39.250Z"
   },
   {
    "duration": 172,
    "start_time": "2023-04-11T05:09:39.940Z"
   },
   {
    "duration": 103,
    "start_time": "2023-04-11T05:09:41.024Z"
   },
   {
    "duration": 12,
    "start_time": "2023-04-11T05:09:43.255Z"
   },
   {
    "duration": 77,
    "start_time": "2023-04-11T05:09:45.614Z"
   },
   {
    "duration": 3,
    "start_time": "2023-04-11T05:09:46.498Z"
   },
   {
    "duration": 707,
    "start_time": "2023-04-11T05:16:39.035Z"
   },
   {
    "duration": 3,
    "start_time": "2023-04-11T05:16:41.905Z"
   },
   {
    "duration": 461,
    "start_time": "2023-04-11T05:16:42.720Z"
   },
   {
    "duration": 241,
    "start_time": "2023-04-11T05:16:44.351Z"
   },
   {
    "duration": 17,
    "start_time": "2023-04-11T05:16:45.328Z"
   },
   {
    "duration": 3,
    "start_time": "2023-04-11T05:19:16.752Z"
   },
   {
    "duration": 483,
    "start_time": "2023-04-11T05:19:17.776Z"
   },
   {
    "duration": 489,
    "start_time": "2023-04-11T05:19:53.133Z"
   },
   {
    "duration": 465,
    "start_time": "2023-04-11T05:19:58.870Z"
   },
   {
    "duration": 242,
    "start_time": "2023-04-11T05:20:43.711Z"
   },
   {
    "duration": 17,
    "start_time": "2023-04-11T05:20:45.854Z"
   },
   {
    "duration": 15838,
    "start_time": "2023-04-11T05:21:09.850Z"
   },
   {
    "duration": 17527,
    "start_time": "2023-04-11T05:21:39.764Z"
   },
   {
    "duration": 11,
    "start_time": "2023-04-11T05:28:44.956Z"
   },
   {
    "duration": 12,
    "start_time": "2023-04-11T05:37:01.071Z"
   },
   {
    "duration": 4,
    "start_time": "2023-04-11T06:06:50.661Z"
   },
   {
    "duration": 841,
    "start_time": "2023-04-11T06:06:50.667Z"
   },
   {
    "duration": 134,
    "start_time": "2023-04-11T06:06:51.510Z"
   },
   {
    "duration": 13,
    "start_time": "2023-04-11T06:06:51.646Z"
   },
   {
    "duration": 111,
    "start_time": "2023-04-11T06:06:51.661Z"
   },
   {
    "duration": 718,
    "start_time": "2023-04-11T06:06:51.774Z"
   },
   {
    "duration": 616,
    "start_time": "2023-04-11T06:06:52.494Z"
   },
   {
    "duration": 148,
    "start_time": "2023-04-11T06:06:53.112Z"
   },
   {
    "duration": 35,
    "start_time": "2023-04-11T06:06:53.261Z"
   },
   {
    "duration": 34,
    "start_time": "2023-04-11T06:06:53.298Z"
   },
   {
    "duration": 137,
    "start_time": "2023-04-11T06:06:53.335Z"
   },
   {
    "duration": 14,
    "start_time": "2023-04-11T06:06:53.474Z"
   },
   {
    "duration": 1545,
    "start_time": "2023-04-11T06:06:53.489Z"
   },
   {
    "duration": 63,
    "start_time": "2023-04-11T06:06:55.035Z"
   },
   {
    "duration": 595,
    "start_time": "2023-04-11T06:06:55.100Z"
   },
   {
    "duration": 7,
    "start_time": "2023-04-11T06:06:55.697Z"
   },
   {
    "duration": 174,
    "start_time": "2023-04-11T06:06:55.705Z"
   },
   {
    "duration": 13,
    "start_time": "2023-04-11T06:06:55.881Z"
   },
   {
    "duration": 23,
    "start_time": "2023-04-11T06:06:55.896Z"
   },
   {
    "duration": 14,
    "start_time": "2023-04-11T06:06:55.921Z"
   },
   {
    "duration": 175,
    "start_time": "2023-04-11T06:06:55.937Z"
   },
   {
    "duration": 166,
    "start_time": "2023-04-11T06:06:56.114Z"
   },
   {
    "duration": 70,
    "start_time": "2023-04-11T06:06:56.285Z"
   },
   {
    "duration": 43,
    "start_time": "2023-04-11T06:06:56.356Z"
   },
   {
    "duration": 27,
    "start_time": "2023-04-11T06:06:56.400Z"
   },
   {
    "duration": 21,
    "start_time": "2023-04-11T06:06:56.434Z"
   },
   {
    "duration": 44,
    "start_time": "2023-04-11T06:06:56.456Z"
   },
   {
    "duration": 16,
    "start_time": "2023-04-11T06:06:56.502Z"
   },
   {
    "duration": 40,
    "start_time": "2023-04-11T06:06:56.522Z"
   },
   {
    "duration": 42,
    "start_time": "2023-04-11T06:06:56.564Z"
   },
   {
    "duration": 32,
    "start_time": "2023-04-11T06:06:56.609Z"
   },
   {
    "duration": 18,
    "start_time": "2023-04-11T06:06:56.643Z"
   },
   {
    "duration": 32,
    "start_time": "2023-04-11T06:06:56.662Z"
   },
   {
    "duration": 121,
    "start_time": "2023-04-11T06:06:56.696Z"
   },
   {
    "duration": 13,
    "start_time": "2023-04-11T06:06:56.819Z"
   },
   {
    "duration": 90,
    "start_time": "2023-04-11T06:06:56.833Z"
   },
   {
    "duration": 5,
    "start_time": "2023-04-11T06:06:56.924Z"
   },
   {
    "duration": 757,
    "start_time": "2023-04-11T06:06:56.931Z"
   },
   {
    "duration": 3,
    "start_time": "2023-04-11T06:06:57.690Z"
   },
   {
    "duration": 600,
    "start_time": "2023-04-11T06:06:57.695Z"
   },
   {
    "duration": 237,
    "start_time": "2023-04-11T06:06:58.298Z"
   },
   {
    "duration": 18,
    "start_time": "2023-04-11T06:06:58.537Z"
   },
   {
    "duration": 23,
    "start_time": "2023-04-11T06:07:08.877Z"
   },
   {
    "duration": 109,
    "start_time": "2023-04-11T06:07:41.266Z"
   },
   {
    "duration": 134,
    "start_time": "2023-04-11T06:09:31.235Z"
   },
   {
    "duration": 117,
    "start_time": "2023-04-11T06:09:45.422Z"
   },
   {
    "duration": 418,
    "start_time": "2023-04-11T06:10:56.903Z"
   },
   {
    "duration": 385,
    "start_time": "2023-04-11T06:13:21.262Z"
   },
   {
    "duration": 560,
    "start_time": "2023-04-11T06:22:10.920Z"
   },
   {
    "duration": 1702553,
    "start_time": "2023-04-11T06:31:11.139Z"
   },
   {
    "duration": 1782,
    "start_time": "2023-04-12T03:43:28.545Z"
   },
   {
    "duration": 3726,
    "start_time": "2023-04-12T03:43:30.330Z"
   },
   {
    "duration": 217,
    "start_time": "2023-04-12T03:43:34.058Z"
   },
   {
    "duration": 40,
    "start_time": "2023-04-12T03:43:34.277Z"
   },
   {
    "duration": 115,
    "start_time": "2023-04-12T03:43:34.319Z"
   },
   {
    "duration": 873,
    "start_time": "2023-04-12T03:43:34.436Z"
   },
   {
    "duration": 755,
    "start_time": "2023-04-12T03:43:35.312Z"
   },
   {
    "duration": 168,
    "start_time": "2023-04-12T03:43:36.069Z"
   },
   {
    "duration": 34,
    "start_time": "2023-04-12T03:43:36.238Z"
   },
   {
    "duration": 54,
    "start_time": "2023-04-12T03:43:36.286Z"
   },
   {
    "duration": 156,
    "start_time": "2023-04-12T03:43:36.342Z"
   },
   {
    "duration": 20,
    "start_time": "2023-04-12T03:43:36.500Z"
   },
   {
    "duration": 1578,
    "start_time": "2023-04-12T03:43:36.521Z"
   },
   {
    "duration": 54,
    "start_time": "2023-04-12T03:43:38.110Z"
   },
   {
    "duration": 682,
    "start_time": "2023-04-12T03:43:38.165Z"
   },
   {
    "duration": 7,
    "start_time": "2023-04-12T03:43:38.849Z"
   },
   {
    "duration": 200,
    "start_time": "2023-04-12T03:43:38.858Z"
   },
   {
    "duration": 12,
    "start_time": "2023-04-12T03:43:39.060Z"
   },
   {
    "duration": 44,
    "start_time": "2023-04-12T03:43:39.074Z"
   },
   {
    "duration": 11,
    "start_time": "2023-04-12T03:43:39.120Z"
   },
   {
    "duration": 184,
    "start_time": "2023-04-12T03:43:39.133Z"
   },
   {
    "duration": 189,
    "start_time": "2023-04-12T03:43:39.318Z"
   },
   {
    "duration": 81,
    "start_time": "2023-04-12T03:43:39.513Z"
   },
   {
    "duration": 42,
    "start_time": "2023-04-12T03:43:39.595Z"
   },
   {
    "duration": 38,
    "start_time": "2023-04-12T03:43:39.639Z"
   },
   {
    "duration": 25,
    "start_time": "2023-04-12T03:43:39.679Z"
   },
   {
    "duration": 49,
    "start_time": "2023-04-12T03:43:39.706Z"
   },
   {
    "duration": 16,
    "start_time": "2023-04-12T03:43:39.758Z"
   },
   {
    "duration": 48,
    "start_time": "2023-04-12T03:43:39.776Z"
   },
   {
    "duration": 32,
    "start_time": "2023-04-12T03:43:39.826Z"
   },
   {
    "duration": 63,
    "start_time": "2023-04-12T03:43:39.859Z"
   },
   {
    "duration": 19,
    "start_time": "2023-04-12T03:43:39.924Z"
   },
   {
    "duration": 19,
    "start_time": "2023-04-12T03:43:39.945Z"
   },
   {
    "duration": 151,
    "start_time": "2023-04-12T03:43:39.965Z"
   },
   {
    "duration": 12,
    "start_time": "2023-04-12T03:43:40.118Z"
   },
   {
    "duration": 99,
    "start_time": "2023-04-12T03:43:40.132Z"
   },
   {
    "duration": 4,
    "start_time": "2023-04-12T03:43:40.232Z"
   },
   {
    "duration": 817,
    "start_time": "2023-04-12T03:43:40.237Z"
   },
   {
    "duration": 3,
    "start_time": "2023-04-12T03:43:41.055Z"
   },
   {
    "duration": 636,
    "start_time": "2023-04-12T03:43:41.060Z"
   },
   {
    "duration": 269,
    "start_time": "2023-04-12T03:43:41.703Z"
   },
   {
    "duration": 42,
    "start_time": "2023-04-12T03:43:41.973Z"
   },
   {
    "duration": 143,
    "start_time": "2023-04-12T03:44:28.113Z"
   },
   {
    "duration": 152,
    "start_time": "2023-04-12T03:44:33.713Z"
   },
   {
    "duration": 731,
    "start_time": "2023-04-12T03:44:35.621Z"
   },
   {
    "duration": 12,
    "start_time": "2023-04-12T03:44:38.350Z"
   },
   {
    "duration": 16,
    "start_time": "2023-04-12T03:44:57.230Z"
   },
   {
    "duration": 10456,
    "start_time": "2023-04-12T03:45:05.869Z"
   },
   {
    "duration": 216,
    "start_time": "2023-04-12T03:45:57.996Z"
   },
   {
    "duration": 386730,
    "start_time": "2023-04-12T03:46:02.985Z"
   },
   {
    "duration": 251050,
    "start_time": "2023-04-12T03:52:51.969Z"
   },
   {
    "duration": 33,
    "start_time": "2023-04-12T03:58:07.873Z"
   },
   {
    "duration": 94,
    "start_time": "2023-04-12T03:58:24.347Z"
   },
   {
    "duration": 7754,
    "start_time": "2023-04-12T03:58:27.149Z"
   },
   {
    "duration": 161,
    "start_time": "2023-04-12T04:00:04.419Z"
   },
   {
    "duration": 156,
    "start_time": "2023-04-12T04:00:23.224Z"
   },
   {
    "duration": 24,
    "start_time": "2023-04-12T04:00:36.615Z"
   },
   {
    "duration": 79,
    "start_time": "2023-04-12T04:01:06.211Z"
   },
   {
    "duration": 243,
    "start_time": "2023-04-12T04:01:23.477Z"
   },
   {
    "duration": 159421,
    "start_time": "2023-04-12T04:01:33.474Z"
   },
   {
    "duration": 8492595,
    "start_time": "2023-04-12T04:04:43.099Z"
   },
   {
    "duration": 34258,
    "start_time": "2023-04-12T06:57:49.263Z"
   },
   {
    "duration": 368,
    "start_time": "2023-04-12T06:58:32.750Z"
   },
   {
    "duration": 14,
    "start_time": "2023-04-12T06:59:15.715Z"
   },
   {
    "duration": 30,
    "start_time": "2023-04-12T06:59:33.480Z"
   },
   {
    "duration": 5,
    "start_time": "2023-04-12T07:02:36.783Z"
   },
   {
    "duration": 6,
    "start_time": "2023-04-12T07:04:03.073Z"
   },
   {
    "duration": 18,
    "start_time": "2023-04-12T07:05:14.551Z"
   },
   {
    "duration": 27,
    "start_time": "2023-04-12T07:06:00.868Z"
   },
   {
    "duration": 25,
    "start_time": "2023-04-12T07:11:31.378Z"
   },
   {
    "duration": 156,
    "start_time": "2023-04-12T07:14:50.651Z"
   },
   {
    "duration": 736,
    "start_time": "2023-04-12T07:14:52.640Z"
   },
   {
    "duration": 10920,
    "start_time": "2023-04-12T07:14:56.021Z"
   },
   {
    "duration": 153594,
    "start_time": "2023-04-12T07:15:14.540Z"
   },
   {
    "duration": 7595,
    "start_time": "2023-04-12T07:17:54.378Z"
   },
   {
    "duration": 673,
    "start_time": "2023-04-12T07:18:14.422Z"
   },
   {
    "duration": 52,
    "start_time": "2023-04-12T07:18:16.867Z"
   },
   {
    "duration": 40,
    "start_time": "2023-04-12T07:22:53.565Z"
   },
   {
    "duration": 256,
    "start_time": "2023-04-12T07:23:11.536Z"
   },
   {
    "duration": 24,
    "start_time": "2023-04-12T07:23:16.729Z"
   },
   {
    "duration": 244,
    "start_time": "2023-04-12T07:24:05.760Z"
   },
   {
    "duration": 24,
    "start_time": "2023-04-12T07:24:14.457Z"
   },
   {
    "duration": 5,
    "start_time": "2023-04-12T07:26:16.274Z"
   },
   {
    "duration": 23,
    "start_time": "2023-04-12T07:26:43.551Z"
   },
   {
    "duration": 1540,
    "start_time": "2023-04-13T00:55:10.539Z"
   },
   {
    "duration": 2748,
    "start_time": "2023-04-13T00:55:12.081Z"
   },
   {
    "duration": 134,
    "start_time": "2023-04-13T00:55:14.830Z"
   },
   {
    "duration": 15,
    "start_time": "2023-04-13T00:55:14.966Z"
   },
   {
    "duration": 109,
    "start_time": "2023-04-13T00:55:14.982Z"
   },
   {
    "duration": 683,
    "start_time": "2023-04-13T00:55:15.092Z"
   },
   {
    "duration": 625,
    "start_time": "2023-04-13T00:55:15.777Z"
   },
   {
    "duration": 137,
    "start_time": "2023-04-13T00:55:16.404Z"
   },
   {
    "duration": 30,
    "start_time": "2023-04-13T00:55:16.543Z"
   },
   {
    "duration": 58,
    "start_time": "2023-04-13T00:55:16.576Z"
   },
   {
    "duration": 119,
    "start_time": "2023-04-13T00:55:16.636Z"
   },
   {
    "duration": 9,
    "start_time": "2023-04-13T00:55:16.757Z"
   },
   {
    "duration": 1257,
    "start_time": "2023-04-13T00:55:16.768Z"
   },
   {
    "duration": 57,
    "start_time": "2023-04-13T00:55:18.026Z"
   },
   {
    "duration": 636,
    "start_time": "2023-04-13T00:55:18.084Z"
   },
   {
    "duration": 6,
    "start_time": "2023-04-13T00:55:18.722Z"
   },
   {
    "duration": 143,
    "start_time": "2023-04-13T00:55:18.734Z"
   },
   {
    "duration": 11,
    "start_time": "2023-04-13T00:55:18.878Z"
   },
   {
    "duration": 27,
    "start_time": "2023-04-13T00:55:18.890Z"
   },
   {
    "duration": 23,
    "start_time": "2023-04-13T00:55:18.919Z"
   },
   {
    "duration": 149,
    "start_time": "2023-04-13T00:55:18.944Z"
   },
   {
    "duration": 151,
    "start_time": "2023-04-13T00:55:19.095Z"
   },
   {
    "duration": 89,
    "start_time": "2023-04-13T00:55:19.247Z"
   },
   {
    "duration": 28,
    "start_time": "2023-04-13T00:55:19.338Z"
   },
   {
    "duration": 25,
    "start_time": "2023-04-13T00:55:19.367Z"
   },
   {
    "duration": 14,
    "start_time": "2023-04-13T00:55:19.394Z"
   },
   {
    "duration": 43,
    "start_time": "2023-04-13T00:55:19.409Z"
   },
   {
    "duration": 14,
    "start_time": "2023-04-13T00:55:19.455Z"
   },
   {
    "duration": 30,
    "start_time": "2023-04-13T00:55:19.471Z"
   },
   {
    "duration": 41,
    "start_time": "2023-04-13T00:55:19.502Z"
   },
   {
    "duration": 27,
    "start_time": "2023-04-13T00:55:19.544Z"
   },
   {
    "duration": 14,
    "start_time": "2023-04-13T00:55:19.572Z"
   },
   {
    "duration": 16,
    "start_time": "2023-04-13T00:55:19.587Z"
   },
   {
    "duration": 113,
    "start_time": "2023-04-13T00:55:19.605Z"
   },
   {
    "duration": 14,
    "start_time": "2023-04-13T00:55:19.720Z"
   },
   {
    "duration": 67,
    "start_time": "2023-04-13T00:55:19.736Z"
   },
   {
    "duration": 6,
    "start_time": "2023-04-13T00:55:19.805Z"
   },
   {
    "duration": 568,
    "start_time": "2023-04-13T00:55:19.812Z"
   },
   {
    "duration": 3,
    "start_time": "2023-04-13T00:55:20.381Z"
   },
   {
    "duration": 530,
    "start_time": "2023-04-13T00:55:20.385Z"
   },
   {
    "duration": 218,
    "start_time": "2023-04-13T00:55:20.916Z"
   },
   {
    "duration": 15,
    "start_time": "2023-04-13T00:55:21.136Z"
   },
   {
    "duration": 117,
    "start_time": "2023-04-13T00:55:26.173Z"
   },
   {
    "duration": 521,
    "start_time": "2023-04-13T00:55:27.585Z"
   },
   {
    "duration": 107,
    "start_time": "2023-04-13T00:55:31.996Z"
   },
   {
    "duration": 1510126,
    "start_time": "2023-04-13T00:55:53.808Z"
   },
   {
    "duration": 220,
    "start_time": "2023-04-13T01:24:32.541Z"
   },
   {
    "duration": 6756,
    "start_time": "2023-04-13T01:25:09.589Z"
   },
   {
    "duration": 2434,
    "start_time": "2023-04-13T01:41:28.409Z"
   },
   {
    "duration": 2246,
    "start_time": "2023-04-13T01:42:10.809Z"
   },
   {
    "duration": 12,
    "start_time": "2023-04-13T01:42:21.036Z"
   },
   {
    "duration": 25353,
    "start_time": "2023-04-13T01:43:01.903Z"
   },
   {
    "duration": 71,
    "start_time": "2023-04-13T01:49:55.609Z"
   },
   {
    "duration": 158,
    "start_time": "2023-04-13T01:57:43.683Z"
   }
  ],
  "kernelspec": {
   "display_name": "Python 3 (ipykernel)",
   "language": "python",
   "name": "python3"
  },
  "language_info": {
   "codemirror_mode": {
    "name": "ipython",
    "version": 3
   },
   "file_extension": ".py",
   "mimetype": "text/x-python",
   "name": "python",
   "nbconvert_exporter": "python",
   "pygments_lexer": "ipython3",
   "version": "3.8.13"
  },
  "toc": {
   "base_numbering": 1,
   "nav_menu": {},
   "number_sections": true,
   "sideBar": true,
   "skip_h1_title": true,
   "title_cell": "Table of Contents",
   "title_sidebar": "Contents",
   "toc_cell": false,
   "toc_position": {},
   "toc_section_display": true,
   "toc_window_display": false
  }
 },
 "nbformat": 4,
 "nbformat_minor": 4
}
